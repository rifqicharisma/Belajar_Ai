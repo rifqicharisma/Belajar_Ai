{
 "cells": [
  {
   "cell_type": "markdown",
   "source": [
    "# Text Detection / OCR"
   ],
   "metadata": {}
  },
  {
   "cell_type": "code",
   "execution_count": 1,
   "source": [
    "import cv2\r\n",
    "import pytesseract"
   ],
   "outputs": [],
   "metadata": {}
  },
  {
   "cell_type": "code",
   "execution_count": 3,
   "source": [
    "pytesseract.pytesseract.tesseract_cmd = 'C:\\\\Program Files (x86)\\\\Tesseract-OCR\\\\tesseract.exe'\r\n",
    "\r\n",
    "img = cv2.imread('text.png')\r\n",
    "img = cv2.cvtColor(img, cv2.COLOR_BGR2RGB)\r\n",
    "\r\n",
    "print(pytesseract.image_to_string(img))\r\n",
    "\r\n",
    "# Detecting Chatacter\r\n",
    "hImg, wImg,_ = img.shape\r\n",
    "boxes = pytesseract.image_to_boxes(img)\r\n",
    "print(boxes)\r\n",
    "\r\n",
    "for b in boxes.splitlines():\r\n",
    "    #print(b)\r\n",
    "    b = b.split(' ')\r\n",
    "    print(b)\r\n",
    "    x,y,w,h = int(b[1]), int(b[2]), int(b[3]), int(b[4])\r\n",
    "    cv2.rectangle(img, (x,hImg-y),(w,hImg-h), (0,0,255), 1)\r\n",
    "    cv2.putText(img, b[0],(x,hImg-y-25), cv2.FONT_HERSHEY_COMPLEX_SMALL, 0.8, (50,50,255), 1)\r\n",
    "\r\n",
    "\r\n",
    "cv2.imshow('Result', img)\r\n",
    "cv2.waitKey(0)"
   ],
   "outputs": [
    {
     "output_type": "stream",
     "name": "stdout",
     "text": [
      "MY NAME IS RIFQI ALFINNUR CHARISMA\n",
      "YOU CAN CALL ME\n",
      "RIFQI\n",
      "\n",
      "123456789101112131415\n",
      "\n",
      "\n"
     ]
    },
    {
     "output_type": "execute_result",
     "data": {
      "text/plain": [
       "-1"
      ]
     },
     "metadata": {},
     "execution_count": 3
    }
   ],
   "metadata": {}
  },
  {
   "cell_type": "markdown",
   "source": [
    "## Detection Words"
   ],
   "metadata": {}
  },
  {
   "cell_type": "code",
   "execution_count": 4,
   "source": [
    "pytesseract.pytesseract.tesseract_cmd = 'C:\\\\Program Files (x86)\\\\Tesseract-OCR\\\\tesseract.exe'\r\n",
    "\r\n",
    "img = cv2.imread('text.png')\r\n",
    "img = cv2.cvtColor(img, cv2.COLOR_BGR2RGB)\r\n",
    "\r\n",
    "#print(pytesseract.image_to_string(img))\r\n",
    "\r\n",
    "# Detecting Words\r\n",
    "hImg, wImg,_ = img.shape\r\n",
    "boxes = pytesseract.image_to_data(img)\r\n",
    "\r\n",
    "for x,b in enumerate(boxes.splitlines()):\r\n",
    "    if x!=0:\r\n",
    "        b = b.split()\r\n",
    "        print(b)\r\n",
    "        \r\n",
    "        if len(b) == 12:\r\n",
    "            x,y,w,h = int(b[6]), int(b[7]), int(b[8]), int(b[9])\r\n",
    "            cv2.rectangle(img, (x,y),(w+x,h+y), (0,0,255), 1)\r\n",
    "            cv2.putText(img, b[11],(x,y), cv2.FONT_HERSHEY_COMPLEX_SMALL, 0.8, (50,50,255), 1)\r\n",
    "\r\n",
    "\r\n",
    "cv2.imshow('Result', img)\r\n",
    "cv2.waitKey(0)"
   ],
   "outputs": [
    {
     "output_type": "stream",
     "name": "stdout",
     "text": [
      "['1', '1', '0', '0', '0', '0', '0', '0', '659', '328', '-1']\n",
      "['2', '1', '1', '0', '0', '0', '91', '64', '473', '116', '-1']\n",
      "['3', '1', '1', '1', '0', '0', '91', '64', '473', '116', '-1']\n",
      "['4', '1', '1', '1', '1', '0', '91', '64', '473', '21', '-1']\n",
      "['5', '1', '1', '1', '1', '1', '91', '64', '37', '18', '95', 'MY']\n",
      "['5', '1', '1', '1', '1', '2', '137', '64', '70', '18', '94', 'NAME']\n",
      "['5', '1', '1', '1', '1', '3', '217', '64', '17', '18', '92', 'IS']\n",
      "['5', '1', '1', '1', '1', '4', '244', '64', '58', '21', '86', 'RIFQI']\n",
      "['5', '1', '1', '1', '1', '5', '311', '64', '119', '18', '94', 'ALFINNUR']\n",
      "['5', '1', '1', '1', '1', '6', '438', '64', '126', '18', '91', 'CHARISMA']\n",
      "['4', '1', '1', '1', '2', '0', '220', '112', '213', '18', '-1']\n",
      "['5', '1', '1', '1', '2', '1', '220', '112', '49', '18', '93', 'YOU']\n",
      "['5', '1', '1', '1', '2', '2', '279', '112', '47', '18', '93', 'CAN']\n",
      "['5', '1', '1', '1', '2', '3', '335', '112', '54', '18', '94', 'CALL']\n",
      "['5', '1', '1', '1', '2', '4', '398', '112', '35', '18', '95', 'ME']\n",
      "['4', '1', '1', '1', '3', '0', '298', '159', '58', '21', '-1']\n",
      "['5', '1', '1', '1', '3', '1', '298', '159', '58', '21', '87', 'RIFQI']\n",
      "['2', '1', '2', '0', '0', '0', '136', '254', '383', '18', '-1']\n",
      "['3', '1', '2', '1', '0', '0', '136', '254', '383', '18', '-1']\n",
      "['4', '1', '2', '1', '1', '0', '136', '254', '383', '18', '-1']\n",
      "['5', '1', '2', '1', '1', '1', '136', '254', '383', '18', '85', '123456789101112131415']\n"
     ]
    },
    {
     "output_type": "execute_result",
     "data": {
      "text/plain": [
       "-1"
      ]
     },
     "metadata": {},
     "execution_count": 4
    }
   ],
   "metadata": {}
  },
  {
   "cell_type": "markdown",
   "source": [
    "## Detection Number Only"
   ],
   "metadata": {}
  },
  {
   "cell_type": "code",
   "execution_count": 5,
   "source": [
    "pytesseract.pytesseract.tesseract_cmd = 'C:\\\\Program Files (x86)\\\\Tesseract-OCR\\\\tesseract.exe'\r\n",
    "\r\n",
    "img = cv2.imread('text.png')\r\n",
    "img = cv2.cvtColor(img, cv2.COLOR_BGR2RGB)\r\n",
    "\r\n",
    "#print(pytesseract.image_to_string(img))\r\n",
    "\r\n",
    "# Detecting Words\r\n",
    "hImg, wImg,_ = img.shape\r\n",
    "cong = r'--oem 3 --psm 6 outputbase digits'\r\n",
    "boxes = pytesseract.image_to_data(img, config=cong)\r\n",
    "\r\n",
    "for x,b in enumerate(boxes.splitlines()):\r\n",
    "    if x!=0:\r\n",
    "        b = b.split()\r\n",
    "        print(b)\r\n",
    "        \r\n",
    "        if len(b) == 12:\r\n",
    "            x,y,w,h = int(b[6]), int(b[7]), int(b[8]), int(b[9])\r\n",
    "            cv2.rectangle(img, (x,y),(w+x,h+y), (0,0,255), 1)\r\n",
    "            cv2.putText(img, b[11],(x,y), cv2.FONT_HERSHEY_COMPLEX_SMALL, 0.8, (50,50,255), 1)\r\n",
    "\r\n",
    "\r\n",
    "cv2.imshow('Result', img)\r\n",
    "cv2.waitKey(0)"
   ],
   "outputs": [
    {
     "output_type": "stream",
     "name": "stdout",
     "text": [
      "['1', '1', '0', '0', '0', '0', '0', '0', '659', '328', '-1']\n",
      "['2', '1', '1', '0', '0', '0', '91', '64', '473', '216', '-1']\n",
      "['3', '1', '1', '1', '0', '0', '91', '64', '473', '216', '-1']\n",
      "['4', '1', '1', '1', '1', '0', '91', '64', '473', '21', '-1']\n",
      "['5', '1', '1', '1', '1', '1', '91', '64', '37', '18', '4', '1.']\n",
      "['5', '1', '1', '1', '1', '2', '137', '64', '70', '18', '4', '114', '1', '5']\n",
      "['5', '1', '1', '1', '1', '3', '217', '64', '17', '18', '63', '5']\n",
      "['5', '1', '1', '1', '1', '4', '244', '64', '186', '21', '1', '0', '9', '11', '1', '1', '2']\n",
      "['5', '1', '1', '1', '1', '5', '438', '64', '126', '18', '3', '0-1', '15', '1']\n",
      "['4', '1', '1', '1', '2', '0', '220', '112', '213', '18', '-1']\n",
      "['5', '1', '1', '1', '2', '1', '220', '112', '49', '18', '2', '0']\n",
      "['5', '1', '1', '1', '2', '2', '279', '112', '47', '18', '4', '9', '1', '1']\n",
      "['5', '1', '1', '1', '2', '3', '335', '112', '54', '18', '11', '614', '4']\n",
      "['5', '1', '1', '1', '2', '4', '398', '112', '35', '18', '11', '.', '1', '5']\n",
      "['4', '1', '1', '1', '3', '0', '298', '159', '58', '21', '-1']\n",
      "['5', '1', '1', '1', '3', '1', '298', '159', '58', '21', '2', '0']\n",
      "['4', '1', '1', '1', '4', '0', '136', '245', '385', '35', '-1']\n",
      "['5', '1', '1', '1', '4', '1', '136', '245', '385', '35', '33', '123456789101112131411']\n"
     ]
    },
    {
     "output_type": "execute_result",
     "data": {
      "text/plain": [
       "-1"
      ]
     },
     "metadata": {},
     "execution_count": 5
    }
   ],
   "metadata": {}
  },
  {
   "cell_type": "markdown",
   "source": [
    "## OCR KTP\r\n",
    "Belom jadi anjay"
   ],
   "metadata": {}
  },
  {
   "cell_type": "code",
   "execution_count": 6,
   "source": [
    "#pytesseract.pytesseract.tesseract_cmd = 'C:\\\\Program Files (x86)\\\\Tesseract-OCR\\\\tesseract.exe'\r\n",
    "\r\n",
    "img = cv2.imread('ktp.jpg')\r\n",
    "img = cv2.cvtColor(img, cv2.COLOR_BGR2RGB)\r\n",
    "\r\n",
    "ocr = pytesseract.image_to_string(img)\r\n",
    "print(ocr)\r\n",
    "\r\n",
    "cv2.imshow('Result', img)\r\n",
    "cv2.waitKey(0)"
   ],
   "outputs": [
    {
     "output_type": "stream",
     "name": "stdout",
     "text": [
      ", , PROVINSI DKI JAKARTA\n",
      "JAKARTA SELATAN\n",
      "12K\n",
      "\n",
      "‘ , = 317HU‘iLllE‘mUUUI\n",
      "m 7 :nEmmsemm\n",
      "\n",
      "rwym:mmm\\,21-121no\n",
      "\n",
      "mm £££me am:\n",
      "\n",
      "And '7 :JLKECAPIV\n",
      "arm; :MIM\n",
      "\n",
      "“szuu Muir 7'\n",
      "Pang... :mrmmmn MASEMTM\n",
      "\n",
      "Km-mm \"27 1\n",
      "WW 11424913 ‘1,\n",
      "\n",
      "\n"
     ]
    },
    {
     "output_type": "execute_result",
     "data": {
      "text/plain": [
       "-1"
      ]
     },
     "metadata": {},
     "execution_count": 6
    }
   ],
   "metadata": {}
  }
 ],
 "metadata": {
  "orig_nbformat": 4,
  "language_info": {
   "name": "python",
   "version": "3.8.5",
   "mimetype": "text/x-python",
   "codemirror_mode": {
    "name": "ipython",
    "version": 3
   },
   "pygments_lexer": "ipython3",
   "nbconvert_exporter": "python",
   "file_extension": ".py"
  },
  "kernelspec": {
   "name": "python3",
   "display_name": "Python 3.8.5 64-bit ('base': conda)"
  },
  "interpreter": {
   "hash": "fe6d48a06cf1965613c5c4b5d21b1182ca2e59212f354219b1b23c436410da45"
  }
 },
 "nbformat": 4,
 "nbformat_minor": 2
}