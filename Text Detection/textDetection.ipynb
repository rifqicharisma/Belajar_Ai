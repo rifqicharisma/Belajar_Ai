{
 "cells": [
  {
   "cell_type": "markdown",
   "source": [
    "# Text Detection / OCR"
   ],
   "metadata": {}
  },
  {
   "cell_type": "code",
   "execution_count": 6,
   "source": [
    "import cv2\r\n",
    "import pytesseract"
   ],
   "outputs": [],
   "metadata": {}
  },
  {
   "cell_type": "code",
   "execution_count": 9,
   "source": [
    "pytesseract.pytesseract.tesseract_cmd = 'C:\\\\Program Files (x86)\\\\Tesseract-OCR\\\\tesseract.exe'\r\n",
    "\r\n",
    "img = cv2.imread('text.png')\r\n",
    "img = cv2.cvtColor(img, cv2.COLOR_BGR2RGB)\r\n",
    "\r\n",
    "#print(pytesseract.image_to_string(img))\r\n",
    "\r\n",
    "# Detecting Chatacter\r\n",
    "hImg, wImg,_ = img.shape\r\n",
    "boxes = pytesseract.image_to_boxes(img)\r\n",
    "\r\n",
    "for b in boxes.splitlines():\r\n",
    "    #print(b)\r\n",
    "    b = b.split(' ')\r\n",
    "    print(b)\r\n",
    "    x,y,w,h = int(b[1]), int(b[2]), int(b[3]), int(b[4])\r\n",
    "    cv2.rectangle(img, (x,hImg-y),(w,hImg-h), (0,0,255), 2)\r\n",
    "    cv2.putText(img, b[0],(x,hImg-y+25), cv2.FONT_HERSHEY_COMPLEX, 1, (50,50,255), 2)\r\n",
    "\r\n",
    "\r\n",
    "cv2.imshow('Result', img)\r\n",
    "cv2.waitKey(0)"
   ],
   "outputs": [
    {
     "output_type": "stream",
     "name": "stdout",
     "text": [
      "['M', '91', '246', '112', '264', '0']\n",
      "['Y', '114', '246', '128', '264', '0']\n",
      "['N', '137', '246', '151', '264', '0']\n",
      "['A', '153', '246', '169', '264', '0']\n",
      "['M', '172', '246', '192', '264', '0']\n",
      "['E', '197', '246', '207', '264', '0']\n",
      "['I', '217', '246', '220', '264', '0']\n",
      "['S', '223', '246', '234', '264', '0']\n",
      "['R', '244', '246', '256', '264', '0']\n",
      "['I', '259', '246', '263', '264', '0']\n",
      "['F', '267', '246', '276', '264', '0']\n",
      "['Q', '279', '243', '297', '264', '0']\n",
      "['I', '299', '246', '302', '264', '0']\n",
      "['A', '311', '246', '327', '264', '0']\n",
      "['L', '330', '246', '339', '264', '0']\n",
      "['F', '342', '246', '351', '264', '0']\n",
      "['I', '354', '246', '358', '264', '0']\n",
      "['N', '362', '246', '376', '264', '0']\n",
      "['N', '380', '246', '395', '264', '0']\n",
      "['U', '399', '246', '413', '264', '0']\n",
      "['R', '417', '246', '430', '264', '0']\n",
      "['C', '438', '246', '451', '264', '0']\n",
      "['H', '454', '246', '467', '264', '0']\n",
      "['A', '470', '246', '486', '264', '0']\n",
      "['R', '489', '246', '501', '264', '0']\n",
      "['I', '504', '246', '508', '264', '0']\n",
      "['S', '511', '246', '522', '264', '0']\n",
      "['M', '525', '246', '545', '264', '0']\n",
      "['A', '548', '246', '564', '264', '0']\n",
      "['Y', '220', '198', '234', '216', '0']\n",
      "['O', '235', '198', '252', '216', '0']\n",
      "['U', '255', '198', '269', '216', '0']\n",
      "['C', '279', '198', '292', '216', '0']\n",
      "['A', '293', '198', '309', '216', '0']\n",
      "['N', '312', '198', '326', '216', '0']\n",
      "['C', '335', '198', '348', '216', '0']\n",
      "['A', '349', '198', '365', '216', '0']\n",
      "['L', '368', '198', '378', '216', '0']\n",
      "['L', '380', '198', '389', '216', '0']\n",
      "['M', '398', '198', '418', '216', '0']\n",
      "['E', '423', '198', '433', '216', '0']\n",
      "['R', '298', '151', '310', '169', '0']\n",
      "['I', '313', '151', '317', '169', '0']\n",
      "['F', '321', '151', '330', '169', '0']\n",
      "['Q', '333', '148', '351', '169', '0']\n",
      "['I', '353', '151', '356', '169', '0']\n",
      "['1', '136', '56', '146', '74', '0']\n",
      "['2', '155', '56', '167', '74', '0']\n",
      "['3', '176', '56', '187', '74', '0']\n",
      "['4', '196', '56', '208', '74', '0']\n",
      "['5', '217', '56', '229', '74', '0']\n",
      "['6', '238', '56', '249', '74', '0']\n",
      "['7', '258', '56', '270', '74', '0']\n",
      "['8', '278', '56', '290', '74', '0']\n",
      "['9', '299', '56', '311', '74', '0']\n",
      "['1', '320', '56', '331', '74', '0']\n",
      "['0', '333', '56', '346', '74', '0']\n",
      "['1', '355', '56', '366', '74', '0']\n",
      "['1', '369', '56', '380', '74', '0']\n",
      "['1', '390', '56', '401', '74', '0']\n",
      "['2', '403', '56', '415', '74', '0']\n",
      "['1', '425', '56', '435', '74', '0']\n",
      "['3', '438', '56', '449', '74', '0']\n",
      "['1', '459', '56', '470', '74', '0']\n",
      "['4', '472', '56', '485', '74', '0']\n",
      "['1', '494', '56', '505', '74', '0']\n",
      "['5', '507', '56', '519', '74', '0']\n"
     ]
    },
    {
     "output_type": "execute_result",
     "data": {
      "text/plain": [
       "-1"
      ]
     },
     "metadata": {},
     "execution_count": 9
    }
   ],
   "metadata": {}
  },
  {
   "cell_type": "markdown",
   "source": [
    "## Detection Words\r\n",
    "not work, please wait me"
   ],
   "metadata": {}
  },
  {
   "cell_type": "code",
   "execution_count": 11,
   "source": [
    "pytesseract.pytesseract.tesseract_cmd = 'C:\\\\Program Files (x86)\\\\Tesseract-OCR\\\\tesseract.exe'\r\n",
    "\r\n",
    "img = cv2.imread('text.png')\r\n",
    "img = cv2.cvtColor(img, cv2.COLOR_BGR2RGB)\r\n",
    "\r\n",
    "#print(pytesseract.image_to_string(img))\r\n",
    "\r\n",
    "# Detecting Words\r\n",
    "hImg, wImg,_ = img.shape\r\n",
    "boxes = pytesseract.image_to_data(img)\r\n",
    "print(boxes)\r\n",
    "\r\n",
    "# for b in boxes.splitlines():\r\n",
    "#     #print(b)\r\n",
    "#     b = b.split(' ')\r\n",
    "#     print(b)\r\n",
    "#     x,y,w,h = int(b[1]), int(b[2]), int(b[3]), int(b[4])\r\n",
    "#     cv2.rectangle(img, (x,hImg-y),(w,hImg-h), (0,0,255), 2)\r\n",
    "#     cv2.putText(img, b[0],(x,hImg-y+25), cv2.FONT_HERSHEY_COMPLEX, 1, (50,50,255), 2)\r\n",
    "\r\n",
    "\r\n",
    "cv2.imshow('Result', img)\r\n",
    "cv2.waitKey(0)"
   ],
   "outputs": [
    {
     "output_type": "error",
     "ename": "TSVNotSupported",
     "evalue": "TSV output not supported. Tesseract >= 3.05 required",
     "traceback": [
      "\u001b[1;31m---------------------------------------------------------------------------\u001b[0m",
      "\u001b[1;31mTSVNotSupported\u001b[0m                           Traceback (most recent call last)",
      "\u001b[1;32m<ipython-input-11-568905a14c45>\u001b[0m in \u001b[0;36m<module>\u001b[1;34m\u001b[0m\n\u001b[0;32m      8\u001b[0m \u001b[1;31m# Detecting Words\u001b[0m\u001b[1;33m\u001b[0m\u001b[1;33m\u001b[0m\u001b[1;33m\u001b[0m\u001b[0m\n\u001b[0;32m      9\u001b[0m \u001b[0mhImg\u001b[0m\u001b[1;33m,\u001b[0m \u001b[0mwImg\u001b[0m\u001b[1;33m,\u001b[0m\u001b[0m_\u001b[0m \u001b[1;33m=\u001b[0m \u001b[0mimg\u001b[0m\u001b[1;33m.\u001b[0m\u001b[0mshape\u001b[0m\u001b[1;33m\u001b[0m\u001b[1;33m\u001b[0m\u001b[0m\n\u001b[1;32m---> 10\u001b[1;33m \u001b[0mboxes\u001b[0m \u001b[1;33m=\u001b[0m \u001b[0mpytesseract\u001b[0m\u001b[1;33m.\u001b[0m\u001b[0mimage_to_data\u001b[0m\u001b[1;33m(\u001b[0m\u001b[0mimg\u001b[0m\u001b[1;33m)\u001b[0m\u001b[1;33m\u001b[0m\u001b[1;33m\u001b[0m\u001b[0m\n\u001b[0m\u001b[0;32m     11\u001b[0m \u001b[0mprint\u001b[0m\u001b[1;33m(\u001b[0m\u001b[0mboxes\u001b[0m\u001b[1;33m)\u001b[0m\u001b[1;33m\u001b[0m\u001b[1;33m\u001b[0m\u001b[0m\n\u001b[0;32m     12\u001b[0m \u001b[1;33m\u001b[0m\u001b[0m\n",
      "\u001b[1;32mD:\\Application\\Anaconda\\lib\\site-packages\\pytesseract\\pytesseract.py\u001b[0m in \u001b[0;36mimage_to_data\u001b[1;34m(image, lang, config, nice, output_type, timeout, pandas_config)\u001b[0m\n\u001b[0;32m    510\u001b[0m \u001b[1;33m\u001b[0m\u001b[0m\n\u001b[0;32m    511\u001b[0m     \u001b[1;32mif\u001b[0m \u001b[0mget_tesseract_version\u001b[0m\u001b[1;33m(\u001b[0m\u001b[1;33m)\u001b[0m \u001b[1;33m<\u001b[0m \u001b[1;34m'3.05'\u001b[0m\u001b[1;33m:\u001b[0m\u001b[1;33m\u001b[0m\u001b[1;33m\u001b[0m\u001b[0m\n\u001b[1;32m--> 512\u001b[1;33m         \u001b[1;32mraise\u001b[0m \u001b[0mTSVNotSupported\u001b[0m\u001b[1;33m(\u001b[0m\u001b[1;33m)\u001b[0m\u001b[1;33m\u001b[0m\u001b[1;33m\u001b[0m\u001b[0m\n\u001b[0m\u001b[0;32m    513\u001b[0m \u001b[1;33m\u001b[0m\u001b[0m\n\u001b[0;32m    514\u001b[0m     \u001b[0mconfig\u001b[0m \u001b[1;33m=\u001b[0m \u001b[1;34mf'-c tessedit_create_tsv=1 {config.strip()}'\u001b[0m\u001b[1;33m\u001b[0m\u001b[1;33m\u001b[0m\u001b[0m\n",
      "\u001b[1;31mTSVNotSupported\u001b[0m: TSV output not supported. Tesseract >= 3.05 required"
     ]
    }
   ],
   "metadata": {}
  }
 ],
 "metadata": {
  "orig_nbformat": 4,
  "language_info": {
   "name": "python",
   "version": "3.8.5",
   "mimetype": "text/x-python",
   "codemirror_mode": {
    "name": "ipython",
    "version": 3
   },
   "pygments_lexer": "ipython3",
   "nbconvert_exporter": "python",
   "file_extension": ".py"
  },
  "kernelspec": {
   "name": "python3",
   "display_name": "Python 3.8.5 64-bit ('base': conda)"
  },
  "interpreter": {
   "hash": "fe6d48a06cf1965613c5c4b5d21b1182ca2e59212f354219b1b23c436410da45"
  }
 },
 "nbformat": 4,
 "nbformat_minor": 2
}