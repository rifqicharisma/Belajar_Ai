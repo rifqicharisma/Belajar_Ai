{
 "cells": [
  {
   "cell_type": "code",
   "execution_count": 1,
   "metadata": {},
   "outputs": [
    {
     "name": "stderr",
     "output_type": "stream",
     "text": [
      "CUDA not available - defaulting to CPU. Note: This module is much faster with a GPU.\n"
     ]
    },
    {
     "ename": "KeyboardInterrupt",
     "evalue": "",
     "output_type": "error",
     "traceback": [
      "\u001b[1;31m---------------------------------------------------------------------------\u001b[0m",
      "\u001b[1;31mKeyboardInterrupt\u001b[0m                         Traceback (most recent call last)",
      "\u001b[1;32m<ipython-input-1-1c21c1c5fdea>\u001b[0m in \u001b[0;36m<module>\u001b[1;34m\u001b[0m\n\u001b[0;32m     65\u001b[0m \u001b[1;32mif\u001b[0m \u001b[0m__name__\u001b[0m \u001b[1;33m==\u001b[0m \u001b[1;34m'__main__'\u001b[0m\u001b[1;33m:\u001b[0m\u001b[1;33m\u001b[0m\u001b[1;33m\u001b[0m\u001b[0m\n\u001b[0;32m     66\u001b[0m     \u001b[1;31m# Calling main() function\u001b[0m\u001b[1;33m\u001b[0m\u001b[1;33m\u001b[0m\u001b[1;33m\u001b[0m\u001b[0m\n\u001b[1;32m---> 67\u001b[1;33m     \u001b[0mmain\u001b[0m\u001b[1;33m(\u001b[0m\u001b[1;33m)\u001b[0m\u001b[1;33m\u001b[0m\u001b[1;33m\u001b[0m\u001b[0m\n\u001b[0m",
      "\u001b[1;32m<ipython-input-1-1c21c1c5fdea>\u001b[0m in \u001b[0;36mmain\u001b[1;34m()\u001b[0m\n\u001b[0;32m     32\u001b[0m \u001b[1;33m\u001b[0m\u001b[0m\n\u001b[0;32m     33\u001b[0m         \u001b[0mcv2\u001b[0m\u001b[1;33m.\u001b[0m\u001b[0mimshow\u001b[0m\u001b[1;33m(\u001b[0m\u001b[1;34m\"img\"\u001b[0m\u001b[1;33m,\u001b[0m \u001b[0mimg\u001b[0m\u001b[1;33m)\u001b[0m\u001b[1;33m\u001b[0m\u001b[1;33m\u001b[0m\u001b[0m\n\u001b[1;32m---> 34\u001b[1;33m         \u001b[0mcv2\u001b[0m\u001b[1;33m.\u001b[0m\u001b[0mwaitKey\u001b[0m\u001b[1;33m(\u001b[0m\u001b[1;36m0\u001b[0m\u001b[1;33m)\u001b[0m\u001b[1;33m\u001b[0m\u001b[1;33m\u001b[0m\u001b[0m\n\u001b[0m\u001b[0;32m     35\u001b[0m         \u001b[0mcv2\u001b[0m\u001b[1;33m.\u001b[0m\u001b[0mdestroyAllWindows\u001b[0m\u001b[1;33m(\u001b[0m\u001b[1;33m)\u001b[0m\u001b[1;33m\u001b[0m\u001b[1;33m\u001b[0m\u001b[0m\n\u001b[0;32m     36\u001b[0m \u001b[1;33m\u001b[0m\u001b[0m\n",
      "\u001b[1;31mKeyboardInterrupt\u001b[0m: "
     ]
    }
   ],
   "source": [
    "import os\n",
    "import glob\n",
    "import cv2\n",
    "import easyocr\n",
    "from Utils_NumberPlateRecognition import check1Line, corrrectCity, correctCapital, checkCity, checkOddEven, correctNumber, showText\n",
    "import Utils\n",
    "\n",
    "imagesPath = \"Images\\\\\"\n",
    "reader = easyocr.Reader(['en'])\n",
    "numberPlatePoints = []\n",
    "\n",
    "heightNumberPlate = 250\n",
    "\n",
    "def main():\n",
    "    for filename in glob.glob(imagesPath+\"*.jpg\"):\n",
    "        img = cv2.imread(filename)\n",
    "        scale = round(heightNumberPlate / img.shape[0], 1)\n",
    "        img = Utils.resize(img, scale)\n",
    "\n",
    "        detail = reader.readtext(img)\n",
    "\n",
    "        numberPlate, datePlate = check1Line(img, detail)\n",
    "        # print(\"numberPlate:\", numberPlate)\n",
    "        # print(\"datePlate:\", datePlate)\n",
    "\n",
    "        numberPlate, code, city, oddEven = detailNumberPlate(numberPlate)\n",
    "        datePlate, month, year = detailDatePlate(datePlate)\n",
    "\n",
    "        #printDetail(numberPlate, datePlate, code, city, oddEven, month, year)\n",
    "        \n",
    "        img = showText(img, numberPlate,datePlate,code,city,oddEven,month,year)\n",
    "\n",
    "        cv2.imshow(\"img\", img)\n",
    "        cv2.waitKey(0)\n",
    "        cv2.destroyAllWindows()\n",
    "\n",
    "def detailNumberPlate(numberPlate):\n",
    "\n",
    "    numberPlate = corrrectCity(numberPlate)\n",
    "    numberPlate = correctCapital(numberPlate)\n",
    "\n",
    "    code, city = checkCity(numberPlate)\n",
    "    oddEven = checkOddEven(numberPlate)\n",
    "\n",
    "    return numberPlate, code, city, oddEven\n",
    "\n",
    "def detailDatePlate(datePlate):\n",
    "    datePlate = correctNumber(datePlate)\n",
    "\n",
    "    month = int(datePlate[:2])\n",
    "    year = int(\"20\" + datePlate[-2:])\n",
    "    return datePlate, month, year\n",
    "\n",
    "def printDetail(numberPlate, datePlate, code, city, oddEven, month, year):\n",
    "    print(\"---\"*20)\n",
    "    print(\"numberPlateFix:\", numberPlate)\n",
    "    print(\"datePlateFix:\", datePlate)\n",
    "    print(\"- city code:\", code)\n",
    "    print(\"- city:\", city)\n",
    "    print(\"- type:\", oddEven)\n",
    "    print(\"- month:\", month)\n",
    "    print(\"- year:\", year)\n",
    "    print(\"---\"*20)\n",
    "\n",
    "if __name__ == '__main__':       \n",
    "    # Calling main() function \n",
    "    main()"
   ]
  }
 ],
 "metadata": {
  "kernelspec": {
   "display_name": "base",
   "language": "python",
   "name": "python3"
  },
  "language_info": {
   "codemirror_mode": {
    "name": "ipython",
    "version": 3
   },
   "file_extension": ".py",
   "mimetype": "text/x-python",
   "name": "python",
   "nbconvert_exporter": "python",
   "pygments_lexer": "ipython3",
   "version": "3.8.5"
  },
  "orig_nbformat": 4
 },
 "nbformat": 4,
 "nbformat_minor": 2
}
