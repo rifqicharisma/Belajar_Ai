{
 "cells": [
  {
   "cell_type": "code",
   "execution_count": 14,
   "source": [
    "import cv2\r\n",
    "import mediapipe as mp\r\n",
    "import time"
   ],
   "outputs": [],
   "metadata": {}
  },
  {
   "cell_type": "code",
   "execution_count": 15,
   "source": [
    "\r\n",
    "class handDetector():\r\n",
    "    def __init__(self, mode=False, maxHands = 2, detectionCon=0.5, trackCon=0.5):\r\n",
    "        self.mode = mode\r\n",
    "        self.maxHands = maxHands\r\n",
    "        self.detectionCon = detectionCon\r\n",
    "        self.trackCon = trackCon\r\n",
    "\r\n",
    "        self.mpHands = mp.solutions.hands\r\n",
    "        self.hands = self.mpHands.Hands(self.mode, self.maxHands,self.detectionCon, self.trackCon)\r\n",
    "        self.mpDraw = mp.solutions.drawing_utils\r\n",
    "\r\n",
    "    def findHands(self, img, draw=True):\r\n",
    "        imgRGB = cv2.cvtColor(img, cv2.COLOR_BGR2RGB)\r\n",
    "        self.results = self.hands.process(imgRGB)\r\n",
    "        #print(results.multi_hand_landmarks)\r\n",
    "\r\n",
    "        if self.results.multi_hand_landmarks:\r\n",
    "            for handLms in self.results.multi_hand_landmarks:\r\n",
    "                if draw:\r\n",
    "                    self.mpDraw.draw_landmarks(img, handLms, self.mpHands.HAND_CONNECTIONS)\r\n",
    "\r\n",
    "        return img\r\n",
    "\r\n",
    "    def findPosition(self, img, handNo=0, draw=True):\r\n",
    "\r\n",
    "        lmList = []\r\n",
    "        if self.results.multi_hand_landmarks:\r\n",
    "            myHand = self.results.multi_hand_landmarks[handNo]\r\n",
    "\r\n",
    "            for id, lm in enumerate(myHand.landmark):\r\n",
    "                    #print(id, lm)\r\n",
    "                    h, w, c = img.shape\r\n",
    "                    cx, cy = int(lm.x*w), int(lm.y*h)\r\n",
    "                    #print(id, cx, cy)\r\n",
    "                    lmList.append([id,cx,cy])\r\n",
    "\r\n",
    "                    if draw:\r\n",
    "                        cv2.circle(img, (cx, cy), 15, (255,0,255), cv2.FILLED)\r\n",
    "            return lmList\r\n",
    "\r\n",
    "\r\n",
    "def main():\r\n",
    "    pTime = 0\r\n",
    "    cTime = 0\r\n",
    "    cap = cv2.VideoCapture(0)\r\n",
    "    detector = handDetector()\r\n",
    "\r\n",
    "    while True:\r\n",
    "        success, img = cap.read()\r\n",
    "        img = detector.findHands(img)\r\n",
    "        lmList = detector.findPosition(img)\r\n",
    "        #if len(lmList) != 0:\r\n",
    "        print(lmList[4])\r\n",
    "\r\n",
    "        cTime = time.time()\r\n",
    "        fps = 1/(cTime-pTime)\r\n",
    "        pTime = cTime\r\n",
    "\r\n",
    "        cv2.putText(img, str(int(fps)), (10, 70), cv2.FONT_HERSHEY_PLAIN, 3, (255, 0, 255), 2)\r\n",
    "\r\n",
    "        cv2.imshow(\"Image\", img)\r\n",
    "        cv2.waitKey(1)\r\n",
    "\r\n",
    "if __name__ == \"__main__\":\r\n",
    "    main()"
   ],
   "outputs": [
    {
     "output_type": "error",
     "ename": "TypeError",
     "evalue": "'NoneType' object is not subscriptable",
     "traceback": [
      "\u001b[1;31m---------------------------------------------------------------------------\u001b[0m",
      "\u001b[1;31mTypeError\u001b[0m                                 Traceback (most recent call last)",
      "\u001b[1;32m<ipython-input-15-39c4b5d49b5a>\u001b[0m in \u001b[0;36m<module>\u001b[1;34m\u001b[0m\n\u001b[0;32m     63\u001b[0m \u001b[1;33m\u001b[0m\u001b[0m\n\u001b[0;32m     64\u001b[0m \u001b[1;32mif\u001b[0m \u001b[0m__name__\u001b[0m \u001b[1;33m==\u001b[0m \u001b[1;34m\"__main__\"\u001b[0m\u001b[1;33m:\u001b[0m\u001b[1;33m\u001b[0m\u001b[1;33m\u001b[0m\u001b[0m\n\u001b[1;32m---> 65\u001b[1;33m     \u001b[0mmain\u001b[0m\u001b[1;33m(\u001b[0m\u001b[1;33m)\u001b[0m\u001b[1;33m\u001b[0m\u001b[1;33m\u001b[0m\u001b[0m\n\u001b[0m",
      "\u001b[1;32m<ipython-input-15-39c4b5d49b5a>\u001b[0m in \u001b[0;36mmain\u001b[1;34m()\u001b[0m\n\u001b[0;32m     51\u001b[0m         \u001b[0mlmList\u001b[0m \u001b[1;33m=\u001b[0m \u001b[0mdetector\u001b[0m\u001b[1;33m.\u001b[0m\u001b[0mfindPosition\u001b[0m\u001b[1;33m(\u001b[0m\u001b[0mimg\u001b[0m\u001b[1;33m)\u001b[0m\u001b[1;33m\u001b[0m\u001b[1;33m\u001b[0m\u001b[0m\n\u001b[0;32m     52\u001b[0m         \u001b[1;31m#if len(lmList) != 0:\u001b[0m\u001b[1;33m\u001b[0m\u001b[1;33m\u001b[0m\u001b[1;33m\u001b[0m\u001b[0m\n\u001b[1;32m---> 53\u001b[1;33m         \u001b[0mprint\u001b[0m\u001b[1;33m(\u001b[0m\u001b[0mlmList\u001b[0m\u001b[1;33m[\u001b[0m\u001b[1;36m4\u001b[0m\u001b[1;33m]\u001b[0m\u001b[1;33m)\u001b[0m\u001b[1;33m\u001b[0m\u001b[1;33m\u001b[0m\u001b[0m\n\u001b[0m\u001b[0;32m     54\u001b[0m \u001b[1;33m\u001b[0m\u001b[0m\n\u001b[0;32m     55\u001b[0m         \u001b[0mcTime\u001b[0m \u001b[1;33m=\u001b[0m \u001b[0mtime\u001b[0m\u001b[1;33m.\u001b[0m\u001b[0mtime\u001b[0m\u001b[1;33m(\u001b[0m\u001b[1;33m)\u001b[0m\u001b[1;33m\u001b[0m\u001b[1;33m\u001b[0m\u001b[0m\n",
      "\u001b[1;31mTypeError\u001b[0m: 'NoneType' object is not subscriptable"
     ]
    }
   ],
   "metadata": {}
  }
 ],
 "metadata": {
  "orig_nbformat": 4,
  "language_info": {
   "name": "python",
   "version": "3.8.5",
   "mimetype": "text/x-python",
   "codemirror_mode": {
    "name": "ipython",
    "version": 3
   },
   "pygments_lexer": "ipython3",
   "nbconvert_exporter": "python",
   "file_extension": ".py"
  },
  "kernelspec": {
   "name": "python3",
   "display_name": "Python 3.8.5 64-bit ('base': conda)"
  },
  "interpreter": {
   "hash": "fe6d48a06cf1965613c5c4b5d21b1182ca2e59212f354219b1b23c436410da45"
  }
 },
 "nbformat": 4,
 "nbformat_minor": 2
}