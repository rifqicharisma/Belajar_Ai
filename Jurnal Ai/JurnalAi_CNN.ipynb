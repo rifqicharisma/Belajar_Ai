{
 "cells": [
  {
   "cell_type": "markdown",
   "metadata": {
    "id": "852ICZvrWeOO"
   },
   "source": [
    "# Convolutional Neural Netwok\n",
    "## ML Kamar Berantakan"
   ]
  },
  {
   "cell_type": "code",
   "execution_count": 1,
   "metadata": {
    "colab": {
     "base_uri": "https://localhost:8080/"
    },
    "id": "WLZeE2htXLIK",
    "outputId": "b6db4edb-8f9f-4d30-a3bf-ef04bf39b6ff"
   },
   "outputs": [
    {
     "name": "stdout",
     "output_type": "stream",
     "text": [
      "2.6.0\n"
     ]
    }
   ],
   "source": [
    "import tensorflow as tf\n",
    "from tensorflow.keras.optimizers import RMSprop\n",
    "from tensorflow.keras.preprocessing.image import ImageDataGenerator\n",
    "print(tf.__version__)"
   ]
  },
  {
   "cell_type": "code",
   "execution_count": 2,
   "metadata": {
    "colab": {
     "base_uri": "https://localhost:8080/"
    },
    "id": "ihZyUTNfXQSV",
    "outputId": "38c8efd9-9dd9-4109-fde0-add09244e441"
   },
   "outputs": [
    {
     "name": "stdout",
     "output_type": "stream",
     "text": [
      "--2021-07-14 01:50:14--  https://dicodingacademy.blob.core.windows.net/picodiploma/ml_pemula_academy/messy-vs-clean-room.zip\n",
      "Resolving dicodingacademy.blob.core.windows.net (dicodingacademy.blob.core.windows.net)... 52.239.197.36\n",
      "Connecting to dicodingacademy.blob.core.windows.net (dicodingacademy.blob.core.windows.net)|52.239.197.36|:443... connected.\n",
      "HTTP request sent, awaiting response... 200 OK\n",
      "Length: 70392746 (67M) [application/zip]\n",
      "Saving to: ‘/tmp/messy_vs_clean_room.zip’\n",
      "\n",
      "/tmp/messy_vs_clean 100%[===================>]  67.13M  2.39MB/s    in 20s     \n",
      "\n",
      "2021-07-14 01:50:36 (3.32 MB/s) - ‘/tmp/messy_vs_clean_room.zip’ saved [70392746/70392746]\n",
      "\n"
     ]
    }
   ],
   "source": [
    "# persiapkan datanya\n",
    "#!wget --no-check-certificate \\\n",
    "#  https://dicodingacademy.blob.core.windows.net/picodiploma/ml_pemula_academy/messy-vs-clean-room.zip \\\n",
    "#  -O /tmp/messy_vs_clean_room.zip"
   ]
  },
  {
   "cell_type": "code",
   "execution_count": 3,
   "metadata": {
    "colab": {
     "base_uri": "https://localhost:8080/"
    },
    "id": "3nable1OXcMN",
    "outputId": "239a6da6-5a30-4882-e064-fbbccfc409bc"
   },
   "outputs": [
    {
     "data": {
      "text/plain": [
       "['clean', 'messy']"
      ]
     },
     "execution_count": 3,
     "metadata": {},
     "output_type": "execute_result"
    }
   ],
   "source": [
    "# melakukan ekstraksi pada file tsb\n",
    "import zipfile,os\n",
    "#local_zip = 'E:\\Ripki Alfinnur\\Belajar_Ai\\Jurnal Ai\\messy-vs-clean-room.zip'\n",
    "#zip_ref = zipfile.ZipFile(local_zip, 'r')\n",
    "#zip_ref.extractall('E:\\Ripki Alfinnur\\Belajar_Ai\\Jurnal Ai\\tmp')\n",
    "#zip_ref.close()\n",
    " \n",
    "base_dir = 'tmp/images'\n",
    "train_dir = os.path.join(base_dir, 'train')\n",
    "validation_dir = os.path.join(base_dir, 'val')\n",
    "os.listdir('tmp/images/train')"
   ]
  },
  {
   "cell_type": "code",
   "execution_count": 4,
   "metadata": {
    "colab": {
     "base_uri": "https://localhost:8080/"
    },
    "id": "c0FVZcSPXyMm",
    "outputId": "0a3606c4-fb0f-45a6-9e33-7e90e6e5f346"
   },
   "outputs": [
    {
     "data": {
      "text/plain": [
       "['clean', 'messy']"
      ]
     },
     "execution_count": 4,
     "metadata": {},
     "output_type": "execute_result"
    }
   ],
   "source": [
    "os.listdir('tmp/images/val')"
   ]
  },
  {
   "cell_type": "code",
   "execution_count": 5,
   "metadata": {
    "id": "6S4egyunX1pf"
   },
   "outputs": [],
   "source": [
    "# membuat direktori ruangan rapi pada direktori data training\n",
    "train_clean_dir = os.path.join(train_dir, 'clean')\n",
    "\n",
    "# membuat direktori ruangan berantakan pada direktori data training\n",
    "train_messy_dir = os.path.join(train_dir, 'messy')\n",
    "\n",
    "# membuat direktori ruangan rapi pada direktori data validasi\n",
    "validation_clean_dir = os.path.join(validation_dir, 'clean')\n",
    "\n",
    "# membuat direktori ruangan berantakan pada direktori data validasi\n",
    "validation_messy_dir = os.path.join(validation_dir, 'messy')"
   ]
  },
  {
   "cell_type": "code",
   "execution_count": 6,
   "metadata": {
    "id": "fB-8HgWHYNXt"
   },
   "outputs": [],
   "source": [
    "# proses augmentasi gambar\n",
    "train_datagen = ImageDataGenerator(\n",
    "    rescale=1./255,\n",
    "    rotation_range=20,\n",
    "    horizontal_flip=True,\n",
    "    shear_range=0.2,\n",
    "    fill_mode='nearest')\n",
    "\n",
    "test_datagen = ImageDataGenerator(\n",
    "    rescale=1./255,\n",
    "    rotation_range=20,\n",
    "    horizontal_flip=True,\n",
    "    shear_range=0.2,\n",
    "    fill_mode='nearest')"
   ]
  },
  {
   "cell_type": "code",
   "execution_count": 7,
   "metadata": {
    "colab": {
     "base_uri": "https://localhost:8080/"
    },
    "id": "PsCQnc_oYQyU",
    "outputId": "8dac3e9b-4a93-42e3-fc75-5394d0520074"
   },
   "outputs": [
    {
     "name": "stdout",
     "output_type": "stream",
     "text": [
      "Found 192 images belonging to 2 classes.\n",
      "Found 20 images belonging to 2 classes.\n"
     ]
    }
   ],
   "source": [
    "train_generator = train_datagen.flow_from_directory(\n",
    "    train_dir, # direktori data latih\n",
    "    target_size=(150, 150), # mengubah resolusi seluruh gambar menjadi 150x150 pixel\n",
    "    batch_size=4,\n",
    "    # karena kita merupakan klarifikasi 2 kelas maka menggunakan class_mode = 'binary'\n",
    "    class_mode='binary')\n",
    "\n",
    "validation_generator = test_datagen.flow_from_directory(\n",
    "    validation_dir, # direktori data validasi\n",
    "    target_size=(150, 150), # mengubah resolusi seluruh gambar menjadi 150x150 piksel\n",
    "    batch_size=4,\n",
    "    # karena kita merupakan masalah klasifikasi 2 kelas maka menggunakan class_mode = 'binary'\n",
    "    class_mode='binary')"
   ]
  },
  {
   "cell_type": "code",
   "execution_count": 8,
   "metadata": {
    "id": "SX2jF4JiYUyl"
   },
   "outputs": [],
   "source": [
    "# membangun arsitektur sebuah CNN\n",
    "model = tf.keras.models.Sequential([\n",
    "    tf.keras.layers.Conv2D(32, (3,3), activation='relu', input_shape=(150, 150, 3)),\n",
    "    tf.keras.layers.MaxPooling2D(2,2),\n",
    "    tf.keras.layers.Conv2D(64, (3,3), activation='relu'),\n",
    "    tf.keras.layers.MaxPooling2D(2,2),\n",
    "    tf.keras.layers.Conv2D(128, (3,3), activation='relu'),\n",
    "    tf.keras.layers.MaxPooling2D(2,2),\n",
    "    tf.keras.layers.Conv2D(128, (3,3), activation='relu'),\n",
    "    tf.keras.layers.MaxPooling2D(2,2),\n",
    "    tf.keras.layers.Flatten(),\n",
    "    tf.keras.layers.Dense(512, activation='relu'),\n",
    "    tf.keras.layers.Dense(1, activation='sigmoid')\n",
    "])"
   ]
  },
  {
   "cell_type": "code",
   "execution_count": 9,
   "metadata": {
    "id": "hikjPLejYXPQ"
   },
   "outputs": [],
   "source": [
    "# memanggil fungsi compile pada objek model\n",
    "model.compile(loss='binary_crossentropy',\n",
    "              optimizer=tf.optimizers.Adam(),\n",
    "              metrics=['accuracy'])"
   ]
  },
  {
   "cell_type": "code",
   "execution_count": 11,
   "metadata": {
    "colab": {
     "base_uri": "https://localhost:8080/"
    },
    "id": "7Mj_YvVKYaaT",
    "outputId": "bdd91b05-562a-4afa-dc4b-dfbc1b1664ae"
   },
   "outputs": [
    {
     "name": "stdout",
     "output_type": "stream",
     "text": [
      "Epoch 1/20\n",
      "25/25 - 2s - loss: 0.6940 - accuracy: 0.4800 - val_loss: 0.6911 - val_accuracy: 0.5000\n",
      "\n",
      "Epoch 00001: val_loss improved from inf to 0.69111, saving model to clean_messy_model.h5\n",
      "Epoch 2/20\n",
      "25/25 - 2s - loss: 0.6922 - accuracy: 0.5800 - val_loss: 0.6987 - val_accuracy: 0.5000\n",
      "\n",
      "Epoch 00002: val_loss did not improve from 0.69111\n",
      "Epoch 3/20\n",
      "25/25 - 2s - loss: 0.6927 - accuracy: 0.5200 - val_loss: 0.6636 - val_accuracy: 0.6000\n",
      "\n",
      "Epoch 00003: val_loss improved from 0.69111 to 0.66363, saving model to clean_messy_model.h5\n",
      "Epoch 4/20\n",
      "25/25 - 2s - loss: 0.6516 - accuracy: 0.6500 - val_loss: 0.5147 - val_accuracy: 0.8000\n",
      "\n",
      "Epoch 00004: val_loss improved from 0.66363 to 0.51469, saving model to clean_messy_model.h5\n",
      "Epoch 5/20\n",
      "25/25 - 2s - loss: 0.6601 - accuracy: 0.6300 - val_loss: 0.5811 - val_accuracy: 0.7000\n",
      "\n",
      "Epoch 00005: val_loss did not improve from 0.51469\n",
      "Epoch 6/20\n",
      "25/25 - 2s - loss: 0.6095 - accuracy: 0.7100 - val_loss: 0.5606 - val_accuracy: 0.7500\n",
      "\n",
      "Epoch 00006: val_loss did not improve from 0.51469\n",
      "Epoch 7/20\n",
      "25/25 - 2s - loss: 0.6377 - accuracy: 0.6500 - val_loss: 0.5811 - val_accuracy: 0.8000\n",
      "\n",
      "Epoch 00007: val_loss did not improve from 0.51469\n",
      "Epoch 8/20\n",
      "25/25 - 3s - loss: 0.5826 - accuracy: 0.7300 - val_loss: 0.6193 - val_accuracy: 0.6000\n",
      "\n",
      "Epoch 00008: val_loss did not improve from 0.51469\n",
      "Epoch 9/20\n",
      "25/25 - 2s - loss: 0.6607 - accuracy: 0.6800 - val_loss: 0.5670 - val_accuracy: 0.6500\n",
      "\n",
      "Epoch 00009: val_loss did not improve from 0.51469\n",
      "Epoch 10/20\n",
      "25/25 - 2s - loss: 0.6071 - accuracy: 0.7000 - val_loss: 0.4958 - val_accuracy: 0.8500\n",
      "\n",
      "Epoch 00010: val_loss improved from 0.51469 to 0.49582, saving model to clean_messy_model.h5\n",
      "Epoch 11/20\n",
      "25/25 - 2s - loss: 0.5912 - accuracy: 0.7000 - val_loss: 0.5302 - val_accuracy: 0.8000\n",
      "\n",
      "Epoch 00011: val_loss did not improve from 0.49582\n",
      "Epoch 12/20\n",
      "25/25 - 2s - loss: 0.5692 - accuracy: 0.7600 - val_loss: 0.4672 - val_accuracy: 0.8000\n",
      "\n",
      "Epoch 00012: val_loss improved from 0.49582 to 0.46722, saving model to clean_messy_model.h5\n",
      "Epoch 13/20\n",
      "25/25 - 2s - loss: 0.4770 - accuracy: 0.7700 - val_loss: 0.4385 - val_accuracy: 0.8000\n",
      "\n",
      "Epoch 00013: val_loss improved from 0.46722 to 0.43849, saving model to clean_messy_model.h5\n",
      "Epoch 14/20\n",
      "25/25 - 2s - loss: 0.4790 - accuracy: 0.7900 - val_loss: 0.4720 - val_accuracy: 0.7500\n",
      "\n",
      "Epoch 00014: val_loss did not improve from 0.43849\n",
      "Epoch 15/20\n",
      "25/25 - 2s - loss: 0.6119 - accuracy: 0.6700 - val_loss: 0.5423 - val_accuracy: 0.8000\n",
      "\n",
      "Epoch 00015: val_loss did not improve from 0.43849\n",
      "Epoch 16/20\n",
      "25/25 - 2s - loss: 0.5086 - accuracy: 0.7900 - val_loss: 0.3858 - val_accuracy: 0.8000\n",
      "\n",
      "Epoch 00016: val_loss improved from 0.43849 to 0.38581, saving model to clean_messy_model.h5\n",
      "Epoch 17/20\n",
      "25/25 - 2s - loss: 0.5331 - accuracy: 0.7300 - val_loss: 0.4381 - val_accuracy: 0.8000\n",
      "\n",
      "Epoch 00017: val_loss did not improve from 0.38581\n",
      "Epoch 18/20\n",
      "25/25 - 2s - loss: 0.4727 - accuracy: 0.7900 - val_loss: 0.3968 - val_accuracy: 0.8500\n",
      "\n",
      "Epoch 00018: val_loss did not improve from 0.38581\n",
      "Epoch 19/20\n",
      "25/25 - 2s - loss: 0.4468 - accuracy: 0.7900 - val_loss: 0.3815 - val_accuracy: 0.9000\n",
      "\n",
      "Epoch 00019: val_loss improved from 0.38581 to 0.38154, saving model to clean_messy_model.h5\n",
      "Epoch 20/20\n",
      "25/25 - 2s - loss: 0.4251 - accuracy: 0.8100 - val_loss: 0.3878 - val_accuracy: 0.8000\n",
      "\n",
      "Epoch 00020: val_loss did not improve from 0.38154\n"
     ]
    }
   ],
   "source": [
    "from keras.callbacks import ModelCheckpoint\n",
    "\n",
    "# saving model\n",
    "checkpoint = ModelCheckpoint(\"clean_messy_model.h5\",\n",
    "                             monitor=\"val_loss\",\n",
    "                             save_best_only = True,\n",
    "                             verbose=1,\n",
    "                             mode = 'auto',\n",
    "                             save_freq = 'epoch')\n",
    "\n",
    "# pelatihan model menggunakan fit\n",
    "history = model.fit(\n",
    "            train_generator,\n",
    "            steps_per_epoch=25,  # berapa batch yang akan dieksekusi pada setiap epoch\n",
    "            epochs=20,\n",
    "            callbacks = checkpoint,\n",
    "            validation_data=validation_generator, # menampilkan akurasi pengujian data validasi\n",
    "            validation_steps=5,  # berapa batch yang akan dieksekusi pada setiap epoch\n",
    "            verbose=2)"
   ]
  },
  {
   "cell_type": "code",
   "execution_count": 18,
   "metadata": {
    "colab": {
     "base_uri": "https://localhost:8080/",
     "height": 375,
     "resources": {
      "http://localhost:8080/nbextensions/google.colab/files.js": {
       "data": "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",
       "headers": [
        [
         "content-type",
         "application/javascript"
        ]
       ],
       "ok": true,
       "status": 200,
       "status_text": ""
      }
     }
    },
    "id": "Lpk7SqdTZWEX",
    "outputId": "e4b54c2f-cfe5-4cdc-e6f7-0381f3596d8e"
   },
   "outputs": [
    {
     "ename": "NameError",
     "evalue": "name 'files' is not defined",
     "output_type": "error",
     "traceback": [
      "\u001b[1;31m---------------------------------------------------------------------------\u001b[0m",
      "\u001b[1;31mNameError\u001b[0m                                 Traceback (most recent call last)",
      "\u001b[1;32m<ipython-input-18-669bccfa023d>\u001b[0m in \u001b[0;36m<module>\u001b[1;34m\u001b[0m\n\u001b[0;32m     12\u001b[0m \u001b[0mmodel\u001b[0m\u001b[1;33m=\u001b[0m\u001b[0mload_model\u001b[0m\u001b[1;33m(\u001b[0m\u001b[1;34m\"clean_messy_model.h5\"\u001b[0m\u001b[1;33m)\u001b[0m\u001b[1;33m\u001b[0m\u001b[1;33m\u001b[0m\u001b[0m\n\u001b[0;32m     13\u001b[0m \u001b[1;33m\u001b[0m\u001b[0m\n\u001b[1;32m---> 14\u001b[1;33m \u001b[0muploaded\u001b[0m \u001b[1;33m=\u001b[0m \u001b[0mfiles\u001b[0m\u001b[1;33m.\u001b[0m\u001b[0mupload\u001b[0m\u001b[1;33m(\u001b[0m\u001b[1;33m)\u001b[0m \u001b[1;31m# using google colab text editor\u001b[0m\u001b[1;33m\u001b[0m\u001b[1;33m\u001b[0m\u001b[0m\n\u001b[0m\u001b[0;32m     15\u001b[0m \u001b[1;33m\u001b[0m\u001b[0m\n\u001b[0;32m     16\u001b[0m \u001b[1;32mfor\u001b[0m \u001b[0mfn\u001b[0m \u001b[1;32min\u001b[0m \u001b[0muploaded\u001b[0m\u001b[1;33m.\u001b[0m\u001b[0mkeys\u001b[0m\u001b[1;33m(\u001b[0m\u001b[1;33m)\u001b[0m\u001b[1;33m:\u001b[0m\u001b[1;33m\u001b[0m\u001b[1;33m\u001b[0m\u001b[0m\n",
      "\u001b[1;31mNameError\u001b[0m: name 'files' is not defined"
     ]
    }
   ],
   "source": [
    "# melihat hasil dari model yang kita buat\n",
    "from keras.models import load_model\n",
    "import numpy as np\n",
    "#from google.colab import files\n",
    "from keras.preprocessing import image\n",
    "import matplotlib.pyplot as plt\n",
    "import matplotlib.image as mpimg\n",
    "import matplotlib.pyplot as plt\n",
    "import matplotlib.image as mpimg\n",
    "%matplotlib inline\n",
    "\n",
    "model=load_model(\"clean_messy_model.h5\")\n",
    " \n",
    "uploaded = files.upload() # using google colab text editor\n",
    " \n",
    "for fn in uploaded.keys():\n",
    " \n",
    "  # predicting images\n",
    "  path = fn\n",
    "  img = image.load_img(path, target_size=(150,150))\n",
    "  imgplot = plt.imshow(img)\n",
    "  x = image.img_to_array(img)\n",
    "  x = np.expand_dims(x, axis=0)\n",
    " \n",
    "  images = np.vstack([x])\n",
    "  classes = model.predict(images, batch_size=10)\n",
    "  \n",
    "  print(fn)\n",
    "  if classes==0:\n",
    "    print('\\n Clean or Messy : CLEAN')\n",
    "  else:\n",
    "    print('\\n Clean or Messy : MESSY')"
   ]
  },
  {
   "cell_type": "code",
   "execution_count": 14,
   "metadata": {
    "colab": {
     "base_uri": "https://localhost:8080/",
     "height": 312
    },
    "id": "ehXbwpB1dEim",
    "outputId": "0ba01db2-1d4d-4ac4-e8a9-7d981d826927"
   },
   "outputs": [
    {
     "name": "stdout",
     "output_type": "stream",
     "text": [
      "48/48 - 3s - loss: 0.4062 - accuracy: 0.8281\n"
     ]
    },
    {
     "data": {
      "image/png": "[encoded data removed]",
      "text/plain": [
       "<Figure size 432x288 with 1 Axes>"
      ]
     },
     "metadata": {
      "needs_background": "light"
     },
     "output_type": "display_data"
    }
   ],
   "source": [
    "# Evaluasi Model\n",
    "plt.plot(history.history['accuracy'], label='accuracy')\n",
    "plt.plot(history.history['val_accuracy'], label = 'val_accuracy')\n",
    "plt.xlabel('Epoch')\n",
    "plt.ylabel('Accuracy')\n",
    "plt.ylim([0.4, 1])\n",
    "plt.title(\"Evaluate The Model\")\n",
    "plt.legend(loc='lower right')\n",
    "\n",
    "test_loss, test_acc = model.evaluate(train_generator, verbose=2)"
   ]
  },
  {
   "cell_type": "code",
   "execution_count": 15,
   "metadata": {
    "colab": {
     "base_uri": "https://localhost:8080/"
    },
    "id": "uJfTdpP7jWac",
    "outputId": "7061446e-afd5-444f-b61b-51d46d829852"
   },
   "outputs": [
    {
     "name": "stdout",
     "output_type": "stream",
     "text": [
      "0.828125\n"
     ]
    }
   ],
   "source": [
    "# cetak akurasi\n",
    "print(test_acc)"
   ]
  },
  {
   "cell_type": "code",
   "execution_count": 16,
   "metadata": {
    "colab": {
     "base_uri": "https://localhost:8080/",
     "height": 281
    },
    "id": "MCPP05sHur04",
    "outputId": "5caec828-1c24-4807-a8a3-fbdb9d972de7"
   },
   "outputs": [
    {
     "data": {
      "image/png": "[encoded data removed]",
      "text/plain": [
       "<Figure size 864x288 with 2 Axes>"
      ]
     },
     "metadata": {
      "needs_background": "light"
     },
     "output_type": "display_data"
    }
   ],
   "source": [
    "acc = history.history['accuracy']\n",
    "val_acc = history.history['val_accuracy']\n",
    "\n",
    "loss = history.history['loss']\n",
    "val_loss = history.history['val_loss']\n",
    "\n",
    "epochs_range = range(20)\n",
    "\n",
    "plt.figure(figsize=(12, 4))\n",
    "plt.subplot(1, 2, 1)\n",
    "plt.plot(epochs_range, acc, label='Training Accuracy')\n",
    "plt.plot(epochs_range, val_acc, label='Validation Accuracy')\n",
    "plt.legend(loc='lower right')\n",
    "plt.title('Training and Validation Accuracy')\n",
    "\n",
    "plt.subplot(1, 2, 2)\n",
    "plt.plot(epochs_range, loss, label='Training Loss')\n",
    "plt.plot(epochs_range, val_loss, label='Validation Loss')\n",
    "plt.legend(loc='upper right')\n",
    "plt.title('Training and Validation Loss')\n",
    "plt.show()"
   ]
  },
  {
   "cell_type": "code",
   "execution_count": 17,
   "metadata": {},
   "outputs": [
    {
     "name": "stderr",
     "output_type": "stream",
     "text": [
      "D:\\Application\\Anaconda\\lib\\site-packages\\keras\\engine\\training.py:2035: UserWarning: `Model.predict_generator` is deprecated and will be removed in a future version. Please use `Model.predict`, which supports generators.\n",
      "  warnings.warn('`Model.predict_generator` is deprecated and '\n"
     ]
    },
    {
     "name": "stdout",
     "output_type": "stream",
     "text": [
      "(20,)\n",
      "(20,)\n",
      "[[10  0]\n",
      " [10  0]]\n",
      "              precision    recall  f1-score   support\n",
      "\n",
      "           0       0.50      1.00      0.67        10\n",
      "           1       0.00      0.00      0.00        10\n",
      "\n",
      "    accuracy                           0.50        20\n",
      "   macro avg       0.25      0.50      0.33        20\n",
      "weighted avg       0.25      0.50      0.33        20\n",
      "\n"
     ]
    },
    {
     "name": "stderr",
     "output_type": "stream",
     "text": [
      "D:\\Application\\Anaconda\\lib\\site-packages\\sklearn\\metrics\\_classification.py:1221: UndefinedMetricWarning: Precision and F-score are ill-defined and being set to 0.0 in labels with no predicted samples. Use `zero_division` parameter to control this behavior.\n",
      "  _warn_prf(average, modifier, msg_start, len(result))\n"
     ]
    }
   ],
   "source": [
    "from sklearn.metrics import classification_report\n",
    "from sklearn.metrics import confusion_matrix\n",
    "\n",
    "probas = model.predict_generator(generator=validation_generator)\n",
    "y_true = validation_generator.classes\n",
    "y_pred = np.argmax(probas, axis=1)\n",
    "\n",
    "print(y_true.shape)\n",
    "print(y_pred.shape)\n",
    "\n",
    "\n",
    "print(confusion_matrix(y_true, y_pred))\n",
    "print(classification_report(y_true, y_pred))"
   ]
  },
  {
   "cell_type": "code",
   "execution_count": 17,
   "metadata": {
    "colab": {
     "base_uri": "https://localhost:8080/",
     "height": 295
    },
    "id": "KMXzAHe0E4WI",
    "outputId": "f42cd3ee-8f68-496c-f73a-dedf7f57f31a"
   },
   "outputs": [
    {
     "data": {
      "image/png": "[encoded data removed]",
      "text/plain": [
       "<Figure size 432x288 with 1 Axes>"
      ]
     },
     "metadata": {
      "needs_background": "light",
      "tags": []
     },
     "output_type": "display_data"
    }
   ],
   "source": [
    "# Histogram Citra\n",
    "\n",
    "from matplotlib import pyplot\n",
    "from os.path import basename\n",
    "from os.path import splitext\n",
    "from PIL import Image\n",
    "\n",
    "def get_file_name(local_zip):\n",
    "    # https://stackoverflow.com/a/678266/9157799\n",
    "    return splitext(basename(local_zip))[0]\n",
    "\n",
    "def tampilkan_histogram(r, g, b, gambar):\n",
    "    intensitas = list(range(256))\n",
    "    lebar_bar = 0.3\n",
    "\n",
    "    # https://stackoverflow.com/q/9304408/9157799\n",
    "    intensitas = [i-lebar_bar for i in intensitas]\n",
    "    # https://stackoverflow.com/q/14270391/9157799\n",
    "    pyplot.bar(intensitas, r, width=lebar_bar, color='r')\n",
    "\n",
    "    intensitas = [i+lebar_bar for i in intensitas]\n",
    "    pyplot.bar(intensitas, g, width=lebar_bar, color='g')\n",
    "\n",
    "    intensitas = [i+lebar_bar for i in intensitas]\n",
    "    pyplot.bar(intensitas, b, width=lebar_bar, color='b')\n",
    "\n",
    "    pyplot.title('Histogram ' + gambar)\n",
    "    pyplot.xlabel('Intensitas')\n",
    "    pyplot.ylabel('Kemunculan')\n",
    "    pyplot.legend(['R', 'G', 'B'])\n",
    "    pyplot.show()\n",
    "\n",
    "def histogram(gambar):\n",
    "    GAMBAR = Image.open(gambar)\n",
    "    PIXEL = GAMBAR.load()\n",
    "\n",
    "    ukuran_horizontal = GAMBAR.size[0]\n",
    "    ukuran_vertikal = GAMBAR.size[1]\n",
    "\n",
    "    gambar_r = Image.new('RGB', (ukuran_horizontal, ukuran_vertikal))\n",
    "    pixel_r = gambar_r.load()\n",
    "\n",
    "    gambar_g = Image.new('RGB', (ukuran_horizontal, ukuran_vertikal))\n",
    "    pixel_g = gambar_g.load()\n",
    "\n",
    "    gambar_b = Image.new('RGB', (ukuran_horizontal, ukuran_vertikal))\n",
    "    pixel_b = gambar_b.load()\n",
    "\n",
    "    # https://stackoverflow.com/q/10712002/9157799\n",
    "    r = [0] * 256\n",
    "    g = [0] * 256\n",
    "    b = [0] * 256\n",
    "\n",
    "    for x in range(ukuran_horizontal):\n",
    "        for y in range(ukuran_vertikal):\n",
    "            intensitas_r = PIXEL[x, y][0]\n",
    "            intensitas_g = PIXEL[x, y][1]\n",
    "            intensitas_b = PIXEL[x, y][2]\n",
    "            r[intensitas_r] += 1\n",
    "            g[intensitas_g] += 1\n",
    "            b[intensitas_b] += 1\n",
    "            pixel_r[x, y] = (intensitas_r, 0, 0)\n",
    "            pixel_g[x, y] = (0, intensitas_g, 0)\n",
    "            pixel_b[x, y] = (0, 0, intensitas_b)\n",
    "\n",
    "    gambar_r.save(get_file_name(gambar) + '_r.jpg')\n",
    "    gambar_g.save(get_file_name(gambar) + '_g.jpg')\n",
    "    gambar_b.save(get_file_name(gambar) + '_b.jpg')\n",
    "\n",
    "    tampilkan_histogram(r, g, b, gambar)\n",
    "\n",
    "histogram('kamar.jpg')"
   ]
  }
 ],
 "metadata": {
  "colab": {
   "collapsed_sections": [],
   "name": "JurnalAi_CNN.ipynb",
   "provenance": []
  },
  "kernelspec": {
   "display_name": "Python 3",
   "language": "python",
   "name": "python3"
  },
  "language_info": {
   "codemirror_mode": {
    "name": "ipython",
    "version": 3
   },
   "file_extension": ".py",
   "mimetype": "text/x-python",
   "name": "python",
   "nbconvert_exporter": "python",
   "pygments_lexer": "ipython3",
   "version": "3.8.5"
  }
 },
 "nbformat": 4,
 "nbformat_minor": 1
}
