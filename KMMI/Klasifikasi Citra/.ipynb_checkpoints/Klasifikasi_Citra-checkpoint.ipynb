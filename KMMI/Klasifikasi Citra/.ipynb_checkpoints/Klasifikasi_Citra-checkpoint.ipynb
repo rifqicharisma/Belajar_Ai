{
 "cells": [
  {
   "cell_type": "code",
   "execution_count": 1,
   "metadata": {
    "id": "PiYOrIig0rHT"
   },
   "outputs": [],
   "source": [
    "# import library yang dibutuhkan\n",
    "import pandas as pd\n",
    "from sklearn import svm\n",
    "from sklearn.model_selection import GridSearchCV\n",
    "import os\n",
    "import matplotlib.pyplot as plt\n",
    "from skimage.transform import resize\n",
    "from skimage.io import imread\n",
    "import numpy as np\n",
    "from sklearn.model_selection import train_test_split\n",
    "from sklearn.metrics import classification_report,accuracy_score,confusion_matrix\n",
    "import pickle"
   ]
  },
  {
   "cell_type": "code",
   "execution_count": 7,
   "metadata": {
    "colab": {
     "base_uri": "https://localhost:8080/",
     "height": 541
    },
    "id": "8feYg5Td1TLz",
    "outputId": "88e6f39d-94d8-46ad-a7df-5d91ca221e4c"
   },
   "outputs": [
    {
     "name": "stdout",
     "output_type": "stream",
     "text": [
      "loading... category : Cars\n",
      "loaded category:Cars selesai\n",
      "loading... category : Ice cream cone\n",
      "loaded category:Ice cream cone selesai\n",
      "loading... category : Cricket ball\n",
      "loaded category:Cricket ball selesai\n"
     ]
    },
    {
     "data": {
      "text/html": [
       "<div>\n",
       "<style scoped>\n",
       "    .dataframe tbody tr th:only-of-type {\n",
       "        vertical-align: middle;\n",
       "    }\n",
       "\n",
       "    .dataframe tbody tr th {\n",
       "        vertical-align: top;\n",
       "    }\n",
       "\n",
       "    .dataframe thead th {\n",
       "        text-align: right;\n",
       "    }\n",
       "</style>\n",
       "<table border=\"1\" class=\"dataframe\">\n",
       "  <thead>\n",
       "    <tr style=\"text-align: right;\">\n",
       "      <th></th>\n",
       "      <th>0</th>\n",
       "      <th>1</th>\n",
       "      <th>2</th>\n",
       "      <th>3</th>\n",
       "      <th>4</th>\n",
       "      <th>5</th>\n",
       "      <th>6</th>\n",
       "      <th>7</th>\n",
       "      <th>8</th>\n",
       "      <th>9</th>\n",
       "      <th>...</th>\n",
       "      <th>67491</th>\n",
       "      <th>67492</th>\n",
       "      <th>67493</th>\n",
       "      <th>67494</th>\n",
       "      <th>67495</th>\n",
       "      <th>67496</th>\n",
       "      <th>67497</th>\n",
       "      <th>67498</th>\n",
       "      <th>67499</th>\n",
       "      <th>Target</th>\n",
       "    </tr>\n",
       "  </thead>\n",
       "  <tbody>\n",
       "    <tr>\n",
       "      <th>0</th>\n",
       "      <td>0.996078</td>\n",
       "      <td>0.996078</td>\n",
       "      <td>0.996078</td>\n",
       "      <td>0.996078</td>\n",
       "      <td>0.996078</td>\n",
       "      <td>0.996078</td>\n",
       "      <td>0.996078</td>\n",
       "      <td>0.996078</td>\n",
       "      <td>0.996078</td>\n",
       "      <td>0.996078</td>\n",
       "      <td>...</td>\n",
       "      <td>0.996078</td>\n",
       "      <td>0.996078</td>\n",
       "      <td>0.996078</td>\n",
       "      <td>0.996078</td>\n",
       "      <td>0.996078</td>\n",
       "      <td>0.996078</td>\n",
       "      <td>0.996078</td>\n",
       "      <td>0.996078</td>\n",
       "      <td>0.996078</td>\n",
       "      <td>0</td>\n",
       "    </tr>\n",
       "    <tr>\n",
       "      <th>1</th>\n",
       "      <td>0.717647</td>\n",
       "      <td>0.717647</td>\n",
       "      <td>0.717647</td>\n",
       "      <td>0.721569</td>\n",
       "      <td>0.721569</td>\n",
       "      <td>0.721569</td>\n",
       "      <td>0.723582</td>\n",
       "      <td>0.723582</td>\n",
       "      <td>0.723582</td>\n",
       "      <td>0.725490</td>\n",
       "      <td>...</td>\n",
       "      <td>0.338209</td>\n",
       "      <td>0.320562</td>\n",
       "      <td>0.308797</td>\n",
       "      <td>0.337255</td>\n",
       "      <td>0.317647</td>\n",
       "      <td>0.305882</td>\n",
       "      <td>0.335346</td>\n",
       "      <td>0.317647</td>\n",
       "      <td>0.305882</td>\n",
       "      <td>0</td>\n",
       "    </tr>\n",
       "    <tr>\n",
       "      <th>2</th>\n",
       "      <td>0.184641</td>\n",
       "      <td>0.170915</td>\n",
       "      <td>0.162092</td>\n",
       "      <td>0.263725</td>\n",
       "      <td>0.237255</td>\n",
       "      <td>0.174510</td>\n",
       "      <td>0.286275</td>\n",
       "      <td>0.243137</td>\n",
       "      <td>0.173203</td>\n",
       "      <td>0.286275</td>\n",
       "      <td>...</td>\n",
       "      <td>0.592157</td>\n",
       "      <td>0.596078</td>\n",
       "      <td>0.603922</td>\n",
       "      <td>0.601961</td>\n",
       "      <td>0.605882</td>\n",
       "      <td>0.615686</td>\n",
       "      <td>0.583660</td>\n",
       "      <td>0.587582</td>\n",
       "      <td>0.607190</td>\n",
       "      <td>0</td>\n",
       "    </tr>\n",
       "    <tr>\n",
       "      <th>3</th>\n",
       "      <td>0.760784</td>\n",
       "      <td>0.690196</td>\n",
       "      <td>0.611765</td>\n",
       "      <td>0.752941</td>\n",
       "      <td>0.686275</td>\n",
       "      <td>0.607843</td>\n",
       "      <td>0.756863</td>\n",
       "      <td>0.690196</td>\n",
       "      <td>0.611765</td>\n",
       "      <td>0.749020</td>\n",
       "      <td>...</td>\n",
       "      <td>0.427451</td>\n",
       "      <td>0.462745</td>\n",
       "      <td>0.450980</td>\n",
       "      <td>0.427451</td>\n",
       "      <td>0.463503</td>\n",
       "      <td>0.458824</td>\n",
       "      <td>0.427451</td>\n",
       "      <td>0.466667</td>\n",
       "      <td>0.470588</td>\n",
       "      <td>0</td>\n",
       "    </tr>\n",
       "    <tr>\n",
       "      <th>4</th>\n",
       "      <td>0.260850</td>\n",
       "      <td>0.264771</td>\n",
       "      <td>0.276536</td>\n",
       "      <td>0.279477</td>\n",
       "      <td>0.271239</td>\n",
       "      <td>0.275556</td>\n",
       "      <td>0.114641</td>\n",
       "      <td>0.102876</td>\n",
       "      <td>0.099374</td>\n",
       "      <td>0.062745</td>\n",
       "      <td>...</td>\n",
       "      <td>0.537255</td>\n",
       "      <td>0.511438</td>\n",
       "      <td>0.505882</td>\n",
       "      <td>0.552941</td>\n",
       "      <td>0.533333</td>\n",
       "      <td>0.521569</td>\n",
       "      <td>0.533333</td>\n",
       "      <td>0.513725</td>\n",
       "      <td>0.507908</td>\n",
       "      <td>0</td>\n",
       "    </tr>\n",
       "    <tr>\n",
       "      <th>...</th>\n",
       "      <td>...</td>\n",
       "      <td>...</td>\n",
       "      <td>...</td>\n",
       "      <td>...</td>\n",
       "      <td>...</td>\n",
       "      <td>...</td>\n",
       "      <td>...</td>\n",
       "      <td>...</td>\n",
       "      <td>...</td>\n",
       "      <td>...</td>\n",
       "      <td>...</td>\n",
       "      <td>...</td>\n",
       "      <td>...</td>\n",
       "      <td>...</td>\n",
       "      <td>...</td>\n",
       "      <td>...</td>\n",
       "      <td>...</td>\n",
       "      <td>...</td>\n",
       "      <td>...</td>\n",
       "      <td>...</td>\n",
       "      <td>...</td>\n",
       "    </tr>\n",
       "    <tr>\n",
       "      <th>94</th>\n",
       "      <td>1.000000</td>\n",
       "      <td>1.000000</td>\n",
       "      <td>1.000000</td>\n",
       "      <td>1.000000</td>\n",
       "      <td>1.000000</td>\n",
       "      <td>1.000000</td>\n",
       "      <td>1.000000</td>\n",
       "      <td>1.000000</td>\n",
       "      <td>1.000000</td>\n",
       "      <td>1.000000</td>\n",
       "      <td>...</td>\n",
       "      <td>1.000000</td>\n",
       "      <td>1.000000</td>\n",
       "      <td>1.000000</td>\n",
       "      <td>1.000000</td>\n",
       "      <td>1.000000</td>\n",
       "      <td>1.000000</td>\n",
       "      <td>1.000000</td>\n",
       "      <td>1.000000</td>\n",
       "      <td>1.000000</td>\n",
       "      <td>2</td>\n",
       "    </tr>\n",
       "    <tr>\n",
       "      <th>95</th>\n",
       "      <td>0.574510</td>\n",
       "      <td>0.658824</td>\n",
       "      <td>0.345098</td>\n",
       "      <td>0.574510</td>\n",
       "      <td>0.658824</td>\n",
       "      <td>0.343137</td>\n",
       "      <td>0.574510</td>\n",
       "      <td>0.658824</td>\n",
       "      <td>0.343137</td>\n",
       "      <td>0.574510</td>\n",
       "      <td>...</td>\n",
       "      <td>0.534641</td>\n",
       "      <td>0.584967</td>\n",
       "      <td>0.285621</td>\n",
       "      <td>0.563725</td>\n",
       "      <td>0.603922</td>\n",
       "      <td>0.308824</td>\n",
       "      <td>0.576471</td>\n",
       "      <td>0.605882</td>\n",
       "      <td>0.313725</td>\n",
       "      <td>2</td>\n",
       "    </tr>\n",
       "    <tr>\n",
       "      <th>96</th>\n",
       "      <td>1.000000</td>\n",
       "      <td>1.000000</td>\n",
       "      <td>1.000000</td>\n",
       "      <td>1.000000</td>\n",
       "      <td>1.000000</td>\n",
       "      <td>1.000000</td>\n",
       "      <td>1.000000</td>\n",
       "      <td>1.000000</td>\n",
       "      <td>1.000000</td>\n",
       "      <td>1.000000</td>\n",
       "      <td>...</td>\n",
       "      <td>1.000000</td>\n",
       "      <td>1.000000</td>\n",
       "      <td>1.000000</td>\n",
       "      <td>1.000000</td>\n",
       "      <td>1.000000</td>\n",
       "      <td>1.000000</td>\n",
       "      <td>1.000000</td>\n",
       "      <td>1.000000</td>\n",
       "      <td>1.000000</td>\n",
       "      <td>2</td>\n",
       "    </tr>\n",
       "    <tr>\n",
       "      <th>97</th>\n",
       "      <td>1.000000</td>\n",
       "      <td>1.000000</td>\n",
       "      <td>1.000000</td>\n",
       "      <td>1.000000</td>\n",
       "      <td>1.000000</td>\n",
       "      <td>1.000000</td>\n",
       "      <td>1.000000</td>\n",
       "      <td>1.000000</td>\n",
       "      <td>1.000000</td>\n",
       "      <td>1.000000</td>\n",
       "      <td>...</td>\n",
       "      <td>1.000000</td>\n",
       "      <td>1.000000</td>\n",
       "      <td>1.000000</td>\n",
       "      <td>1.000000</td>\n",
       "      <td>1.000000</td>\n",
       "      <td>1.000000</td>\n",
       "      <td>1.000000</td>\n",
       "      <td>1.000000</td>\n",
       "      <td>1.000000</td>\n",
       "      <td>2</td>\n",
       "    </tr>\n",
       "    <tr>\n",
       "      <th>98</th>\n",
       "      <td>0.182658</td>\n",
       "      <td>0.356863</td>\n",
       "      <td>0.150675</td>\n",
       "      <td>0.184183</td>\n",
       "      <td>0.359348</td>\n",
       "      <td>0.144837</td>\n",
       "      <td>0.187974</td>\n",
       "      <td>0.364444</td>\n",
       "      <td>0.133791</td>\n",
       "      <td>0.195595</td>\n",
       "      <td>...</td>\n",
       "      <td>0.095662</td>\n",
       "      <td>0.248497</td>\n",
       "      <td>0.071414</td>\n",
       "      <td>0.124131</td>\n",
       "      <td>0.277072</td>\n",
       "      <td>0.092758</td>\n",
       "      <td>0.149338</td>\n",
       "      <td>0.303992</td>\n",
       "      <td>0.117778</td>\n",
       "      <td>2</td>\n",
       "    </tr>\n",
       "  </tbody>\n",
       "</table>\n",
       "<p>99 rows × 67501 columns</p>\n",
       "</div>"
      ],
      "text/plain": [
       "           0         1         2         3         4         5         6  \\\n",
       "0   0.996078  0.996078  0.996078  0.996078  0.996078  0.996078  0.996078   \n",
       "1   0.717647  0.717647  0.717647  0.721569  0.721569  0.721569  0.723582   \n",
       "2   0.184641  0.170915  0.162092  0.263725  0.237255  0.174510  0.286275   \n",
       "3   0.760784  0.690196  0.611765  0.752941  0.686275  0.607843  0.756863   \n",
       "4   0.260850  0.264771  0.276536  0.279477  0.271239  0.275556  0.114641   \n",
       "..       ...       ...       ...       ...       ...       ...       ...   \n",
       "94  1.000000  1.000000  1.000000  1.000000  1.000000  1.000000  1.000000   \n",
       "95  0.574510  0.658824  0.345098  0.574510  0.658824  0.343137  0.574510   \n",
       "96  1.000000  1.000000  1.000000  1.000000  1.000000  1.000000  1.000000   \n",
       "97  1.000000  1.000000  1.000000  1.000000  1.000000  1.000000  1.000000   \n",
       "98  0.182658  0.356863  0.150675  0.184183  0.359348  0.144837  0.187974   \n",
       "\n",
       "           7         8         9  ...     67491     67492     67493     67494  \\\n",
       "0   0.996078  0.996078  0.996078  ...  0.996078  0.996078  0.996078  0.996078   \n",
       "1   0.723582  0.723582  0.725490  ...  0.338209  0.320562  0.308797  0.337255   \n",
       "2   0.243137  0.173203  0.286275  ...  0.592157  0.596078  0.603922  0.601961   \n",
       "3   0.690196  0.611765  0.749020  ...  0.427451  0.462745  0.450980  0.427451   \n",
       "4   0.102876  0.099374  0.062745  ...  0.537255  0.511438  0.505882  0.552941   \n",
       "..       ...       ...       ...  ...       ...       ...       ...       ...   \n",
       "94  1.000000  1.000000  1.000000  ...  1.000000  1.000000  1.000000  1.000000   \n",
       "95  0.658824  0.343137  0.574510  ...  0.534641  0.584967  0.285621  0.563725   \n",
       "96  1.000000  1.000000  1.000000  ...  1.000000  1.000000  1.000000  1.000000   \n",
       "97  1.000000  1.000000  1.000000  ...  1.000000  1.000000  1.000000  1.000000   \n",
       "98  0.364444  0.133791  0.195595  ...  0.095662  0.248497  0.071414  0.124131   \n",
       "\n",
       "       67495     67496     67497     67498     67499  Target  \n",
       "0   0.996078  0.996078  0.996078  0.996078  0.996078       0  \n",
       "1   0.317647  0.305882  0.335346  0.317647  0.305882       0  \n",
       "2   0.605882  0.615686  0.583660  0.587582  0.607190       0  \n",
       "3   0.463503  0.458824  0.427451  0.466667  0.470588       0  \n",
       "4   0.533333  0.521569  0.533333  0.513725  0.507908       0  \n",
       "..       ...       ...       ...       ...       ...     ...  \n",
       "94  1.000000  1.000000  1.000000  1.000000  1.000000       2  \n",
       "95  0.603922  0.308824  0.576471  0.605882  0.313725       2  \n",
       "96  1.000000  1.000000  1.000000  1.000000  1.000000       2  \n",
       "97  1.000000  1.000000  1.000000  1.000000  1.000000       2  \n",
       "98  0.277072  0.092758  0.149338  0.303992  0.117778       2  \n",
       "\n",
       "[99 rows x 67501 columns]"
      ]
     },
     "execution_count": 7,
     "metadata": {},
     "output_type": "execute_result"
    }
   ],
   "source": [
    "categories = ['Cars', 'Ice cream cone', 'Cricket ball']\n",
    "\n",
    "flat_data_arr=[]\n",
    "target_arr=[]\n",
    "datadir='E:\\Ripki Alfinnur\\Belajar_Ai\\KMMI\\Klasifikasi Citra\\Dataset Image Classfication'\n",
    "\n",
    "for i in categories:\n",
    "  print(f'loading... category : {i}')\n",
    "  path=os.path.join(datadir,i)\n",
    "  for img in os.listdir(path):\n",
    "    img_array=imread(os.path.join(path,img))\n",
    "    img_resized=resize(img_array,(150,150,3))\n",
    "    flat_data_arr.append(img_resized.flatten())\n",
    "    target_arr.append(categories.index(i))\n",
    "  print(f'loaded category:{i} selesai')\n",
    "\n",
    "flat_data=np.array(flat_data_arr)\n",
    "target=np.array(target_arr)\n",
    "df=pd.DataFrame(flat_data)\n",
    "df['Target']=target\n",
    "df"
   ]
  },
  {
   "cell_type": "code",
   "execution_count": 8,
   "metadata": {
    "colab": {
     "base_uri": "https://localhost:8080/"
    },
    "id": "Xf-A3BP82bWC",
    "outputId": "b28d8587-54f9-4aca-b7ed-ac99e2e2aa96"
   },
   "outputs": [
    {
     "name": "stdout",
     "output_type": "stream",
     "text": [
      "Proses memisahkan data selesai\n"
     ]
    }
   ],
   "source": [
    "# membagi dataset menjadi data train dan data validasi\n",
    "x=df.iloc[:,:-1]\n",
    "y=df.iloc[:,-1]\n",
    "x_train,x_test,y_train,y_test=train_test_split(x,y,test_size=0.20,\n",
    "                                               random_state=77,stratify=y)\n",
    "print('Proses memisahkan data selesai')"
   ]
  },
  {
   "cell_type": "code",
   "execution_count": 10,
   "metadata": {
    "colab": {
     "base_uri": "https://localhost:8080/"
    },
    "id": "ktgeRcvl9aCD",
    "outputId": "48cc4f05-b66c-408d-fa38-f346c69869ba"
   },
   "outputs": [
    {
     "name": "stdout",
     "output_type": "stream",
     "text": [
      "Proses pelatihan model...\n",
      "Selesai...\n"
     ]
    },
    {
     "data": {
      "text/plain": [
       "{'C': 10, 'gamma': 0.0001, 'kernel': 'rbf'}"
      ]
     },
     "execution_count": 10,
     "metadata": {},
     "output_type": "execute_result"
    }
   ],
   "source": [
    "# proses cross validasi untuk mencari parameter terbaik\n",
    "param_grid={'C':[0.1,1,10,100],'gamma':[0.0001,0.001,0.1,1],\n",
    "            'kernel':['rbf','poly']}\n",
    "            \n",
    "svc=svm.SVC(probability=True)\n",
    "print(\"Proses pelatihan model...\")\n",
    "model=GridSearchCV(svc,param_grid)\n",
    "model.fit(x_train,y_train)\n",
    "print('Selesai...')\n",
    "model.best_params_"
   ]
  },
  {
   "cell_type": "code",
   "execution_count": 13,
   "metadata": {
    "colab": {
     "base_uri": "https://localhost:8080/"
    },
    "id": "8qh9ro-C9iDk",
    "outputId": "d9d9f13a-908e-4daf-f99d-ad0cc9ae9fc0"
   },
   "outputs": [
    {
     "name": "stdout",
     "output_type": "stream",
     "text": [
      "Prediksi label : [0 0 2 2 0 2 1 2 0 1 2 2 0 1 2 0 0 2 1 1]\n",
      "Ground Truth   : [0 0 2 2 0 1 1 2 0 1 2 2 0 1 2 0 0 0 1 1]\n",
      "Akurasi model  : 90.0%\n"
     ]
    }
   ],
   "source": [
    "# hasil prediksi data validasi\n",
    "y_pred = model.predict(x_test)\n",
    "print(f'Prediksi label : {y_pred}')\n",
    "print(f'Ground Truth   : {np.array(y_test)}')\n",
    "print(f'Akurasi model  : {accuracy_score(y_pred,y_test)*100}%')"
   ]
  },
  {
   "cell_type": "code",
   "execution_count": 14,
   "metadata": {
    "colab": {
     "base_uri": "https://localhost:8080/"
    },
    "id": "4FDl9cwB9spy",
    "outputId": "82a2c942-fe0d-4376-c7df-7463eebd2d36"
   },
   "outputs": [
    {
     "name": "stdout",
     "output_type": "stream",
     "text": [
      "Model telah disimpan.\n"
     ]
    }
   ],
   "source": [
    "# menyimpan model yang telah dilatih\n",
    "pickle.dump(model,open('img_model.p','wb'))\n",
    "print(f'Model telah disimpan.')"
   ]
  },
  {
   "cell_type": "code",
   "execution_count": 15,
   "metadata": {
    "colab": {
     "base_uri": "https://localhost:8080/",
     "height": 337
    },
    "id": "shtt20Nx9xMH",
    "outputId": "eae5f0bc-1c5b-4bab-b89f-c0e80dac0fea"
   },
   "outputs": [
    {
     "data": {
      "image/png": "[encoded data removed]",
      "text/plain": [
       "<Figure size 432x288 with 1 Axes>"
      ]
     },
     "metadata": {
      "needs_background": "light"
     },
     "output_type": "display_data"
    },
    {
     "name": "stdout",
     "output_type": "stream",
     "text": [
      "Cars = 2.139016420151775%\n",
      "Ice cream cone = 92.69359006335131%\n",
      "Cricket ball = 5.167393516496911%\n",
      "Gambar tesebut merupakan : Ice cream cone\n"
     ]
    }
   ],
   "source": [
    "# menggunakan model untuk memprediksi label data lain\n",
    "model = pickle.load(open('img_model.p','rb'))\n",
    "img=imread('Strawberry_ice_cream_cone.jpg')\n",
    "plt.imshow(img)\n",
    "plt.show()\n",
    "\n",
    "img_resize=resize(img,(150,150,3))\n",
    "l=[img_resize.flatten()]\n",
    "probability=model.predict_proba(l)\n",
    "\n",
    "for ind,val in enumerate(categories):\n",
    "  print(f'{val} = {probability[0][ind]*100}%')\n",
    "\n",
    "print(\"Gambar tesebut merupakan : \"+ categories[model.predict(l)[0]])"
   ]
  },
  {
   "cell_type": "code",
   "execution_count": null,
   "metadata": {
    "id": "3tQfSNkhAIz-"
   },
   "outputs": [],
   "source": []
  }
 ],
 "metadata": {
  "colab": {
   "name": "Klasifikasi Citra.ipynb",
   "provenance": []
  },
  "kernelspec": {
   "display_name": "Python 3",
   "language": "python",
   "name": "python3"
  },
  "language_info": {
   "codemirror_mode": {
    "name": "ipython",
    "version": 3
   },
   "file_extension": ".py",
   "mimetype": "text/x-python",
   "name": "python",
   "nbconvert_exporter": "python",
   "pygments_lexer": "ipython3",
   "version": "3.8.5"
  }
 },
 "nbformat": 4,
 "nbformat_minor": 1
}
