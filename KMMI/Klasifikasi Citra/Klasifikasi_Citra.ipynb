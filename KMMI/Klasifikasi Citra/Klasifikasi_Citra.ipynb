{
 "cells": [
  {
   "cell_type": "markdown",
   "metadata": {},
   "source": [
    "# Klasifikasi Citra\n",
    "## Nama : Rifqi Alfinnur Charisma\n",
    "## NIM : 19104031"
   ]
  },
  {
   "cell_type": "code",
   "execution_count": 29,
   "metadata": {},
   "outputs": [],
   "source": [
    "# import library yang dibutuhkan\n",
    "import pandas as pd\n",
    "from sklearn import svm\n",
    "from sklearn.model_selection import GridSearchCV\n",
    "import os\n",
    "import matplotlib.pyplot as plt\n",
    "from skimage.transform import resize\n",
    "from skimage.io import imread\n",
    "import numpy as np\n",
    "from sklearn.model_selection import train_test_split\n",
    "from sklearn.metrics import classification_report,accuracy_score,confusion_matrix\n",
    "import pickle"
   ]
  },
  {
   "cell_type": "code",
   "execution_count": 2,
   "metadata": {
    "colab": {
     "base_uri": "https://localhost:8080/",
     "height": 541
    },
    "id": "8feYg5Td1TLz",
    "outputId": "88e6f39d-94d8-46ad-a7df-5d91ca221e4c"
   },
   "outputs": [
    {
     "name": "stdout",
     "output_type": "stream",
     "text": [
      "loading... category : Cars\n",
      "loaded category:Cars selesai\n",
      "loading... category : Ice cream cone\n",
      "loaded category:Ice cream cone selesai\n",
      "loading... category : Cricket ball\n",
      "loaded category:Cricket ball selesai\n"
     ]
    },
    {
     "data": {
      "text/html": [
       "<div>\n",
       "<style scoped>\n",
       "    .dataframe tbody tr th:only-of-type {\n",
       "        vertical-align: middle;\n",
       "    }\n",
       "\n",
       "    .dataframe tbody tr th {\n",
       "        vertical-align: top;\n",
       "    }\n",
       "\n",
       "    .dataframe thead th {\n",
       "        text-align: right;\n",
       "    }\n",
       "</style>\n",
       "<table border=\"1\" class=\"dataframe\">\n",
       "  <thead>\n",
       "    <tr style=\"text-align: right;\">\n",
       "      <th></th>\n",
       "      <th>0</th>\n",
       "      <th>1</th>\n",
       "      <th>2</th>\n",
       "      <th>3</th>\n",
       "      <th>4</th>\n",
       "      <th>5</th>\n",
       "      <th>6</th>\n",
       "      <th>7</th>\n",
       "      <th>8</th>\n",
       "      <th>9</th>\n",
       "      <th>...</th>\n",
       "      <th>67491</th>\n",
       "      <th>67492</th>\n",
       "      <th>67493</th>\n",
       "      <th>67494</th>\n",
       "      <th>67495</th>\n",
       "      <th>67496</th>\n",
       "      <th>67497</th>\n",
       "      <th>67498</th>\n",
       "      <th>67499</th>\n",
       "      <th>Target</th>\n",
       "    </tr>\n",
       "  </thead>\n",
       "  <tbody>\n",
       "    <tr>\n",
       "      <th>0</th>\n",
       "      <td>0.996078</td>\n",
       "      <td>0.996078</td>\n",
       "      <td>0.996078</td>\n",
       "      <td>0.996078</td>\n",
       "      <td>0.996078</td>\n",
       "      <td>0.996078</td>\n",
       "      <td>0.996078</td>\n",
       "      <td>0.996078</td>\n",
       "      <td>0.996078</td>\n",
       "      <td>0.996078</td>\n",
       "      <td>...</td>\n",
       "      <td>0.996078</td>\n",
       "      <td>0.996078</td>\n",
       "      <td>0.996078</td>\n",
       "      <td>0.996078</td>\n",
       "      <td>0.996078</td>\n",
       "      <td>0.996078</td>\n",
       "      <td>0.996078</td>\n",
       "      <td>0.996078</td>\n",
       "      <td>0.996078</td>\n",
       "      <td>0</td>\n",
       "    </tr>\n",
       "    <tr>\n",
       "      <th>1</th>\n",
       "      <td>0.717647</td>\n",
       "      <td>0.717647</td>\n",
       "      <td>0.717647</td>\n",
       "      <td>0.721569</td>\n",
       "      <td>0.721569</td>\n",
       "      <td>0.721569</td>\n",
       "      <td>0.723582</td>\n",
       "      <td>0.723582</td>\n",
       "      <td>0.723582</td>\n",
       "      <td>0.725490</td>\n",
       "      <td>...</td>\n",
       "      <td>0.338209</td>\n",
       "      <td>0.320562</td>\n",
       "      <td>0.308797</td>\n",
       "      <td>0.337255</td>\n",
       "      <td>0.317647</td>\n",
       "      <td>0.305882</td>\n",
       "      <td>0.335346</td>\n",
       "      <td>0.317647</td>\n",
       "      <td>0.305882</td>\n",
       "      <td>0</td>\n",
       "    </tr>\n",
       "    <tr>\n",
       "      <th>2</th>\n",
       "      <td>0.184641</td>\n",
       "      <td>0.170915</td>\n",
       "      <td>0.162092</td>\n",
       "      <td>0.263725</td>\n",
       "      <td>0.237255</td>\n",
       "      <td>0.174510</td>\n",
       "      <td>0.286275</td>\n",
       "      <td>0.243137</td>\n",
       "      <td>0.173203</td>\n",
       "      <td>0.286275</td>\n",
       "      <td>...</td>\n",
       "      <td>0.592157</td>\n",
       "      <td>0.596078</td>\n",
       "      <td>0.603922</td>\n",
       "      <td>0.601961</td>\n",
       "      <td>0.605882</td>\n",
       "      <td>0.615686</td>\n",
       "      <td>0.583660</td>\n",
       "      <td>0.587582</td>\n",
       "      <td>0.607190</td>\n",
       "      <td>0</td>\n",
       "    </tr>\n",
       "    <tr>\n",
       "      <th>3</th>\n",
       "      <td>0.760784</td>\n",
       "      <td>0.690196</td>\n",
       "      <td>0.611765</td>\n",
       "      <td>0.752941</td>\n",
       "      <td>0.686275</td>\n",
       "      <td>0.607843</td>\n",
       "      <td>0.756863</td>\n",
       "      <td>0.690196</td>\n",
       "      <td>0.611765</td>\n",
       "      <td>0.749020</td>\n",
       "      <td>...</td>\n",
       "      <td>0.427451</td>\n",
       "      <td>0.462745</td>\n",
       "      <td>0.450980</td>\n",
       "      <td>0.427451</td>\n",
       "      <td>0.463503</td>\n",
       "      <td>0.458824</td>\n",
       "      <td>0.427451</td>\n",
       "      <td>0.466667</td>\n",
       "      <td>0.470588</td>\n",
       "      <td>0</td>\n",
       "    </tr>\n",
       "    <tr>\n",
       "      <th>4</th>\n",
       "      <td>0.260850</td>\n",
       "      <td>0.264771</td>\n",
       "      <td>0.276536</td>\n",
       "      <td>0.279477</td>\n",
       "      <td>0.271239</td>\n",
       "      <td>0.275556</td>\n",
       "      <td>0.114641</td>\n",
       "      <td>0.102876</td>\n",
       "      <td>0.099374</td>\n",
       "      <td>0.062745</td>\n",
       "      <td>...</td>\n",
       "      <td>0.537255</td>\n",
       "      <td>0.511438</td>\n",
       "      <td>0.505882</td>\n",
       "      <td>0.552941</td>\n",
       "      <td>0.533333</td>\n",
       "      <td>0.521569</td>\n",
       "      <td>0.533333</td>\n",
       "      <td>0.513725</td>\n",
       "      <td>0.507908</td>\n",
       "      <td>0</td>\n",
       "    </tr>\n",
       "    <tr>\n",
       "      <th>...</th>\n",
       "      <td>...</td>\n",
       "      <td>...</td>\n",
       "      <td>...</td>\n",
       "      <td>...</td>\n",
       "      <td>...</td>\n",
       "      <td>...</td>\n",
       "      <td>...</td>\n",
       "      <td>...</td>\n",
       "      <td>...</td>\n",
       "      <td>...</td>\n",
       "      <td>...</td>\n",
       "      <td>...</td>\n",
       "      <td>...</td>\n",
       "      <td>...</td>\n",
       "      <td>...</td>\n",
       "      <td>...</td>\n",
       "      <td>...</td>\n",
       "      <td>...</td>\n",
       "      <td>...</td>\n",
       "      <td>...</td>\n",
       "      <td>...</td>\n",
       "    </tr>\n",
       "    <tr>\n",
       "      <th>94</th>\n",
       "      <td>1.000000</td>\n",
       "      <td>1.000000</td>\n",
       "      <td>1.000000</td>\n",
       "      <td>1.000000</td>\n",
       "      <td>1.000000</td>\n",
       "      <td>1.000000</td>\n",
       "      <td>1.000000</td>\n",
       "      <td>1.000000</td>\n",
       "      <td>1.000000</td>\n",
       "      <td>1.000000</td>\n",
       "      <td>...</td>\n",
       "      <td>1.000000</td>\n",
       "      <td>1.000000</td>\n",
       "      <td>1.000000</td>\n",
       "      <td>1.000000</td>\n",
       "      <td>1.000000</td>\n",
       "      <td>1.000000</td>\n",
       "      <td>1.000000</td>\n",
       "      <td>1.000000</td>\n",
       "      <td>1.000000</td>\n",
       "      <td>2</td>\n",
       "    </tr>\n",
       "    <tr>\n",
       "      <th>95</th>\n",
       "      <td>0.574510</td>\n",
       "      <td>0.658824</td>\n",
       "      <td>0.345098</td>\n",
       "      <td>0.574510</td>\n",
       "      <td>0.658824</td>\n",
       "      <td>0.343137</td>\n",
       "      <td>0.574510</td>\n",
       "      <td>0.658824</td>\n",
       "      <td>0.343137</td>\n",
       "      <td>0.574510</td>\n",
       "      <td>...</td>\n",
       "      <td>0.534641</td>\n",
       "      <td>0.584967</td>\n",
       "      <td>0.285621</td>\n",
       "      <td>0.563725</td>\n",
       "      <td>0.603922</td>\n",
       "      <td>0.308824</td>\n",
       "      <td>0.576471</td>\n",
       "      <td>0.605882</td>\n",
       "      <td>0.313725</td>\n",
       "      <td>2</td>\n",
       "    </tr>\n",
       "    <tr>\n",
       "      <th>96</th>\n",
       "      <td>1.000000</td>\n",
       "      <td>1.000000</td>\n",
       "      <td>1.000000</td>\n",
       "      <td>1.000000</td>\n",
       "      <td>1.000000</td>\n",
       "      <td>1.000000</td>\n",
       "      <td>1.000000</td>\n",
       "      <td>1.000000</td>\n",
       "      <td>1.000000</td>\n",
       "      <td>1.000000</td>\n",
       "      <td>...</td>\n",
       "      <td>1.000000</td>\n",
       "      <td>1.000000</td>\n",
       "      <td>1.000000</td>\n",
       "      <td>1.000000</td>\n",
       "      <td>1.000000</td>\n",
       "      <td>1.000000</td>\n",
       "      <td>1.000000</td>\n",
       "      <td>1.000000</td>\n",
       "      <td>1.000000</td>\n",
       "      <td>2</td>\n",
       "    </tr>\n",
       "    <tr>\n",
       "      <th>97</th>\n",
       "      <td>1.000000</td>\n",
       "      <td>1.000000</td>\n",
       "      <td>1.000000</td>\n",
       "      <td>1.000000</td>\n",
       "      <td>1.000000</td>\n",
       "      <td>1.000000</td>\n",
       "      <td>1.000000</td>\n",
       "      <td>1.000000</td>\n",
       "      <td>1.000000</td>\n",
       "      <td>1.000000</td>\n",
       "      <td>...</td>\n",
       "      <td>1.000000</td>\n",
       "      <td>1.000000</td>\n",
       "      <td>1.000000</td>\n",
       "      <td>1.000000</td>\n",
       "      <td>1.000000</td>\n",
       "      <td>1.000000</td>\n",
       "      <td>1.000000</td>\n",
       "      <td>1.000000</td>\n",
       "      <td>1.000000</td>\n",
       "      <td>2</td>\n",
       "    </tr>\n",
       "    <tr>\n",
       "      <th>98</th>\n",
       "      <td>0.182658</td>\n",
       "      <td>0.356863</td>\n",
       "      <td>0.150675</td>\n",
       "      <td>0.184183</td>\n",
       "      <td>0.359348</td>\n",
       "      <td>0.144837</td>\n",
       "      <td>0.187974</td>\n",
       "      <td>0.364444</td>\n",
       "      <td>0.133791</td>\n",
       "      <td>0.195595</td>\n",
       "      <td>...</td>\n",
       "      <td>0.095662</td>\n",
       "      <td>0.248497</td>\n",
       "      <td>0.071414</td>\n",
       "      <td>0.124131</td>\n",
       "      <td>0.277072</td>\n",
       "      <td>0.092758</td>\n",
       "      <td>0.149338</td>\n",
       "      <td>0.303992</td>\n",
       "      <td>0.117778</td>\n",
       "      <td>2</td>\n",
       "    </tr>\n",
       "  </tbody>\n",
       "</table>\n",
       "<p>99 rows × 67501 columns</p>\n",
       "</div>"
      ],
      "text/plain": [
       "           0         1         2         3         4         5         6  \\\n",
       "0   0.996078  0.996078  0.996078  0.996078  0.996078  0.996078  0.996078   \n",
       "1   0.717647  0.717647  0.717647  0.721569  0.721569  0.721569  0.723582   \n",
       "2   0.184641  0.170915  0.162092  0.263725  0.237255  0.174510  0.286275   \n",
       "3   0.760784  0.690196  0.611765  0.752941  0.686275  0.607843  0.756863   \n",
       "4   0.260850  0.264771  0.276536  0.279477  0.271239  0.275556  0.114641   \n",
       "..       ...       ...       ...       ...       ...       ...       ...   \n",
       "94  1.000000  1.000000  1.000000  1.000000  1.000000  1.000000  1.000000   \n",
       "95  0.574510  0.658824  0.345098  0.574510  0.658824  0.343137  0.574510   \n",
       "96  1.000000  1.000000  1.000000  1.000000  1.000000  1.000000  1.000000   \n",
       "97  1.000000  1.000000  1.000000  1.000000  1.000000  1.000000  1.000000   \n",
       "98  0.182658  0.356863  0.150675  0.184183  0.359348  0.144837  0.187974   \n",
       "\n",
       "           7         8         9  ...     67491     67492     67493     67494  \\\n",
       "0   0.996078  0.996078  0.996078  ...  0.996078  0.996078  0.996078  0.996078   \n",
       "1   0.723582  0.723582  0.725490  ...  0.338209  0.320562  0.308797  0.337255   \n",
       "2   0.243137  0.173203  0.286275  ...  0.592157  0.596078  0.603922  0.601961   \n",
       "3   0.690196  0.611765  0.749020  ...  0.427451  0.462745  0.450980  0.427451   \n",
       "4   0.102876  0.099374  0.062745  ...  0.537255  0.511438  0.505882  0.552941   \n",
       "..       ...       ...       ...  ...       ...       ...       ...       ...   \n",
       "94  1.000000  1.000000  1.000000  ...  1.000000  1.000000  1.000000  1.000000   \n",
       "95  0.658824  0.343137  0.574510  ...  0.534641  0.584967  0.285621  0.563725   \n",
       "96  1.000000  1.000000  1.000000  ...  1.000000  1.000000  1.000000  1.000000   \n",
       "97  1.000000  1.000000  1.000000  ...  1.000000  1.000000  1.000000  1.000000   \n",
       "98  0.364444  0.133791  0.195595  ...  0.095662  0.248497  0.071414  0.124131   \n",
       "\n",
       "       67495     67496     67497     67498     67499  Target  \n",
       "0   0.996078  0.996078  0.996078  0.996078  0.996078       0  \n",
       "1   0.317647  0.305882  0.335346  0.317647  0.305882       0  \n",
       "2   0.605882  0.615686  0.583660  0.587582  0.607190       0  \n",
       "3   0.463503  0.458824  0.427451  0.466667  0.470588       0  \n",
       "4   0.533333  0.521569  0.533333  0.513725  0.507908       0  \n",
       "..       ...       ...       ...       ...       ...     ...  \n",
       "94  1.000000  1.000000  1.000000  1.000000  1.000000       2  \n",
       "95  0.603922  0.308824  0.576471  0.605882  0.313725       2  \n",
       "96  1.000000  1.000000  1.000000  1.000000  1.000000       2  \n",
       "97  1.000000  1.000000  1.000000  1.000000  1.000000       2  \n",
       "98  0.277072  0.092758  0.149338  0.303992  0.117778       2  \n",
       "\n",
       "[99 rows x 67501 columns]"
      ]
     },
     "execution_count": 2,
     "metadata": {},
     "output_type": "execute_result"
    }
   ],
   "source": [
    "categories = ['Cars', 'Ice cream cone', 'Cricket ball']\n",
    "\n",
    "flat_data_arr=[]\n",
    "target_arr=[]\n",
    "datadir='E:\\Ripki Alfinnur\\Belajar_Ai\\KMMI\\Klasifikasi Citra\\Dataset Image Classfication'\n",
    "\n",
    "for i in categories:\n",
    "  print(f'loading... category : {i}')\n",
    "  path=os.path.join(datadir,i)\n",
    "  for img in os.listdir(path):\n",
    "    img_array=imread(os.path.join(path,img))\n",
    "    img_resized=resize(img_array,(150,150,3))\n",
    "    flat_data_arr.append(img_resized.flatten())\n",
    "    target_arr.append(categories.index(i))\n",
    "  print(f'loaded category:{i} selesai')\n",
    "\n",
    "flat_data=np.array(flat_data_arr)\n",
    "target=np.array(target_arr)\n",
    "df=pd.DataFrame(flat_data)\n",
    "df['Target']=target\n",
    "df"
   ]
  },
  {
   "cell_type": "code",
   "execution_count": 5,
   "metadata": {},
   "outputs": [
    {
     "data": {
      "image/png": "[encoded data removed]",
      "text/plain": [
       "<Figure size 432x288 with 1 Axes>"
      ]
     },
     "metadata": {
      "needs_background": "light"
     },
     "output_type": "display_data"
    }
   ],
   "source": [
    "# Histogram\n",
    "import cv2\n",
    "import numpy as np\n",
    "#from matplotlib import pyplot as plt\n",
    " \n",
    "img = cv2.imread('Dataset Image Classfication/Cars/6.jpg',0)\n",
    "plt.hist(img.ravel(),256,[0,256]);\n",
    "plt.show()"
   ]
  },
  {
   "cell_type": "code",
   "execution_count": 8,
   "metadata": {},
   "outputs": [
    {
     "data": {
      "image/png": "[encoded data removed]",
      "text/plain": [
       "<Figure size 432x288 with 4 Axes>"
      ]
     },
     "metadata": {
      "needs_background": "light"
     },
     "output_type": "display_data"
    }
   ],
   "source": [
    "# Histogram dengan lokasi citra tertentu\n",
    "\n",
    "# create a mask\n",
    "mask = np.zeros(img.shape[:2], np.uint8)\n",
    "mask[100:300, 100:400] = 255\n",
    "masked_img = cv2.bitwise_and(img,img,mask = mask)\n",
    " \n",
    "# Calculate histogram with mask and without mask\n",
    "# Check third argument for mask\n",
    "hist_full = cv2.calcHist([img],[0],None,[256],[0,256])\n",
    "hist_mask = cv2.calcHist([img],[0],mask,[256],[0,256])\n",
    " \n",
    "plt.subplot(221), plt.imshow(img, 'gray')\n",
    "plt.subplot(222), plt.imshow(mask,'gray')\n",
    "plt.subplot(223), plt.imshow(masked_img, 'gray')\n",
    "plt.subplot(224), plt.plot(hist_full), plt.plot(hist_mask)\n",
    "plt.xlim([0,256])\n",
    " \n",
    "plt.show()"
   ]
  },
  {
   "cell_type": "code",
   "execution_count": 9,
   "metadata": {
    "colab": {
     "base_uri": "https://localhost:8080/"
    },
    "id": "Xf-A3BP82bWC",
    "outputId": "b28d8587-54f9-4aca-b7ed-ac99e2e2aa96"
   },
   "outputs": [
    {
     "name": "stdout",
     "output_type": "stream",
     "text": [
      "Proses memisahkan data selesai\n"
     ]
    }
   ],
   "source": [
    "# membagi dataset menjadi data train dan data validasi\n",
    "x=df.iloc[:,:-1]\n",
    "y=df.iloc[:,-1]\n",
    "x_train,x_test,y_train,y_test=train_test_split(x,y,test_size=0.20,\n",
    "                                               random_state=77,stratify=y)\n",
    "print('Proses memisahkan data selesai')"
   ]
  },
  {
   "cell_type": "code",
   "execution_count": 10,
   "metadata": {
    "colab": {
     "base_uri": "https://localhost:8080/"
    },
    "id": "ktgeRcvl9aCD",
    "outputId": "48cc4f05-b66c-408d-fa38-f346c69869ba"
   },
   "outputs": [
    {
     "name": "stdout",
     "output_type": "stream",
     "text": [
      "Proses pelatihan model...\n",
      "Selesai...\n"
     ]
    },
    {
     "data": {
      "text/plain": [
       "{'C': 10, 'gamma': 0.0001, 'kernel': 'rbf'}"
      ]
     },
     "execution_count": 10,
     "metadata": {},
     "output_type": "execute_result"
    }
   ],
   "source": [
    "# proses cross validasi untuk mencari parameter terbaik\n",
    "param_grid={'C':[0.1,1,10,100],'gamma':[0.0001,0.001,0.1,1],\n",
    "            'kernel':['rbf','poly']}\n",
    "            \n",
    "svc=svm.SVC(probability=True)\n",
    "print(\"Proses pelatihan model...\")\n",
    "model=GridSearchCV(svc,param_grid)\n",
    "model.fit(x_train,y_train)\n",
    "print('Selesai...')\n",
    "model.best_params_"
   ]
  },
  {
   "cell_type": "code",
   "execution_count": 31,
   "metadata": {},
   "outputs": [
    {
     "name": "stdout",
     "output_type": "stream",
     "text": [
      "Selesai...\n"
     ]
    }
   ],
   "source": [
    "model = svm.SVC(C=10, gamma=0.0001, kernel='rbf',\n",
    "             probability = True)\n",
    "model.fit(x_train,y_train)\n",
    "print('Selesai...')"
   ]
  },
  {
   "cell_type": "code",
   "execution_count": 13,
   "metadata": {
    "colab": {
     "base_uri": "https://localhost:8080/"
    },
    "id": "8qh9ro-C9iDk",
    "outputId": "d9d9f13a-908e-4daf-f99d-ad0cc9ae9fc0"
   },
   "outputs": [
    {
     "name": "stdout",
     "output_type": "stream",
     "text": [
      "Prediksi label : [0 0 2 2 0 2 1 2 0 1 2 2 0 1 2 0 0 2 1 1]\n",
      "Ground Truth   : [0 0 2 2 0 1 1 2 0 1 2 2 0 1 2 0 0 0 1 1]\n",
      "Akurasi model  : 90.0%\n"
     ]
    }
   ],
   "source": [
    "# hasil prediksi data validasi\n",
    "y_pred = model.predict(x_test)\n",
    "print(f'Prediksi label : {y_pred}')\n",
    "print(f'Ground Truth   : {np.array(y_test)}')\n",
    "print(f'Akurasi model  : {accuracy_score(y_pred,y_test)*100}%')"
   ]
  },
  {
   "cell_type": "code",
   "execution_count": 14,
   "metadata": {
    "colab": {
     "base_uri": "https://localhost:8080/"
    },
    "id": "4FDl9cwB9spy",
    "outputId": "82a2c942-fe0d-4376-c7df-7463eebd2d36"
   },
   "outputs": [
    {
     "name": "stdout",
     "output_type": "stream",
     "text": [
      "Model telah disimpan.\n"
     ]
    }
   ],
   "source": [
    "# menyimpan model yang telah dilatih\n",
    "pickle.dump(model,open('img_model.p','wb'))\n",
    "print(f'Model telah disimpan.')"
   ]
  },
  {
   "cell_type": "markdown",
   "metadata": {},
   "source": [
    "## Load The Model"
   ]
  },
  {
   "cell_type": "code",
   "execution_count": 5,
   "metadata": {
    "colab": {
     "base_uri": "https://localhost:8080/",
     "height": 337
    },
    "id": "shtt20Nx9xMH",
    "outputId": "eae5f0bc-1c5b-4bab-b89f-c0e80dac0fea"
   },
   "outputs": [
    {
     "data": {
      "image/png": "[encoded data removed]",
      "text/plain": [
       "<Figure size 432x288 with 1 Axes>"
      ]
     },
     "metadata": {
      "needs_background": "light"
     },
     "output_type": "display_data"
    },
    {
     "name": "stdout",
     "output_type": "stream",
     "text": [
      "Cars = 2.139016420151775%\n",
      "Ice cream cone = 92.69359006335131%\n",
      "Cricket ball = 5.167393516496911%\n",
      "Gambar tesebut merupakan : Ice cream cone\n"
     ]
    }
   ],
   "source": [
    "# menggunakan model untuk memprediksi label data lain\n",
    "import pickle\n",
    "import matplotlib.pyplot as plt\n",
    "from skimage.transform import resize\n",
    "from skimage.io import imread\n",
    "\n",
    "categories = ['Cars', 'Ice cream cone', 'Cricket ball']\n",
    "\n",
    "model = pickle.load(open('img_model.p','rb'))\n",
    "img=imread('Strawberry_ice_cream_cone.jpg')\n",
    "plt.imshow(img)\n",
    "plt.show()\n",
    "\n",
    "img_resize=resize(img,(150,150,3))\n",
    "l=[img_resize.flatten()]\n",
    "probability=model.predict_proba(l)\n",
    "\n",
    "for ind,val in enumerate(categories):\n",
    "  print(f'{val} = {probability[0][ind]*100}%')\n",
    "\n",
    "print(\"Gambar tesebut merupakan : \"+ categories[model.predict(l)[0]])"
   ]
  },
  {
   "cell_type": "markdown",
   "metadata": {
    "id": "3tQfSNkhAIz-"
   },
   "source": [
    "## Mencoba Visualisasi"
   ]
  },
  {
   "cell_type": "code",
   "execution_count": 26,
   "metadata": {},
   "outputs": [
    {
     "name": "stdout",
     "output_type": "stream",
     "text": [
      "          0         1         2         3         4         5         6  \\\n",
      "0  0.996078  0.996078  0.996078  0.996078  0.996078  0.996078  0.996078   \n",
      "1  0.717647  0.717647  0.717647  0.721569  0.721569  0.721569  0.723582   \n",
      "2  0.184641  0.170915  0.162092  0.263725  0.237255  0.174510  0.286275   \n",
      "3  0.760784  0.690196  0.611765  0.752941  0.686275  0.607843  0.756863   \n",
      "4  0.260850  0.264771  0.276536  0.279477  0.271239  0.275556  0.114641   \n",
      "\n",
      "          7         8         9  ...     67491     67492     67493     67494  \\\n",
      "0  0.996078  0.996078  0.996078  ...  0.996078  0.996078  0.996078  0.996078   \n",
      "1  0.723582  0.723582  0.725490  ...  0.338209  0.320562  0.308797  0.337255   \n",
      "2  0.243137  0.173203  0.286275  ...  0.592157  0.596078  0.603922  0.601961   \n",
      "3  0.690196  0.611765  0.749020  ...  0.427451  0.462745  0.450980  0.427451   \n",
      "4  0.102876  0.099374  0.062745  ...  0.537255  0.511438  0.505882  0.552941   \n",
      "\n",
      "      67495     67496     67497     67498     67499  Target  \n",
      "0  0.996078  0.996078  0.996078  0.996078  0.996078       0  \n",
      "1  0.317647  0.305882  0.335346  0.317647  0.305882       0  \n",
      "2  0.605882  0.615686  0.583660  0.587582  0.607190       0  \n",
      "3  0.463503  0.458824  0.427451  0.466667  0.470588       0  \n",
      "4  0.533333  0.521569  0.533333  0.513725  0.507908       0  \n",
      "\n",
      "[5 rows x 67501 columns]\n"
     ]
    },
    {
     "data": {
      "text/plain": [
       "<matplotlib.collections.PathCollection at 0x1fba29b0c40>"
      ]
     },
     "execution_count": 26,
     "metadata": {},
     "output_type": "execute_result"
    },
    {
     "data": {
      "image/png": "[encoded data removed]",
      "text/plain": [
       "<Figure size 432x288 with 1 Axes>"
      ]
     },
     "metadata": {
      "needs_background": "light"
     },
     "output_type": "display_data"
    }
   ],
   "source": [
    "import seaborn as sns\n",
    "print(df.head())\n",
    "y = df['Target']\n",
    "X = df.iloc[:, :-1]\n",
    "\n",
    "plt.scatter(X.iloc[:, 0], X.iloc[:, 3], c=y, s=50, cmap='autumn')"
   ]
  },
  {
   "cell_type": "code",
   "execution_count": 32,
   "metadata": {},
   "outputs": [
    {
     "data": {
      "text/plain": [
       "<matplotlib.collections.PathCollection at 0x1fba2a25fa0>"
      ]
     },
     "execution_count": 32,
     "metadata": {},
     "output_type": "execute_result"
    },
    {
     "data": {
      "image/png": "[encoded data removed]",
      "text/plain": [
       "<Figure size 432x288 with 1 Axes>"
      ]
     },
     "metadata": {
      "needs_background": "light"
     },
     "output_type": "display_data"
    }
   ],
   "source": [
    "plt.scatter(X.iloc[:, 0], X.iloc[:, 1], c=y, s=50, cmap='autumn')\n",
    "plt.scatter(model.support_vectors_[:,0],model.support_vectors_[:,1])"
   ]
  },
  {
   "cell_type": "code",
   "execution_count": 33,
   "metadata": {},
   "outputs": [
    {
     "ename": "ValueError",
     "evalue": "X.shape[1] = 2 should be equal to 67500, the number of features at training time",
     "output_type": "error",
     "traceback": [
      "\u001b[1;31m---------------------------------------------------------------------------\u001b[0m",
      "\u001b[1;31mValueError\u001b[0m                                Traceback (most recent call last)",
      "\u001b[1;32m<ipython-input-33-cee0c195e54e>\u001b[0m in \u001b[0;36m<module>\u001b[1;34m\u001b[0m\n\u001b[0;32m     10\u001b[0m \u001b[0mYY\u001b[0m\u001b[1;33m,\u001b[0m \u001b[0mXX\u001b[0m \u001b[1;33m=\u001b[0m \u001b[0mnp\u001b[0m\u001b[1;33m.\u001b[0m\u001b[0mmeshgrid\u001b[0m\u001b[1;33m(\u001b[0m\u001b[0myy\u001b[0m\u001b[1;33m,\u001b[0m \u001b[0mxx\u001b[0m\u001b[1;33m)\u001b[0m\u001b[1;33m\u001b[0m\u001b[1;33m\u001b[0m\u001b[0m\n\u001b[0;32m     11\u001b[0m \u001b[0mxy\u001b[0m \u001b[1;33m=\u001b[0m \u001b[0mnp\u001b[0m\u001b[1;33m.\u001b[0m\u001b[0mvstack\u001b[0m\u001b[1;33m(\u001b[0m\u001b[1;33m[\u001b[0m\u001b[0mXX\u001b[0m\u001b[1;33m.\u001b[0m\u001b[0mravel\u001b[0m\u001b[1;33m(\u001b[0m\u001b[1;33m)\u001b[0m\u001b[1;33m,\u001b[0m \u001b[0mYY\u001b[0m\u001b[1;33m.\u001b[0m\u001b[0mravel\u001b[0m\u001b[1;33m(\u001b[0m\u001b[1;33m)\u001b[0m\u001b[1;33m]\u001b[0m\u001b[1;33m)\u001b[0m\u001b[1;33m.\u001b[0m\u001b[0mT\u001b[0m\u001b[1;33m\u001b[0m\u001b[1;33m\u001b[0m\u001b[0m\n\u001b[1;32m---> 12\u001b[1;33m \u001b[0mZ\u001b[0m \u001b[1;33m=\u001b[0m \u001b[0mmodel\u001b[0m\u001b[1;33m.\u001b[0m\u001b[0mdecision_function\u001b[0m\u001b[1;33m(\u001b[0m\u001b[0mxy\u001b[0m\u001b[1;33m)\u001b[0m\u001b[1;33m.\u001b[0m\u001b[0mreshape\u001b[0m\u001b[1;33m(\u001b[0m\u001b[0mXX\u001b[0m\u001b[1;33m.\u001b[0m\u001b[0mshape\u001b[0m\u001b[1;33m)\u001b[0m\u001b[1;33m\u001b[0m\u001b[1;33m\u001b[0m\u001b[0m\n\u001b[0m\u001b[0;32m     13\u001b[0m \u001b[1;33m\u001b[0m\u001b[0m\n\u001b[0;32m     14\u001b[0m ax.contour(XX, YY, Z, colors='k', levels=[-1, 0, 1], alpha=0.5,\n",
      "\u001b[1;32mD:\\Application\\Anaconda\\lib\\site-packages\\sklearn\\svm\\_base.py\u001b[0m in \u001b[0;36mdecision_function\u001b[1;34m(self, X)\u001b[0m\n\u001b[0;32m    581\u001b[0m         \u001b[0mtransformation\u001b[0m \u001b[0mof\u001b[0m \u001b[0movo\u001b[0m \u001b[0mdecision\u001b[0m \u001b[0mfunction\u001b[0m\u001b[1;33m.\u001b[0m\u001b[1;33m\u001b[0m\u001b[1;33m\u001b[0m\u001b[0m\n\u001b[0;32m    582\u001b[0m         \"\"\"\n\u001b[1;32m--> 583\u001b[1;33m         \u001b[0mdec\u001b[0m \u001b[1;33m=\u001b[0m \u001b[0mself\u001b[0m\u001b[1;33m.\u001b[0m\u001b[0m_decision_function\u001b[0m\u001b[1;33m(\u001b[0m\u001b[0mX\u001b[0m\u001b[1;33m)\u001b[0m\u001b[1;33m\u001b[0m\u001b[1;33m\u001b[0m\u001b[0m\n\u001b[0m\u001b[0;32m    584\u001b[0m         \u001b[1;32mif\u001b[0m \u001b[0mself\u001b[0m\u001b[1;33m.\u001b[0m\u001b[0mdecision_function_shape\u001b[0m \u001b[1;33m==\u001b[0m \u001b[1;34m'ovr'\u001b[0m \u001b[1;32mand\u001b[0m \u001b[0mlen\u001b[0m\u001b[1;33m(\u001b[0m\u001b[0mself\u001b[0m\u001b[1;33m.\u001b[0m\u001b[0mclasses_\u001b[0m\u001b[1;33m)\u001b[0m \u001b[1;33m>\u001b[0m \u001b[1;36m2\u001b[0m\u001b[1;33m:\u001b[0m\u001b[1;33m\u001b[0m\u001b[1;33m\u001b[0m\u001b[0m\n\u001b[0;32m    585\u001b[0m             \u001b[1;32mreturn\u001b[0m \u001b[0m_ovr_decision_function\u001b[0m\u001b[1;33m(\u001b[0m\u001b[0mdec\u001b[0m \u001b[1;33m<\u001b[0m \u001b[1;36m0\u001b[0m\u001b[1;33m,\u001b[0m \u001b[1;33m-\u001b[0m\u001b[0mdec\u001b[0m\u001b[1;33m,\u001b[0m \u001b[0mlen\u001b[0m\u001b[1;33m(\u001b[0m\u001b[0mself\u001b[0m\u001b[1;33m.\u001b[0m\u001b[0mclasses_\u001b[0m\u001b[1;33m)\u001b[0m\u001b[1;33m)\u001b[0m\u001b[1;33m\u001b[0m\u001b[1;33m\u001b[0m\u001b[0m\n",
      "\u001b[1;32mD:\\Application\\Anaconda\\lib\\site-packages\\sklearn\\svm\\_base.py\u001b[0m in \u001b[0;36m_decision_function\u001b[1;34m(self, X)\u001b[0m\n\u001b[0;32m    406\u001b[0m         \u001b[1;31m# NOTE: _validate_for_predict contains check for is_fitted\u001b[0m\u001b[1;33m\u001b[0m\u001b[1;33m\u001b[0m\u001b[1;33m\u001b[0m\u001b[0m\n\u001b[0;32m    407\u001b[0m         \u001b[1;31m# hence must be placed before any other attributes are used.\u001b[0m\u001b[1;33m\u001b[0m\u001b[1;33m\u001b[0m\u001b[1;33m\u001b[0m\u001b[0m\n\u001b[1;32m--> 408\u001b[1;33m         \u001b[0mX\u001b[0m \u001b[1;33m=\u001b[0m \u001b[0mself\u001b[0m\u001b[1;33m.\u001b[0m\u001b[0m_validate_for_predict\u001b[0m\u001b[1;33m(\u001b[0m\u001b[0mX\u001b[0m\u001b[1;33m)\u001b[0m\u001b[1;33m\u001b[0m\u001b[1;33m\u001b[0m\u001b[0m\n\u001b[0m\u001b[0;32m    409\u001b[0m         \u001b[0mX\u001b[0m \u001b[1;33m=\u001b[0m \u001b[0mself\u001b[0m\u001b[1;33m.\u001b[0m\u001b[0m_compute_kernel\u001b[0m\u001b[1;33m(\u001b[0m\u001b[0mX\u001b[0m\u001b[1;33m)\u001b[0m\u001b[1;33m\u001b[0m\u001b[1;33m\u001b[0m\u001b[0m\n\u001b[0;32m    410\u001b[0m \u001b[1;33m\u001b[0m\u001b[0m\n",
      "\u001b[1;32mD:\\Application\\Anaconda\\lib\\site-packages\\sklearn\\svm\\_base.py\u001b[0m in \u001b[0;36m_validate_for_predict\u001b[1;34m(self, X)\u001b[0m\n\u001b[0;32m    482\u001b[0m                                  (X.shape[1], self.shape_fit_[0]))\n\u001b[0;32m    483\u001b[0m         \u001b[1;32melif\u001b[0m \u001b[1;32mnot\u001b[0m \u001b[0mcallable\u001b[0m\u001b[1;33m(\u001b[0m\u001b[0mself\u001b[0m\u001b[1;33m.\u001b[0m\u001b[0mkernel\u001b[0m\u001b[1;33m)\u001b[0m \u001b[1;32mand\u001b[0m \u001b[0mX\u001b[0m\u001b[1;33m.\u001b[0m\u001b[0mshape\u001b[0m\u001b[1;33m[\u001b[0m\u001b[1;36m1\u001b[0m\u001b[1;33m]\u001b[0m \u001b[1;33m!=\u001b[0m \u001b[0mself\u001b[0m\u001b[1;33m.\u001b[0m\u001b[0mshape_fit_\u001b[0m\u001b[1;33m[\u001b[0m\u001b[1;36m1\u001b[0m\u001b[1;33m]\u001b[0m\u001b[1;33m:\u001b[0m\u001b[1;33m\u001b[0m\u001b[1;33m\u001b[0m\u001b[0m\n\u001b[1;32m--> 484\u001b[1;33m             raise ValueError(\"X.shape[1] = %d should be equal to %d, \"\n\u001b[0m\u001b[0;32m    485\u001b[0m                              \u001b[1;34m\"the number of features at training time\"\u001b[0m \u001b[1;33m%\u001b[0m\u001b[1;33m\u001b[0m\u001b[1;33m\u001b[0m\u001b[0m\n\u001b[0;32m    486\u001b[0m                              (X.shape[1], self.shape_fit_[1]))\n",
      "\u001b[1;31mValueError\u001b[0m: X.shape[1] = 2 should be equal to 67500, the number of features at training time"
     ]
    },
    {
     "data": {
      "image/png": "[encoded data removed]",
      "text/plain": [
       "<Figure size 432x288 with 1 Axes>"
      ]
     },
     "metadata": {
      "needs_background": "light"
     },
     "output_type": "display_data"
    }
   ],
   "source": [
    "import numpy as np\n",
    "\n",
    "ax = plt.gca()\n",
    "plt.scatter(X.iloc[:, 0], X.iloc[:, 1], c=y, s=50, cmap='autumn')\n",
    "xlim = ax.get_xlim()\n",
    "ylim = ax.get_ylim()\n",
    "\n",
    "xx = np.linspace(xlim[0], xlim[1], 30)\n",
    "yy = np.linspace(ylim[0], ylim[1], 30)\n",
    "YY, XX = np.meshgrid(yy, xx)\n",
    "xy = np.vstack([XX.ravel(), YY.ravel()]).T\n",
    "Z = model.decision_function(xy).reshape(XX.shape)\n",
    "\n",
    "ax.contour(XX, YY, Z, colors='k', levels=[-1, 0, 1], alpha=0.5,\n",
    "           linestyles=['--', '-', '--'])\n",
    "\n",
    "ax.scatter(model.support_vectors_[:, 0], model.support_vectors_[:, 1], s=100,\n",
    "           linewidth=1, facecolors='none', edgecolors='k')\n",
    "plt.show()"
   ]
  },
  {
   "cell_type": "code",
   "execution_count": null,
   "metadata": {},
   "outputs": [],
   "source": []
  }
 ],
 "metadata": {
  "colab": {
   "name": "Klasifikasi Citra.ipynb",
   "provenance": []
  },
  "interpreter": {
   "hash": "fe6d48a06cf1965613c5c4b5d21b1182ca2e59212f354219b1b23c436410da45"
  },
  "kernelspec": {
   "display_name": "Python 3",
   "language": "python",
   "name": "python3"
  },
  "language_info": {
   "codemirror_mode": {
    "name": "ipython",
    "version": 3
   },
   "file_extension": ".py",
   "mimetype": "text/x-python",
   "name": "python",
   "nbconvert_exporter": "python",
   "pygments_lexer": "ipython3",
   "version": "3.8.5"
  }
 },
 "nbformat": 4,
 "nbformat_minor": 1
}
