{
 "cells": [
  {
   "cell_type": "markdown",
   "source": [
    "# Tracking Object Using OpenCV Python"
   ],
   "metadata": {}
  },
  {
   "cell_type": "code",
   "execution_count": 8,
   "source": [
    "# pip install opencv-contrib-python\r\n",
    "import cv2\r\n",
    "\r\n",
    "cap = cv2.VideoCapture(0)\r\n",
    "\r\n",
    "#tracker = cv2.legacy.TrackerMOSSE_create() # Speed High, Accuracy Low\r\n",
    "tracker = cv2.TrackerCSRT_create() # Accuracy High, Speed Low\r\n",
    "\r\n",
    "# create frame\r\n",
    "success, img = cap.read()\r\n",
    "bbox = cv2.selectROI(\"Tracking\", img, False)\r\n",
    "tracker.init(img, bbox)\r\n",
    "\r\n",
    "# draw box\r\n",
    "def drawBox(img, bbox):\r\n",
    "    x,y,w,h = int(bbox[0]), int(bbox[1]), int(bbox[2]), int(bbox[3])\r\n",
    "    cv2.rectangle(img, (x,y), ((x+w), (y+h)), (255,0,255), 3, 1)\r\n",
    "    cv2.putText(img, \"Tracking\", (75,75), cv2.FONT_HERSHEY_SIMPLEX, 0.7, (0,255,0), 2)\r\n",
    "\r\n",
    "while True:\r\n",
    "    timer = cv2.getTickCount()\r\n",
    "    success, img = cap.read()\r\n",
    "\r\n",
    "    success, bbox = tracker.update(img)\r\n",
    "    print(bbox)\r\n",
    "    if success:\r\n",
    "        drawBox(img, bbox)\r\n",
    "    else:\r\n",
    "        cv2.putText(img, \"Lost\", (75,75), cv2.FONT_HERSHEY_SIMPLEX, 0.7, (0,0,255), 2)\r\n",
    "\r\n",
    "    # create fps text\r\n",
    "    fps = cv2.getTickFrequency()/(cv2.getTickCount()-timer)\r\n",
    "    cv2.putText(img, str(int(fps)), (75,50), cv2.FONT_HERSHEY_SIMPLEX, 0.7, (0,0,255), 2)\r\n",
    "\r\n",
    "    cv2.imshow(\"tracking\", img)\r\n",
    "\r\n",
    "    if cv2.waitKey(1) & 0xff ==ord('q'):\r\n",
    "        break"
   ],
   "outputs": [
    {
     "output_type": "stream",
     "name": "stdout",
     "text": [
      "(209, 87, 303, 340)\n",
      "(209, 89, 303, 340)\n",
      "(212, 92, 297, 333)\n",
      "(210, 91, 297, 333)\n",
      "(207, 90, 297, 333)\n",
      "(206, 89, 297, 333)\n",
      "(206, 88, 297, 333)\n",
      "(205, 88, 297, 333)\n",
      "(202, 85, 297, 333)\n",
      "(187, 86, 280, 314)\n",
      "(139, 72, 291, 326)\n",
      "(127, 85, 274, 308)\n",
      "(98, 89, 269, 302)\n",
      "(78, 78, 285, 320)\n",
      "(87, 79, 285, 320)\n",
      "(114, 83, 280, 314)\n",
      "(169, 76, 285, 320)\n",
      "(243, 81, 285, 320)\n",
      "(265, 80, 291, 326)\n",
      "(286, 90, 280, 314)\n",
      "(290, 88, 280, 314)\n",
      "(276, 82, 291, 326)\n",
      "(273, 83, 291, 326)\n",
      "(269, 79, 297, 333)\n",
      "(269, 79, 297, 333)\n",
      "(268, 83, 291, 326)\n",
      "(264, 80, 297, 333)\n",
      "(265, 83, 291, 326)\n",
      "(274, 92, 291, 326)\n",
      "(295, 107, 285, 320)\n",
      "(302, 110, 280, 314)\n",
      "(305, 110, 280, 314)\n",
      "(300, 107, 280, 314)\n",
      "(289, 108, 285, 320)\n",
      "(283, 108, 280, 314)\n",
      "(282, 111, 280, 314)\n",
      "(282, 113, 274, 308)\n",
      "(282, 110, 280, 314)\n",
      "(304, 113, 280, 314)\n",
      "(323, 109, 291, 326)\n",
      "(385, 118, 291, 326)\n",
      "(397, 114, 291, 326)\n",
      "(394, 116, 291, 326)\n",
      "(389, 115, 291, 326)\n",
      "(336, 108, 285, 320)\n",
      "(298, 103, 285, 320)\n",
      "(268, 98, 285, 320)\n",
      "(222, 92, 291, 326)\n",
      "(174, 87, 291, 326)\n",
      "(149, 87, 291, 326)\n",
      "(131, 90, 291, 326)\n",
      "(110, 93, 297, 333)\n",
      "(105, 91, 303, 340)\n",
      "(122, 80, 309, 346)\n",
      "(93, 99, 309, 346)\n",
      "(97, 97, 309, 346)\n",
      "(100, 99, 303, 340)\n",
      "(103, 97, 303, 340)\n",
      "(136, 85, 303, 340)\n",
      "(161, 81, 309, 346)\n",
      "(182, 83, 309, 346)\n",
      "(181, 88, 303, 340)\n",
      "(178, 84, 309, 346)\n",
      "(179, 83, 309, 346)\n",
      "(179, 82, 309, 346)\n",
      "(177, 80, 309, 346)\n",
      "(173, 80, 309, 346)\n",
      "(174, 80, 309, 346)\n",
      "(172, 80, 309, 346)\n"
     ]
    },
    {
     "output_type": "error",
     "ename": "KeyboardInterrupt",
     "evalue": "",
     "traceback": [
      "\u001b[1;31m---------------------------------------------------------------------------\u001b[0m",
      "\u001b[1;31mKeyboardInterrupt\u001b[0m                         Traceback (most recent call last)",
      "\u001b[1;32m<ipython-input-8-b5b84a541bfe>\u001b[0m in \u001b[0;36m<module>\u001b[1;34m\u001b[0m\n\u001b[0;32m     21\u001b[0m     \u001b[0msuccess\u001b[0m\u001b[1;33m,\u001b[0m \u001b[0mimg\u001b[0m \u001b[1;33m=\u001b[0m \u001b[0mcap\u001b[0m\u001b[1;33m.\u001b[0m\u001b[0mread\u001b[0m\u001b[1;33m(\u001b[0m\u001b[1;33m)\u001b[0m\u001b[1;33m\u001b[0m\u001b[1;33m\u001b[0m\u001b[0m\n\u001b[0;32m     22\u001b[0m \u001b[1;33m\u001b[0m\u001b[0m\n\u001b[1;32m---> 23\u001b[1;33m     \u001b[0msuccess\u001b[0m\u001b[1;33m,\u001b[0m \u001b[0mbbox\u001b[0m \u001b[1;33m=\u001b[0m \u001b[0mtracker\u001b[0m\u001b[1;33m.\u001b[0m\u001b[0mupdate\u001b[0m\u001b[1;33m(\u001b[0m\u001b[0mimg\u001b[0m\u001b[1;33m)\u001b[0m\u001b[1;33m\u001b[0m\u001b[1;33m\u001b[0m\u001b[0m\n\u001b[0m\u001b[0;32m     24\u001b[0m     \u001b[0mprint\u001b[0m\u001b[1;33m(\u001b[0m\u001b[0mbbox\u001b[0m\u001b[1;33m)\u001b[0m\u001b[1;33m\u001b[0m\u001b[1;33m\u001b[0m\u001b[0m\n\u001b[0;32m     25\u001b[0m     \u001b[1;32mif\u001b[0m \u001b[0msuccess\u001b[0m\u001b[1;33m:\u001b[0m\u001b[1;33m\u001b[0m\u001b[1;33m\u001b[0m\u001b[0m\n",
      "\u001b[1;31mKeyboardInterrupt\u001b[0m: "
     ]
    }
   ],
   "metadata": {}
  }
 ],
 "metadata": {
  "orig_nbformat": 4,
  "language_info": {
   "name": "python",
   "version": "3.8.5",
   "mimetype": "text/x-python",
   "codemirror_mode": {
    "name": "ipython",
    "version": 3
   },
   "pygments_lexer": "ipython3",
   "nbconvert_exporter": "python",
   "file_extension": ".py"
  },
  "kernelspec": {
   "name": "python3",
   "display_name": "Python 3.8.5 64-bit ('base': conda)"
  },
  "interpreter": {
   "hash": "fe6d48a06cf1965613c5c4b5d21b1182ca2e59212f354219b1b23c436410da45"
  }
 },
 "nbformat": 4,
 "nbformat_minor": 2
}