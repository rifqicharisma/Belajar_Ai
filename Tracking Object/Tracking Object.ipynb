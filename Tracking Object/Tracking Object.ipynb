{
 "cells": [
  {
   "cell_type": "markdown",
   "metadata": {},
   "source": [
    "# Tracking Object Using OpenCV Python"
   ]
  },
  {
   "cell_type": "code",
   "execution_count": 1,
   "metadata": {},
   "outputs": [
    {
     "ename": "AttributeError",
     "evalue": "module 'cv2' has no attribute 'TrackerCSRT_create'",
     "output_type": "error",
     "traceback": [
      "\u001b[1;31m---------------------------------------------------------------------------\u001b[0m",
      "\u001b[1;31mAttributeError\u001b[0m                            Traceback (most recent call last)",
      "\u001b[1;32m<ipython-input-1-b2ec85cc31ac>\u001b[0m in \u001b[0;36m<module>\u001b[1;34m\u001b[0m\n\u001b[0;32m      5\u001b[0m \u001b[1;33m\u001b[0m\u001b[0m\n\u001b[0;32m      6\u001b[0m \u001b[1;31m#tracker = cv2.legacy.TrackerMOSSE_create() # Speed High, Accuracy Low\u001b[0m\u001b[1;33m\u001b[0m\u001b[1;33m\u001b[0m\u001b[1;33m\u001b[0m\u001b[0m\n\u001b[1;32m----> 7\u001b[1;33m \u001b[0mtracker\u001b[0m \u001b[1;33m=\u001b[0m \u001b[0mcv2\u001b[0m\u001b[1;33m.\u001b[0m\u001b[0mTrackerCSRT_create\u001b[0m\u001b[1;33m(\u001b[0m\u001b[1;33m)\u001b[0m \u001b[1;31m# Accuracy High, Speed Low\u001b[0m\u001b[1;33m\u001b[0m\u001b[1;33m\u001b[0m\u001b[0m\n\u001b[0m\u001b[0;32m      8\u001b[0m \u001b[1;33m\u001b[0m\u001b[0m\n\u001b[0;32m      9\u001b[0m \u001b[1;31m# create frame\u001b[0m\u001b[1;33m\u001b[0m\u001b[1;33m\u001b[0m\u001b[1;33m\u001b[0m\u001b[0m\n",
      "\u001b[1;31mAttributeError\u001b[0m: module 'cv2' has no attribute 'TrackerCSRT_create'"
     ]
    }
   ],
   "source": [
    "# pip install opencv-contrib-python\n",
    "import cv2\n",
    "\n",
    "cap = cv2.VideoCapture(0)\n",
    "\n",
    "#tracker = cv2.legacy.TrackerMOSSE_create() # Speed High, Accuracy Low\n",
    "tracker = cv2.TrackerCSRT_create() # Accuracy High, Speed Low\n",
    "\n",
    "# create frame\n",
    "success, img = cap.read()\n",
    "bbox = cv2.selectROI(\"Tracking\", img, False)\n",
    "tracker.init(img, bbox)\n",
    "\n",
    "# draw box\n",
    "def drawBox(img, bbox):\n",
    "    x,y,w,h = int(bbox[0]), int(bbox[1]), int(bbox[2]), int(bbox[3])\n",
    "    cv2.rectangle(img, (x,y), ((x+w), (y+h)), (255,0,255), 3, 1)\n",
    "    cv2.putText(img, \"Tracking\", (75,75), cv2.FONT_HERSHEY_SIMPLEX, 0.7, (0,255,0), 2)\n",
    "\n",
    "while True:\n",
    "    timer = cv2.getTickCount()\n",
    "    success, img = cap.read()\n",
    "\n",
    "    success, bbox = tracker.update(img)\n",
    "    print(bbox)\n",
    "    if success:\n",
    "        drawBox(img, bbox)\n",
    "    else:\n",
    "        cv2.putText(img, \"Lost\", (75,75), cv2.FONT_HERSHEY_SIMPLEX, 0.7, (0,0,255), 2)\n",
    "\n",
    "    # create fps text\n",
    "    fps = cv2.getTickFrequency()/(cv2.getTickCount()-timer)\n",
    "    cv2.putText(img, str(int(fps)), (75,50), cv2.FONT_HERSHEY_SIMPLEX, 0.7, (0,0,255), 2)\n",
    "\n",
    "    cv2.imshow(\"tracking\", img)\n",
    "\n",
    "    if cv2.waitKey(1) & 0xff ==ord('q'):\n",
    "        break"
   ]
  }
 ],
 "metadata": {
  "interpreter": {
   "hash": "fe6d48a06cf1965613c5c4b5d21b1182ca2e59212f354219b1b23c436410da45"
  },
  "kernelspec": {
   "display_name": "Python 3.8.5 64-bit ('base': conda)",
   "name": "python3"
  },
  "language_info": {
   "codemirror_mode": {
    "name": "ipython",
    "version": 3
   },
   "file_extension": ".py",
   "mimetype": "text/x-python",
   "name": "python",
   "nbconvert_exporter": "python",
   "pygments_lexer": "ipython3",
   "version": "3.8.5"
  },
  "orig_nbformat": 4
 },
 "nbformat": 4,
 "nbformat_minor": 2
}
