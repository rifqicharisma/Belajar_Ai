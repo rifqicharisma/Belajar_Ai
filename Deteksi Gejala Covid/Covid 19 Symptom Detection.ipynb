{
 "cells": [
  {
   "cell_type": "code",
   "execution_count": 3,
   "source": [
    "import pandas as pd\r\n",
    "\r\n",
    "data = pd.read_excel(\"Covid.xlsx\")\r\n",
    "data.head()"
   ],
   "outputs": [
    {
     "output_type": "execute_result",
     "data": {
      "text/html": [
       "<div>\n",
       "<style scoped>\n",
       "    .dataframe tbody tr th:only-of-type {\n",
       "        vertical-align: middle;\n",
       "    }\n",
       "\n",
       "    .dataframe tbody tr th {\n",
       "        vertical-align: top;\n",
       "    }\n",
       "\n",
       "    .dataframe thead th {\n",
       "        text-align: right;\n",
       "    }\n",
       "</style>\n",
       "<table border=\"1\" class=\"dataframe\">\n",
       "  <thead>\n",
       "    <tr style=\"text-align: right;\">\n",
       "      <th></th>\n",
       "      <th>Demam</th>\n",
       "      <th>Kelelahan</th>\n",
       "      <th>Batuk-kering</th>\n",
       "      <th>Kesulitan-dalam-bernafas</th>\n",
       "      <th>Sakit-tenggorokan</th>\n",
       "      <th>Sakit</th>\n",
       "      <th>Hidung-tersumbat</th>\n",
       "      <th>Pilek</th>\n",
       "      <th>Diare</th>\n",
       "      <th>Tanpa-pengalaman</th>\n",
       "      <th>...</th>\n",
       "      <th>Transgender</th>\n",
       "      <th>Keparahan-ringan</th>\n",
       "      <th>Keparahan_Sedang</th>\n",
       "      <th>Keparahan_Tidak Ada</th>\n",
       "      <th>Keparahan_Parah</th>\n",
       "      <th>Kontak_Tidak-Tahu</th>\n",
       "      <th>Kontak_Tidak</th>\n",
       "      <th>Kontak_Ya</th>\n",
       "      <th>Tanpa-Gejala</th>\n",
       "      <th>Negara</th>\n",
       "    </tr>\n",
       "  </thead>\n",
       "  <tbody>\n",
       "    <tr>\n",
       "      <th>0</th>\n",
       "      <td>1</td>\n",
       "      <td>1</td>\n",
       "      <td>1</td>\n",
       "      <td>1</td>\n",
       "      <td>1</td>\n",
       "      <td>1</td>\n",
       "      <td>1</td>\n",
       "      <td>1</td>\n",
       "      <td>1</td>\n",
       "      <td>0</td>\n",
       "      <td>...</td>\n",
       "      <td>0</td>\n",
       "      <td>1</td>\n",
       "      <td>0</td>\n",
       "      <td>0</td>\n",
       "      <td>0</td>\n",
       "      <td>0</td>\n",
       "      <td>0</td>\n",
       "      <td>1</td>\n",
       "      <td>0</td>\n",
       "      <td>China</td>\n",
       "    </tr>\n",
       "    <tr>\n",
       "      <th>1</th>\n",
       "      <td>1</td>\n",
       "      <td>1</td>\n",
       "      <td>1</td>\n",
       "      <td>1</td>\n",
       "      <td>1</td>\n",
       "      <td>1</td>\n",
       "      <td>1</td>\n",
       "      <td>1</td>\n",
       "      <td>1</td>\n",
       "      <td>0</td>\n",
       "      <td>...</td>\n",
       "      <td>0</td>\n",
       "      <td>1</td>\n",
       "      <td>0</td>\n",
       "      <td>0</td>\n",
       "      <td>0</td>\n",
       "      <td>0</td>\n",
       "      <td>1</td>\n",
       "      <td>0</td>\n",
       "      <td>0</td>\n",
       "      <td>China</td>\n",
       "    </tr>\n",
       "    <tr>\n",
       "      <th>2</th>\n",
       "      <td>1</td>\n",
       "      <td>1</td>\n",
       "      <td>1</td>\n",
       "      <td>1</td>\n",
       "      <td>1</td>\n",
       "      <td>1</td>\n",
       "      <td>1</td>\n",
       "      <td>1</td>\n",
       "      <td>1</td>\n",
       "      <td>0</td>\n",
       "      <td>...</td>\n",
       "      <td>0</td>\n",
       "      <td>1</td>\n",
       "      <td>0</td>\n",
       "      <td>0</td>\n",
       "      <td>0</td>\n",
       "      <td>1</td>\n",
       "      <td>0</td>\n",
       "      <td>0</td>\n",
       "      <td>0</td>\n",
       "      <td>China</td>\n",
       "    </tr>\n",
       "    <tr>\n",
       "      <th>3</th>\n",
       "      <td>1</td>\n",
       "      <td>1</td>\n",
       "      <td>1</td>\n",
       "      <td>1</td>\n",
       "      <td>1</td>\n",
       "      <td>1</td>\n",
       "      <td>1</td>\n",
       "      <td>1</td>\n",
       "      <td>1</td>\n",
       "      <td>0</td>\n",
       "      <td>...</td>\n",
       "      <td>0</td>\n",
       "      <td>0</td>\n",
       "      <td>1</td>\n",
       "      <td>0</td>\n",
       "      <td>0</td>\n",
       "      <td>0</td>\n",
       "      <td>0</td>\n",
       "      <td>1</td>\n",
       "      <td>0</td>\n",
       "      <td>China</td>\n",
       "    </tr>\n",
       "    <tr>\n",
       "      <th>4</th>\n",
       "      <td>1</td>\n",
       "      <td>1</td>\n",
       "      <td>1</td>\n",
       "      <td>1</td>\n",
       "      <td>1</td>\n",
       "      <td>1</td>\n",
       "      <td>1</td>\n",
       "      <td>1</td>\n",
       "      <td>1</td>\n",
       "      <td>0</td>\n",
       "      <td>...</td>\n",
       "      <td>0</td>\n",
       "      <td>0</td>\n",
       "      <td>1</td>\n",
       "      <td>0</td>\n",
       "      <td>0</td>\n",
       "      <td>0</td>\n",
       "      <td>1</td>\n",
       "      <td>0</td>\n",
       "      <td>0</td>\n",
       "      <td>China</td>\n",
       "    </tr>\n",
       "  </tbody>\n",
       "</table>\n",
       "<p>5 rows × 27 columns</p>\n",
       "</div>"
      ],
      "text/plain": [
       "   Demam  Kelelahan  Batuk-kering  Kesulitan-dalam-bernafas  \\\n",
       "0      1          1             1                         1   \n",
       "1      1          1             1                         1   \n",
       "2      1          1             1                         1   \n",
       "3      1          1             1                         1   \n",
       "4      1          1             1                         1   \n",
       "\n",
       "   Sakit-tenggorokan  Sakit  Hidung-tersumbat  Pilek  Diare  Tanpa-pengalaman  \\\n",
       "0                  1      1                 1      1      1                 0   \n",
       "1                  1      1                 1      1      1                 0   \n",
       "2                  1      1                 1      1      1                 0   \n",
       "3                  1      1                 1      1      1                 0   \n",
       "4                  1      1                 1      1      1                 0   \n",
       "\n",
       "   ...  Transgender  Keparahan-ringan  Keparahan_Sedang  Keparahan_Tidak Ada  \\\n",
       "0  ...            0                 1                 0                    0   \n",
       "1  ...            0                 1                 0                    0   \n",
       "2  ...            0                 1                 0                    0   \n",
       "3  ...            0                 0                 1                    0   \n",
       "4  ...            0                 0                 1                    0   \n",
       "\n",
       "   Keparahan_Parah  Kontak_Tidak-Tahu  Kontak_Tidak  Kontak_Ya  Tanpa-Gejala  \\\n",
       "0                0                  0             0          1             0   \n",
       "1                0                  0             1          0             0   \n",
       "2                0                  1             0          0             0   \n",
       "3                0                  0             0          1             0   \n",
       "4                0                  0             1          0             0   \n",
       "\n",
       "   Negara  \n",
       "0   China  \n",
       "1   China  \n",
       "2   China  \n",
       "3   China  \n",
       "4   China  \n",
       "\n",
       "[5 rows x 27 columns]"
      ]
     },
     "metadata": {},
     "execution_count": 3
    }
   ],
   "metadata": {}
  },
  {
   "cell_type": "code",
   "execution_count": 2,
   "source": [
    "data.info()"
   ],
   "outputs": [
    {
     "output_type": "stream",
     "name": "stdout",
     "text": [
      "<class 'pandas.core.frame.DataFrame'>\n",
      "RangeIndex: 316800 entries, 0 to 316799\n",
      "Data columns (total 27 columns):\n",
      " #   Column                    Non-Null Count   Dtype \n",
      "---  ------                    --------------   ----- \n",
      " 0   Demam                     316800 non-null  int64 \n",
      " 1   Kelelahan                 316800 non-null  int64 \n",
      " 2   Batuk-kering              316800 non-null  int64 \n",
      " 3   Kesulitan-dalam-bernafas  316800 non-null  int64 \n",
      " 4   Sakit-tenggorokan         316800 non-null  int64 \n",
      " 5   Sakit                     316800 non-null  int64 \n",
      " 6   Hidung-tersumbat          316800 non-null  int64 \n",
      " 7   Pilek                     316800 non-null  int64 \n",
      " 8   Diare                     316800 non-null  int64 \n",
      " 9   Tanpa-pengalaman          316800 non-null  int64 \n",
      " 10  Umur_0-9                  316800 non-null  int64 \n",
      " 11  Umur_10-19                316800 non-null  int64 \n",
      " 12  Umur_20-24                316800 non-null  int64 \n",
      " 13  Umur_25-59                316800 non-null  int64 \n",
      " 14  Umur_60+                  316800 non-null  int64 \n",
      " 15  Wanita                    316800 non-null  int64 \n",
      " 16  Pria                      316800 non-null  int64 \n",
      " 17  Transgender               316800 non-null  int64 \n",
      " 18  Keparahan-ringan          316800 non-null  int64 \n",
      " 19  Keparahan_Sedang          316800 non-null  int64 \n",
      " 20  Keparahan_Tidak Ada       316800 non-null  int64 \n",
      " 21  Keparahan_Parah           316800 non-null  int64 \n",
      " 22  Kontak_Tidak-Tahu         316800 non-null  int64 \n",
      " 23  Kontak_Tidak              316800 non-null  int64 \n",
      " 24  Kontak_Ya                 316800 non-null  int64 \n",
      " 25  Tanpa-Gejala              316800 non-null  int64 \n",
      " 26  Negara                    316800 non-null  object\n",
      "dtypes: int64(26), object(1)\n",
      "memory usage: 65.3+ MB\n"
     ]
    }
   ],
   "metadata": {}
  },
  {
   "cell_type": "code",
   "execution_count": 4,
   "source": [
    "X = data.iloc[:, :25]\r\n",
    "y = data['Tanpa-Gejala']"
   ],
   "outputs": [],
   "metadata": {}
  },
  {
   "cell_type": "code",
   "execution_count": 5,
   "source": [
    "from sklearn.model_selection import train_test_split\r\n",
    " \r\n",
    "# memisahkan data untuk training dan testing\r\n",
    "X_train, X_test, y_train, y_test = train_test_split(X, y, test_size=0.33, random_state=42)"
   ],
   "outputs": [],
   "metadata": {}
  },
  {
   "cell_type": "markdown",
   "source": [
    "from sklearn import svm\n",
    "from sklearn.model_selection import GridSearchCV\n",
    "\n",
    "# proses cross validasi untuk mencari parameter terbaik\n",
    "param_grid={'C':[0.1,1,10,100],'gamma':[0.0001,0.001,0.1,1], 'degree': [3],\n",
    "            'kernel':['rbf','poly', 'linear']}\n",
    "            \n",
    "svc=svm.SVC(probability=True)\n",
    "print(\"Proses pelatihan model...\")\n",
    "model=GridSearchCV(svc,param_grid)\n",
    "model.fit(X_train,y_train)\n",
    "print('Selesai...')\n",
    "model.best_params_"
   ],
   "metadata": {}
  },
  {
   "cell_type": "code",
   "execution_count": 6,
   "source": [
    "# inisiasi model dengan best params\r\n",
    "from sklearn import svm\r\n",
    "\r\n",
    "model = svm.SVC(C = 0.1, degree = 3, gamma = 0.0001, kernel='linear', probability = True)\r\n",
    "model.fit(X_train,y_train)"
   ],
   "outputs": [
    {
     "output_type": "execute_result",
     "data": {
      "text/plain": [
       "SVC(C=0.1, gamma=0.0001, kernel='linear', probability=True)"
      ]
     },
     "metadata": {},
     "execution_count": 6
    }
   ],
   "metadata": {}
  },
  {
   "cell_type": "code",
   "execution_count": 9,
   "source": [
    "# hasil prediksi data validasi\r\n",
    "import numpy as np\r\n",
    "from sklearn.metrics import classification_report,accuracy_score,confusion_matrix\r\n",
    "\r\n",
    "y_pred = model.predict(X_test)\r\n",
    "print(f'Prediksi label : {y_pred}')\r\n",
    "print(f'Ground Truth   : {np.array(y_test)}')\r\n",
    "print(f'Akurasi model  : {accuracy_score(y_pred,y_test)*100}%')"
   ],
   "outputs": [
    {
     "output_type": "stream",
     "name": "stdout",
     "text": [
      "Prediksi label : [0 0 0 ... 0 1 0]\n",
      "Ground Truth   : [0 0 0 ... 0 1 0]\n",
      "Akurasi model  : 100.0%\n"
     ]
    }
   ],
   "metadata": {}
  },
  {
   "cell_type": "code",
   "execution_count": 17,
   "source": [
    "print('Masukkan 0 untuk tidak, 1 untuk iya')\r\n",
    "\r\n",
    "gejala1=eval(input(\"Demam- \"))\r\n",
    "gejala2=eval(input(\"Kelelahan- \"))\r\n",
    "gejala3=eval(input(\"Batuk Kering- \"))\r\n",
    "gejala4=eval(input(\"Sulit Bernafas- \"))\r\n",
    "gejala5=eval(input(\"Sakit Tenggorokan- \"))\r\n",
    "gejala6=eval(input(\"Nyeri- \"))\r\n",
    "gejala7=eval(input(\"Hidung Tersumbat- \"))\r\n",
    "gejala8=eval(input(\"Pilek- \"))\r\n",
    "gejala9=eval(input(\"Diare- \"))\r\n",
    "gejala10=eval(input(\"Pengalaman Terkena Covid- \"))\r\n",
    "gejala11=eval(input(\"Umur 0-9 - \"))\r\n",
    "gejala12=eval(input(\"Umur 10-19 - \"))\r\n",
    "gejala13=eval(input(\"Umur 20-24 - \"))\r\n",
    "gejala14=eval(input(\"Umur 25-59 - \"))\r\n",
    "gejala15=eval(input(\"Umur 60+ - \"))\r\n",
    "gejala16=eval(input(\"Wanita - \"))\r\n",
    "gejala17=eval(input(\"Pria - \"))\r\n",
    "gejala18=eval(input(\"Transgender - \"))\r\n",
    "gejala19=eval(input(\"Gejala Ringan - \"))\r\n",
    "gejala20=eval(input(\"Gelaja Sedang - \"))\r\n",
    "gejala21=eval(input(\"Tanpa Gejala - \"))\r\n",
    "gejala22=eval(input(\"Gejala Parah - \"))\r\n",
    "gejala23=eval(input(\"Pernah kontak dg orang yang mempunyai gejala (tidak tahu) - \"))\r\n",
    "gejala24=eval(input(\"Tidak Pernah kontak dg orang yang mempunyai gejala- \"))\r\n",
    "gejala25=eval(input(\"Pernah kontak dg orang yang mempunyai gejala - \"))\r\n",
    "\r\n",
    "X_new = np.array([[gejala1, gejala2, gejala3, gejala4, gejala5, gejala6, gejala7, gejala8, gejala9, gejala10,\r\n",
    "                  gejala11, gejala12, gejala13, gejala14, gejala15, gejala16, gejala17, gejala18, gejala19, gejala20,\r\n",
    "                  gejala21, gejala22, gejala23, gejala24, gejala25]])"
   ],
   "outputs": [
    {
     "output_type": "stream",
     "name": "stdout",
     "text": [
      "Masukkan 0 untuk tidak, 1 untuk iya\n",
      "Demam- 0\n",
      "Kelelahan- 0\n",
      "Batuk Kering- 0\n",
      "Sulit Bernafas- 0\n",
      "Sakit Tenggorokan- 0\n",
      "Nyeri- 0\n",
      "Hidung Tersumbat- 0\n",
      "Pilek- 0\n",
      "Diare- 0\n",
      "Pengalaman Terkena Covid- 0\n",
      "Umur 0-9 - 0\n",
      "Umur 10-19 - 0\n",
      "Umur 20-24 - 1\n",
      "Umur 25-59 - 0\n",
      "Umur 60+ - 0\n",
      "Wanita - 0\n",
      "Pria - 1\n",
      "Transgender - 0\n",
      "Gejala Ringan - 0\n",
      "Gelaja Sedang - 0\n",
      "Tanpa Gejala - 1\n",
      "Gejala Parah - 0\n",
      "Pernah kontak dg orang yang mempunyai gejala (tidak tahu) - 0\n",
      "Tidak Pernah kontak dg orang yang mempunyai gejala- 1\n",
      "Pernah kontak dg orang yang mempunyai gejala - 0\n"
     ]
    }
   ],
   "metadata": {}
  },
  {
   "cell_type": "code",
   "execution_count": 18,
   "source": [
    "#calling predict method from knn for making prediction\r\n",
    "prediction = model.predict(X_new)\r\n",
    "print(\"Tanpa Gejala : \",[prediction])\r\n",
    "\r\n",
    "print(\" 0 = Covid, 1 : Bukan Covid\")"
   ],
   "outputs": [
    {
     "output_type": "stream",
     "name": "stdout",
     "text": [
      "Tanpa Gejala :  [array([1], dtype=int64)]\n",
      " 0 = Covid, 1 : Bukan Covid\n"
     ]
    }
   ],
   "metadata": {}
  },
  {
   "cell_type": "code",
   "execution_count": 19,
   "source": [
    "# menyimpan model yang telah dilatih\r\n",
    "import pickle\r\n",
    "\r\n",
    "pickle.dump(model,open('covid_symptom_model1.p','wb'))\r\n",
    "print(f'Model telah disimpan.')"
   ],
   "outputs": [
    {
     "output_type": "stream",
     "name": "stdout",
     "text": [
      "Model telah disimpan.\n"
     ]
    }
   ],
   "metadata": {}
  },
  {
   "cell_type": "code",
   "execution_count": 1,
   "source": [
    "# load model\r\n",
    "import pickle\r\n",
    "\r\n",
    "model = pickle.load(open('covid_symptom_model1.p','rb'))"
   ],
   "outputs": [],
   "metadata": {}
  },
  {
   "cell_type": "code",
   "execution_count": 2,
   "source": [
    "import numpy as np\r\n",
    "print('Masukkan 0 untuk tidak, 1 untuk iya')\r\n",
    "\r\n",
    "gejala1=eval(input(\"Demam- \"))\r\n",
    "gejala2=eval(input(\"Kelelahan- \"))\r\n",
    "gejala3=eval(input(\"Batuk Kering- \"))\r\n",
    "gejala4=eval(input(\"Sulit Bernafas- \"))\r\n",
    "gejala5=eval(input(\"Sakit Tenggorokan- \"))\r\n",
    "gejala6=eval(input(\"Nyeri- \"))\r\n",
    "gejala7=eval(input(\"Hidung Tersumbat- \"))\r\n",
    "gejala8=eval(input(\"Pilek- \"))\r\n",
    "gejala9=eval(input(\"Diare- \"))\r\n",
    "gejala10=eval(input(\"Pengalaman Terkena Covid- \"))\r\n",
    "gejala11=eval(input(\"Umur 0-9 - \"))\r\n",
    "gejala12=eval(input(\"Umur 10-19 - \"))\r\n",
    "gejala13=eval(input(\"Umur 20-24 - \"))\r\n",
    "gejala14=eval(input(\"Umur 25-59 - \"))\r\n",
    "gejala15=eval(input(\"Umur 60+ - \"))\r\n",
    "gejala16=eval(input(\"Wanita - \"))\r\n",
    "gejala17=eval(input(\"Pria - \"))\r\n",
    "gejala18=eval(input(\"Transgender - \"))\r\n",
    "gejala19=eval(input(\"Gejala Ringan - \"))\r\n",
    "gejala20=eval(input(\"Gelaja Sedang - \"))\r\n",
    "gejala21=eval(input(\"Tanpa Gejala - \"))\r\n",
    "gejala22=eval(input(\"Gejala Parah - \"))\r\n",
    "gejala23=eval(input(\"Pernah kontak dg orang yang mempunyai gejala (tidak tahu) - \"))\r\n",
    "gejala24=eval(input(\"Tidak Pernah kontak dg orang yang mempunyai gejala- \"))\r\n",
    "gejala25=eval(input(\"Pernah kontak dg orang yang mempunyai gejala - \"))\r\n",
    "\r\n",
    "X_new = np.array([[gejala1, gejala2, gejala3, gejala4, gejala5, gejala6, gejala7, gejala8, gejala9, gejala10,\r\n",
    "                  gejala11, gejala12, gejala13, gejala14, gejala15, gejala16, gejala17, gejala18, gejala19, gejala20,\r\n",
    "                  gejala21, gejala22, gejala23, gejala24, gejala25]])"
   ],
   "outputs": [
    {
     "output_type": "stream",
     "name": "stdout",
     "text": [
      "Masukkan 0 untuk tidak, 1 untuk iya\n"
     ]
    },
    {
     "output_type": "error",
     "ename": "KeyboardInterrupt",
     "evalue": "Interrupted by user",
     "traceback": [
      "\u001b[1;31m---------------------------------------------------------------------------\u001b[0m",
      "\u001b[1;31mKeyboardInterrupt\u001b[0m                         Traceback (most recent call last)",
      "\u001b[1;32m<ipython-input-2-77279f638b2d>\u001b[0m in \u001b[0;36m<module>\u001b[1;34m\u001b[0m\n\u001b[0;32m      2\u001b[0m \u001b[0mprint\u001b[0m\u001b[1;33m(\u001b[0m\u001b[1;34m'Masukkan 0 untuk tidak, 1 untuk iya'\u001b[0m\u001b[1;33m)\u001b[0m\u001b[1;33m\u001b[0m\u001b[1;33m\u001b[0m\u001b[0m\n\u001b[0;32m      3\u001b[0m \u001b[1;33m\u001b[0m\u001b[0m\n\u001b[1;32m----> 4\u001b[1;33m \u001b[0mgejala1\u001b[0m\u001b[1;33m=\u001b[0m\u001b[0meval\u001b[0m\u001b[1;33m(\u001b[0m\u001b[0minput\u001b[0m\u001b[1;33m(\u001b[0m\u001b[1;34m\"Demam- \"\u001b[0m\u001b[1;33m)\u001b[0m\u001b[1;33m)\u001b[0m\u001b[1;33m\u001b[0m\u001b[1;33m\u001b[0m\u001b[0m\n\u001b[0m\u001b[0;32m      5\u001b[0m \u001b[0mgejala2\u001b[0m\u001b[1;33m=\u001b[0m\u001b[0meval\u001b[0m\u001b[1;33m(\u001b[0m\u001b[0minput\u001b[0m\u001b[1;33m(\u001b[0m\u001b[1;34m\"Kelelahan- \"\u001b[0m\u001b[1;33m)\u001b[0m\u001b[1;33m)\u001b[0m\u001b[1;33m\u001b[0m\u001b[1;33m\u001b[0m\u001b[0m\n\u001b[0;32m      6\u001b[0m \u001b[0mgejala3\u001b[0m\u001b[1;33m=\u001b[0m\u001b[0meval\u001b[0m\u001b[1;33m(\u001b[0m\u001b[0minput\u001b[0m\u001b[1;33m(\u001b[0m\u001b[1;34m\"Batuk Kering- \"\u001b[0m\u001b[1;33m)\u001b[0m\u001b[1;33m)\u001b[0m\u001b[1;33m\u001b[0m\u001b[1;33m\u001b[0m\u001b[0m\n",
      "\u001b[1;32mC:\\anaconda3\\lib\\site-packages\\ipykernel\\kernelbase.py\u001b[0m in \u001b[0;36mraw_input\u001b[1;34m(self, prompt)\u001b[0m\n\u001b[0;32m    858\u001b[0m                 \u001b[1;34m\"raw_input was called, but this frontend does not support input requests.\"\u001b[0m\u001b[1;33m\u001b[0m\u001b[1;33m\u001b[0m\u001b[0m\n\u001b[0;32m    859\u001b[0m             )\n\u001b[1;32m--> 860\u001b[1;33m         return self._input_request(str(prompt),\n\u001b[0m\u001b[0;32m    861\u001b[0m             \u001b[0mself\u001b[0m\u001b[1;33m.\u001b[0m\u001b[0m_parent_ident\u001b[0m\u001b[1;33m,\u001b[0m\u001b[1;33m\u001b[0m\u001b[1;33m\u001b[0m\u001b[0m\n\u001b[0;32m    862\u001b[0m             \u001b[0mself\u001b[0m\u001b[1;33m.\u001b[0m\u001b[0m_parent_header\u001b[0m\u001b[1;33m,\u001b[0m\u001b[1;33m\u001b[0m\u001b[1;33m\u001b[0m\u001b[0m\n",
      "\u001b[1;32mC:\\anaconda3\\lib\\site-packages\\ipykernel\\kernelbase.py\u001b[0m in \u001b[0;36m_input_request\u001b[1;34m(self, prompt, ident, parent, password)\u001b[0m\n\u001b[0;32m    902\u001b[0m             \u001b[1;32mexcept\u001b[0m \u001b[0mKeyboardInterrupt\u001b[0m\u001b[1;33m:\u001b[0m\u001b[1;33m\u001b[0m\u001b[1;33m\u001b[0m\u001b[0m\n\u001b[0;32m    903\u001b[0m                 \u001b[1;31m# re-raise KeyboardInterrupt, to truncate traceback\u001b[0m\u001b[1;33m\u001b[0m\u001b[1;33m\u001b[0m\u001b[1;33m\u001b[0m\u001b[0m\n\u001b[1;32m--> 904\u001b[1;33m                 \u001b[1;32mraise\u001b[0m \u001b[0mKeyboardInterrupt\u001b[0m\u001b[1;33m(\u001b[0m\u001b[1;34m\"Interrupted by user\"\u001b[0m\u001b[1;33m)\u001b[0m \u001b[1;32mfrom\u001b[0m \u001b[1;32mNone\u001b[0m\u001b[1;33m\u001b[0m\u001b[1;33m\u001b[0m\u001b[0m\n\u001b[0m\u001b[0;32m    905\u001b[0m             \u001b[1;32mexcept\u001b[0m \u001b[0mException\u001b[0m \u001b[1;32mas\u001b[0m \u001b[0me\u001b[0m\u001b[1;33m:\u001b[0m\u001b[1;33m\u001b[0m\u001b[1;33m\u001b[0m\u001b[0m\n\u001b[0;32m    906\u001b[0m                 \u001b[0mself\u001b[0m\u001b[1;33m.\u001b[0m\u001b[0mlog\u001b[0m\u001b[1;33m.\u001b[0m\u001b[0mwarning\u001b[0m\u001b[1;33m(\u001b[0m\u001b[1;34m\"Invalid Message:\"\u001b[0m\u001b[1;33m,\u001b[0m \u001b[0mexc_info\u001b[0m\u001b[1;33m=\u001b[0m\u001b[1;32mTrue\u001b[0m\u001b[1;33m)\u001b[0m\u001b[1;33m\u001b[0m\u001b[1;33m\u001b[0m\u001b[0m\n",
      "\u001b[1;31mKeyboardInterrupt\u001b[0m: Interrupted by user"
     ]
    }
   ],
   "metadata": {}
  },
  {
   "cell_type": "code",
   "execution_count": null,
   "source": [
    "#calling predict method from knn for making prediction\r\n",
    "prediction = model.predict(X_new)\r\n",
    "print(\"Tanpa Gejala : \",[prediction])\r\n",
    "\r\n",
    "print(\" 0 = Covid, 1 : Bukan Covid\")"
   ],
   "outputs": [],
   "metadata": {}
  }
 ],
 "metadata": {
  "kernelspec": {
   "name": "python3",
   "display_name": "Python 3.8.5 64-bit ('base': conda)"
  },
  "language_info": {
   "codemirror_mode": {
    "name": "ipython",
    "version": 3
   },
   "file_extension": ".py",
   "mimetype": "text/x-python",
   "name": "python",
   "nbconvert_exporter": "python",
   "pygments_lexer": "ipython3",
   "version": "3.8.5"
  },
  "interpreter": {
   "hash": "cef9e06bb236b2a8629b07e87a04b187b952a0f661eff5533360a155783f0c33"
  }
 },
 "nbformat": 4,
 "nbformat_minor": 4
}