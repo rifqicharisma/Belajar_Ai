{
 "cells": [
  {
   "cell_type": "code",
   "execution_count": 3,
   "metadata": {},
   "outputs": [
    {
     "data": {
      "text/html": [
       "<div>\n",
       "<style scoped>\n",
       "    .dataframe tbody tr th:only-of-type {\n",
       "        vertical-align: middle;\n",
       "    }\n",
       "\n",
       "    .dataframe tbody tr th {\n",
       "        vertical-align: top;\n",
       "    }\n",
       "\n",
       "    .dataframe thead th {\n",
       "        text-align: right;\n",
       "    }\n",
       "</style>\n",
       "<table border=\"1\" class=\"dataframe\">\n",
       "  <thead>\n",
       "    <tr style=\"text-align: right;\">\n",
       "      <th></th>\n",
       "      <th>Demam</th>\n",
       "      <th>Kelelahan</th>\n",
       "      <th>Batuk-kering</th>\n",
       "      <th>Kesulitan-dalam-bernafas</th>\n",
       "      <th>Sakit-tenggorokan</th>\n",
       "      <th>Sakit</th>\n",
       "      <th>Hidung-tersumbat</th>\n",
       "      <th>Pilek</th>\n",
       "      <th>Diare</th>\n",
       "      <th>Tanpa-pengalaman</th>\n",
       "      <th>...</th>\n",
       "      <th>Transgender</th>\n",
       "      <th>Keparahan-ringan</th>\n",
       "      <th>Keparahan_Sedang</th>\n",
       "      <th>Keparahan_Tidak Ada</th>\n",
       "      <th>Keparahan_Parah</th>\n",
       "      <th>Kontak_Tidak-Tahu</th>\n",
       "      <th>Kontak_Tidak</th>\n",
       "      <th>Kontak_Ya</th>\n",
       "      <th>Tanpa-Gejala</th>\n",
       "      <th>Negara</th>\n",
       "    </tr>\n",
       "  </thead>\n",
       "  <tbody>\n",
       "    <tr>\n",
       "      <th>0</th>\n",
       "      <td>1</td>\n",
       "      <td>1</td>\n",
       "      <td>1</td>\n",
       "      <td>1</td>\n",
       "      <td>1</td>\n",
       "      <td>1</td>\n",
       "      <td>1</td>\n",
       "      <td>1</td>\n",
       "      <td>1</td>\n",
       "      <td>0</td>\n",
       "      <td>...</td>\n",
       "      <td>0</td>\n",
       "      <td>1</td>\n",
       "      <td>0</td>\n",
       "      <td>0</td>\n",
       "      <td>0</td>\n",
       "      <td>0</td>\n",
       "      <td>0</td>\n",
       "      <td>1</td>\n",
       "      <td>0</td>\n",
       "      <td>China</td>\n",
       "    </tr>\n",
       "    <tr>\n",
       "      <th>1</th>\n",
       "      <td>1</td>\n",
       "      <td>1</td>\n",
       "      <td>1</td>\n",
       "      <td>1</td>\n",
       "      <td>1</td>\n",
       "      <td>1</td>\n",
       "      <td>1</td>\n",
       "      <td>1</td>\n",
       "      <td>1</td>\n",
       "      <td>0</td>\n",
       "      <td>...</td>\n",
       "      <td>0</td>\n",
       "      <td>1</td>\n",
       "      <td>0</td>\n",
       "      <td>0</td>\n",
       "      <td>0</td>\n",
       "      <td>0</td>\n",
       "      <td>1</td>\n",
       "      <td>0</td>\n",
       "      <td>0</td>\n",
       "      <td>China</td>\n",
       "    </tr>\n",
       "    <tr>\n",
       "      <th>2</th>\n",
       "      <td>1</td>\n",
       "      <td>1</td>\n",
       "      <td>1</td>\n",
       "      <td>1</td>\n",
       "      <td>1</td>\n",
       "      <td>1</td>\n",
       "      <td>1</td>\n",
       "      <td>1</td>\n",
       "      <td>1</td>\n",
       "      <td>0</td>\n",
       "      <td>...</td>\n",
       "      <td>0</td>\n",
       "      <td>1</td>\n",
       "      <td>0</td>\n",
       "      <td>0</td>\n",
       "      <td>0</td>\n",
       "      <td>1</td>\n",
       "      <td>0</td>\n",
       "      <td>0</td>\n",
       "      <td>0</td>\n",
       "      <td>China</td>\n",
       "    </tr>\n",
       "    <tr>\n",
       "      <th>3</th>\n",
       "      <td>1</td>\n",
       "      <td>1</td>\n",
       "      <td>1</td>\n",
       "      <td>1</td>\n",
       "      <td>1</td>\n",
       "      <td>1</td>\n",
       "      <td>1</td>\n",
       "      <td>1</td>\n",
       "      <td>1</td>\n",
       "      <td>0</td>\n",
       "      <td>...</td>\n",
       "      <td>0</td>\n",
       "      <td>0</td>\n",
       "      <td>1</td>\n",
       "      <td>0</td>\n",
       "      <td>0</td>\n",
       "      <td>0</td>\n",
       "      <td>0</td>\n",
       "      <td>1</td>\n",
       "      <td>0</td>\n",
       "      <td>China</td>\n",
       "    </tr>\n",
       "    <tr>\n",
       "      <th>4</th>\n",
       "      <td>1</td>\n",
       "      <td>1</td>\n",
       "      <td>1</td>\n",
       "      <td>1</td>\n",
       "      <td>1</td>\n",
       "      <td>1</td>\n",
       "      <td>1</td>\n",
       "      <td>1</td>\n",
       "      <td>1</td>\n",
       "      <td>0</td>\n",
       "      <td>...</td>\n",
       "      <td>0</td>\n",
       "      <td>0</td>\n",
       "      <td>1</td>\n",
       "      <td>0</td>\n",
       "      <td>0</td>\n",
       "      <td>0</td>\n",
       "      <td>1</td>\n",
       "      <td>0</td>\n",
       "      <td>0</td>\n",
       "      <td>China</td>\n",
       "    </tr>\n",
       "  </tbody>\n",
       "</table>\n",
       "<p>5 rows × 27 columns</p>\n",
       "</div>"
      ],
      "text/plain": [
       "   Demam  Kelelahan  Batuk-kering  Kesulitan-dalam-bernafas  \\\n",
       "0      1          1             1                         1   \n",
       "1      1          1             1                         1   \n",
       "2      1          1             1                         1   \n",
       "3      1          1             1                         1   \n",
       "4      1          1             1                         1   \n",
       "\n",
       "   Sakit-tenggorokan  Sakit  Hidung-tersumbat  Pilek  Diare  Tanpa-pengalaman  \\\n",
       "0                  1      1                 1      1      1                 0   \n",
       "1                  1      1                 1      1      1                 0   \n",
       "2                  1      1                 1      1      1                 0   \n",
       "3                  1      1                 1      1      1                 0   \n",
       "4                  1      1                 1      1      1                 0   \n",
       "\n",
       "   ...  Transgender  Keparahan-ringan  Keparahan_Sedang  Keparahan_Tidak Ada  \\\n",
       "0  ...            0                 1                 0                    0   \n",
       "1  ...            0                 1                 0                    0   \n",
       "2  ...            0                 1                 0                    0   \n",
       "3  ...            0                 0                 1                    0   \n",
       "4  ...            0                 0                 1                    0   \n",
       "\n",
       "   Keparahan_Parah  Kontak_Tidak-Tahu  Kontak_Tidak  Kontak_Ya  Tanpa-Gejala  \\\n",
       "0                0                  0             0          1             0   \n",
       "1                0                  0             1          0             0   \n",
       "2                0                  1             0          0             0   \n",
       "3                0                  0             0          1             0   \n",
       "4                0                  0             1          0             0   \n",
       "\n",
       "   Negara  \n",
       "0   China  \n",
       "1   China  \n",
       "2   China  \n",
       "3   China  \n",
       "4   China  \n",
       "\n",
       "[5 rows x 27 columns]"
      ]
     },
     "execution_count": 3,
     "metadata": {},
     "output_type": "execute_result"
    }
   ],
   "source": [
    "import pandas as pd\n",
    "\n",
    "data = pd.read_excel(\"Covid.xlsx\")\n",
    "data.head()"
   ]
  },
  {
   "cell_type": "code",
   "execution_count": 2,
   "metadata": {},
   "outputs": [
    {
     "name": "stdout",
     "output_type": "stream",
     "text": [
      "<class 'pandas.core.frame.DataFrame'>\n",
      "RangeIndex: 316800 entries, 0 to 316799\n",
      "Data columns (total 27 columns):\n",
      " #   Column                    Non-Null Count   Dtype \n",
      "---  ------                    --------------   ----- \n",
      " 0   Demam                     316800 non-null  int64 \n",
      " 1   Kelelahan                 316800 non-null  int64 \n",
      " 2   Batuk-kering              316800 non-null  int64 \n",
      " 3   Kesulitan-dalam-bernafas  316800 non-null  int64 \n",
      " 4   Sakit-tenggorokan         316800 non-null  int64 \n",
      " 5   Sakit                     316800 non-null  int64 \n",
      " 6   Hidung-tersumbat          316800 non-null  int64 \n",
      " 7   Pilek                     316800 non-null  int64 \n",
      " 8   Diare                     316800 non-null  int64 \n",
      " 9   Tanpa-pengalaman          316800 non-null  int64 \n",
      " 10  Umur_0-9                  316800 non-null  int64 \n",
      " 11  Umur_10-19                316800 non-null  int64 \n",
      " 12  Umur_20-24                316800 non-null  int64 \n",
      " 13  Umur_25-59                316800 non-null  int64 \n",
      " 14  Umur_60+                  316800 non-null  int64 \n",
      " 15  Wanita                    316800 non-null  int64 \n",
      " 16  Pria                      316800 non-null  int64 \n",
      " 17  Transgender               316800 non-null  int64 \n",
      " 18  Keparahan-ringan          316800 non-null  int64 \n",
      " 19  Keparahan_Sedang          316800 non-null  int64 \n",
      " 20  Keparahan_Tidak Ada       316800 non-null  int64 \n",
      " 21  Keparahan_Parah           316800 non-null  int64 \n",
      " 22  Kontak_Tidak-Tahu         316800 non-null  int64 \n",
      " 23  Kontak_Tidak              316800 non-null  int64 \n",
      " 24  Kontak_Ya                 316800 non-null  int64 \n",
      " 25  Tanpa-Gejala              316800 non-null  int64 \n",
      " 26  Negara                    316800 non-null  object\n",
      "dtypes: int64(26), object(1)\n",
      "memory usage: 65.3+ MB\n"
     ]
    }
   ],
   "source": [
    "data.info()"
   ]
  },
  {
   "cell_type": "code",
   "execution_count": 4,
   "metadata": {},
   "outputs": [],
   "source": [
    "X = data.iloc[:, :25]\n",
    "y = data['Tanpa-Gejala']"
   ]
  },
  {
   "cell_type": "code",
   "execution_count": 5,
   "metadata": {},
   "outputs": [],
   "source": [
    "from sklearn.model_selection import train_test_split\n",
    " \n",
    "# memisahkan data untuk training dan testing\n",
    "X_train, X_test, y_train, y_test = train_test_split(X, y, test_size=0.33, random_state=42)"
   ]
  },
  {
   "cell_type": "code",
   "execution_count": 1,
   "metadata": {},
   "outputs": [],
   "source": [
    "#from sklearn import svm\n",
    "#from sklearn.model_selection import GridSearchCV\n",
    "\n",
    "# proses cross validasi untuk mencari parameter terbaik\n",
    "#param_grid={'C':[0.1,1,10,100],'gamma':[0.0001,0.001,0.1,1], 'degree': [3],\n",
    "#            'kernel':['rbf','poly', 'linear']}\n",
    "            \n",
    "#svc=svm.SVC(probability=True)\n",
    "#print(\"Proses pelatihan model...\")\n",
    "#model=GridSearchCV(svc,param_grid)\n",
    "#model.fit(X_train,y_train)\n",
    "#print('Selesai...')\n",
    "#model.best_params_"
   ]
  },
  {
   "cell_type": "code",
   "execution_count": 6,
   "metadata": {},
   "outputs": [
    {
     "data": {
      "text/plain": [
       "SVC(C=0.1, gamma=0.0001, kernel='linear', probability=True)"
      ]
     },
     "execution_count": 6,
     "metadata": {},
     "output_type": "execute_result"
    }
   ],
   "source": [
    "# inisiasi model dengan best params\n",
    "from sklearn import svm\n",
    "\n",
    "model = svm.SVC(C = 0.1, degree = 3, gamma = 0.0001, kernel='linear', probability = True)\n",
    "model.fit(X_train,y_train)"
   ]
  },
  {
   "cell_type": "code",
   "execution_count": 9,
   "metadata": {},
   "outputs": [
    {
     "name": "stdout",
     "output_type": "stream",
     "text": [
      "Prediksi label : [0 0 0 ... 0 1 0]\n",
      "Ground Truth   : [0 0 0 ... 0 1 0]\n",
      "Akurasi model  : 100.0%\n"
     ]
    }
   ],
   "source": [
    "# hasil prediksi data validasi\n",
    "import numpy as np\n",
    "from sklearn.metrics import classification_report,accuracy_score,confusion_matrix\n",
    "\n",
    "y_pred = model.predict(X_test)\n",
    "print(f'Prediksi label : {y_pred}')\n",
    "print(f'Ground Truth   : {np.array(y_test)}')\n",
    "print(f'Akurasi model  : {accuracy_score(y_pred,y_test)*100}%')"
   ]
  },
  {
   "cell_type": "code",
   "execution_count": 17,
   "metadata": {},
   "outputs": [
    {
     "name": "stdout",
     "output_type": "stream",
     "text": [
      "Masukkan 0 untuk tidak, 1 untuk iya\n",
      "Demam- 0\n",
      "Kelelahan- 0\n",
      "Batuk Kering- 0\n",
      "Sulit Bernafas- 0\n",
      "Sakit Tenggorokan- 0\n",
      "Nyeri- 0\n",
      "Hidung Tersumbat- 0\n",
      "Pilek- 0\n",
      "Diare- 0\n",
      "Pengalaman Terkena Covid- 0\n",
      "Umur 0-9 - 0\n",
      "Umur 10-19 - 0\n",
      "Umur 20-24 - 1\n",
      "Umur 25-59 - 0\n",
      "Umur 60+ - 0\n",
      "Wanita - 0\n",
      "Pria - 1\n",
      "Transgender - 0\n",
      "Gejala Ringan - 0\n",
      "Gelaja Sedang - 0\n",
      "Tanpa Gejala - 1\n",
      "Gejala Parah - 0\n",
      "Pernah kontak dg orang yang mempunyai gejala (tidak tahu) - 0\n",
      "Tidak Pernah kontak dg orang yang mempunyai gejala- 1\n",
      "Pernah kontak dg orang yang mempunyai gejala - 0\n"
     ]
    }
   ],
   "source": [
    "print('Masukkan 0 untuk tidak, 1 untuk iya')\n",
    "\n",
    "gejala1=eval(input(\"Demam- \"))\n",
    "gejala2=eval(input(\"Kelelahan- \"))\n",
    "gejala3=eval(input(\"Batuk Kering- \"))\n",
    "gejala4=eval(input(\"Sulit Bernafas- \"))\n",
    "gejala5=eval(input(\"Sakit Tenggorokan- \"))\n",
    "gejala6=eval(input(\"Nyeri- \"))\n",
    "gejala7=eval(input(\"Hidung Tersumbat- \"))\n",
    "gejala8=eval(input(\"Pilek- \"))\n",
    "gejala9=eval(input(\"Diare- \"))\n",
    "gejala10=eval(input(\"Pengalaman Terkena Covid- \"))\n",
    "gejala11=eval(input(\"Umur 0-9 - \"))\n",
    "gejala12=eval(input(\"Umur 10-19 - \"))\n",
    "gejala13=eval(input(\"Umur 20-24 - \"))\n",
    "gejala14=eval(input(\"Umur 25-59 - \"))\n",
    "gejala15=eval(input(\"Umur 60+ - \"))\n",
    "gejala16=eval(input(\"Wanita - \"))\n",
    "gejala17=eval(input(\"Pria - \"))\n",
    "gejala18=eval(input(\"Transgender - \"))\n",
    "gejala19=eval(input(\"Gejala Ringan - \"))\n",
    "gejala20=eval(input(\"Gelaja Sedang - \"))\n",
    "gejala21=eval(input(\"Tanpa Gejala - \"))\n",
    "gejala22=eval(input(\"Gejala Parah - \"))\n",
    "gejala23=eval(input(\"Pernah kontak dg orang yang mempunyai gejala (tidak tahu) - \"))\n",
    "gejala24=eval(input(\"Tidak Pernah kontak dg orang yang mempunyai gejala- \"))\n",
    "gejala25=eval(input(\"Pernah kontak dg orang yang mempunyai gejala - \"))\n",
    "\n",
    "X_new = np.array([[gejala1, gejala2, gejala3, gejala4, gejala5, gejala6, gejala7, gejala8, gejala9, gejala10,\n",
    "                  gejala11, gejala12, gejala13, gejala14, gejala15, gejala16, gejala17, gejala18, gejala19, gejala20,\n",
    "                  gejala21, gejala22, gejala23, gejala24, gejala25]])"
   ]
  },
  {
   "cell_type": "code",
   "execution_count": 18,
   "metadata": {},
   "outputs": [
    {
     "name": "stdout",
     "output_type": "stream",
     "text": [
      "Tanpa Gejala :  [array([1], dtype=int64)]\n",
      " 0 = Covid, 1 : Bukan Covid\n"
     ]
    }
   ],
   "source": [
    "#calling predict method from knn for making prediction\n",
    "prediction = model.predict(X_new)\n",
    "print(\"Tanpa Gejala : \",[prediction])\n",
    "\n",
    "print(\" 0 = Covid, 1 : Bukan Covid\")"
   ]
  },
  {
   "cell_type": "code",
   "execution_count": 19,
   "metadata": {},
   "outputs": [
    {
     "name": "stdout",
     "output_type": "stream",
     "text": [
      "Model telah disimpan.\n"
     ]
    }
   ],
   "source": [
    "# menyimpan model yang telah dilatih\n",
    "import pickle\n",
    "\n",
    "pickle.dump(model,open('covid_symptom_model1.p','wb'))\n",
    "print(f'Model telah disimpan.')"
   ]
  },
  {
   "cell_type": "markdown",
   "metadata": {},
   "source": [
    "## Load The Model"
   ]
  },
  {
   "cell_type": "code",
   "execution_count": 2,
   "metadata": {},
   "outputs": [],
   "source": [
    "# load model\n",
    "import pickle\n",
    "\n",
    "model = pickle.load(open('covid_symptom_model1.p','rb'))"
   ]
  },
  {
   "cell_type": "code",
   "execution_count": 3,
   "metadata": {},
   "outputs": [
    {
     "name": "stdout",
     "output_type": "stream",
     "text": [
      "Masukkan 0 untuk tidak, 1 untuk iya\n",
      "Demam- 0\n",
      "Kelelahan- 1\n",
      "Batuk Kering- 0\n",
      "Sulit Bernafas- 0\n",
      "Sakit Tenggorokan- 0\n",
      "Nyeri- 0\n",
      "Hidung Tersumbat- 0\n",
      "Pilek- 1\n",
      "Diare- 0\n",
      "Pengalaman Terkena Covid- 0\n",
      "Umur 0-9 - 0\n",
      "Umur 10-19 - 0\n",
      "Umur 20-24 - 1\n",
      "Umur 25-59 - 0\n",
      "Umur 60+ - 0\n",
      "Wanita - 0\n",
      "Pria - 1\n",
      "Transgender - 0\n",
      "Gejala Ringan - 0\n",
      "Gelaja Sedang - 0\n",
      "Tanpa Gejala - 1\n",
      "Gejala Parah - 0\n",
      "Pernah kontak dg orang yang mempunyai gejala (tidak tahu) - 0\n",
      "Tidak Pernah kontak dg orang yang mempunyai gejala- 1\n",
      "Pernah kontak dg orang yang mempunyai gejala - 0\n"
     ]
    }
   ],
   "source": [
    "import numpy as np\n",
    "print('Masukkan 0 untuk tidak, 1 untuk iya')\n",
    "\n",
    "gejala1=eval(input(\"Demam- \"))\n",
    "gejala2=eval(input(\"Kelelahan- \"))\n",
    "gejala3=eval(input(\"Batuk Kering- \"))\n",
    "gejala4=eval(input(\"Sulit Bernafas- \"))\n",
    "gejala5=eval(input(\"Sakit Tenggorokan- \"))\n",
    "gejala6=eval(input(\"Nyeri- \"))\n",
    "gejala7=eval(input(\"Hidung Tersumbat- \"))\n",
    "gejala8=eval(input(\"Pilek- \"))\n",
    "gejala9=eval(input(\"Diare- \"))\n",
    "gejala10=eval(input(\"Pengalaman Terkena Covid- \"))\n",
    "gejala11=eval(input(\"Umur 0-9 - \"))\n",
    "gejala12=eval(input(\"Umur 10-19 - \"))\n",
    "gejala13=eval(input(\"Umur 20-24 - \"))\n",
    "gejala14=eval(input(\"Umur 25-59 - \"))\n",
    "gejala15=eval(input(\"Umur 60+ - \"))\n",
    "gejala16=eval(input(\"Wanita - \"))\n",
    "gejala17=eval(input(\"Pria - \"))\n",
    "gejala18=eval(input(\"Transgender - \"))\n",
    "gejala19=eval(input(\"Gejala Ringan - \"))\n",
    "gejala20=eval(input(\"Gelaja Sedang - \"))\n",
    "gejala21=eval(input(\"Tanpa Gejala - \"))\n",
    "gejala22=eval(input(\"Gejala Parah - \"))\n",
    "gejala23=eval(input(\"Pernah kontak dg orang yang mempunyai gejala (tidak tahu) - \"))\n",
    "gejala24=eval(input(\"Tidak Pernah kontak dg orang yang mempunyai gejala- \"))\n",
    "gejala25=eval(input(\"Pernah kontak dg orang yang mempunyai gejala - \"))\n",
    "\n",
    "X_new = np.array([[gejala1, gejala2, gejala3, gejala4, gejala5, gejala6, gejala7, gejala8, gejala9, gejala10,\n",
    "                  gejala11, gejala12, gejala13, gejala14, gejala15, gejala16, gejala17, gejala18, gejala19, gejala20,\n",
    "                  gejala21, gejala22, gejala23, gejala24, gejala25]])"
   ]
  },
  {
   "cell_type": "code",
   "execution_count": 11,
   "metadata": {},
   "outputs": [
    {
     "name": "stdout",
     "output_type": "stream",
     "text": [
      "Tanpa Gejala :  [array([0], dtype=int64)]\n",
      " 0 = Covid, 1 : Bukan Covid\n"
     ]
    }
   ],
   "source": [
    "#calling predict method from knn for making prediction\n",
    "prediction = model.predict(X_new)\n",
    "print(\"Tanpa Gejala : \",#data[\"Tanpa-Gejala\"]\n",
    "      [prediction])\n",
    "\n",
    "print(\" 0 = Covid, 1 : Bukan Covid\")"
   ]
  },
  {
   "cell_type": "code",
   "execution_count": null,
   "metadata": {},
   "outputs": [],
   "source": []
  }
 ],
 "metadata": {
  "interpreter": {
   "hash": "fe6d48a06cf1965613c5c4b5d21b1182ca2e59212f354219b1b23c436410da45"
  },
  "kernelspec": {
   "display_name": "Python 3",
   "language": "python",
   "name": "python3"
  },
  "language_info": {
   "codemirror_mode": {
    "name": "ipython",
    "version": 3
   },
   "file_extension": ".py",
   "mimetype": "text/x-python",
   "name": "python",
   "nbconvert_exporter": "python",
   "pygments_lexer": "ipython3",
   "version": "3.8.5"
  }
 },
 "nbformat": 4,
 "nbformat_minor": 4
}
