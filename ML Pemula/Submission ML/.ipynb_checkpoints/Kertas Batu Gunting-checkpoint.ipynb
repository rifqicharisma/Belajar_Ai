{
 "cells": [
  {
   "cell_type": "code",
   "execution_count": 5,
   "metadata": {},
   "outputs": [
    {
     "name": "stdout",
     "output_type": "stream",
     "text": [
      "2.6.0\n"
     ]
    }
   ],
   "source": [
    "import tensorflow as tf\n",
    "from tensorflow.keras.optimizers import RMSprop\n",
    "from tensorflow.keras.preprocessing.image import ImageDataGenerator\n",
    "\n",
    "print(tf.__version__)"
   ]
  },
  {
   "cell_type": "code",
   "execution_count": 11,
   "metadata": {},
   "outputs": [
    {
     "data": {
      "text/plain": [
       "['paper',\n",
       " 'README_rpc-cv-images.txt',\n",
       " 'rock',\n",
       " 'rps-cv-images',\n",
       " 'scissors',\n",
       " 'train',\n",
       " 'val']"
      ]
     },
     "execution_count": 11,
     "metadata": {},
     "output_type": "execute_result"
    }
   ],
   "source": [
    "import os\n",
    "\n",
    "# direktori base\n",
    "base_dir = 'rockpaperscissors'\n",
    "train_dir = os.path.join(base_dir, 'train')\n",
    "validation_dir = os.path.join(base_dir, 'val')\n",
    "\n",
    "# membuat direktori/folder train dan validation\n",
    "os.mkdir(train_dir)\n",
    "os.mkdir(validation_dir)\n",
    "\n",
    "# melihat isi direktori\n",
    "os.listdir('rockpaperscissors')"
   ]
  },
  {
   "cell_type": "code",
   "execution_count": 12,
   "metadata": {},
   "outputs": [],
   "source": [
    "# membagi direktori\n",
    "rock_dir = os.path.join(base_dir, 'rock')\n",
    "paper_dir = os.path.join(base_dir, 'paper')\n",
    "scissors_dir = os.path.join(base_dir, 'scissors')"
   ]
  },
  {
   "cell_type": "code",
   "execution_count": 13,
   "metadata": {},
   "outputs": [],
   "source": [
    "# membagi setiap direktori menjadi data train dan data validasi\n",
    "\n",
    "from sklearn.model_selection import train_test_split\n",
    "\n",
    "train_rock_dir, val_rock_dir = train_test_split(os.listdir(rock_dir), test_size = 0.4)\n",
    "train_paper_dir, val_paper_dir = train_test_split(os.listdir(paper_dir), test_size = 0.4)\n",
    "train_scissors_dir, val_scissors_dir = train_test_split(os.listdir(scissors_dir), test_size = 0.4)"
   ]
  },
  {
   "cell_type": "code",
   "execution_count": 16,
   "metadata": {},
   "outputs": [],
   "source": [
    "# data train ditempatkan dalam train_dir\n",
    "train_rock = os.path.join(train_dir, 'rock')\n",
    "train_paper = os.path.join(train_dir, 'paper')\n",
    "train_scissors = os.path.join(train_dir, 'scissors')\n",
    "\n",
    "# data validasi ditempatkan di validation_dir\n",
    "val_rock = os.path.join(validation_dir, 'rock')\n",
    "val_paper = os.path.join(validation_dir, 'paper')\n",
    "val_scissors = os.path.join(validation_dir, 'scissors')\n",
    "\n",
    "# membuat folder train dan validasi karena train_xx dan val_xx belum dibuat\n",
    "# folder baru di buat di dalam folder train dan val\n",
    "# misal train_rock berarti ada pada folder rockpaperscissors/train/train_rock\n",
    "# begitupun pada folder val_xx\n",
    "\n",
    "if not os.path.exists(train_rock):\n",
    "    os.mkdir(train_rock)\n",
    "\n",
    "if not os.path.exists(train_paper):\n",
    "    os.mkdir(train_paper)\n",
    "    \n",
    "if not os.path.exists(train_scissors):\n",
    "    os.mkdir(train_scissors)\n",
    "    \n",
    "if not os.path.exists(val_rock):\n",
    "    os.mkdir(val_rock)\n",
    "\n",
    "if not os.path.exists(val_paper):\n",
    "    os.mkdir(val_paper)\n",
    "    \n",
    "if not os.path.exists(val_scissors):\n",
    "    os.mkdir(val_scissors)"
   ]
  },
  {
   "cell_type": "code",
   "execution_count": 17,
   "metadata": {},
   "outputs": [],
   "source": [
    "# mengcopy citra ke dalam direktori/folder train dan val\n",
    "# citra sebelumnya sudah di split menjadi data train dan data validasi\n",
    "import shutil\n",
    "\n",
    "for i in train_rock_dir:\n",
    "    shutil.copy(os.path.join(rock_dir, i), os.path.join(train_rock, i))\n",
    "for i in train_paper_dir:\n",
    "    shutil.copy(os.path.join(paper_dir, i), os.path.join(train_paper, i))\n",
    "for i in train_scissors_dir:\n",
    "    shutil.copy(os.path.join(scissors_dir, i), os.path.join(train_scissors, i))\n",
    "    \n",
    "for i in val_rock_dir:\n",
    "    shutil.copy(os.path.join(rock_dir, i), os.path.join(val_rock, i))\n",
    "for i in val_paper_dir:\n",
    "    shutil.copy(os.path.join(paper_dir, i), os.path.join(val_paper, i))\n",
    "for i in val_scissors_dir:\n",
    "    shutil.copy(os.path.join(scissors_dir, i), os.path.join(val_scissors, i))"
   ]
  },
  {
   "cell_type": "code",
   "execution_count": 18,
   "metadata": {},
   "outputs": [
    {
     "data": {
      "text/plain": [
       "435"
      ]
     },
     "execution_count": 18,
     "metadata": {},
     "output_type": "execute_result"
    }
   ],
   "source": [
    "# melihat berapa banyak citra yang ada pada direktori train/rock\n",
    "len(os.listdir('rockpaperscissors/train/rock'))"
   ]
  },
  {
   "cell_type": "code",
   "execution_count": 19,
   "metadata": {},
   "outputs": [],
   "source": [
    "# menentukan parameter untuk augmentasi gambar data train dan validasi\n",
    "train_datagen = ImageDataGenerator(rescale = 1./255,\n",
    "                                  rotation_range = 20,\n",
    "                                  horizontal_flip = True,\n",
    "                                  shear_range = 0.2,\n",
    "                                  fill_mode = 'nearest')\n",
    "\n",
    "test_datagen = ImageDataGenerator(rescale = 1./255,\n",
    "                                  rotation_range = 20,\n",
    "                                  horizontal_flip = True,\n",
    "                                  shear_range = 0.2,\n",
    "                                  fill_mode = 'nearest')"
   ]
  },
  {
   "cell_type": "code",
   "execution_count": 20,
   "metadata": {},
   "outputs": [
    {
     "name": "stdout",
     "output_type": "stream",
     "text": [
      "Found 1312 images belonging to 3 classes.\n",
      "Found 876 images belonging to 3 classes.\n"
     ]
    }
   ],
   "source": [
    "# preprocessing citra data train dan validasi\n",
    "\n",
    "train_generator = train_datagen.flow_from_directory(train_dir, # direktori data train\n",
    "                                                   target_size = (150, 150), # mengubah resolusi menjadi 150x150 px\n",
    "                                                   batch_size = 32,\n",
    "                                                   class_mode = 'categorical') #klasifikasi 3 kelas\n",
    "validation_generator = test_datagen.flow_from_directory(validation_dir, # direktori data validasi\n",
    "                                                        target_size = (150,150), # mengubah resolusi menjadi 150x150px\n",
    "                                                        batch_size = 32,\n",
    "                                                        class_mode = 'categorical' #klasifikasi 3 kelas\n",
    ")"
   ]
  },
  {
   "cell_type": "code",
   "execution_count": 35,
   "metadata": {},
   "outputs": [],
   "source": [
    "# membangun arsitektur sebuah CNN\n",
    "model = tf.keras.models.Sequential([\n",
    "    tf.keras.layers.Conv2D(32, (3,3), activation='relu', input_shape=(150, 150, 3)), #resolusi\n",
    "    tf.keras.layers.MaxPooling2D(2, 2),\n",
    "\n",
    "    tf.keras.layers.Conv2D(64, (3,3), activation='relu'),\n",
    "    tf.keras.layers.MaxPooling2D(2,2),\n",
    "\n",
    "    tf.keras.layers.Conv2D(128, (3,3), activation='relu'),\n",
    "    tf.keras.layers.MaxPooling2D(2,2),\n",
    "\n",
    "    tf.keras.layers.Conv2D(256, (3,3), activation='relu'),\n",
    "    tf.keras.layers.MaxPooling2D(2,2),\n",
    "\n",
    "    tf.keras.layers.Flatten(),\n",
    "\n",
    "    tf.keras.layers.Dense(512, activation='relu'),\n",
    "    tf.keras.layers.Dense(3, activation='softmax')\n",
    "])"
   ]
  },
  {
   "cell_type": "code",
   "execution_count": 36,
   "metadata": {},
   "outputs": [],
   "source": [
    "# memanggil fungsi compile pada objek model\n",
    "model.compile(loss='categorical_crossentropy', # klasifikasi 3 kelas\n",
    "              optimizer=tf.optimizers.Adam(),\n",
    "              metrics=['accuracy'])"
   ]
  },
  {
   "cell_type": "code",
   "execution_count": 37,
   "metadata": {},
   "outputs": [],
   "source": [
    "# saving best model\n",
    "from keras.callbacks import ModelCheckpoint\n",
    "\n",
    "checkpoint = ModelCheckpoint(\"rock_paper_scissors.h5\",\n",
    "                             monitor=\"val_loss\",\n",
    "                             save_best_only = True,\n",
    "                             verbose=1,\n",
    "                             mode = 'auto',\n",
    "                             save_freq = 'epoch')"
   ]
  },
  {
   "cell_type": "code",
   "execution_count": 38,
   "metadata": {},
   "outputs": [
    {
     "name": "stdout",
     "output_type": "stream",
     "text": [
      "Epoch 1/20\n",
      "25/25 [==============================] - 29s 1s/step - loss: 1.1266 - accuracy: 0.4013 - val_loss: 0.9842 - val_accuracy: 0.4812\n",
      "\n",
      "Epoch 00001: val_loss improved from inf to 0.98424, saving model to rock_paper_scissors.h5\n",
      "Epoch 2/20\n",
      "25/25 [==============================] - 27s 1s/step - loss: 0.6315 - accuracy: 0.7575 - val_loss: 0.4573 - val_accuracy: 0.8500\n",
      "\n",
      "Epoch 00002: val_loss improved from 0.98424 to 0.45728, saving model to rock_paper_scissors.h5\n",
      "Epoch 3/20\n",
      "25/25 [==============================] - 26s 1s/step - loss: 0.3559 - accuracy: 0.8800 - val_loss: 0.4322 - val_accuracy: 0.8625\n",
      "\n",
      "Epoch 00003: val_loss improved from 0.45728 to 0.43218, saving model to rock_paper_scissors.h5\n",
      "Epoch 4/20\n",
      "25/25 [==============================] - 24s 981ms/step - loss: 0.2502 - accuracy: 0.9075 - val_loss: 0.2761 - val_accuracy: 0.8938\n",
      "\n",
      "Epoch 00004: val_loss improved from 0.43218 to 0.27614, saving model to rock_paper_scissors.h5\n",
      "Epoch 5/20\n",
      "25/25 [==============================] - 22s 877ms/step - loss: 0.1612 - accuracy: 0.9438 - val_loss: 0.2138 - val_accuracy: 0.9375\n",
      "\n",
      "Epoch 00005: val_loss improved from 0.27614 to 0.21376, saving model to rock_paper_scissors.h5\n",
      "Epoch 6/20\n",
      "25/25 [==============================] - 22s 886ms/step - loss: 0.1808 - accuracy: 0.9488 - val_loss: 0.2558 - val_accuracy: 0.9500\n",
      "\n",
      "Epoch 00006: val_loss did not improve from 0.21376\n",
      "Epoch 7/20\n",
      "25/25 [==============================] - 24s 972ms/step - loss: 0.1615 - accuracy: 0.9463 - val_loss: 0.2203 - val_accuracy: 0.9500\n",
      "\n",
      "Epoch 00007: val_loss did not improve from 0.21376\n",
      "Epoch 8/20\n",
      "25/25 [==============================] - 24s 945ms/step - loss: 0.0978 - accuracy: 0.9712 - val_loss: 0.2341 - val_accuracy: 0.9250\n",
      "\n",
      "Epoch 00008: val_loss did not improve from 0.21376\n",
      "Epoch 9/20\n",
      "25/25 [==============================] - 24s 956ms/step - loss: 0.1763 - accuracy: 0.9450 - val_loss: 0.1508 - val_accuracy: 0.9375\n",
      "\n",
      "Epoch 00009: val_loss improved from 0.21376 to 0.15080, saving model to rock_paper_scissors.h5\n",
      "Epoch 10/20\n",
      "25/25 [==============================] - 24s 959ms/step - loss: 0.1409 - accuracy: 0.9588 - val_loss: 0.1849 - val_accuracy: 0.9187\n",
      "\n",
      "Epoch 00010: val_loss did not improve from 0.15080\n",
      "Epoch 11/20\n",
      "25/25 [==============================] - 22s 891ms/step - loss: 0.1469 - accuracy: 0.9513 - val_loss: 0.1957 - val_accuracy: 0.9438\n",
      "\n",
      "Epoch 00011: val_loss did not improve from 0.15080\n",
      "Epoch 12/20\n",
      "25/25 [==============================] - 23s 913ms/step - loss: 0.1301 - accuracy: 0.9475 - val_loss: 0.1101 - val_accuracy: 0.9688\n",
      "\n",
      "Epoch 00012: val_loss improved from 0.15080 to 0.11012, saving model to rock_paper_scissors.h5\n",
      "Epoch 13/20\n",
      "25/25 [==============================] - 24s 951ms/step - loss: 0.1331 - accuracy: 0.9538 - val_loss: 0.3199 - val_accuracy: 0.9062\n",
      "\n",
      "Epoch 00013: val_loss did not improve from 0.11012\n",
      "Epoch 14/20\n",
      "25/25 [==============================] - 23s 943ms/step - loss: 0.0864 - accuracy: 0.9675 - val_loss: 0.0815 - val_accuracy: 0.9750\n",
      "\n",
      "Epoch 00014: val_loss improved from 0.11012 to 0.08148, saving model to rock_paper_scissors.h5\n",
      "Epoch 15/20\n",
      "25/25 [==============================] - 23s 926ms/step - loss: 0.1010 - accuracy: 0.9663 - val_loss: 0.0727 - val_accuracy: 0.9812\n",
      "\n",
      "Epoch 00015: val_loss improved from 0.08148 to 0.07271, saving model to rock_paper_scissors.h5\n",
      "Epoch 16/20\n",
      "25/25 [==============================] - 24s 946ms/step - loss: 0.0769 - accuracy: 0.9737 - val_loss: 0.1520 - val_accuracy: 0.9625\n",
      "\n",
      "Epoch 00016: val_loss did not improve from 0.07271\n",
      "Epoch 17/20\n",
      "25/25 [==============================] - 23s 907ms/step - loss: 0.0646 - accuracy: 0.9712 - val_loss: 0.0446 - val_accuracy: 0.9812\n",
      "\n",
      "Epoch 00017: val_loss improved from 0.07271 to 0.04455, saving model to rock_paper_scissors.h5\n",
      "Epoch 18/20\n",
      "25/25 [==============================] - 22s 871ms/step - loss: 0.0679 - accuracy: 0.9787 - val_loss: 0.1408 - val_accuracy: 0.9688\n",
      "\n",
      "Epoch 00018: val_loss did not improve from 0.04455\n",
      "Epoch 19/20\n",
      "25/25 [==============================] - 24s 957ms/step - loss: 0.0636 - accuracy: 0.9775 - val_loss: 0.1042 - val_accuracy: 0.9688\n",
      "\n",
      "Epoch 00019: val_loss did not improve from 0.04455\n",
      "Epoch 20/20\n",
      "25/25 [==============================] - 25s 1s/step - loss: 0.0814 - accuracy: 0.9750 - val_loss: 0.0631 - val_accuracy: 0.9875\n",
      "\n",
      "Epoch 00020: val_loss did not improve from 0.04455\n"
     ]
    }
   ],
   "source": [
    "# pelatihan mode;\n",
    "history = model.fit(\n",
    "    train_generator,\n",
    "    steps_per_epoch = 25, # jumlah batch yang akan dieksekusi pada tiap epoch\n",
    "    epochs = 20, # banyaknya epoch\n",
    "    validation_data = validation_generator, # menampilkan akurasi\n",
    "    validation_steps = 5, # jumlah batch yang akan dieksekusi tiap epoch\n",
    "    callbacks = checkpoint # menyimpan model terbaik\n",
    ")"
   ]
  },
  {
   "cell_type": "code",
   "execution_count": 39,
   "metadata": {},
   "outputs": [
    {
     "data": {
      "image/png": "[encoded data removed]",
      "text/plain": [
       "<Figure size 864x288 with 2 Axes>"
      ]
     },
     "metadata": {
      "needs_background": "light"
     },
     "output_type": "display_data"
    }
   ],
   "source": [
    "# visualisasi data hasil pelatihan model\n",
    "\n",
    "from keras.preprocessing import image\n",
    "import matplotlib.pyplot as plt\n",
    "import matplotlib.image as mpimg\n",
    "import matplotlib.pyplot as plt\n",
    "import matplotlib.image as mpimg\n",
    "%matplotlib inline\n",
    " \n",
    "\n",
    "acc = history.history['accuracy']\n",
    "val_acc = history.history['val_accuracy']\n",
    "\n",
    "loss = history.history['loss']\n",
    "val_loss = history.history['val_loss']\n",
    "\n",
    "epochs_range = range(20)\n",
    "\n",
    "plt.figure(figsize=(12, 4))\n",
    "plt.subplot(1, 2, 1)\n",
    "plt.plot(epochs_range, acc, label='Training Accuracy')\n",
    "plt.plot(epochs_range, val_acc, label='Validation Accuracy')\n",
    "plt.legend(loc='lower right')\n",
    "plt.title('Training and Validation Accuracy')\n",
    "\n",
    "plt.subplot(1, 2, 2)\n",
    "plt.plot(epochs_range, loss, label='Training Loss')\n",
    "plt.plot(epochs_range, val_loss, label='Validation Loss')\n",
    "plt.legend(loc='upper right')\n",
    "plt.title('Training and Validation Loss')\n",
    "plt.show()"
   ]
  },
  {
   "cell_type": "markdown",
   "metadata": {},
   "source": [
    "## Load The Model"
   ]
  },
  {
   "cell_type": "code",
   "execution_count": 11,
   "metadata": {},
   "outputs": [
    {
     "name": "stdout",
     "output_type": "stream",
     "text": [
      "[[0. 0. 1.]]\n",
      "Prediksi =====> Scissors\n"
     ]
    },
    {
     "data": {
      "image/png": "[encoded data removed]",
      "text/plain": [
       "<Figure size 432x288 with 1 Axes>"
      ]
     },
     "metadata": {
      "needs_background": "light"
     },
     "output_type": "display_data"
    }
   ],
   "source": [
    "import numpy as np\n",
    "from keras.models import load_model\n",
    "from keras.preprocessing import image\n",
    "import matplotlib.pyplot as plt\n",
    "%matplotlib inline\n",
    "\n",
    "\n",
    "model = load_model('rock_paper_scissors.h5')\n",
    "\n",
    "img = image.load_img('scissors2.jpg', target_size = (150, 150)) # ubah resolusi gambar menjadi 150x150 sesuai model\n",
    "imgplot = plt.imshow(img)\n",
    "x = image.img_to_array(img)\n",
    "x = np.expand_dims(x, axis=0)\n",
    "images = np.vstack([x])\n",
    "\n",
    "classes = model.predict(images, batch_size=16)\n",
    "\n",
    "print(classes)\n",
    "if classes[0, 0]!=0:\n",
    "    print('Prediksi =====> Paper')\n",
    "elif classes[0, 1]!=0:\n",
    "    print('Prediksi =====> Rock')\n",
    "else:\n",
    "    print('Prediksi =====> Scissors')"
   ]
  }
 ],
 "metadata": {
  "interpreter": {
   "hash": "fe6d48a06cf1965613c5c4b5d21b1182ca2e59212f354219b1b23c436410da45"
  },
  "kernelspec": {
   "display_name": "Python 3",
   "language": "python",
   "name": "python3"
  },
  "language_info": {
   "codemirror_mode": {
    "name": "ipython",
    "version": 3
   },
   "file_extension": ".py",
   "mimetype": "text/x-python",
   "name": "python",
   "nbconvert_exporter": "python",
   "pygments_lexer": "ipython3",
   "version": "3.8.5"
  }
 },
 "nbformat": 4,
 "nbformat_minor": 4
}
