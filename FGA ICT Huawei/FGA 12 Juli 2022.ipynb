{
 "cells": [
  {
   "cell_type": "code",
   "execution_count": 3,
   "metadata": {},
   "outputs": [
    {
     "name": "stdout",
     "output_type": "stream",
     "text": [
      "Bilangan Ganjil\n"
     ]
    }
   ],
   "source": [
    "# Rifqi Alfinnur C\n",
    "# FGA Huawei AI 2022\n",
    "\n",
    "nilai = input(\"Masukkan nilai : \")\n",
    "nilai = int(nilai)\n",
    "if nilai % 2 == 0:\n",
    "    print('Bilangan Genap')\n",
    "else:\n",
    "    print(\"Bilangan Ganjil\")"
   ]
  },
  {
   "cell_type": "code",
   "execution_count": 4,
   "metadata": {},
   "outputs": [
    {
     "name": "stdout",
     "output_type": "stream",
     "text": [
      "2\n",
      "3\n",
      "4\n",
      "5\n",
      "6\n",
      "7\n",
      "8\n",
      "9\n",
      "10\n"
     ]
    }
   ],
   "source": [
    "a = 1\n",
    "while a < 10:\n",
    "    a+=1\n",
    "    print(a)"
   ]
  },
  {
   "cell_type": "code",
   "execution_count": 5,
   "metadata": {},
   "outputs": [
    {
     "name": "stdout",
     "output_type": "stream",
     "text": [
      "False\n"
     ]
    }
   ],
   "source": [
    "A = False\n",
    "B = True\n",
    "print(A and B)"
   ]
  },
  {
   "cell_type": "code",
   "execution_count": 11,
   "metadata": {},
   "outputs": [
    {
     "name": "stdout",
     "output_type": "stream",
     "text": [
      "<re.Match object; span=(0, 6), match='FGA AI'>\n",
      "<re.Match object; span=(4, 6), match='AI'>\n"
     ]
    }
   ],
   "source": [
    "import re\n",
    "print(re.match(\"FGA AI\", \"FGA AI Huawei 2022\"))\n",
    "print(re.search(\"AI\", \"FGA AI Huawei 2022\"))"
   ]
  },
  {
   "cell_type": "code",
   "execution_count": 12,
   "metadata": {},
   "outputs": [
    {
     "name": "stdout",
     "output_type": "stream",
     "text": [
      "e:\\Ripki Alfinnur\\Belajar_Ai\\FGA ICT Huawei\n"
     ]
    }
   ],
   "source": [
    "# melihat direktori penyimpanan\n",
    "import os\n",
    "direc = os.getcwd()\n",
    "print(direc)"
   ]
  },
  {
   "cell_type": "code",
   "execution_count": 3,
   "metadata": {},
   "outputs": [
    {
     "name": "stdout",
     "output_type": "stream",
     "text": [
      "Num GPUs Available:  1\n",
      "/device:GPU:0\n"
     ]
    }
   ],
   "source": [
    "import tensorflow as tf\n",
    "print(\"Num GPUs Available: \", len(tf.config.list_physical_devices('GPU')))\n",
    "print(tf.test.gpu_device_name())"
   ]
  },
  {
   "cell_type": "code",
   "execution_count": 1,
   "metadata": {},
   "outputs": [
    {
     "name": "stdout",
     "output_type": "stream",
     "text": [
      "Hello World\n"
     ]
    }
   ],
   "source": []
  },
  {
   "cell_type": "code",
   "execution_count": 1,
   "metadata": {},
   "outputs": [
    {
     "name": "stdout",
     "output_type": "stream",
     "text": [
      "Satu 2 Tiga Empat\n"
     ]
    }
   ],
   "source": [
    "import re\n",
    "txt = \"Satu Dua Tiga Empat\"\n",
    "x = re.sub(\"Dua\", \"2\", txt)\n",
    "print(x)"
   ]
  },
  {
   "cell_type": "code",
   "execution_count": null,
   "metadata": {},
   "outputs": [],
   "source": []
  }
 ],
 "metadata": {
  "kernelspec": {
   "display_name": "Python 3.8.5 ('base')",
   "language": "python",
   "name": "python3"
  },
  "language_info": {
   "codemirror_mode": {
    "name": "ipython",
    "version": 3
   },
   "file_extension": ".py",
   "mimetype": "text/x-python",
   "name": "python",
   "nbconvert_exporter": "python",
   "pygments_lexer": "ipython3",
   "version": "3.8.5"
  },
  "orig_nbformat": 4,
  "vscode": {
   "interpreter": {
    "hash": "273e1a248b69cbdbec21070e1e74330564a497a1a6e992b7302f299dd81c15e6"
   }
  }
 },
 "nbformat": 4,
 "nbformat_minor": 2
}
