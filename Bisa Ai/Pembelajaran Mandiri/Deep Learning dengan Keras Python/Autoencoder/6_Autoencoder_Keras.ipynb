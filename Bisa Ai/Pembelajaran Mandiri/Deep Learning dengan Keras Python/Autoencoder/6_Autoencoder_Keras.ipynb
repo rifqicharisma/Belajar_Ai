{
  "cells": [
    {
      "cell_type": "code",
      "execution_count": 1,
      "metadata": {
        "colab": {
          "base_uri": "https://localhost:8080/"
        },
        "id": "teeyb7JtuoZO",
        "outputId": "8138e7be-61ec-4d6c-8199-6b4de5ab5056"
      },
      "outputs": [],
      "source": [
        "#Load Data\n",
        "from tensorflow import keras\n",
        "\n",
        "(x_train, _), (x_test, _) = keras.datasets.mnist.load_data()\n",
        "x_train = x_train / 255\n",
        "x_test = x_test / 255"
      ]
    },
    {
      "cell_type": "code",
      "execution_count": 2,
      "metadata": {
        "id": "Dn0LqlaJv2CR"
      },
      "outputs": [],
      "source": [
        "#Encoder\n",
        "encoder = keras.models.Sequential([\n",
        "    keras.layers.Flatten(input_shape=[28, 28]),\n",
        "    keras.layers.Dense(100, activation=\"relu\"),\n",
        "    keras.layers.Dense(30, activation=\"relu\"),\n",
        "])"
      ]
    },
    {
      "cell_type": "code",
      "execution_count": 3,
      "metadata": {
        "id": "unPrAiKOwHmb"
      },
      "outputs": [],
      "source": [
        "#Decoder\n",
        "decoder = keras.models.Sequential([\n",
        "    keras.layers.Dense(100, activation=\"relu\", input_shape=[30]),\n",
        "    keras.layers.Dense(28 * 28, activation=\"sigmoid\"),\n",
        "    keras.layers.Reshape([28, 28])\n",
        "])"
      ]
    },
    {
      "cell_type": "code",
      "execution_count": 4,
      "metadata": {
        "id": "65hRSl6WwU0N"
      },
      "outputs": [],
      "source": [
        "#Gabungkan Encoder-Decoder\n",
        "stacked_autoencoder = keras.models.Sequential([encoder, decoder])"
      ]
    },
    {
      "cell_type": "code",
      "execution_count": 5,
      "metadata": {
        "id": "H9EqIj7VwtMv"
      },
      "outputs": [],
      "source": [
        "stacked_autoencoder.compile(loss=\"binary_crossentropy\",\n",
        "                   optimizer='adam')"
      ]
    },
    {
      "cell_type": "code",
      "execution_count": 6,
      "metadata": {
        "colab": {
          "base_uri": "https://localhost:8080/"
        },
        "id": "ZZE7DIbCxaYZ",
        "outputId": "f5a68d14-d82b-42b7-d225-7accc30ac148"
      },
      "outputs": [
        {
          "name": "stdout",
          "output_type": "stream",
          "text": [
            "Epoch 1/10\n",
            "1875/1875 [==============================] - 19s 7ms/step - loss: 0.1470 - val_loss: 0.1092\n",
            "Epoch 2/10\n",
            "1875/1875 [==============================] - 12s 6ms/step - loss: 0.1050 - val_loss: 0.0995\n",
            "Epoch 3/10\n",
            "1875/1875 [==============================] - 12s 6ms/step - loss: 0.0991 - val_loss: 0.0963\n",
            "Epoch 4/10\n",
            "1875/1875 [==============================] - 12s 6ms/step - loss: 0.0964 - val_loss: 0.0939\n",
            "Epoch 5/10\n",
            "1875/1875 [==============================] - 12s 6ms/step - loss: 0.0946 - val_loss: 0.0927\n",
            "Epoch 6/10\n",
            "1875/1875 [==============================] - 12s 6ms/step - loss: 0.0933 - val_loss: 0.0914\n",
            "Epoch 7/10\n",
            "1875/1875 [==============================] - 12s 6ms/step - loss: 0.0923 - val_loss: 0.0909\n",
            "Epoch 8/10\n",
            "1875/1875 [==============================] - 12s 6ms/step - loss: 0.0914 - val_loss: 0.0905\n",
            "Epoch 9/10\n",
            "1875/1875 [==============================] - 13s 7ms/step - loss: 0.0907 - val_loss: 0.0893\n",
            "Epoch 10/10\n",
            "1875/1875 [==============================] - 12s 7ms/step - loss: 0.0901 - val_loss: 0.0890\n"
          ]
        }
      ],
      "source": [
        "history = stacked_autoencoder.fit(x_train, x_train, epochs=10,\n",
        "                                  validation_data=[x_test, x_test])"
      ]
    },
    {
      "cell_type": "code",
      "execution_count": 7,
      "metadata": {
        "colab": {
          "base_uri": "https://localhost:8080/",
          "height": 317
        },
        "id": "T0QUyIJ-z2gz",
        "outputId": "193f08be-960c-407b-ba79-7c566adcf10e"
      },
      "outputs": [
        {
          "data": {
            "image/png": "[encoded data removed]",
            "text/plain": [
              "<Figure size 1440x360 with 16 Axes>"
            ]
          },
          "metadata": {
            "needs_background": "light"
          },
          "output_type": "display_data"
        }
      ],
      "source": [
        "import matplotlib.pyplot as plt\n",
        "\n",
        "plt.figure(figsize=(20, 5))\n",
        "for i in range(8):\n",
        "  plt.subplot(2, 8, i+1)\n",
        "  pred = stacked_autoencoder.predict(x_test[i].reshape((1, 28, 28)))\n",
        "  plt.imshow(x_test[i], cmap=\"binary\")\n",
        "\n",
        "  plt.subplot(2, 8, i+8+1)\n",
        "  plt.imshow(pred.reshape((28, 28)), cmap=\"binary\")"
      ]
    },
    {
      "cell_type": "code",
      "execution_count": 8,
      "metadata": {
        "colab": {
          "base_uri": "https://localhost:8080/",
          "height": 230
        },
        "id": "6A1OCVdkxwx1",
        "outputId": "1ae76c21-ea99-4bfd-eb7d-87ef900b98e8"
      },
      "outputs": [
        {
          "data": {
            "text/plain": [
              "<matplotlib.image.AxesImage at 0x17275196790>"
            ]
          },
          "execution_count": 8,
          "metadata": {},
          "output_type": "execute_result"
        },
        {
          "data": {
            "image/png": "[encoded data removed]",
            "text/plain": [
              "<Figure size 720x360 with 3 Axes>"
            ]
          },
          "metadata": {
            "needs_background": "light"
          },
          "output_type": "display_data"
        }
      ],
      "source": [
        "i = 0 # change this number\n",
        "\n",
        "plt.figure(figsize=(10, 5))\n",
        "\n",
        "plt.subplot(1, 3, 1)\n",
        "plt.imshow(x_test[i], cmap=\"binary\")\n",
        "\n",
        "plt.subplot(1, 3, 2)\n",
        "latent_vector = encoder.predict(x_test[i].reshape((1, 28, 28)))\n",
        "plt.imshow(latent_vector, cmap=\"binary\")\n",
        "\n",
        "plt.subplot(1, 3, 3)\n",
        "pred = decoder.predict(latent_vector)\n",
        "plt.imshow(pred[i], cmap=\"binary\")"
      ]
    },
    {
      "cell_type": "code",
      "execution_count": null,
      "metadata": {
        "id": "4YGk8CAAz6y6"
      },
      "outputs": [],
      "source": []
    }
  ],
  "metadata": {
    "colab": {
      "name": "6. Autoencoder Keras.ipynb",
      "provenance": []
    },
    "kernelspec": {
      "display_name": "Python 3",
      "name": "python3"
    },
    "language_info": {
      "codemirror_mode": {
        "name": "ipython",
        "version": 3
      },
      "file_extension": ".py",
      "mimetype": "text/x-python",
      "name": "python",
      "nbconvert_exporter": "python",
      "pygments_lexer": "ipython3",
      "version": "3.8.5"
    }
  },
  "nbformat": 4,
  "nbformat_minor": 0
}
