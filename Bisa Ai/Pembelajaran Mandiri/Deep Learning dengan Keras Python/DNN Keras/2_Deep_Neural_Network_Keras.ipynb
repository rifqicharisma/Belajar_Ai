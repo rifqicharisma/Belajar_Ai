{
  "cells": [
    {
      "cell_type": "markdown",
      "metadata": {
        "id": "qmu7Hd7OIQ5F"
      },
      "source": [
        "# Data\n",
        "\n",
        "Data yang digunakan merupakan data harga handphone yang dapat diakses melalui link berikut : https://www.kaggle.com/iabhishekofficial/mobile-price-classification"
      ]
    },
    {
      "cell_type": "code",
      "execution_count": 1,
      "metadata": {
        "colab": {
          "base_uri": "https://localhost:8080/",
          "height": 270
        },
        "id": "DegAtK349SPM",
        "outputId": "a5178b2d-5ea0-4793-e201-f68789d57ec0"
      },
      "outputs": [
        {
          "data": {
            "text/html": [
              "<div>\n",
              "<style scoped>\n",
              "    .dataframe tbody tr th:only-of-type {\n",
              "        vertical-align: middle;\n",
              "    }\n",
              "\n",
              "    .dataframe tbody tr th {\n",
              "        vertical-align: top;\n",
              "    }\n",
              "\n",
              "    .dataframe thead th {\n",
              "        text-align: right;\n",
              "    }\n",
              "</style>\n",
              "<table border=\"1\" class=\"dataframe\">\n",
              "  <thead>\n",
              "    <tr style=\"text-align: right;\">\n",
              "      <th></th>\n",
              "      <th>battery_power</th>\n",
              "      <th>blue</th>\n",
              "      <th>clock_speed</th>\n",
              "      <th>dual_sim</th>\n",
              "      <th>fc</th>\n",
              "      <th>four_g</th>\n",
              "      <th>int_memory</th>\n",
              "      <th>m_dep</th>\n",
              "      <th>mobile_wt</th>\n",
              "      <th>n_cores</th>\n",
              "      <th>...</th>\n",
              "      <th>px_height</th>\n",
              "      <th>px_width</th>\n",
              "      <th>ram</th>\n",
              "      <th>sc_h</th>\n",
              "      <th>sc_w</th>\n",
              "      <th>talk_time</th>\n",
              "      <th>three_g</th>\n",
              "      <th>touch_screen</th>\n",
              "      <th>wifi</th>\n",
              "      <th>price_range</th>\n",
              "    </tr>\n",
              "  </thead>\n",
              "  <tbody>\n",
              "    <tr>\n",
              "      <th>0</th>\n",
              "      <td>842</td>\n",
              "      <td>0</td>\n",
              "      <td>2.2</td>\n",
              "      <td>0</td>\n",
              "      <td>1</td>\n",
              "      <td>0</td>\n",
              "      <td>7</td>\n",
              "      <td>0.6</td>\n",
              "      <td>188</td>\n",
              "      <td>2</td>\n",
              "      <td>...</td>\n",
              "      <td>20</td>\n",
              "      <td>756</td>\n",
              "      <td>2549</td>\n",
              "      <td>9</td>\n",
              "      <td>7</td>\n",
              "      <td>19</td>\n",
              "      <td>0</td>\n",
              "      <td>0</td>\n",
              "      <td>1</td>\n",
              "      <td>1</td>\n",
              "    </tr>\n",
              "    <tr>\n",
              "      <th>1</th>\n",
              "      <td>1021</td>\n",
              "      <td>1</td>\n",
              "      <td>0.5</td>\n",
              "      <td>1</td>\n",
              "      <td>0</td>\n",
              "      <td>1</td>\n",
              "      <td>53</td>\n",
              "      <td>0.7</td>\n",
              "      <td>136</td>\n",
              "      <td>3</td>\n",
              "      <td>...</td>\n",
              "      <td>905</td>\n",
              "      <td>1988</td>\n",
              "      <td>2631</td>\n",
              "      <td>17</td>\n",
              "      <td>3</td>\n",
              "      <td>7</td>\n",
              "      <td>1</td>\n",
              "      <td>1</td>\n",
              "      <td>0</td>\n",
              "      <td>2</td>\n",
              "    </tr>\n",
              "    <tr>\n",
              "      <th>2</th>\n",
              "      <td>563</td>\n",
              "      <td>1</td>\n",
              "      <td>0.5</td>\n",
              "      <td>1</td>\n",
              "      <td>2</td>\n",
              "      <td>1</td>\n",
              "      <td>41</td>\n",
              "      <td>0.9</td>\n",
              "      <td>145</td>\n",
              "      <td>5</td>\n",
              "      <td>...</td>\n",
              "      <td>1263</td>\n",
              "      <td>1716</td>\n",
              "      <td>2603</td>\n",
              "      <td>11</td>\n",
              "      <td>2</td>\n",
              "      <td>9</td>\n",
              "      <td>1</td>\n",
              "      <td>1</td>\n",
              "      <td>0</td>\n",
              "      <td>2</td>\n",
              "    </tr>\n",
              "    <tr>\n",
              "      <th>3</th>\n",
              "      <td>615</td>\n",
              "      <td>1</td>\n",
              "      <td>2.5</td>\n",
              "      <td>0</td>\n",
              "      <td>0</td>\n",
              "      <td>0</td>\n",
              "      <td>10</td>\n",
              "      <td>0.8</td>\n",
              "      <td>131</td>\n",
              "      <td>6</td>\n",
              "      <td>...</td>\n",
              "      <td>1216</td>\n",
              "      <td>1786</td>\n",
              "      <td>2769</td>\n",
              "      <td>16</td>\n",
              "      <td>8</td>\n",
              "      <td>11</td>\n",
              "      <td>1</td>\n",
              "      <td>0</td>\n",
              "      <td>0</td>\n",
              "      <td>2</td>\n",
              "    </tr>\n",
              "    <tr>\n",
              "      <th>4</th>\n",
              "      <td>1821</td>\n",
              "      <td>1</td>\n",
              "      <td>1.2</td>\n",
              "      <td>0</td>\n",
              "      <td>13</td>\n",
              "      <td>1</td>\n",
              "      <td>44</td>\n",
              "      <td>0.6</td>\n",
              "      <td>141</td>\n",
              "      <td>2</td>\n",
              "      <td>...</td>\n",
              "      <td>1208</td>\n",
              "      <td>1212</td>\n",
              "      <td>1411</td>\n",
              "      <td>8</td>\n",
              "      <td>2</td>\n",
              "      <td>15</td>\n",
              "      <td>1</td>\n",
              "      <td>1</td>\n",
              "      <td>0</td>\n",
              "      <td>1</td>\n",
              "    </tr>\n",
              "  </tbody>\n",
              "</table>\n",
              "<p>5 rows × 21 columns</p>\n",
              "</div>"
            ],
            "text/plain": [
              "   battery_power  blue  clock_speed  dual_sim  fc  four_g  int_memory  m_dep  \\\n",
              "0            842     0          2.2         0   1       0           7    0.6   \n",
              "1           1021     1          0.5         1   0       1          53    0.7   \n",
              "2            563     1          0.5         1   2       1          41    0.9   \n",
              "3            615     1          2.5         0   0       0          10    0.8   \n",
              "4           1821     1          1.2         0  13       1          44    0.6   \n",
              "\n",
              "   mobile_wt  n_cores  ...  px_height  px_width   ram  sc_h  sc_w  talk_time  \\\n",
              "0        188        2  ...         20       756  2549     9     7         19   \n",
              "1        136        3  ...        905      1988  2631    17     3          7   \n",
              "2        145        5  ...       1263      1716  2603    11     2          9   \n",
              "3        131        6  ...       1216      1786  2769    16     8         11   \n",
              "4        141        2  ...       1208      1212  1411     8     2         15   \n",
              "\n",
              "   three_g  touch_screen  wifi  price_range  \n",
              "0        0             0     1            1  \n",
              "1        1             1     0            2  \n",
              "2        1             1     0            2  \n",
              "3        1             0     0            2  \n",
              "4        1             1     0            1  \n",
              "\n",
              "[5 rows x 21 columns]"
            ]
          },
          "execution_count": 1,
          "metadata": {},
          "output_type": "execute_result"
        }
      ],
      "source": [
        "import pandas as pd\n",
        "\n",
        "df = pd.read_csv('train.csv')\n",
        "df.head()"
      ]
    },
    {
      "cell_type": "code",
      "execution_count": 2,
      "metadata": {
        "colab": {
          "base_uri": "https://localhost:8080/"
        },
        "id": "NPpxZRHtIRzU",
        "outputId": "3d8b6bdf-6097-4b0f-bfb5-b43bef3c7f80"
      },
      "outputs": [
        {
          "data": {
            "text/plain": [
              "(2000, 21)"
            ]
          },
          "execution_count": 2,
          "metadata": {},
          "output_type": "execute_result"
        }
      ],
      "source": [
        "df.shape"
      ]
    },
    {
      "cell_type": "code",
      "execution_count": 3,
      "metadata": {
        "colab": {
          "base_uri": "https://localhost:8080/"
        },
        "id": "xpnPNXuxPcZG",
        "outputId": "b232d641-0391-4db2-9f8a-0d4908a4ca4b"
      },
      "outputs": [
        {
          "data": {
            "text/plain": [
              "array([1, 2, 3, 0], dtype=int64)"
            ]
          },
          "execution_count": 3,
          "metadata": {},
          "output_type": "execute_result"
        }
      ],
      "source": [
        "df['price_range'].unique()"
      ]
    },
    {
      "cell_type": "markdown",
      "metadata": {
        "id": "sxVzDEpfQXmf"
      },
      "source": [
        "0(low cost), 1(medium cost), 2(high cost) and 3(very high cost)."
      ]
    },
    {
      "cell_type": "code",
      "execution_count": 4,
      "metadata": {
        "colab": {
          "base_uri": "https://localhost:8080/"
        },
        "id": "M5L5DGm3OAxk",
        "outputId": "cb80cb41-7ab8-4002-add2-063d638742ee"
      },
      "outputs": [
        {
          "name": "stdout",
          "output_type": "stream",
          "text": [
            "<class 'pandas.core.frame.DataFrame'>\n",
            "RangeIndex: 2000 entries, 0 to 1999\n",
            "Data columns (total 21 columns):\n",
            " #   Column         Non-Null Count  Dtype  \n",
            "---  ------         --------------  -----  \n",
            " 0   battery_power  2000 non-null   int64  \n",
            " 1   blue           2000 non-null   int64  \n",
            " 2   clock_speed    2000 non-null   float64\n",
            " 3   dual_sim       2000 non-null   int64  \n",
            " 4   fc             2000 non-null   int64  \n",
            " 5   four_g         2000 non-null   int64  \n",
            " 6   int_memory     2000 non-null   int64  \n",
            " 7   m_dep          2000 non-null   float64\n",
            " 8   mobile_wt      2000 non-null   int64  \n",
            " 9   n_cores        2000 non-null   int64  \n",
            " 10  pc             2000 non-null   int64  \n",
            " 11  px_height      2000 non-null   int64  \n",
            " 12  px_width       2000 non-null   int64  \n",
            " 13  ram            2000 non-null   int64  \n",
            " 14  sc_h           2000 non-null   int64  \n",
            " 15  sc_w           2000 non-null   int64  \n",
            " 16  talk_time      2000 non-null   int64  \n",
            " 17  three_g        2000 non-null   int64  \n",
            " 18  touch_screen   2000 non-null   int64  \n",
            " 19  wifi           2000 non-null   int64  \n",
            " 20  price_range    2000 non-null   int64  \n",
            "dtypes: float64(2), int64(19)\n",
            "memory usage: 328.2 KB\n"
          ]
        }
      ],
      "source": [
        "df.info()"
      ]
    },
    {
      "cell_type": "code",
      "execution_count": 5,
      "metadata": {
        "colab": {
          "base_uri": "https://localhost:8080/",
          "height": 364
        },
        "id": "wDAOBE9gOJGh",
        "outputId": "13ad943b-73ea-4cb7-9240-d8908bc7cb3b"
      },
      "outputs": [
        {
          "data": {
            "text/html": [
              "<div>\n",
              "<style scoped>\n",
              "    .dataframe tbody tr th:only-of-type {\n",
              "        vertical-align: middle;\n",
              "    }\n",
              "\n",
              "    .dataframe tbody tr th {\n",
              "        vertical-align: top;\n",
              "    }\n",
              "\n",
              "    .dataframe thead th {\n",
              "        text-align: right;\n",
              "    }\n",
              "</style>\n",
              "<table border=\"1\" class=\"dataframe\">\n",
              "  <thead>\n",
              "    <tr style=\"text-align: right;\">\n",
              "      <th></th>\n",
              "      <th>battery_power</th>\n",
              "      <th>blue</th>\n",
              "      <th>clock_speed</th>\n",
              "      <th>dual_sim</th>\n",
              "      <th>fc</th>\n",
              "      <th>four_g</th>\n",
              "      <th>int_memory</th>\n",
              "      <th>m_dep</th>\n",
              "      <th>mobile_wt</th>\n",
              "      <th>n_cores</th>\n",
              "      <th>...</th>\n",
              "      <th>px_height</th>\n",
              "      <th>px_width</th>\n",
              "      <th>ram</th>\n",
              "      <th>sc_h</th>\n",
              "      <th>sc_w</th>\n",
              "      <th>talk_time</th>\n",
              "      <th>three_g</th>\n",
              "      <th>touch_screen</th>\n",
              "      <th>wifi</th>\n",
              "      <th>price_range</th>\n",
              "    </tr>\n",
              "  </thead>\n",
              "  <tbody>\n",
              "    <tr>\n",
              "      <th>count</th>\n",
              "      <td>2000.000000</td>\n",
              "      <td>2000.0000</td>\n",
              "      <td>2000.000000</td>\n",
              "      <td>2000.000000</td>\n",
              "      <td>2000.000000</td>\n",
              "      <td>2000.000000</td>\n",
              "      <td>2000.000000</td>\n",
              "      <td>2000.000000</td>\n",
              "      <td>2000.000000</td>\n",
              "      <td>2000.000000</td>\n",
              "      <td>...</td>\n",
              "      <td>2000.000000</td>\n",
              "      <td>2000.000000</td>\n",
              "      <td>2000.000000</td>\n",
              "      <td>2000.000000</td>\n",
              "      <td>2000.000000</td>\n",
              "      <td>2000.000000</td>\n",
              "      <td>2000.000000</td>\n",
              "      <td>2000.000000</td>\n",
              "      <td>2000.000000</td>\n",
              "      <td>2000.000000</td>\n",
              "    </tr>\n",
              "    <tr>\n",
              "      <th>mean</th>\n",
              "      <td>1238.518500</td>\n",
              "      <td>0.4950</td>\n",
              "      <td>1.522250</td>\n",
              "      <td>0.509500</td>\n",
              "      <td>4.309500</td>\n",
              "      <td>0.521500</td>\n",
              "      <td>32.046500</td>\n",
              "      <td>0.501750</td>\n",
              "      <td>140.249000</td>\n",
              "      <td>4.520500</td>\n",
              "      <td>...</td>\n",
              "      <td>645.108000</td>\n",
              "      <td>1251.515500</td>\n",
              "      <td>2124.213000</td>\n",
              "      <td>12.306500</td>\n",
              "      <td>5.767000</td>\n",
              "      <td>11.011000</td>\n",
              "      <td>0.761500</td>\n",
              "      <td>0.503000</td>\n",
              "      <td>0.507000</td>\n",
              "      <td>1.500000</td>\n",
              "    </tr>\n",
              "    <tr>\n",
              "      <th>std</th>\n",
              "      <td>439.418206</td>\n",
              "      <td>0.5001</td>\n",
              "      <td>0.816004</td>\n",
              "      <td>0.500035</td>\n",
              "      <td>4.341444</td>\n",
              "      <td>0.499662</td>\n",
              "      <td>18.145715</td>\n",
              "      <td>0.288416</td>\n",
              "      <td>35.399655</td>\n",
              "      <td>2.287837</td>\n",
              "      <td>...</td>\n",
              "      <td>443.780811</td>\n",
              "      <td>432.199447</td>\n",
              "      <td>1084.732044</td>\n",
              "      <td>4.213245</td>\n",
              "      <td>4.356398</td>\n",
              "      <td>5.463955</td>\n",
              "      <td>0.426273</td>\n",
              "      <td>0.500116</td>\n",
              "      <td>0.500076</td>\n",
              "      <td>1.118314</td>\n",
              "    </tr>\n",
              "    <tr>\n",
              "      <th>min</th>\n",
              "      <td>501.000000</td>\n",
              "      <td>0.0000</td>\n",
              "      <td>0.500000</td>\n",
              "      <td>0.000000</td>\n",
              "      <td>0.000000</td>\n",
              "      <td>0.000000</td>\n",
              "      <td>2.000000</td>\n",
              "      <td>0.100000</td>\n",
              "      <td>80.000000</td>\n",
              "      <td>1.000000</td>\n",
              "      <td>...</td>\n",
              "      <td>0.000000</td>\n",
              "      <td>500.000000</td>\n",
              "      <td>256.000000</td>\n",
              "      <td>5.000000</td>\n",
              "      <td>0.000000</td>\n",
              "      <td>2.000000</td>\n",
              "      <td>0.000000</td>\n",
              "      <td>0.000000</td>\n",
              "      <td>0.000000</td>\n",
              "      <td>0.000000</td>\n",
              "    </tr>\n",
              "    <tr>\n",
              "      <th>25%</th>\n",
              "      <td>851.750000</td>\n",
              "      <td>0.0000</td>\n",
              "      <td>0.700000</td>\n",
              "      <td>0.000000</td>\n",
              "      <td>1.000000</td>\n",
              "      <td>0.000000</td>\n",
              "      <td>16.000000</td>\n",
              "      <td>0.200000</td>\n",
              "      <td>109.000000</td>\n",
              "      <td>3.000000</td>\n",
              "      <td>...</td>\n",
              "      <td>282.750000</td>\n",
              "      <td>874.750000</td>\n",
              "      <td>1207.500000</td>\n",
              "      <td>9.000000</td>\n",
              "      <td>2.000000</td>\n",
              "      <td>6.000000</td>\n",
              "      <td>1.000000</td>\n",
              "      <td>0.000000</td>\n",
              "      <td>0.000000</td>\n",
              "      <td>0.750000</td>\n",
              "    </tr>\n",
              "    <tr>\n",
              "      <th>50%</th>\n",
              "      <td>1226.000000</td>\n",
              "      <td>0.0000</td>\n",
              "      <td>1.500000</td>\n",
              "      <td>1.000000</td>\n",
              "      <td>3.000000</td>\n",
              "      <td>1.000000</td>\n",
              "      <td>32.000000</td>\n",
              "      <td>0.500000</td>\n",
              "      <td>141.000000</td>\n",
              "      <td>4.000000</td>\n",
              "      <td>...</td>\n",
              "      <td>564.000000</td>\n",
              "      <td>1247.000000</td>\n",
              "      <td>2146.500000</td>\n",
              "      <td>12.000000</td>\n",
              "      <td>5.000000</td>\n",
              "      <td>11.000000</td>\n",
              "      <td>1.000000</td>\n",
              "      <td>1.000000</td>\n",
              "      <td>1.000000</td>\n",
              "      <td>1.500000</td>\n",
              "    </tr>\n",
              "    <tr>\n",
              "      <th>75%</th>\n",
              "      <td>1615.250000</td>\n",
              "      <td>1.0000</td>\n",
              "      <td>2.200000</td>\n",
              "      <td>1.000000</td>\n",
              "      <td>7.000000</td>\n",
              "      <td>1.000000</td>\n",
              "      <td>48.000000</td>\n",
              "      <td>0.800000</td>\n",
              "      <td>170.000000</td>\n",
              "      <td>7.000000</td>\n",
              "      <td>...</td>\n",
              "      <td>947.250000</td>\n",
              "      <td>1633.000000</td>\n",
              "      <td>3064.500000</td>\n",
              "      <td>16.000000</td>\n",
              "      <td>9.000000</td>\n",
              "      <td>16.000000</td>\n",
              "      <td>1.000000</td>\n",
              "      <td>1.000000</td>\n",
              "      <td>1.000000</td>\n",
              "      <td>2.250000</td>\n",
              "    </tr>\n",
              "    <tr>\n",
              "      <th>max</th>\n",
              "      <td>1998.000000</td>\n",
              "      <td>1.0000</td>\n",
              "      <td>3.000000</td>\n",
              "      <td>1.000000</td>\n",
              "      <td>19.000000</td>\n",
              "      <td>1.000000</td>\n",
              "      <td>64.000000</td>\n",
              "      <td>1.000000</td>\n",
              "      <td>200.000000</td>\n",
              "      <td>8.000000</td>\n",
              "      <td>...</td>\n",
              "      <td>1960.000000</td>\n",
              "      <td>1998.000000</td>\n",
              "      <td>3998.000000</td>\n",
              "      <td>19.000000</td>\n",
              "      <td>18.000000</td>\n",
              "      <td>20.000000</td>\n",
              "      <td>1.000000</td>\n",
              "      <td>1.000000</td>\n",
              "      <td>1.000000</td>\n",
              "      <td>3.000000</td>\n",
              "    </tr>\n",
              "  </tbody>\n",
              "</table>\n",
              "<p>8 rows × 21 columns</p>\n",
              "</div>"
            ],
            "text/plain": [
              "       battery_power       blue  clock_speed     dual_sim           fc  \\\n",
              "count    2000.000000  2000.0000  2000.000000  2000.000000  2000.000000   \n",
              "mean     1238.518500     0.4950     1.522250     0.509500     4.309500   \n",
              "std       439.418206     0.5001     0.816004     0.500035     4.341444   \n",
              "min       501.000000     0.0000     0.500000     0.000000     0.000000   \n",
              "25%       851.750000     0.0000     0.700000     0.000000     1.000000   \n",
              "50%      1226.000000     0.0000     1.500000     1.000000     3.000000   \n",
              "75%      1615.250000     1.0000     2.200000     1.000000     7.000000   \n",
              "max      1998.000000     1.0000     3.000000     1.000000    19.000000   \n",
              "\n",
              "            four_g   int_memory        m_dep    mobile_wt      n_cores  ...  \\\n",
              "count  2000.000000  2000.000000  2000.000000  2000.000000  2000.000000  ...   \n",
              "mean      0.521500    32.046500     0.501750   140.249000     4.520500  ...   \n",
              "std       0.499662    18.145715     0.288416    35.399655     2.287837  ...   \n",
              "min       0.000000     2.000000     0.100000    80.000000     1.000000  ...   \n",
              "25%       0.000000    16.000000     0.200000   109.000000     3.000000  ...   \n",
              "50%       1.000000    32.000000     0.500000   141.000000     4.000000  ...   \n",
              "75%       1.000000    48.000000     0.800000   170.000000     7.000000  ...   \n",
              "max       1.000000    64.000000     1.000000   200.000000     8.000000  ...   \n",
              "\n",
              "         px_height     px_width          ram         sc_h         sc_w  \\\n",
              "count  2000.000000  2000.000000  2000.000000  2000.000000  2000.000000   \n",
              "mean    645.108000  1251.515500  2124.213000    12.306500     5.767000   \n",
              "std     443.780811   432.199447  1084.732044     4.213245     4.356398   \n",
              "min       0.000000   500.000000   256.000000     5.000000     0.000000   \n",
              "25%     282.750000   874.750000  1207.500000     9.000000     2.000000   \n",
              "50%     564.000000  1247.000000  2146.500000    12.000000     5.000000   \n",
              "75%     947.250000  1633.000000  3064.500000    16.000000     9.000000   \n",
              "max    1960.000000  1998.000000  3998.000000    19.000000    18.000000   \n",
              "\n",
              "         talk_time      three_g  touch_screen         wifi  price_range  \n",
              "count  2000.000000  2000.000000   2000.000000  2000.000000  2000.000000  \n",
              "mean     11.011000     0.761500      0.503000     0.507000     1.500000  \n",
              "std       5.463955     0.426273      0.500116     0.500076     1.118314  \n",
              "min       2.000000     0.000000      0.000000     0.000000     0.000000  \n",
              "25%       6.000000     1.000000      0.000000     0.000000     0.750000  \n",
              "50%      11.000000     1.000000      1.000000     1.000000     1.500000  \n",
              "75%      16.000000     1.000000      1.000000     1.000000     2.250000  \n",
              "max      20.000000     1.000000      1.000000     1.000000     3.000000  \n",
              "\n",
              "[8 rows x 21 columns]"
            ]
          },
          "execution_count": 5,
          "metadata": {},
          "output_type": "execute_result"
        }
      ],
      "source": [
        "df.describe()"
      ]
    },
    {
      "cell_type": "code",
      "execution_count": 6,
      "metadata": {
        "colab": {
          "base_uri": "https://localhost:8080/"
        },
        "id": "uhZX0pUFORLD",
        "outputId": "9016c1fe-1f31-4e77-a357-6861229b3b1f"
      },
      "outputs": [
        {
          "data": {
            "text/plain": [
              "0    500\n",
              "1    500\n",
              "2    500\n",
              "3    500\n",
              "Name: price_range, dtype: int64"
            ]
          },
          "execution_count": 6,
          "metadata": {},
          "output_type": "execute_result"
        }
      ],
      "source": [
        "df['price_range'].value_counts().sort_values(ascending=False)"
      ]
    },
    {
      "cell_type": "markdown",
      "metadata": {
        "id": "7V-lkLeYQmk7"
      },
      "source": [
        "# Preprocessing"
      ]
    },
    {
      "cell_type": "code",
      "execution_count": 7,
      "metadata": {
        "id": "Bh8wpSuXQFFd"
      },
      "outputs": [],
      "source": [
        "#Memisahkan antara feature (x) dan label (y)\n",
        "X = df.drop('price_range', axis=1)\n",
        "y = df[['price_range']]"
      ]
    },
    {
      "cell_type": "code",
      "execution_count": 8,
      "metadata": {
        "colab": {
          "base_uri": "https://localhost:8080/",
          "height": 239
        },
        "id": "OQmbVA3nQvEv",
        "outputId": "f31e47f2-49b7-48ee-cdd3-84f06f9b4068"
      },
      "outputs": [
        {
          "data": {
            "text/html": [
              "<div>\n",
              "<style scoped>\n",
              "    .dataframe tbody tr th:only-of-type {\n",
              "        vertical-align: middle;\n",
              "    }\n",
              "\n",
              "    .dataframe tbody tr th {\n",
              "        vertical-align: top;\n",
              "    }\n",
              "\n",
              "    .dataframe thead th {\n",
              "        text-align: right;\n",
              "    }\n",
              "</style>\n",
              "<table border=\"1\" class=\"dataframe\">\n",
              "  <thead>\n",
              "    <tr style=\"text-align: right;\">\n",
              "      <th></th>\n",
              "      <th>battery_power</th>\n",
              "      <th>blue</th>\n",
              "      <th>clock_speed</th>\n",
              "      <th>dual_sim</th>\n",
              "      <th>fc</th>\n",
              "      <th>four_g</th>\n",
              "      <th>int_memory</th>\n",
              "      <th>m_dep</th>\n",
              "      <th>mobile_wt</th>\n",
              "      <th>n_cores</th>\n",
              "      <th>pc</th>\n",
              "      <th>px_height</th>\n",
              "      <th>px_width</th>\n",
              "      <th>ram</th>\n",
              "      <th>sc_h</th>\n",
              "      <th>sc_w</th>\n",
              "      <th>talk_time</th>\n",
              "      <th>three_g</th>\n",
              "      <th>touch_screen</th>\n",
              "      <th>wifi</th>\n",
              "    </tr>\n",
              "  </thead>\n",
              "  <tbody>\n",
              "    <tr>\n",
              "      <th>0</th>\n",
              "      <td>842</td>\n",
              "      <td>0</td>\n",
              "      <td>2.2</td>\n",
              "      <td>0</td>\n",
              "      <td>1</td>\n",
              "      <td>0</td>\n",
              "      <td>7</td>\n",
              "      <td>0.6</td>\n",
              "      <td>188</td>\n",
              "      <td>2</td>\n",
              "      <td>2</td>\n",
              "      <td>20</td>\n",
              "      <td>756</td>\n",
              "      <td>2549</td>\n",
              "      <td>9</td>\n",
              "      <td>7</td>\n",
              "      <td>19</td>\n",
              "      <td>0</td>\n",
              "      <td>0</td>\n",
              "      <td>1</td>\n",
              "    </tr>\n",
              "    <tr>\n",
              "      <th>1</th>\n",
              "      <td>1021</td>\n",
              "      <td>1</td>\n",
              "      <td>0.5</td>\n",
              "      <td>1</td>\n",
              "      <td>0</td>\n",
              "      <td>1</td>\n",
              "      <td>53</td>\n",
              "      <td>0.7</td>\n",
              "      <td>136</td>\n",
              "      <td>3</td>\n",
              "      <td>6</td>\n",
              "      <td>905</td>\n",
              "      <td>1988</td>\n",
              "      <td>2631</td>\n",
              "      <td>17</td>\n",
              "      <td>3</td>\n",
              "      <td>7</td>\n",
              "      <td>1</td>\n",
              "      <td>1</td>\n",
              "      <td>0</td>\n",
              "    </tr>\n",
              "    <tr>\n",
              "      <th>2</th>\n",
              "      <td>563</td>\n",
              "      <td>1</td>\n",
              "      <td>0.5</td>\n",
              "      <td>1</td>\n",
              "      <td>2</td>\n",
              "      <td>1</td>\n",
              "      <td>41</td>\n",
              "      <td>0.9</td>\n",
              "      <td>145</td>\n",
              "      <td>5</td>\n",
              "      <td>6</td>\n",
              "      <td>1263</td>\n",
              "      <td>1716</td>\n",
              "      <td>2603</td>\n",
              "      <td>11</td>\n",
              "      <td>2</td>\n",
              "      <td>9</td>\n",
              "      <td>1</td>\n",
              "      <td>1</td>\n",
              "      <td>0</td>\n",
              "    </tr>\n",
              "    <tr>\n",
              "      <th>3</th>\n",
              "      <td>615</td>\n",
              "      <td>1</td>\n",
              "      <td>2.5</td>\n",
              "      <td>0</td>\n",
              "      <td>0</td>\n",
              "      <td>0</td>\n",
              "      <td>10</td>\n",
              "      <td>0.8</td>\n",
              "      <td>131</td>\n",
              "      <td>6</td>\n",
              "      <td>9</td>\n",
              "      <td>1216</td>\n",
              "      <td>1786</td>\n",
              "      <td>2769</td>\n",
              "      <td>16</td>\n",
              "      <td>8</td>\n",
              "      <td>11</td>\n",
              "      <td>1</td>\n",
              "      <td>0</td>\n",
              "      <td>0</td>\n",
              "    </tr>\n",
              "  </tbody>\n",
              "</table>\n",
              "</div>"
            ],
            "text/plain": [
              "   battery_power  blue  clock_speed  dual_sim  fc  four_g  int_memory  m_dep  \\\n",
              "0            842     0          2.2         0   1       0           7    0.6   \n",
              "1           1021     1          0.5         1   0       1          53    0.7   \n",
              "2            563     1          0.5         1   2       1          41    0.9   \n",
              "3            615     1          2.5         0   0       0          10    0.8   \n",
              "\n",
              "   mobile_wt  n_cores  pc  px_height  px_width   ram  sc_h  sc_w  talk_time  \\\n",
              "0        188        2   2         20       756  2549     9     7         19   \n",
              "1        136        3   6        905      1988  2631    17     3          7   \n",
              "2        145        5   6       1263      1716  2603    11     2          9   \n",
              "3        131        6   9       1216      1786  2769    16     8         11   \n",
              "\n",
              "   three_g  touch_screen  wifi  \n",
              "0        0             0     1  \n",
              "1        1             1     0  \n",
              "2        1             1     0  \n",
              "3        1             0     0  "
            ]
          },
          "execution_count": 8,
          "metadata": {},
          "output_type": "execute_result"
        }
      ],
      "source": [
        "X.head(4)"
      ]
    },
    {
      "cell_type": "code",
      "execution_count": 9,
      "metadata": {
        "colab": {
          "base_uri": "https://localhost:8080/",
          "height": 175
        },
        "id": "5AItZxESRBsL",
        "outputId": "2025e5e9-c7d6-4c42-a8b1-ed4207cb5769"
      },
      "outputs": [
        {
          "data": {
            "text/html": [
              "<div>\n",
              "<style scoped>\n",
              "    .dataframe tbody tr th:only-of-type {\n",
              "        vertical-align: middle;\n",
              "    }\n",
              "\n",
              "    .dataframe tbody tr th {\n",
              "        vertical-align: top;\n",
              "    }\n",
              "\n",
              "    .dataframe thead th {\n",
              "        text-align: right;\n",
              "    }\n",
              "</style>\n",
              "<table border=\"1\" class=\"dataframe\">\n",
              "  <thead>\n",
              "    <tr style=\"text-align: right;\">\n",
              "      <th></th>\n",
              "      <th>price_range</th>\n",
              "    </tr>\n",
              "  </thead>\n",
              "  <tbody>\n",
              "    <tr>\n",
              "      <th>0</th>\n",
              "      <td>1</td>\n",
              "    </tr>\n",
              "    <tr>\n",
              "      <th>1</th>\n",
              "      <td>2</td>\n",
              "    </tr>\n",
              "    <tr>\n",
              "      <th>2</th>\n",
              "      <td>2</td>\n",
              "    </tr>\n",
              "    <tr>\n",
              "      <th>3</th>\n",
              "      <td>2</td>\n",
              "    </tr>\n",
              "  </tbody>\n",
              "</table>\n",
              "</div>"
            ],
            "text/plain": [
              "   price_range\n",
              "0            1\n",
              "1            2\n",
              "2            2\n",
              "3            2"
            ]
          },
          "execution_count": 9,
          "metadata": {},
          "output_type": "execute_result"
        }
      ],
      "source": [
        "y.head(4)"
      ]
    },
    {
      "cell_type": "code",
      "execution_count": 10,
      "metadata": {
        "id": "6jfzhEiETsqp"
      },
      "outputs": [],
      "source": [
        "#Normalizing the data\n",
        "from sklearn.preprocessing import StandardScaler\n",
        "sc = StandardScaler()\n",
        "X = sc.fit_transform(X)"
      ]
    },
    {
      "cell_type": "code",
      "execution_count": 11,
      "metadata": {
        "colab": {
          "base_uri": "https://localhost:8080/"
        },
        "id": "GOA4_rtaTzmb",
        "outputId": "ef09f20e-cee7-4ca0-9c8c-59176e457f3a"
      },
      "outputs": [
        {
          "data": {
            "text/plain": [
              "array([-0.90259726, -0.9900495 ,  0.83077942, -1.01918398, -0.76249466,\n",
              "       -1.04396559, -1.38064353,  0.34073951,  1.34924881, -1.10197128,\n",
              "       -1.3057501 , -1.40894856, -1.14678403,  0.39170341, -0.78498329,\n",
              "        0.2831028 ,  1.46249332, -1.78686097, -1.00601811,  0.98609664])"
            ]
          },
          "execution_count": 11,
          "metadata": {},
          "output_type": "execute_result"
        }
      ],
      "source": [
        "X[0,:]"
      ]
    },
    {
      "cell_type": "code",
      "execution_count": 12,
      "metadata": {
        "colab": {
          "base_uri": "https://localhost:8080/"
        },
        "id": "kXVdaaOCRCQf",
        "outputId": "82e8ad20-49ea-46c5-8bd7-158cba06d8a6"
      },
      "outputs": [
        {
          "name": "stdout",
          "output_type": "stream",
          "text": [
            "[[0. 1. 0. 0.]\n",
            " [0. 0. 1. 0.]\n",
            " [0. 0. 1. 0.]\n",
            " [0. 0. 1. 0.]]\n"
          ]
        }
      ],
      "source": [
        "#proses selanjutnya yaitu melakukan one hot encoding terhadap y.\n",
        "#One hot encoding adalah proses untuk mengubah kelas integer menjadi nilai biner\n",
        "#contohnya jika kita memiliki 3 kelas, yaitu 1, 2 dan 3\n",
        "#maka untuk 1 akan menjadi 1 0 0\n",
        "#lalu untuk 2 akan menjadi 0 1 0\n",
        "#dan untuk 3 akan menjadi  0 0 1\n",
        "\n",
        "from sklearn.preprocessing import OneHotEncoder\n",
        "ohe = OneHotEncoder()\n",
        "y = ohe.fit_transform(y).toarray()\n",
        "print(y[:4])"
      ]
    },
    {
      "cell_type": "code",
      "execution_count": 13,
      "metadata": {
        "colab": {
          "base_uri": "https://localhost:8080/"
        },
        "id": "qWbJFPCnRuqb",
        "outputId": "fa11c0bf-4f1e-4f66-c4c1-95e86f83509d"
      },
      "outputs": [
        {
          "name": "stdout",
          "output_type": "stream",
          "text": [
            "(1800, 20) (1800, 4)\n",
            "(200, 20) (200, 4)\n"
          ]
        }
      ],
      "source": [
        "#Proses pemisahan data menjadi training dan testing\n",
        "\n",
        "from sklearn.model_selection import train_test_split\n",
        "X_train,X_test,y_train,y_test = train_test_split(X,y,test_size = 0.1,random_state=0)\n",
        "\n",
        "print(X_train.shape, y_train.shape)\n",
        "print(X_test.shape, y_test.shape)"
      ]
    },
    {
      "cell_type": "markdown",
      "metadata": {
        "id": "7jWRG256R9zY"
      },
      "source": [
        "# Model Deep Neural Network"
      ]
    },
    {
      "cell_type": "code",
      "execution_count": 14,
      "metadata": {
        "id": "pKbcYihyR7S-"
      },
      "outputs": [],
      "source": [
        "import keras\n",
        "from keras.models import Sequential\n",
        "from keras.layers import Dense, InputLayer"
      ]
    },
    {
      "cell_type": "code",
      "execution_count": 15,
      "metadata": {
        "id": "87PnESpqSDSv"
      },
      "outputs": [],
      "source": [
        "model = Sequential() #Model\n",
        "model.add(InputLayer(input_shape=(20,))) #Input Layer\n",
        "model.add(Dense(16, activation='relu')) #Hidden Layer 1 \n",
        "model.add(Dense(16, activation='relu')) #Hidden Layer 2\n",
        "model.add(Dense(8, activation='relu')) #Hidden Layer 3\n",
        "model.add(Dense(4, activation='softmax')) #Output Layer"
      ]
    },
    {
      "cell_type": "code",
      "execution_count": 16,
      "metadata": {
        "colab": {
          "base_uri": "https://localhost:8080/"
        },
        "id": "PsngabAhS_4I",
        "outputId": "503fe980-fa66-4e09-c962-a03642741e04"
      },
      "outputs": [
        {
          "name": "stdout",
          "output_type": "stream",
          "text": [
            "Model: \"sequential\"\n",
            "_________________________________________________________________\n",
            " Layer (type)                Output Shape              Param #   \n",
            "=================================================================\n",
            " dense (Dense)               (None, 16)                336       \n",
            "                                                                 \n",
            " dense_1 (Dense)             (None, 16)                272       \n",
            "                                                                 \n",
            " dense_2 (Dense)             (None, 8)                 136       \n",
            "                                                                 \n",
            " dense_3 (Dense)             (None, 4)                 36        \n",
            "                                                                 \n",
            "=================================================================\n",
            "Total params: 780\n",
            "Trainable params: 780\n",
            "Non-trainable params: 0\n",
            "_________________________________________________________________\n"
          ]
        }
      ],
      "source": [
        "model.summary()"
      ]
    },
    {
      "cell_type": "code",
      "execution_count": 17,
      "metadata": {
        "id": "ylkAyuzRTGoe"
      },
      "outputs": [],
      "source": [
        "model.compile(loss='categorical_crossentropy',\n",
        "              optimizer='adam',\n",
        "              metrics=['accuracy'])"
      ]
    },
    {
      "cell_type": "code",
      "execution_count": 18,
      "metadata": {
        "colab": {
          "base_uri": "https://localhost:8080/"
        },
        "id": "8fbznTb9TSi4",
        "outputId": "46d0115e-1344-4605-fffc-c40f0914f3e1"
      },
      "outputs": [
        {
          "name": "stdout",
          "output_type": "stream",
          "text": [
            "Epoch 1/100\n",
            "51/51 [==============================] - 6s 27ms/step - loss: 1.3796 - accuracy: 0.3019 - val_loss: 1.3515 - val_accuracy: 0.3278\n",
            "Epoch 2/100\n",
            "51/51 [==============================] - 0s 8ms/step - loss: 1.3396 - accuracy: 0.3383 - val_loss: 1.3161 - val_accuracy: 0.3500\n",
            "Epoch 3/100\n",
            "51/51 [==============================] - 0s 4ms/step - loss: 1.2735 - accuracy: 0.4062 - val_loss: 1.2336 - val_accuracy: 0.4222\n",
            "Epoch 4/100\n",
            "51/51 [==============================] - 0s 4ms/step - loss: 1.1531 - accuracy: 0.4975 - val_loss: 1.0978 - val_accuracy: 0.5111\n",
            "Epoch 5/100\n",
            "51/51 [==============================] - 0s 9ms/step - loss: 0.9810 - accuracy: 0.5772 - val_loss: 0.9320 - val_accuracy: 0.5667\n",
            "Epoch 6/100\n",
            "51/51 [==============================] - 0s 7ms/step - loss: 0.7939 - accuracy: 0.6778 - val_loss: 0.7597 - val_accuracy: 0.6556\n",
            "Epoch 7/100\n",
            "51/51 [==============================] - 0s 4ms/step - loss: 0.6277 - accuracy: 0.7759 - val_loss: 0.6166 - val_accuracy: 0.6889\n",
            "Epoch 8/100\n",
            "51/51 [==============================] - 0s 4ms/step - loss: 0.5054 - accuracy: 0.8179 - val_loss: 0.5132 - val_accuracy: 0.8167\n",
            "Epoch 9/100\n",
            "51/51 [==============================] - 0s 4ms/step - loss: 0.4241 - accuracy: 0.8506 - val_loss: 0.4740 - val_accuracy: 0.8278\n",
            "Epoch 10/100\n",
            "51/51 [==============================] - 0s 7ms/step - loss: 0.3631 - accuracy: 0.8753 - val_loss: 0.4028 - val_accuracy: 0.8667\n",
            "Epoch 11/100\n",
            "51/51 [==============================] - 0s 7ms/step - loss: 0.3180 - accuracy: 0.8846 - val_loss: 0.3812 - val_accuracy: 0.8556\n",
            "Epoch 12/100\n",
            "51/51 [==============================] - 0s 7ms/step - loss: 0.2845 - accuracy: 0.8981 - val_loss: 0.3533 - val_accuracy: 0.8556\n",
            "Epoch 13/100\n",
            "51/51 [==============================] - 0s 4ms/step - loss: 0.2615 - accuracy: 0.8994 - val_loss: 0.3350 - val_accuracy: 0.8889\n",
            "Epoch 14/100\n",
            "51/51 [==============================] - 0s 6ms/step - loss: 0.2403 - accuracy: 0.9142 - val_loss: 0.3208 - val_accuracy: 0.8722\n",
            "Epoch 15/100\n",
            "51/51 [==============================] - 0s 6ms/step - loss: 0.2225 - accuracy: 0.9204 - val_loss: 0.2909 - val_accuracy: 0.8944\n",
            "Epoch 16/100\n",
            "51/51 [==============================] - 0s 7ms/step - loss: 0.2076 - accuracy: 0.9247 - val_loss: 0.2848 - val_accuracy: 0.8944\n",
            "Epoch 17/100\n",
            "51/51 [==============================] - 0s 4ms/step - loss: 0.1922 - accuracy: 0.9340 - val_loss: 0.2771 - val_accuracy: 0.8944\n",
            "Epoch 18/100\n",
            "51/51 [==============================] - 0s 4ms/step - loss: 0.1811 - accuracy: 0.9340 - val_loss: 0.2645 - val_accuracy: 0.8889\n",
            "Epoch 19/100\n",
            "51/51 [==============================] - 0s 4ms/step - loss: 0.1682 - accuracy: 0.9395 - val_loss: 0.2685 - val_accuracy: 0.9000\n",
            "Epoch 20/100\n",
            "51/51 [==============================] - 0s 4ms/step - loss: 0.1613 - accuracy: 0.9444 - val_loss: 0.2498 - val_accuracy: 0.9056\n",
            "Epoch 21/100\n",
            "51/51 [==============================] - 0s 2ms/step - loss: 0.1535 - accuracy: 0.9451 - val_loss: 0.2496 - val_accuracy: 0.9111\n",
            "Epoch 22/100\n",
            "51/51 [==============================] - 0s 5ms/step - loss: 0.1469 - accuracy: 0.9475 - val_loss: 0.2616 - val_accuracy: 0.9056\n",
            "Epoch 23/100\n",
            "51/51 [==============================] - 0s 4ms/step - loss: 0.1375 - accuracy: 0.9549 - val_loss: 0.2465 - val_accuracy: 0.9111\n",
            "Epoch 24/100\n",
            "51/51 [==============================] - 0s 4ms/step - loss: 0.1318 - accuracy: 0.9611 - val_loss: 0.2674 - val_accuracy: 0.8889\n",
            "Epoch 25/100\n",
            "51/51 [==============================] - 0s 5ms/step - loss: 0.1245 - accuracy: 0.9593 - val_loss: 0.2675 - val_accuracy: 0.9000\n",
            "Epoch 26/100\n",
            "51/51 [==============================] - 0s 4ms/step - loss: 0.1198 - accuracy: 0.9605 - val_loss: 0.2546 - val_accuracy: 0.9111\n",
            "Epoch 27/100\n",
            "51/51 [==============================] - 0s 4ms/step - loss: 0.1159 - accuracy: 0.9605 - val_loss: 0.2360 - val_accuracy: 0.9111\n",
            "Epoch 28/100\n",
            "51/51 [==============================] - 0s 5ms/step - loss: 0.1127 - accuracy: 0.9593 - val_loss: 0.2112 - val_accuracy: 0.9278\n",
            "Epoch 29/100\n",
            "51/51 [==============================] - 0s 4ms/step - loss: 0.1053 - accuracy: 0.9648 - val_loss: 0.2498 - val_accuracy: 0.9111\n",
            "Epoch 30/100\n",
            "51/51 [==============================] - 0s 8ms/step - loss: 0.1015 - accuracy: 0.9691 - val_loss: 0.2337 - val_accuracy: 0.9056\n",
            "Epoch 31/100\n",
            "51/51 [==============================] - 0s 6ms/step - loss: 0.0992 - accuracy: 0.9722 - val_loss: 0.2338 - val_accuracy: 0.9222\n",
            "Epoch 32/100\n",
            "51/51 [==============================] - 0s 3ms/step - loss: 0.0958 - accuracy: 0.9710 - val_loss: 0.2136 - val_accuracy: 0.9222\n",
            "Epoch 33/100\n",
            "51/51 [==============================] - 0s 3ms/step - loss: 0.0898 - accuracy: 0.9722 - val_loss: 0.2181 - val_accuracy: 0.9167\n",
            "Epoch 34/100\n",
            "51/51 [==============================] - 0s 4ms/step - loss: 0.0851 - accuracy: 0.9765 - val_loss: 0.2324 - val_accuracy: 0.9167\n",
            "Epoch 35/100\n",
            "51/51 [==============================] - 0s 4ms/step - loss: 0.0833 - accuracy: 0.9759 - val_loss: 0.2145 - val_accuracy: 0.9278\n",
            "Epoch 36/100\n",
            "51/51 [==============================] - 0s 4ms/step - loss: 0.0793 - accuracy: 0.9747 - val_loss: 0.2058 - val_accuracy: 0.9222\n",
            "Epoch 37/100\n",
            "51/51 [==============================] - 0s 4ms/step - loss: 0.0795 - accuracy: 0.9728 - val_loss: 0.2435 - val_accuracy: 0.9222\n",
            "Epoch 38/100\n",
            "51/51 [==============================] - 0s 4ms/step - loss: 0.0753 - accuracy: 0.9778 - val_loss: 0.2242 - val_accuracy: 0.9222\n",
            "Epoch 39/100\n",
            "51/51 [==============================] - 0s 4ms/step - loss: 0.0691 - accuracy: 0.9809 - val_loss: 0.2295 - val_accuracy: 0.9167\n",
            "Epoch 40/100\n",
            "51/51 [==============================] - 0s 4ms/step - loss: 0.0690 - accuracy: 0.9809 - val_loss: 0.2365 - val_accuracy: 0.9222\n",
            "Epoch 41/100\n",
            "51/51 [==============================] - 0s 4ms/step - loss: 0.0662 - accuracy: 0.9840 - val_loss: 0.2063 - val_accuracy: 0.9278\n",
            "Epoch 42/100\n",
            "51/51 [==============================] - 0s 4ms/step - loss: 0.0640 - accuracy: 0.9815 - val_loss: 0.2063 - val_accuracy: 0.9333\n",
            "Epoch 43/100\n",
            "51/51 [==============================] - 0s 4ms/step - loss: 0.0634 - accuracy: 0.9840 - val_loss: 0.2092 - val_accuracy: 0.9167\n",
            "Epoch 44/100\n",
            "51/51 [==============================] - 0s 5ms/step - loss: 0.0555 - accuracy: 0.9858 - val_loss: 0.2350 - val_accuracy: 0.9222\n",
            "Epoch 45/100\n",
            "51/51 [==============================] - 0s 6ms/step - loss: 0.0583 - accuracy: 0.9840 - val_loss: 0.2376 - val_accuracy: 0.9278\n",
            "Epoch 46/100\n",
            "51/51 [==============================] - 0s 5ms/step - loss: 0.0574 - accuracy: 0.9846 - val_loss: 0.2364 - val_accuracy: 0.9222\n",
            "Epoch 47/100\n",
            "51/51 [==============================] - 0s 5ms/step - loss: 0.0551 - accuracy: 0.9864 - val_loss: 0.2215 - val_accuracy: 0.9167\n",
            "Epoch 48/100\n",
            "51/51 [==============================] - 0s 6ms/step - loss: 0.0516 - accuracy: 0.9864 - val_loss: 0.2032 - val_accuracy: 0.9222\n",
            "Epoch 49/100\n",
            "51/51 [==============================] - 0s 5ms/step - loss: 0.0490 - accuracy: 0.9889 - val_loss: 0.2257 - val_accuracy: 0.9167\n",
            "Epoch 50/100\n",
            "51/51 [==============================] - 0s 4ms/step - loss: 0.0461 - accuracy: 0.9932 - val_loss: 0.2252 - val_accuracy: 0.9278\n",
            "Epoch 51/100\n",
            "51/51 [==============================] - 0s 5ms/step - loss: 0.0434 - accuracy: 0.9951 - val_loss: 0.2123 - val_accuracy: 0.9167\n",
            "Epoch 52/100\n",
            "51/51 [==============================] - 0s 5ms/step - loss: 0.0419 - accuracy: 0.9951 - val_loss: 0.2011 - val_accuracy: 0.9278\n",
            "Epoch 53/100\n",
            "51/51 [==============================] - 0s 6ms/step - loss: 0.0417 - accuracy: 0.9907 - val_loss: 0.2075 - val_accuracy: 0.9222\n",
            "Epoch 54/100\n",
            "51/51 [==============================] - 0s 5ms/step - loss: 0.0406 - accuracy: 0.9944 - val_loss: 0.2542 - val_accuracy: 0.9222\n",
            "Epoch 55/100\n",
            "51/51 [==============================] - 0s 4ms/step - loss: 0.0375 - accuracy: 0.9944 - val_loss: 0.2341 - val_accuracy: 0.9278\n",
            "Epoch 56/100\n",
            "51/51 [==============================] - 0s 6ms/step - loss: 0.0378 - accuracy: 0.9932 - val_loss: 0.2367 - val_accuracy: 0.9222\n",
            "Epoch 57/100\n",
            "51/51 [==============================] - 0s 4ms/step - loss: 0.0349 - accuracy: 0.9951 - val_loss: 0.2515 - val_accuracy: 0.9222\n",
            "Epoch 58/100\n",
            "51/51 [==============================] - 0s 6ms/step - loss: 0.0325 - accuracy: 0.9981 - val_loss: 0.2082 - val_accuracy: 0.9278\n",
            "Epoch 59/100\n",
            "51/51 [==============================] - 0s 7ms/step - loss: 0.0329 - accuracy: 0.9957 - val_loss: 0.2299 - val_accuracy: 0.9222\n",
            "Epoch 60/100\n",
            "51/51 [==============================] - 0s 5ms/step - loss: 0.0314 - accuracy: 0.9981 - val_loss: 0.2543 - val_accuracy: 0.9222\n",
            "Epoch 61/100\n",
            "51/51 [==============================] - 0s 4ms/step - loss: 0.0292 - accuracy: 0.9975 - val_loss: 0.2274 - val_accuracy: 0.9222\n",
            "Epoch 62/100\n",
            "51/51 [==============================] - 0s 7ms/step - loss: 0.0285 - accuracy: 0.9975 - val_loss: 0.2439 - val_accuracy: 0.9167\n",
            "Epoch 63/100\n",
            "51/51 [==============================] - 0s 6ms/step - loss: 0.0299 - accuracy: 0.9963 - val_loss: 0.2432 - val_accuracy: 0.9111\n",
            "Epoch 64/100\n",
            "51/51 [==============================] - 0s 5ms/step - loss: 0.0253 - accuracy: 0.9994 - val_loss: 0.2549 - val_accuracy: 0.9167\n",
            "Epoch 65/100\n",
            "51/51 [==============================] - 0s 6ms/step - loss: 0.0250 - accuracy: 0.9981 - val_loss: 0.2246 - val_accuracy: 0.9222\n",
            "Epoch 66/100\n",
            "51/51 [==============================] - 0s 5ms/step - loss: 0.0230 - accuracy: 0.9994 - val_loss: 0.2458 - val_accuracy: 0.9167\n",
            "Epoch 67/100\n",
            "51/51 [==============================] - 0s 5ms/step - loss: 0.0219 - accuracy: 0.9981 - val_loss: 0.2480 - val_accuracy: 0.9167\n",
            "Epoch 68/100\n",
            "51/51 [==============================] - 0s 3ms/step - loss: 0.0216 - accuracy: 0.9994 - val_loss: 0.2515 - val_accuracy: 0.9056\n",
            "Epoch 69/100\n",
            "51/51 [==============================] - 0s 4ms/step - loss: 0.0211 - accuracy: 0.9988 - val_loss: 0.2508 - val_accuracy: 0.9167\n",
            "Epoch 70/100\n",
            "51/51 [==============================] - 0s 4ms/step - loss: 0.0214 - accuracy: 0.9988 - val_loss: 0.2403 - val_accuracy: 0.9222\n",
            "Epoch 71/100\n",
            "51/51 [==============================] - 0s 4ms/step - loss: 0.0204 - accuracy: 0.9975 - val_loss: 0.2540 - val_accuracy: 0.9111\n",
            "Epoch 72/100\n",
            "51/51 [==============================] - 0s 4ms/step - loss: 0.0190 - accuracy: 0.9994 - val_loss: 0.2430 - val_accuracy: 0.9222\n",
            "Epoch 73/100\n",
            "51/51 [==============================] - 0s 4ms/step - loss: 0.0180 - accuracy: 1.0000 - val_loss: 0.2696 - val_accuracy: 0.9111\n",
            "Epoch 74/100\n",
            "51/51 [==============================] - 0s 4ms/step - loss: 0.0174 - accuracy: 0.9994 - val_loss: 0.2657 - val_accuracy: 0.9167\n",
            "Epoch 75/100\n",
            "51/51 [==============================] - 0s 5ms/step - loss: 0.0171 - accuracy: 0.9994 - val_loss: 0.2667 - val_accuracy: 0.9111\n",
            "Epoch 76/100\n",
            "51/51 [==============================] - 0s 5ms/step - loss: 0.0162 - accuracy: 1.0000 - val_loss: 0.2624 - val_accuracy: 0.9167\n",
            "Epoch 77/100\n",
            "51/51 [==============================] - 0s 4ms/step - loss: 0.0167 - accuracy: 0.9994 - val_loss: 0.2812 - val_accuracy: 0.9111\n",
            "Epoch 78/100\n",
            "51/51 [==============================] - 0s 3ms/step - loss: 0.0148 - accuracy: 1.0000 - val_loss: 0.2514 - val_accuracy: 0.9278\n",
            "Epoch 79/100\n",
            "51/51 [==============================] - 0s 4ms/step - loss: 0.0149 - accuracy: 1.0000 - val_loss: 0.2865 - val_accuracy: 0.9111\n",
            "Epoch 80/100\n",
            "51/51 [==============================] - 0s 5ms/step - loss: 0.0136 - accuracy: 0.9994 - val_loss: 0.2998 - val_accuracy: 0.9056\n",
            "Epoch 81/100\n",
            "51/51 [==============================] - 0s 5ms/step - loss: 0.0134 - accuracy: 0.9994 - val_loss: 0.2818 - val_accuracy: 0.9222\n",
            "Epoch 82/100\n",
            "51/51 [==============================] - 0s 7ms/step - loss: 0.0123 - accuracy: 1.0000 - val_loss: 0.2748 - val_accuracy: 0.9056\n",
            "Epoch 83/100\n",
            "51/51 [==============================] - 0s 6ms/step - loss: 0.0115 - accuracy: 1.0000 - val_loss: 0.2806 - val_accuracy: 0.9167\n",
            "Epoch 84/100\n",
            "51/51 [==============================] - 0s 4ms/step - loss: 0.0107 - accuracy: 1.0000 - val_loss: 0.2847 - val_accuracy: 0.9111\n",
            "Epoch 85/100\n",
            "51/51 [==============================] - 0s 4ms/step - loss: 0.0105 - accuracy: 1.0000 - val_loss: 0.2846 - val_accuracy: 0.9111\n",
            "Epoch 86/100\n",
            "51/51 [==============================] - 0s 4ms/step - loss: 0.0104 - accuracy: 1.0000 - val_loss: 0.2856 - val_accuracy: 0.9111\n",
            "Epoch 87/100\n",
            "51/51 [==============================] - 0s 4ms/step - loss: 0.0099 - accuracy: 1.0000 - val_loss: 0.2951 - val_accuracy: 0.9222\n",
            "Epoch 88/100\n",
            "51/51 [==============================] - 0s 5ms/step - loss: 0.0103 - accuracy: 1.0000 - val_loss: 0.2910 - val_accuracy: 0.9111\n",
            "Epoch 89/100\n",
            "51/51 [==============================] - 0s 5ms/step - loss: 0.0091 - accuracy: 1.0000 - val_loss: 0.2957 - val_accuracy: 0.9111\n",
            "Epoch 90/100\n",
            "51/51 [==============================] - 0s 5ms/step - loss: 0.0091 - accuracy: 1.0000 - val_loss: 0.2946 - val_accuracy: 0.9167\n",
            "Epoch 91/100\n",
            "51/51 [==============================] - 0s 7ms/step - loss: 0.0080 - accuracy: 1.0000 - val_loss: 0.3170 - val_accuracy: 0.9111\n",
            "Epoch 92/100\n",
            "51/51 [==============================] - 0s 7ms/step - loss: 0.0080 - accuracy: 1.0000 - val_loss: 0.2875 - val_accuracy: 0.9222\n",
            "Epoch 93/100\n",
            "51/51 [==============================] - 0s 8ms/step - loss: 0.0076 - accuracy: 1.0000 - val_loss: 0.2893 - val_accuracy: 0.9222\n",
            "Epoch 94/100\n",
            "51/51 [==============================] - 0s 7ms/step - loss: 0.0078 - accuracy: 1.0000 - val_loss: 0.3300 - val_accuracy: 0.9222\n",
            "Epoch 95/100\n",
            "51/51 [==============================] - 0s 4ms/step - loss: 0.0071 - accuracy: 1.0000 - val_loss: 0.3206 - val_accuracy: 0.9111\n",
            "Epoch 96/100\n",
            "51/51 [==============================] - 0s 4ms/step - loss: 0.0066 - accuracy: 1.0000 - val_loss: 0.3105 - val_accuracy: 0.9111\n",
            "Epoch 97/100\n",
            "51/51 [==============================] - 0s 5ms/step - loss: 0.0062 - accuracy: 1.0000 - val_loss: 0.3312 - val_accuracy: 0.9167\n",
            "Epoch 98/100\n",
            "51/51 [==============================] - 0s 4ms/step - loss: 0.0061 - accuracy: 1.0000 - val_loss: 0.3040 - val_accuracy: 0.9222\n",
            "Epoch 99/100\n",
            "51/51 [==============================] - 0s 4ms/step - loss: 0.0064 - accuracy: 1.0000 - val_loss: 0.3297 - val_accuracy: 0.9111\n",
            "Epoch 100/100\n",
            "51/51 [==============================] - 0s 5ms/step - loss: 0.0062 - accuracy: 1.0000 - val_loss: 0.3076 - val_accuracy: 0.9222\n"
          ]
        }
      ],
      "source": [
        "history = model.fit(X_train, y_train,\n",
        "                    validation_split=0.1, shuffle=True,\n",
        "                    epochs=100)"
      ]
    },
    {
      "cell_type": "code",
      "execution_count": 20,
      "metadata": {
        "colab": {
          "base_uri": "https://localhost:8080/",
          "height": 295
        },
        "id": "JO8xKPyfXV9s",
        "outputId": "5c8ea70b-1da2-4a9b-89e6-d52fcd6e742b"
      },
      "outputs": [
        {
          "data": {
            "image/png": "[encoded data removed]",
            "text/plain": [
              "<Figure size 432x288 with 1 Axes>"
            ]
          },
          "metadata": {
            "needs_background": "light"
          },
          "output_type": "display_data"
        }
      ],
      "source": [
        "import matplotlib.pyplot as plt\n",
        "\n",
        "plt.plot(history.history['accuracy'])\n",
        "plt.plot(history.history['val_accuracy'])\n",
        "plt.title('Model accuracy')\n",
        "plt.ylabel('Accuracy')\n",
        "plt.xlabel('Epoch')\n",
        "plt.legend(['Training', 'Validation'])\n",
        "plt.show()"
      ]
    },
    {
      "cell_type": "code",
      "execution_count": 21,
      "metadata": {
        "colab": {
          "base_uri": "https://localhost:8080/",
          "height": 295
        },
        "id": "eoJI9lJKXdG9",
        "outputId": "f4e6bfd6-76b9-4bf0-e2d6-f4789b3af0ca"
      },
      "outputs": [
        {
          "data": {
            "image/png": "[encoded data removed]",
            "text/plain": [
              "<Figure size 432x288 with 1 Axes>"
            ]
          },
          "metadata": {
            "needs_background": "light"
          },
          "output_type": "display_data"
        }
      ],
      "source": [
        "plt.plot(history.history['loss'],label='Training')\n",
        "plt.plot(history.history['val_loss'],label='Validation')\n",
        "plt.title('Model loss')\n",
        "plt.ylabel('Loss')\n",
        "plt.xlabel('Epoch')\n",
        "plt.legend()\n",
        "plt.show()"
      ]
    },
    {
      "cell_type": "markdown",
      "metadata": {
        "id": "_xQJau8LXkuY"
      },
      "source": [
        "# Predict"
      ]
    },
    {
      "cell_type": "code",
      "execution_count": 24,
      "metadata": {
        "colab": {
          "base_uri": "https://localhost:8080/"
        },
        "id": "aMauLF0cUACv",
        "outputId": "e9e8b5a3-9730-4cde-a2a5-26297b410e80"
      },
      "outputs": [
        {
          "name": "stdout",
          "output_type": "stream",
          "text": [
            "[0.0000000e+00 1.7103374e-22 1.2155182e-03 9.9878448e-01]\n",
            "[0. 0. 0. 1.]\n"
          ]
        }
      ],
      "source": [
        "y_pred = model.predict(X_test)\n",
        "print(y_pred[0])\n",
        "print(y_test[0])"
      ]
    },
    {
      "cell_type": "code",
      "execution_count": 25,
      "metadata": {
        "colab": {
          "base_uri": "https://localhost:8080/"
        },
        "id": "fJ0JlgW2VwpW",
        "outputId": "32c99f3a-bd31-44d8-9983-21f7adb9c454"
      },
      "outputs": [
        {
          "name": "stdout",
          "output_type": "stream",
          "text": [
            "3\n",
            "3\n"
          ]
        }
      ],
      "source": [
        "import numpy as np\n",
        "\n",
        "print(np.argmax(y_pred[0]))\n",
        "print(np.argmax(y_test[0]))"
      ]
    },
    {
      "cell_type": "code",
      "execution_count": 26,
      "metadata": {
        "colab": {
          "base_uri": "https://localhost:8080/"
        },
        "id": "pSvJICqTWnwH",
        "outputId": "0948bd32-7e8f-41f1-cd35-f27c4c704b89"
      },
      "outputs": [
        {
          "name": "stdout",
          "output_type": "stream",
          "text": [
            "[3, 0, 2, 2]\n",
            "[3, 0, 2, 2]\n"
          ]
        }
      ],
      "source": [
        "pred = []\n",
        "for i in range(len(y_pred)):\n",
        "    pred.append(np.argmax(y_pred[i]))\n",
        "\n",
        "test = []\n",
        "for i in range(len(y_test)):\n",
        "    test.append(np.argmax(y_test[i]))\n",
        "\n",
        "print(pred[:4])\n",
        "print(test[:4])"
      ]
    },
    {
      "cell_type": "markdown",
      "metadata": {
        "id": "L2XXP-Q7XnpY"
      },
      "source": [
        "# Evaluation"
      ]
    },
    {
      "cell_type": "code",
      "execution_count": 27,
      "metadata": {
        "colab": {
          "base_uri": "https://localhost:8080/"
        },
        "id": "ULEVGDT_XpjO",
        "outputId": "99229d6a-6ea4-4858-d804-daab41d6a2f9"
      },
      "outputs": [
        {
          "data": {
            "text/plain": [
              "0.915"
            ]
          },
          "execution_count": 27,
          "metadata": {},
          "output_type": "execute_result"
        }
      ],
      "source": [
        "from sklearn.metrics import accuracy_score\n",
        "\n",
        "accuracy_score(test,pred) "
      ]
    },
    {
      "cell_type": "code",
      "execution_count": 28,
      "metadata": {
        "colab": {
          "base_uri": "https://localhost:8080/"
        },
        "id": "kxlXOvd9X8JU",
        "outputId": "3c5c739d-df6f-4656-c019-f04ac4522ca0"
      },
      "outputs": [
        {
          "name": "stdout",
          "output_type": "stream",
          "text": [
            "              precision    recall  f1-score   support\n",
            "\n",
            "           0       0.95      0.95      0.95        42\n",
            "           1       0.94      0.90      0.92        50\n",
            "           2       0.84      0.89      0.87        47\n",
            "           3       0.93      0.92      0.93        61\n",
            "\n",
            "    accuracy                           0.92       200\n",
            "   macro avg       0.92      0.92      0.92       200\n",
            "weighted avg       0.92      0.92      0.92       200\n",
            "\n"
          ]
        }
      ],
      "source": [
        "from sklearn.metrics import classification_report\n",
        "\n",
        "print(classification_report(test,pred))"
      ]
    },
    {
      "cell_type": "code",
      "execution_count": 29,
      "metadata": {
        "colab": {
          "base_uri": "https://localhost:8080/"
        },
        "id": "JaZadh7cYF_8",
        "outputId": "2a156f05-3cd9-456c-b95a-2c3854443272"
      },
      "outputs": [
        {
          "data": {
            "text/plain": [
              "array([[40,  2,  0,  0],\n",
              "       [ 2, 45,  3,  0],\n",
              "       [ 0,  1, 42,  4],\n",
              "       [ 0,  0,  5, 56]], dtype=int64)"
            ]
          },
          "execution_count": 29,
          "metadata": {},
          "output_type": "execute_result"
        }
      ],
      "source": [
        "from sklearn.metrics import confusion_matrix\n",
        "\n",
        "confusion_matrix(test,pred)"
      ]
    },
    {
      "cell_type": "code",
      "execution_count": 30,
      "metadata": {
        "colab": {
          "base_uri": "https://localhost:8080/",
          "height": 282
        },
        "id": "vQpaOJVbYKyo",
        "outputId": "9c9b8274-8d1c-4d61-9917-4e5d20aaa261"
      },
      "outputs": [
        {
          "data": {
            "text/plain": [
              "<AxesSubplot:>"
            ]
          },
          "execution_count": 30,
          "metadata": {},
          "output_type": "execute_result"
        },
        {
          "data": {
            "image/png": "[encoded data removed]",
            "text/plain": [
              "<Figure size 432x288 with 2 Axes>"
            ]
          },
          "metadata": {
            "needs_background": "light"
          },
          "output_type": "display_data"
        }
      ],
      "source": [
        "import seaborn as sns\n",
        "\n",
        "cm = confusion_matrix(test,pred)\n",
        "\n",
        "sns.heatmap(cm,annot=True,cmap='coolwarm')"
      ]
    }
  ],
  "metadata": {
    "colab": {
      "name": "2. Deep Neural Network Keras.ipynb",
      "provenance": []
    },
    "kernelspec": {
      "display_name": "Python 3",
      "name": "python3"
    },
    "language_info": {
      "codemirror_mode": {
        "name": "ipython",
        "version": 3
      },
      "file_extension": ".py",
      "mimetype": "text/x-python",
      "name": "python",
      "nbconvert_exporter": "python",
      "pygments_lexer": "ipython3",
      "version": "3.8.5"
    }
  },
  "nbformat": 4,
  "nbformat_minor": 0
}
