{
 "cells": [
  {
   "cell_type": "code",
   "execution_count": 1,
   "metadata": {},
   "outputs": [],
   "source": [
    "import numpy as np\n",
    "import matplotlib.pyplot as plt\n",
    "import pandas as pd\n",
    "%matplotlib inline\n",
    "import cv2\n",
    "import os\n",
    "from tqdm import tqdm"
   ]
  },
  {
   "cell_type": "code",
   "execution_count": 2,
   "metadata": {},
   "outputs": [],
   "source": [
    "DATADIR = 'dataset'\n",
    "CATEGORIES = ['Blight', 'Common_Rust', 'Gray_Leaf_Spot', 'Healthy']\n",
    "IMG_SIZE = 256"
   ]
  },
  {
   "cell_type": "code",
   "execution_count": 3,
   "metadata": {},
   "outputs": [],
   "source": [
    "training_data = []\n",
    "for category in CATEGORIES:\n",
    "    path = os.path.join(DATADIR, category)\n",
    "    #print(path)\n",
    "    class_num = category\n",
    "    for img in os.listdir(path):\n",
    "        img_array = cv2.imread(os.path.join(path,img))\n",
    "        #print(os.path.join(path,img))\n",
    "        new_array = cv2.resize(img_array, (IMG_SIZE, IMG_SIZE))\n",
    "        training_data.append([new_array, class_num])"
   ]
  },
  {
   "cell_type": "code",
   "execution_count": 4,
   "metadata": {},
   "outputs": [
    {
     "name": "stdout",
     "output_type": "stream",
     "text": [
      "160\n"
     ]
    }
   ],
   "source": [
    "print(len(training_data))"
   ]
  },
  {
   "cell_type": "code",
   "execution_count": 5,
   "metadata": {},
   "outputs": [
    {
     "name": "stdout",
     "output_type": "stream",
     "text": [
      "[array([[[190, 174, 167],\n",
      "        [184, 168, 161],\n",
      "        [181, 165, 158],\n",
      "        ...,\n",
      "        [129, 125, 124],\n",
      "        [129, 125, 124],\n",
      "        [118, 114, 113]],\n",
      "\n",
      "       [[189, 173, 166],\n",
      "        [185, 169, 162],\n",
      "        [183, 167, 160],\n",
      "        ...,\n",
      "        [124, 120, 119],\n",
      "        [122, 118, 117],\n",
      "        [129, 125, 124]],\n",
      "\n",
      "       [[190, 172, 165],\n",
      "        [188, 170, 163],\n",
      "        [187, 169, 162],\n",
      "        ...,\n",
      "        [122, 118, 117],\n",
      "        [119, 115, 114],\n",
      "        [137, 133, 132]],\n",
      "\n",
      "       ...,\n",
      "\n",
      "       [[115, 149, 178],\n",
      "        [118, 152, 181],\n",
      "        [122, 156, 185],\n",
      "        ...,\n",
      "        [153, 189, 213],\n",
      "        [152, 188, 212],\n",
      "        [151, 187, 211]],\n",
      "\n",
      "       [[120, 154, 183],\n",
      "        [122, 156, 185],\n",
      "        [124, 158, 187],\n",
      "        ...,\n",
      "        [169, 205, 229],\n",
      "        [169, 205, 229],\n",
      "        [170, 206, 230]],\n",
      "\n",
      "       [[132, 166, 195],\n",
      "        [131, 165, 194],\n",
      "        [131, 165, 194],\n",
      "        ...,\n",
      "        [180, 216, 240],\n",
      "        [180, 216, 240],\n",
      "        [180, 216, 240]]], dtype=uint8), 'Blight']\n"
     ]
    }
   ],
   "source": [
    "print(training_data[0])"
   ]
  },
  {
   "cell_type": "code",
   "execution_count": 6,
   "metadata": {},
   "outputs": [
    {
     "name": "stdout",
     "output_type": "stream",
     "text": [
      "196608\n",
      "160\n"
     ]
    }
   ],
   "source": [
    "X=[]\n",
    "y=[]\n",
    "\n",
    "for categories, label in training_data:\n",
    "    X.append(categories)\n",
    "    y.append(label)\n",
    "X = np.array(X).reshape(len(training_data), -1)\n",
    "print(len(X[0]))\n",
    "print(len(y))"
   ]
  },
  {
   "cell_type": "code",
   "execution_count": 7,
   "metadata": {},
   "outputs": [
    {
     "name": "stdout",
     "output_type": "stream",
     "text": [
      "[0.23763471 0.09699078 0.06669737 0.05718449 0.03610764 0.0313701\n",
      " 0.02544461 0.02247377 0.01878506 0.01617781 0.01465709 0.01351973]\n",
      "[[ 11208.78383451  -2241.85753581  -1248.22495788 ...   2438.78436246\n",
      "   -2446.95910134  -2907.91904799]\n",
      " [ -5444.17597887  -3511.22053684   2664.57656253 ...   4422.52898347\n",
      "    4989.70358344    777.14885603]\n",
      " [ -6715.39430691    577.95770087    875.01055297 ...   5012.28766102\n",
      "    5033.41114841   1288.20826767]\n",
      " ...\n",
      " [ -7997.99052343 -10790.57885679   2430.28337163 ...   -783.75528219\n",
      "    5044.059576     5718.50184121]\n",
      " [ 10380.83403862  -1772.6529735   -2386.74174765 ...   4921.2172855\n",
      "    2773.17806831   2506.6710995 ]\n",
      " [ -7007.56673085  -6925.74966347   7356.6293471  ...   2490.3248431\n",
      "    3206.47693459   1965.05809931]]\n"
     ]
    }
   ],
   "source": [
    "from sklearn.decomposition import PCA\n",
    "pca = PCA(n_components=12)\n",
    "pca.fit(X)\n",
    "print(pca.explained_variance_ratio_)\n",
    "X=pca.fit_transform(X)\n",
    "print(X)"
   ]
  },
  {
   "cell_type": "code",
   "execution_count": 8,
   "metadata": {},
   "outputs": [
    {
     "data": {
      "text/plain": [
       "(160,)"
      ]
     },
     "execution_count": 8,
     "metadata": {},
     "output_type": "execute_result"
    }
   ],
   "source": [
    "y = np.array(y)\n",
    "y.shape"
   ]
  },
  {
   "cell_type": "code",
   "execution_count": 9,
   "metadata": {},
   "outputs": [],
   "source": [
    "from sklearn.model_selection import train_test_split\n",
    "X_train, X_test, y_train, y_test = train_test_split(X,y, test_size=0.2)"
   ]
  },
  {
   "cell_type": "code",
   "execution_count": 10,
   "metadata": {},
   "outputs": [
    {
     "data": {
      "text/plain": [
       "SVC()"
      ]
     },
     "execution_count": 10,
     "metadata": {},
     "output_type": "execute_result"
    }
   ],
   "source": [
    "from sklearn.svm import SVC\n",
    "svc = SVC()\n",
    "svc.fit(X_train, y_train)"
   ]
  },
  {
   "cell_type": "code",
   "execution_count": 11,
   "metadata": {},
   "outputs": [],
   "source": [
    "y2 = svc.predict(X_test)"
   ]
  },
  {
   "cell_type": "code",
   "execution_count": 12,
   "metadata": {},
   "outputs": [
    {
     "name": "stdout",
     "output_type": "stream",
     "text": [
      "Accuracy pada data test :  0.78125\n"
     ]
    }
   ],
   "source": [
    "from sklearn.metrics import accuracy_score\n",
    "print(\"Accuracy pada data test : \", accuracy_score(y_test, y2))"
   ]
  },
  {
   "cell_type": "code",
   "execution_count": 13,
   "metadata": {},
   "outputs": [
    {
     "data": {
      "text/html": [
       "<div>\n",
       "<style scoped>\n",
       "    .dataframe tbody tr th:only-of-type {\n",
       "        vertical-align: middle;\n",
       "    }\n",
       "\n",
       "    .dataframe tbody tr th {\n",
       "        vertical-align: top;\n",
       "    }\n",
       "\n",
       "    .dataframe thead th {\n",
       "        text-align: right;\n",
       "    }\n",
       "</style>\n",
       "<table border=\"1\" class=\"dataframe\">\n",
       "  <thead>\n",
       "    <tr style=\"text-align: right;\">\n",
       "      <th></th>\n",
       "      <th>Original:</th>\n",
       "      <th>Prediksi:</th>\n",
       "    </tr>\n",
       "  </thead>\n",
       "  <tbody>\n",
       "    <tr>\n",
       "      <th>0</th>\n",
       "      <td>Blight</td>\n",
       "      <td>Healthy</td>\n",
       "    </tr>\n",
       "    <tr>\n",
       "      <th>1</th>\n",
       "      <td>Blight</td>\n",
       "      <td>Gray_Leaf_Spot</td>\n",
       "    </tr>\n",
       "    <tr>\n",
       "      <th>2</th>\n",
       "      <td>Common_Rust</td>\n",
       "      <td>Common_Rust</td>\n",
       "    </tr>\n",
       "    <tr>\n",
       "      <th>3</th>\n",
       "      <td>Blight</td>\n",
       "      <td>Blight</td>\n",
       "    </tr>\n",
       "    <tr>\n",
       "      <th>4</th>\n",
       "      <td>Gray_Leaf_Spot</td>\n",
       "      <td>Gray_Leaf_Spot</td>\n",
       "    </tr>\n",
       "    <tr>\n",
       "      <th>5</th>\n",
       "      <td>Healthy</td>\n",
       "      <td>Healthy</td>\n",
       "    </tr>\n",
       "    <tr>\n",
       "      <th>6</th>\n",
       "      <td>Healthy</td>\n",
       "      <td>Healthy</td>\n",
       "    </tr>\n",
       "    <tr>\n",
       "      <th>7</th>\n",
       "      <td>Healthy</td>\n",
       "      <td>Healthy</td>\n",
       "    </tr>\n",
       "    <tr>\n",
       "      <th>8</th>\n",
       "      <td>Common_Rust</td>\n",
       "      <td>Common_Rust</td>\n",
       "    </tr>\n",
       "    <tr>\n",
       "      <th>9</th>\n",
       "      <td>Gray_Leaf_Spot</td>\n",
       "      <td>Gray_Leaf_Spot</td>\n",
       "    </tr>\n",
       "    <tr>\n",
       "      <th>10</th>\n",
       "      <td>Common_Rust</td>\n",
       "      <td>Common_Rust</td>\n",
       "    </tr>\n",
       "    <tr>\n",
       "      <th>11</th>\n",
       "      <td>Gray_Leaf_Spot</td>\n",
       "      <td>Gray_Leaf_Spot</td>\n",
       "    </tr>\n",
       "    <tr>\n",
       "      <th>12</th>\n",
       "      <td>Blight</td>\n",
       "      <td>Blight</td>\n",
       "    </tr>\n",
       "    <tr>\n",
       "      <th>13</th>\n",
       "      <td>Blight</td>\n",
       "      <td>Blight</td>\n",
       "    </tr>\n",
       "    <tr>\n",
       "      <th>14</th>\n",
       "      <td>Blight</td>\n",
       "      <td>Gray_Leaf_Spot</td>\n",
       "    </tr>\n",
       "    <tr>\n",
       "      <th>15</th>\n",
       "      <td>Common_Rust</td>\n",
       "      <td>Common_Rust</td>\n",
       "    </tr>\n",
       "    <tr>\n",
       "      <th>16</th>\n",
       "      <td>Blight</td>\n",
       "      <td>Blight</td>\n",
       "    </tr>\n",
       "    <tr>\n",
       "      <th>17</th>\n",
       "      <td>Healthy</td>\n",
       "      <td>Blight</td>\n",
       "    </tr>\n",
       "    <tr>\n",
       "      <th>18</th>\n",
       "      <td>Healthy</td>\n",
       "      <td>Healthy</td>\n",
       "    </tr>\n",
       "    <tr>\n",
       "      <th>19</th>\n",
       "      <td>Healthy</td>\n",
       "      <td>Healthy</td>\n",
       "    </tr>\n",
       "    <tr>\n",
       "      <th>20</th>\n",
       "      <td>Common_Rust</td>\n",
       "      <td>Blight</td>\n",
       "    </tr>\n",
       "    <tr>\n",
       "      <th>21</th>\n",
       "      <td>Gray_Leaf_Spot</td>\n",
       "      <td>Gray_Leaf_Spot</td>\n",
       "    </tr>\n",
       "    <tr>\n",
       "      <th>22</th>\n",
       "      <td>Gray_Leaf_Spot</td>\n",
       "      <td>Gray_Leaf_Spot</td>\n",
       "    </tr>\n",
       "    <tr>\n",
       "      <th>23</th>\n",
       "      <td>Healthy</td>\n",
       "      <td>Healthy</td>\n",
       "    </tr>\n",
       "    <tr>\n",
       "      <th>24</th>\n",
       "      <td>Healthy</td>\n",
       "      <td>Healthy</td>\n",
       "    </tr>\n",
       "    <tr>\n",
       "      <th>25</th>\n",
       "      <td>Common_Rust</td>\n",
       "      <td>Common_Rust</td>\n",
       "    </tr>\n",
       "    <tr>\n",
       "      <th>26</th>\n",
       "      <td>Gray_Leaf_Spot</td>\n",
       "      <td>Blight</td>\n",
       "    </tr>\n",
       "    <tr>\n",
       "      <th>27</th>\n",
       "      <td>Healthy</td>\n",
       "      <td>Healthy</td>\n",
       "    </tr>\n",
       "    <tr>\n",
       "      <th>28</th>\n",
       "      <td>Blight</td>\n",
       "      <td>Healthy</td>\n",
       "    </tr>\n",
       "    <tr>\n",
       "      <th>29</th>\n",
       "      <td>Blight</td>\n",
       "      <td>Blight</td>\n",
       "    </tr>\n",
       "    <tr>\n",
       "      <th>30</th>\n",
       "      <td>Blight</td>\n",
       "      <td>Blight</td>\n",
       "    </tr>\n",
       "    <tr>\n",
       "      <th>31</th>\n",
       "      <td>Gray_Leaf_Spot</td>\n",
       "      <td>Gray_Leaf_Spot</td>\n",
       "    </tr>\n",
       "  </tbody>\n",
       "</table>\n",
       "</div>"
      ],
      "text/plain": [
       "        Original:       Prediksi: \n",
       "0           Blight         Healthy\n",
       "1           Blight  Gray_Leaf_Spot\n",
       "2      Common_Rust     Common_Rust\n",
       "3           Blight          Blight\n",
       "4   Gray_Leaf_Spot  Gray_Leaf_Spot\n",
       "5          Healthy         Healthy\n",
       "6          Healthy         Healthy\n",
       "7          Healthy         Healthy\n",
       "8      Common_Rust     Common_Rust\n",
       "9   Gray_Leaf_Spot  Gray_Leaf_Spot\n",
       "10     Common_Rust     Common_Rust\n",
       "11  Gray_Leaf_Spot  Gray_Leaf_Spot\n",
       "12          Blight          Blight\n",
       "13          Blight          Blight\n",
       "14          Blight  Gray_Leaf_Spot\n",
       "15     Common_Rust     Common_Rust\n",
       "16          Blight          Blight\n",
       "17         Healthy          Blight\n",
       "18         Healthy         Healthy\n",
       "19         Healthy         Healthy\n",
       "20     Common_Rust          Blight\n",
       "21  Gray_Leaf_Spot  Gray_Leaf_Spot\n",
       "22  Gray_Leaf_Spot  Gray_Leaf_Spot\n",
       "23         Healthy         Healthy\n",
       "24         Healthy         Healthy\n",
       "25     Common_Rust     Common_Rust\n",
       "26  Gray_Leaf_Spot          Blight\n",
       "27         Healthy         Healthy\n",
       "28          Blight         Healthy\n",
       "29          Blight          Blight\n",
       "30          Blight          Blight\n",
       "31  Gray_Leaf_Spot  Gray_Leaf_Spot"
      ]
     },
     "execution_count": 13,
     "metadata": {},
     "output_type": "execute_result"
    }
   ],
   "source": [
    "result = pd.DataFrame({'Original: ': y_test, 'Prediksi: ': y2})\n",
    "result"
   ]
  },
  {
   "cell_type": "code",
   "execution_count": null,
   "metadata": {},
   "outputs": [],
   "source": []
  }
 ],
 "metadata": {
  "interpreter": {
   "hash": "fe6d48a06cf1965613c5c4b5d21b1182ca2e59212f354219b1b23c436410da45"
  },
  "kernelspec": {
   "display_name": "Python 3.8.5 ('base')",
   "language": "python",
   "name": "python3"
  },
  "language_info": {
   "codemirror_mode": {
    "name": "ipython",
    "version": 3
   },
   "file_extension": ".py",
   "mimetype": "text/x-python",
   "name": "python",
   "nbconvert_exporter": "python",
   "pygments_lexer": "ipython3",
   "version": "3.8.5"
  },
  "orig_nbformat": 4
 },
 "nbformat": 4,
 "nbformat_minor": 2
}
