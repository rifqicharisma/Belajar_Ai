{
  "cells": [
    {
      "cell_type": "code",
      "execution_count": null,
      "metadata": {
        "colab": {
          "base_uri": "https://localhost:8080/",
          "height": 572
        },
        "id": "lMnAikA2ITkv",
        "outputId": "e9cf3c4d-9d9e-4b31-bbbc-993faef9fffe"
      },
      "outputs": [],
      "source": [
        "# CONNECT GOOGLE DRIVE\n",
        "# from google.colab import drive\n",
        "# drive.mount('/content/drive')"
      ]
    },
    {
      "cell_type": "code",
      "execution_count": null,
      "metadata": {
        "colab": {
          "base_uri": "https://localhost:8080/"
        },
        "id": "jeQmlr-9m3Io",
        "outputId": "8e332205-28bc-43d7-f6f7-f67ac2e78358"
      },
      "outputs": [
        {
          "name": "stdout",
          "output_type": "stream",
          "text": [
            "unzip:  cannot find or open /content/drive/My Drive/dataset/NEU-CLS-64_data.zip, /content/drive/My Drive/dataset/NEU-CLS-64_data.zip.zip or /content/drive/My Drive/dataset/NEU-CLS-64_data.zip.ZIP.\n"
          ]
        }
      ],
      "source": [
        "# !unzip \"/content/drive/My Drive/dataset/NEU-CLS-64_data.zip\" -d \"/content/drive/My Drive/dataset/defect4/\""
      ]
    },
    {
      "cell_type": "code",
      "execution_count": 31,
      "metadata": {
        "id": "zbEk4j05Lx7N"
      },
      "outputs": [],
      "source": [
        "# IMPORT LIBRARY\n",
        "import pandas as pd\n",
        "import cv2\n",
        "import numpy as np\n",
        "import os\n",
        "import re\n",
        "import glob"
      ]
    },
    {
      "cell_type": "code",
      "execution_count": 32,
      "metadata": {
        "id": "wAObM_fCL0S8"
      },
      "outputs": [
        {
          "name": "stdout",
          "output_type": "stream",
          "text": [
            "Jumlah cr : 1210\n",
            "Jumlah gg : 296\n",
            "Jumlah in : 775\n",
            "Jumlah pa : 1148\n",
            "Jumlah ps : 797\n",
            "Jumlah rp : 200\n",
            "Jumlah rs : 1589\n",
            "Jumlah sc : 773\n",
            "Jumlah sp : 438\n"
          ]
        }
      ],
      "source": [
        "# READ IMAGE\n",
        "path = os.path.abspath('defect.ipynb') #absolute path of program\n",
        "path = re.sub('[a-zA-Z\\s._]+$', '', path) #remove unintended file\n",
        "dirs = os.listdir(path+'NEU-CLS-64/') #list directory in Land Use Images folder\n",
        "label = 0 #label dari data\n",
        "im_arr = [] #array untuk gambar\n",
        "lb_arr = [] #array untuk label\n",
        "X = [] #array untuk X\n",
        "y = [] #array untuk y\n",
        "for i in dirs: #loop all directory\n",
        "    count = 0 #count data\n",
        "    for pic in glob.glob(path+'NEU-CLS-64/'+i+'/*.jpg'): #loop jpg difolder\n",
        "        im = cv2.imread(pic) #open image pakai opencv\n",
        "        im = cv2.resize(im,(32,32)) #resize gambar ke 32 x 32\n",
        "        im = np.array(im) #change into array \n",
        "        count = count + 1 #count data + 1\n",
        "        X.append(im) #masukan gambar yg sudah dibaca kedalam X\n",
        "        y.append(label) #masukan label yang sudah dibaca kedalam y\n",
        "        if(count == 3): #SAmple data no.3 tampilkan nanti di plot\n",
        "            im_arr.append({str(i):im}) #sample data no.3 tampilkan\n",
        "    print(\"Jumlah \"+str(i)+\" : \"+str(count)) #print jumlah data\n",
        "    label = label + 1 #label saat ini + 1\n",
        "    lb_arr.append(i) #labelarray\n",
        "X = np.array(X)\n",
        "y = np.array(y);"
      ]
    },
    {
      "cell_type": "code",
      "execution_count": 34,
      "metadata": {
        "id": "EmvyoPC30240"
      },
      "outputs": [],
      "source": [
        "import os\n",
        "import re\n",
        "import glob\n",
        "import numpy as np\n",
        "import cv2\n",
        "import matplotlib.pyplot as plt\n",
        "\n",
        "from sklearn.model_selection import train_test_split\n",
        "from sklearn.metrics import classification_report\n",
        "\n",
        "from tensorflow.keras.utils import to_categorical\n",
        "from keras.models import Sequential\n",
        "from keras.layers import Dense, Dropout, Activation, Flatten\n",
        "from keras.layers import Conv2D, MaxPooling2D\n",
        "from tensorflow.keras.optimizers import SGD\n",
        "from keras.models import load_model\n",
        "\n",
        "from sklearn.metrics import confusion_matrix"
      ]
    },
    {
      "cell_type": "code",
      "execution_count": 35,
      "metadata": {
        "colab": {
          "base_uri": "https://localhost:8080/",
          "height": 173
        },
        "id": "3FMuotXZ0243",
        "outputId": "fa5e0d52-50c8-4e8c-af05-52bc00c47726"
      },
      "outputs": [
        {
          "name": "stdout",
          "output_type": "stream",
          "text": [
            "Jumlah cr : 1210\n",
            "Jumlah gg : 296\n",
            "Jumlah in : 775\n",
            "Jumlah pa : 1148\n",
            "Jumlah ps : 797\n",
            "Jumlah rp : 200\n",
            "Jumlah rs : 1589\n",
            "Jumlah sc : 773\n",
            "Jumlah sp : 438\n"
          ]
        }
      ],
      "source": [
        "path = os.path.abspath('defect.ipynb') #absolute path of program\n",
        "path = re.sub('[a-zA-Z\\s._]+$', '', path) #remove unintended file\n",
        "dirs = os.listdir(path+'NEU-CLS-64') #list directory in Land Use Images folder\n",
        "label = 0 #Label start from 0 \n",
        "X = [] #Final Image Array Variable Store here\n",
        "y = [] #Final Image label variable store here\n",
        "example_data = []\n",
        "example_label = []\n",
        "for i in dirs: #loop all directory\n",
        "    count = 0 #Temporary variable count\n",
        "    for pic in glob.glob(path+'NEU-CLS-64/'+i+'/*.jpg'): #i = loop each directory, read all jpg\n",
        "        im = cv2.imread(pic) #open image using OpenCV\n",
        "        im = cv2.resize(im,(32,32)) #Resize size to 32 x 32\n",
        "        im = np.array(im) #change image into array\n",
        "        count = count + 1 #count image in directory\n",
        "        X.append(im) #add image of array to X\n",
        "        y.append(label) #add label into y\n",
        "        if(count==3):\n",
        "            example_data.append({str(i):im})\n",
        "            example_label.append(i)\n",
        "    print(\"Jumlah \"+str(i)+\" : \"+str(count)) #Print jumlah dari image per class/label\n",
        "    label = label + 1 #LABEL + 1 untuk menandakan sudah di folder lainnua\n",
        "X = np.array(X) #jadikan numpy array\n",
        "y = np.array(y); #jadikan numpy array"
      ]
    },
    {
      "cell_type": "code",
      "execution_count": 37,
      "metadata": {
        "id": "aWkDi8Fp0246"
      },
      "outputs": [],
      "source": [
        "mapping = {\n",
        "    \"rs\":\"Role in Scale\",\n",
        "    \"pa\":\"Patches\",\n",
        "    \"cr\":\"Crazing\",\n",
        "    \"ps\":\"Pitt Surface\",\n",
        "    \"in\":\"Inclusion\",\n",
        "    \"sc\":\"Scratces\",\n",
        "    \"sp\":\"Scratch Patches\",\n",
        "    \"rp\":\"Role Patches\",\n",
        "    \"gg\":\"Ground Ground\"\n",
        "}"
      ]
    },
    {
      "cell_type": "code",
      "execution_count": 38,
      "metadata": {
        "colab": {
          "base_uri": "https://localhost:8080/",
          "height": 627
        },
        "id": "ILUdJhJ10247",
        "outputId": "8414b372-56d8-4dec-fa74-4ec11c7b3f7a"
      },
      "outputs": [
        {
          "data": {
            "image/png": "[encoded data removed]",
            "text/plain": [
              "<Figure size 1440x720 with 9 Axes>"
            ]
          },
          "metadata": {
            "needs_background": "light"
          },
          "output_type": "display_data"
        }
      ],
      "source": [
        "fig, axs = plt.subplots(3, 3, figsize=(20, 10))\n",
        "cnt = 0\n",
        "row = 0\n",
        "col = 0\n",
        "for i in example_data:\n",
        "    for key, value in i.items():\n",
        "        if(cnt==3):\n",
        "            row = row + 1\n",
        "            col = 0\n",
        "            cnt = 0\n",
        "        axs[row, col].imshow(value)\n",
        "        axs[row, col].set_title(mapping.get(key))\n",
        "        cnt = cnt + 1\n",
        "        col = col + 1\n",
        "plt.show()"
      ]
    },
    {
      "cell_type": "code",
      "execution_count": 39,
      "metadata": {
        "id": "z5VT5x4K0249"
      },
      "outputs": [],
      "source": [
        "X_train, X_test, y_train, y_test = train_test_split(X, y, test_size=0.33, random_state=42)\n",
        "\n",
        "X_train = X_train.astype('float32') #set x_train data type as float32\n",
        "X_test = X_test.astype('float32') #set x_test data type as float32\n",
        "X_train /= 255 #change x_train value between 0 - 1\n",
        "X_test /= 255 #change x_test value between 0 - 1\n",
        "y_train = to_categorical(y_train, 9) #change label to binary / categorical: [1 0 0 0] = 0, [0 1 0 0] = 1, so on\n",
        "y_test = to_categorical(y_test, 9) #change label to binary / categorical"
      ]
    },
    {
      "cell_type": "code",
      "execution_count": 40,
      "metadata": {
        "colab": {
          "base_uri": "https://localhost:8080/",
          "height": 280
        },
        "id": "GpZFCZuh025A",
        "outputId": "3b2ea2ac-18a5-4efc-a664-4e2723ca8401"
      },
      "outputs": [],
      "source": [
        "model = Sequential() #model = sequential \n",
        "model.add(Conv2D(32, kernel_size=(3, 3),activation='relu',input_shape=(32,32,3))) #layer convolutional 2D\n",
        "model.add(MaxPooling2D(pool_size=(2,2))) #max pooling with stride (2,2)\n",
        "model.add(Conv2D(32, (3, 3), activation='relu')) #layer convolutional 2D\n",
        "model.add(MaxPooling2D(pool_size=(2,2))) #max pooling with stride (2,2)\n",
        "model.add(Dropout(0.25)) #delete neuron randomly while training and remain 75%\n",
        "model.add(Flatten()) #make layer flatten\n",
        "model.add(Dense(128, activation='relu')) #fully connected layer\n",
        "model.add(Dropout(0.5)) #delete neuron randomly and remain 50%\n",
        "model.add(Dense(9, activation='softmax')) #softmax works"
      ]
    },
    {
      "cell_type": "code",
      "execution_count": 41,
      "metadata": {
        "colab": {
          "base_uri": "https://localhost:8080/",
          "height": 557
        },
        "id": "_PZFVPZr025C",
        "outputId": "54b0c21d-2dcc-439a-cfe6-ade13f7faadd"
      },
      "outputs": [
        {
          "name": "stdout",
          "output_type": "stream",
          "text": [
            "Model: \"sequential_1\"\n",
            "_________________________________________________________________\n",
            " Layer (type)                Output Shape              Param #   \n",
            "=================================================================\n",
            " conv2d_2 (Conv2D)           (None, 30, 30, 32)        896       \n",
            "                                                                 \n",
            " max_pooling2d_2 (MaxPooling  (None, 15, 15, 32)       0         \n",
            " 2D)                                                             \n",
            "                                                                 \n",
            " conv2d_3 (Conv2D)           (None, 13, 13, 32)        9248      \n",
            "                                                                 \n",
            " max_pooling2d_3 (MaxPooling  (None, 6, 6, 32)         0         \n",
            " 2D)                                                             \n",
            "                                                                 \n",
            " dropout_2 (Dropout)         (None, 6, 6, 32)          0         \n",
            "                                                                 \n",
            " flatten_1 (Flatten)         (None, 1152)              0         \n",
            "                                                                 \n",
            " dense_2 (Dense)             (None, 128)               147584    \n",
            "                                                                 \n",
            " dropout_3 (Dropout)         (None, 128)               0         \n",
            "                                                                 \n",
            " dense_3 (Dense)             (None, 9)                 1161      \n",
            "                                                                 \n",
            "=================================================================\n",
            "Total params: 158,889\n",
            "Trainable params: 158,889\n",
            "Non-trainable params: 0\n",
            "_________________________________________________________________\n",
            "None\n"
          ]
        }
      ],
      "source": [
        "epochs = 25\n",
        "lrate = 0.01\n",
        "decay = lrate/epochs\n",
        "sgd = SGD(lr=lrate, momentum=0.9, decay=decay, nesterov=False)\n",
        "model.compile(loss='categorical_crossentropy', optimizer=sgd, metrics=['accuracy'])\n",
        "print(model.summary())"
      ]
    },
    {
      "cell_type": "code",
      "execution_count": 42,
      "metadata": {
        "colab": {
          "base_uri": "https://localhost:8080/",
          "height": 991
        },
        "id": "OXisJfGT025E",
        "outputId": "2156a0a9-8497-4487-dfef-85864730e4b2"
      },
      "outputs": [
        {
          "name": "stdout",
          "output_type": "stream",
          "text": [
            "Epoch 1/25\n",
            "152/152 [==============================] - 5s 27ms/step - loss: 1.9641 - accuracy: 0.2568 - val_loss: 1.8488 - val_accuracy: 0.2692\n",
            "Epoch 2/25\n",
            "152/152 [==============================] - 4s 24ms/step - loss: 1.7189 - accuracy: 0.4094 - val_loss: 1.5594 - val_accuracy: 0.4629\n",
            "Epoch 3/25\n",
            "152/152 [==============================] - 4s 25ms/step - loss: 1.5737 - accuracy: 0.4578 - val_loss: 1.4376 - val_accuracy: 0.4876\n",
            "Epoch 4/25\n",
            "152/152 [==============================] - 4s 24ms/step - loss: 1.4919 - accuracy: 0.4863 - val_loss: 1.3384 - val_accuracy: 0.5308\n",
            "Epoch 5/25\n",
            "152/152 [==============================] - 4s 25ms/step - loss: 1.2901 - accuracy: 0.5602 - val_loss: 1.1374 - val_accuracy: 0.5778\n",
            "Epoch 6/25\n",
            "152/152 [==============================] - 4s 23ms/step - loss: 1.1888 - accuracy: 0.5891 - val_loss: 1.0470 - val_accuracy: 0.6361\n",
            "Epoch 7/25\n",
            "152/152 [==============================] - 3s 23ms/step - loss: 1.0625 - accuracy: 0.6352 - val_loss: 0.8980 - val_accuracy: 0.6977\n",
            "Epoch 8/25\n",
            "152/152 [==============================] - 4s 25ms/step - loss: 0.9663 - accuracy: 0.6736 - val_loss: 0.8015 - val_accuracy: 0.7379\n",
            "Epoch 9/25\n",
            "152/152 [==============================] - 4s 26ms/step - loss: 0.8904 - accuracy: 0.7112 - val_loss: 0.7456 - val_accuracy: 0.7329\n",
            "Epoch 10/25\n",
            "152/152 [==============================] - 4s 23ms/step - loss: 0.7916 - accuracy: 0.7441 - val_loss: 0.6804 - val_accuracy: 0.7723\n",
            "Epoch 11/25\n",
            "152/152 [==============================] - 4s 23ms/step - loss: 0.7208 - accuracy: 0.7633 - val_loss: 0.5884 - val_accuracy: 0.8004\n",
            "Epoch 12/25\n",
            "152/152 [==============================] - 4s 24ms/step - loss: 0.7108 - accuracy: 0.7703 - val_loss: 0.5984 - val_accuracy: 0.7937\n",
            "Epoch 13/25\n",
            "152/152 [==============================] - 4s 25ms/step - loss: 0.6723 - accuracy: 0.7839 - val_loss: 0.6014 - val_accuracy: 0.7874\n",
            "Epoch 14/25\n",
            "152/152 [==============================] - 4s 24ms/step - loss: 0.6242 - accuracy: 0.7912 - val_loss: 0.5500 - val_accuracy: 0.8151\n",
            "Epoch 15/25\n",
            "152/152 [==============================] - 3s 23ms/step - loss: 0.6078 - accuracy: 0.7971 - val_loss: 0.5300 - val_accuracy: 0.8122\n",
            "Epoch 16/25\n",
            "152/152 [==============================] - 3s 23ms/step - loss: 0.5643 - accuracy: 0.8131 - val_loss: 0.4778 - val_accuracy: 0.8252\n",
            "Epoch 17/25\n",
            "152/152 [==============================] - 4s 24ms/step - loss: 0.5342 - accuracy: 0.8172 - val_loss: 0.5059 - val_accuracy: 0.8168\n",
            "Epoch 18/25\n",
            "152/152 [==============================] - 4s 26ms/step - loss: 0.5333 - accuracy: 0.8205 - val_loss: 0.4873 - val_accuracy: 0.8189\n",
            "Epoch 19/25\n",
            "152/152 [==============================] - 3s 23ms/step - loss: 0.5286 - accuracy: 0.8193 - val_loss: 0.4357 - val_accuracy: 0.8382\n",
            "Epoch 20/25\n",
            "152/152 [==============================] - 3s 23ms/step - loss: 0.4980 - accuracy: 0.8292 - val_loss: 0.4685 - val_accuracy: 0.8306\n",
            "Epoch 21/25\n",
            "152/152 [==============================] - 4s 24ms/step - loss: 0.4758 - accuracy: 0.8352 - val_loss: 0.4618 - val_accuracy: 0.8377\n",
            "Epoch 22/25\n",
            "152/152 [==============================] - 4s 25ms/step - loss: 0.4619 - accuracy: 0.8387 - val_loss: 0.4120 - val_accuracy: 0.8470\n",
            "Epoch 23/25\n",
            "152/152 [==============================] - 3s 23ms/step - loss: 0.4581 - accuracy: 0.8414 - val_loss: 0.4682 - val_accuracy: 0.8382\n",
            "Epoch 24/25\n",
            "152/152 [==============================] - 3s 23ms/step - loss: 0.4399 - accuracy: 0.8436 - val_loss: 0.4073 - val_accuracy: 0.8449\n",
            "Epoch 25/25\n",
            "152/152 [==============================] - 4s 24ms/step - loss: 0.4421 - accuracy: 0.8440 - val_loss: 0.4187 - val_accuracy: 0.8432\n",
            "Accuracy: 84.32%\n"
          ]
        }
      ],
      "source": [
        "model.fit(X_train, y_train, validation_data=(X_test, y_test), epochs=epochs, batch_size=32)\n",
        "# Final evaluation of the model\n",
        "scores = model.evaluate(X_test, y_test, verbose=0)\n",
        "print(\"Accuracy: %.2f%%\" % (scores[1]*100))"
      ]
    },
    {
      "cell_type": "code",
      "execution_count": 44,
      "metadata": {
        "colab": {
          "base_uri": "https://localhost:8080/",
          "height": 295
        },
        "id": "rq4UeBhg025G",
        "outputId": "e1f8e02f-219a-48a4-f17e-7af52e2f483c"
      },
      "outputs": [
        {
          "ename": "AttributeError",
          "evalue": "'NoneType' object has no attribute 'save'",
          "output_type": "error",
          "traceback": [
            "\u001b[1;31m---------------------------------------------------------------------------\u001b[0m",
            "\u001b[1;31mAttributeError\u001b[0m                            Traceback (most recent call last)",
            "\u001b[1;32m<ipython-input-44-492e7bf805fb>\u001b[0m in \u001b[0;36m<module>\u001b[1;34m\u001b[0m\n\u001b[0;32m      1\u001b[0m \u001b[1;32mfrom\u001b[0m \u001b[0mkeras\u001b[0m\u001b[1;33m.\u001b[0m\u001b[0mmodels\u001b[0m \u001b[1;32mimport\u001b[0m \u001b[0mload_model\u001b[0m\u001b[1;33m\u001b[0m\u001b[1;33m\u001b[0m\u001b[0m\n\u001b[0;32m      2\u001b[0m \u001b[1;33m\u001b[0m\u001b[0m\n\u001b[1;32m----> 3\u001b[1;33m \u001b[0mmodel\u001b[0m \u001b[1;33m=\u001b[0m \u001b[0mmodel\u001b[0m\u001b[1;33m.\u001b[0m\u001b[0msave\u001b[0m\u001b[1;33m(\u001b[0m\u001b[1;34m'model.h5'\u001b[0m\u001b[1;33m)\u001b[0m\u001b[1;33m\u001b[0m\u001b[1;33m\u001b[0m\u001b[0m\n\u001b[0m\u001b[0;32m      4\u001b[0m \u001b[0mmodel_baru\u001b[0m \u001b[1;33m=\u001b[0m \u001b[0mload_model\u001b[0m\u001b[1;33m(\u001b[0m\u001b[1;34m'model.h5'\u001b[0m\u001b[1;33m)\u001b[0m\u001b[1;33m\u001b[0m\u001b[1;33m\u001b[0m\u001b[0m\n\u001b[0;32m      5\u001b[0m \u001b[0my_pred\u001b[0m \u001b[1;33m=\u001b[0m \u001b[0mmodel_baru\u001b[0m\u001b[1;33m.\u001b[0m\u001b[0mpredict_classes\u001b[0m\u001b[1;33m(\u001b[0m\u001b[0mX_test\u001b[0m\u001b[1;33m)\u001b[0m\u001b[1;33m\u001b[0m\u001b[1;33m\u001b[0m\u001b[0m\n",
            "\u001b[1;31mAttributeError\u001b[0m: 'NoneType' object has no attribute 'save'"
          ]
        }
      ],
      "source": [
        "from keras.models import load_model\n",
        "\n",
        "model = model.save('model.h5')\n",
        "model_baru = load_model('model.h5')\n",
        "y_pred = model_baru.predict_classes(X_test)\n",
        "y_test_ = np.argmax(y_test, axis=1)\n",
        "print(classification_report(y_test_, y_pred, target_names=mapping.values()))"
      ]
    },
    {
      "cell_type": "code",
      "execution_count": 16,
      "metadata": {
        "colab": {
          "base_uri": "https://localhost:8080/",
          "height": 35
        },
        "id": "8MfxO9e-VKFF",
        "outputId": "754ccbc1-222f-4b16-a7b9-2e60d3674156"
      },
      "outputs": [
        {
          "name": "stdout",
          "output_type": "stream",
          "text": [
            "Keras version: 2.8.0\n"
          ]
        }
      ],
      "source": [
        "import keras\n",
        "\n",
        "print(\"Keras version: \" + keras.__version__)"
      ]
    },
    {
      "cell_type": "code",
      "execution_count": 20,
      "metadata": {
        "colab": {
          "base_uri": "https://localhost:8080/",
          "height": 35
        },
        "id": "HF-ZwjhxV1ZO",
        "outputId": "c63f2707-68b0-4cbb-f49d-15c5a77e542b"
      },
      "outputs": [
        {
          "data": {
            "text/plain": [
              "<module 'tensorflow._api.v2.version' from 'D:\\\\Application\\\\Anaconda\\\\lib\\\\site-packages\\\\tensorflow\\\\_api\\\\v2\\\\version\\\\__init__.py'>"
            ]
          },
          "execution_count": 20,
          "metadata": {},
          "output_type": "execute_result"
        }
      ],
      "source": [
        "import tensorflow as tf\n",
        "tf.version"
      ]
    },
    {
      "cell_type": "code",
      "execution_count": 21,
      "metadata": {
        "id": "5EzGejei025I",
        "outputId": "cfa61e5c-9e92-402c-cdee-d052549cb2be"
      },
      "outputs": [
        {
          "ename": "NameError",
          "evalue": "name 'y_test_' is not defined",
          "output_type": "error",
          "traceback": [
            "\u001b[1;31m---------------------------------------------------------------------------\u001b[0m",
            "\u001b[1;31mNameError\u001b[0m                                 Traceback (most recent call last)",
            "\u001b[1;32m<ipython-input-21-ba97a0be29d7>\u001b[0m in \u001b[0;36m<module>\u001b[1;34m\u001b[0m\n\u001b[1;32m----> 1\u001b[1;33m \u001b[0mconfusion_matrix\u001b[0m\u001b[1;33m(\u001b[0m\u001b[0my_test_\u001b[0m\u001b[1;33m,\u001b[0m \u001b[0my_pred\u001b[0m\u001b[1;33m)\u001b[0m\u001b[1;33m\u001b[0m\u001b[1;33m\u001b[0m\u001b[0m\n\u001b[0m",
            "\u001b[1;31mNameError\u001b[0m: name 'y_test_' is not defined"
          ]
        }
      ],
      "source": [
        "confusion_matrix(y_test_, y_pred)"
      ]
    },
    {
      "cell_type": "code",
      "execution_count": null,
      "metadata": {
        "id": "R-RDHbdXNkdE"
      },
      "outputs": [],
      "source": [
        "model.save(\"/content/drive/My Drive/dataset/Defect/model.h5\")"
      ]
    }
  ],
  "metadata": {
    "colab": {
      "name": "defect.ipynb",
      "provenance": []
    },
    "kernelspec": {
      "display_name": "Python 3",
      "language": "python",
      "name": "python3"
    },
    "language_info": {
      "codemirror_mode": {
        "name": "ipython",
        "version": 3
      },
      "file_extension": ".py",
      "mimetype": "text/x-python",
      "name": "python",
      "nbconvert_exporter": "python",
      "pygments_lexer": "ipython3",
      "version": "3.8.5"
    }
  },
  "nbformat": 4,
  "nbformat_minor": 0
}
