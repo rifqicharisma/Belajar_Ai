{
 "cells": [
  {
   "cell_type": "code",
   "execution_count": 1,
   "metadata": {},
   "outputs": [
    {
     "name": "stdout",
     "output_type": "stream",
     "text": [
      "2.8.0\n"
     ]
    }
   ],
   "source": [
    "import tensorflow as tf\n",
    "from tensorflow.keras.optimizers import RMSprop\n",
    "from tensorflow.keras.preprocessing.image import ImageDataGenerator\n",
    "print(tf.__version__)"
   ]
  },
  {
   "cell_type": "code",
   "execution_count": 2,
   "metadata": {},
   "outputs": [
    {
     "data": {
      "text/plain": [
       "['00',\n",
       " '01',\n",
       " '02',\n",
       " '03',\n",
       " '04',\n",
       " '05',\n",
       " '06',\n",
       " '07',\n",
       " '08',\n",
       " '09',\n",
       " '10',\n",
       " '11',\n",
       " '12',\n",
       " '13',\n",
       " '14',\n",
       " 'train',\n",
       " 'val']"
      ]
     },
     "execution_count": 2,
     "metadata": {},
     "output_type": "execute_result"
    }
   ],
   "source": [
    "import os\n",
    "\n",
    "# direktori base\n",
    "base_dir = '15-Scene'\n",
    "train_dir = os.path.join(base_dir, 'train')\n",
    "validation_dir = os.path.join(base_dir, 'val')\n",
    "\n",
    "# membuat direktori/folder train dan validation\n",
    "os.mkdir(train_dir)\n",
    "os.mkdir(validation_dir)\n",
    "\n",
    "# melihat isi direktori\n",
    "os.listdir('15-Scene')"
   ]
  },
  {
   "cell_type": "code",
   "execution_count": 3,
   "metadata": {},
   "outputs": [],
   "source": [
    "# membagi direktori\n",
    "a_dir = os.path.join(base_dir, '00')\n",
    "b_dir = os.path.join(base_dir, '01')\n",
    "c_dir = os.path.join(base_dir, '02')\n",
    "d_dir = os.path.join(base_dir, '03')\n",
    "e_dir = os.path.join(base_dir, '04')\n",
    "f_dir = os.path.join(base_dir, '05')\n",
    "g_dir = os.path.join(base_dir, '06')\n",
    "h_dir = os.path.join(base_dir, '07')\n",
    "i_dir = os.path.join(base_dir, '08')\n",
    "j_dir = os.path.join(base_dir, '09')\n",
    "k_dir = os.path.join(base_dir, '10')\n",
    "l_dir = os.path.join(base_dir, '11')\n",
    "m_dir = os.path.join(base_dir, '12')\n",
    "n_dir = os.path.join(base_dir, '13')\n",
    "o_dir = os.path.join(base_dir, '14')\n"
   ]
  },
  {
   "cell_type": "code",
   "execution_count": 4,
   "metadata": {},
   "outputs": [],
   "source": [
    "# membagi setiap direktori menjadi data train dan data validasi\n",
    "\n",
    "from sklearn.model_selection import train_test_split\n",
    "\n",
    "train_a_dir, val_a_dir = train_test_split(os.listdir(a_dir), test_size = 0.2)\n",
    "train_b_dir, val_b_dir = train_test_split(os.listdir(b_dir), test_size = 0.2)\n",
    "train_c_dir, val_c_dir = train_test_split(os.listdir(c_dir), test_size = 0.2)\n",
    "train_d_dir, val_d_dir = train_test_split(os.listdir(d_dir), test_size = 0.2)\n",
    "train_e_dir, val_e_dir = train_test_split(os.listdir(e_dir), test_size = 0.2)\n",
    "train_f_dir, val_f_dir = train_test_split(os.listdir(f_dir), test_size = 0.2)\n",
    "train_g_dir, val_g_dir = train_test_split(os.listdir(g_dir), test_size = 0.2)\n",
    "train_h_dir, val_h_dir = train_test_split(os.listdir(h_dir), test_size = 0.2)\n",
    "train_i_dir, val_i_dir = train_test_split(os.listdir(i_dir), test_size = 0.2)\n",
    "train_j_dir, val_j_dir = train_test_split(os.listdir(j_dir), test_size = 0.2)\n",
    "train_k_dir, val_k_dir = train_test_split(os.listdir(k_dir), test_size = 0.2)\n",
    "train_l_dir, val_l_dir = train_test_split(os.listdir(l_dir), test_size = 0.2)\n",
    "train_m_dir, val_m_dir = train_test_split(os.listdir(m_dir), test_size = 0.2)\n",
    "train_n_dir, val_n_dir = train_test_split(os.listdir(n_dir), test_size = 0.2)\n",
    "train_o_dir, val_o_dir = train_test_split(os.listdir(o_dir), test_size = 0.2)"
   ]
  },
  {
   "cell_type": "code",
   "execution_count": 8,
   "metadata": {},
   "outputs": [],
   "source": [
    "# data train ditempatkan dalam train_dir\n",
    "train_a = os.path.join(train_dir, '00')\n",
    "train_b = os.path.join(train_dir, '01')\n",
    "train_c = os.path.join(train_dir, '02')\n",
    "train_d = os.path.join(train_dir, '03')\n",
    "train_e = os.path.join(train_dir, '04')\n",
    "train_f = os.path.join(train_dir, '05')\n",
    "train_g = os.path.join(train_dir, '06')\n",
    "train_h = os.path.join(train_dir, '07')\n",
    "train_i = os.path.join(train_dir, '08')\n",
    "train_j = os.path.join(train_dir, '09')\n",
    "train_k = os.path.join(train_dir, '10')\n",
    "train_l = os.path.join(train_dir, '11')\n",
    "train_m = os.path.join(train_dir, '12')\n",
    "train_n = os.path.join(train_dir, '13')\n",
    "train_o = os.path.join(train_dir, '14')\n",
    "\n",
    "# data validasi ditempatkan di validation_dir\n",
    "val_a = os.path.join(validation_dir, '00')\n",
    "val_b = os.path.join(validation_dir, '01')\n",
    "val_c = os.path.join(validation_dir, '02')\n",
    "val_d = os.path.join(validation_dir, '03')\n",
    "val_e = os.path.join(validation_dir, '04')\n",
    "val_f = os.path.join(validation_dir, '05')\n",
    "val_g = os.path.join(validation_dir, '06')\n",
    "val_h = os.path.join(validation_dir, '07')\n",
    "val_i = os.path.join(validation_dir, '08')\n",
    "val_j = os.path.join(validation_dir, '09')\n",
    "val_k = os.path.join(validation_dir, '10')\n",
    "val_l = os.path.join(validation_dir, '11')\n",
    "val_m = os.path.join(validation_dir, '12')\n",
    "val_n = os.path.join(validation_dir, '13')\n",
    "val_o = os.path.join(validation_dir, '14')\n",
    "\n",
    "# membuat folder train dan validasi karena train_xx dan val_xx belum dibuat\n",
    "# folder baru di buat di dalam folder train dan val\n",
    "# misal train_rock berarti ada pada folder rockpaperscissors/train/train_rock\n",
    "# begitupun pada folder val_xx\n",
    "\n",
    "if not os.path.exists(train_a):\n",
    "    os.mkdir(train_a)\n",
    "if not os.path.exists(train_b):\n",
    "    os.mkdir(train_b)\n",
    "if not os.path.exists(train_c):\n",
    "    os.mkdir(train_c)\n",
    "if not os.path.exists(train_d):\n",
    "    os.mkdir(train_d)\n",
    "if not os.path.exists(train_e):\n",
    "    os.mkdir(train_e)\n",
    "if not os.path.exists(train_f):\n",
    "    os.mkdir(train_f)\n",
    "if not os.path.exists(train_g):\n",
    "    os.mkdir(train_g)\n",
    "if not os.path.exists(train_h):\n",
    "    os.mkdir(train_h)\n",
    "if not os.path.exists(train_i):\n",
    "    os.mkdir(train_i)\n",
    "if not os.path.exists(train_j):\n",
    "    os.mkdir(train_j)\n",
    "if not os.path.exists(train_k):\n",
    "    os.mkdir(train_k)\n",
    "if not os.path.exists(train_l):\n",
    "    os.mkdir(train_l)\n",
    "if not os.path.exists(train_m):\n",
    "    os.mkdir(train_m)\n",
    "if not os.path.exists(train_n):\n",
    "    os.mkdir(train_n)\n",
    "if not os.path.exists(train_o):\n",
    "    os.mkdir(train_o)\n",
    "\n",
    "if not os.path.exists(val_a):\n",
    "    os.mkdir(val_a)\n",
    "if not os.path.exists(val_b):\n",
    "    os.mkdir(val_b)\n",
    "if not os.path.exists(val_c):\n",
    "    os.mkdir(val_c)\n",
    "if not os.path.exists(val_d):\n",
    "    os.mkdir(val_d)\n",
    "if not os.path.exists(val_e):\n",
    "    os.mkdir(val_e)\n",
    "if not os.path.exists(val_f):\n",
    "    os.mkdir(val_f)\n",
    "if not os.path.exists(val_g):\n",
    "    os.mkdir(val_g)\n",
    "if not os.path.exists(val_h):\n",
    "    os.mkdir(val_h)\n",
    "if not os.path.exists(val_i):\n",
    "    os.mkdir(val_i)\n",
    "if not os.path.exists(val_j):\n",
    "    os.mkdir(val_j)\n",
    "if not os.path.exists(val_k):\n",
    "    os.mkdir(val_k)\n",
    "if not os.path.exists(val_l):\n",
    "    os.mkdir(val_l)\n",
    "if not os.path.exists(val_m):\n",
    "    os.mkdir(val_m)\n",
    "if not os.path.exists(val_n):\n",
    "    os.mkdir(val_n)\n",
    "if not os.path.exists(val_o):\n",
    "    os.mkdir(val_o)"
   ]
  },
  {
   "cell_type": "code",
   "execution_count": 9,
   "metadata": {},
   "outputs": [],
   "source": [
    "# mengcopy citra ke dalam direktori/folder train dan val\n",
    "# citra sebelumnya sudah di split menjadi data train dan data validasi\n",
    "import shutil\n",
    "\n",
    "for i in train_a_dir:\n",
    "    shutil.copy(os.path.join(a_dir, i), os.path.join(train_a, i))\n",
    "for i in train_b_dir:\n",
    "    shutil.copy(os.path.join(b_dir, i), os.path.join(train_b, i))\n",
    "for i in train_c_dir:\n",
    "    shutil.copy(os.path.join(c_dir, i), os.path.join(train_c, i))\n",
    "for i in train_d_dir:\n",
    "    shutil.copy(os.path.join(d_dir, i), os.path.join(train_d, i))\n",
    "for i in train_e_dir:\n",
    "    shutil.copy(os.path.join(e_dir, i), os.path.join(train_e, i))\n",
    "for i in train_f_dir:\n",
    "    shutil.copy(os.path.join(f_dir, i), os.path.join(train_f, i))\n",
    "for i in train_g_dir:\n",
    "    shutil.copy(os.path.join(g_dir, i), os.path.join(train_g, i))\n",
    "for i in train_h_dir:\n",
    "    shutil.copy(os.path.join(h_dir, i), os.path.join(train_h, i))\n",
    "for i in train_i_dir:\n",
    "    shutil.copy(os.path.join(i_dir, i), os.path.join(train_i, i))\n",
    "for i in train_j_dir:\n",
    "    shutil.copy(os.path.join(j_dir, i), os.path.join(train_j, i))\n",
    "for i in train_k_dir:\n",
    "    shutil.copy(os.path.join(k_dir, i), os.path.join(train_k, i))\n",
    "for i in train_l_dir:\n",
    "    shutil.copy(os.path.join(l_dir, i), os.path.join(train_l, i))\n",
    "for i in train_m_dir:\n",
    "    shutil.copy(os.path.join(m_dir, i), os.path.join(train_m, i))\n",
    "for i in train_n_dir:\n",
    "    shutil.copy(os.path.join(n_dir, i), os.path.join(train_n, i))\n",
    "for i in train_o_dir:\n",
    "    shutil.copy(os.path.join(o_dir, i), os.path.join(train_o, i))\n",
    "    \n",
    "for i in val_a_dir:\n",
    "    shutil.copy(os.path.join(a_dir, i), os.path.join(val_a, i))\n",
    "for i in val_b_dir:\n",
    "    shutil.copy(os.path.join(b_dir, i), os.path.join(val_b, i))\n",
    "for i in val_c_dir:\n",
    "    shutil.copy(os.path.join(c_dir, i), os.path.join(val_c, i))\n",
    "for i in val_d_dir:\n",
    "    shutil.copy(os.path.join(d_dir, i), os.path.join(val_d, i))\n",
    "for i in val_e_dir:\n",
    "    shutil.copy(os.path.join(e_dir, i), os.path.join(val_e, i))\n",
    "for i in val_f_dir:\n",
    "    shutil.copy(os.path.join(f_dir, i), os.path.join(val_f, i))\n",
    "for i in val_g_dir:\n",
    "    shutil.copy(os.path.join(g_dir, i), os.path.join(val_g, i))\n",
    "for i in val_h_dir:\n",
    "    shutil.copy(os.path.join(h_dir, i), os.path.join(val_h, i))\n",
    "for i in val_i_dir:\n",
    "    shutil.copy(os.path.join(i_dir, i), os.path.join(val_i, i))\n",
    "for i in val_j_dir:\n",
    "    shutil.copy(os.path.join(j_dir, i), os.path.join(val_j, i))\n",
    "for i in val_k_dir:\n",
    "    shutil.copy(os.path.join(k_dir, i), os.path.join(val_k, i))\n",
    "for i in val_l_dir:\n",
    "    shutil.copy(os.path.join(l_dir, i), os.path.join(val_l, i))\n",
    "for i in val_m_dir:\n",
    "    shutil.copy(os.path.join(m_dir, i), os.path.join(val_m, i))\n",
    "for i in val_n_dir:\n",
    "    shutil.copy(os.path.join(n_dir, i), os.path.join(val_n, i))\n",
    "for i in val_o_dir:\n",
    "    shutil.copy(os.path.join(o_dir, i), os.path.join(val_o, i))"
   ]
  },
  {
   "cell_type": "code",
   "execution_count": 13,
   "metadata": {},
   "outputs": [
    {
     "data": {
      "text/plain": [
       "42"
      ]
     },
     "execution_count": 13,
     "metadata": {},
     "output_type": "execute_result"
    }
   ],
   "source": [
    "# melihat berapa banyak citra yang ada pada direktori train/rock\n",
    "len(os.listdir('15-Scene/train/03'))\n",
    "len(os.listdir('15-Scene/val/03'))"
   ]
  },
  {
   "cell_type": "code",
   "execution_count": 14,
   "metadata": {},
   "outputs": [],
   "source": [
    "# menentukan parameter untuk augmentasi gambar data train dan validasi\n",
    "train_datagen = ImageDataGenerator(rescale = 1./255,\n",
    "                                  rotation_range = 20,\n",
    "                                  horizontal_flip = True,\n",
    "                                  shear_range = 0.2,\n",
    "                                  fill_mode = 'nearest')\n",
    "\n",
    "test_datagen = ImageDataGenerator(rescale = 1./255,\n",
    "                                  rotation_range = 20,\n",
    "                                  horizontal_flip = True,\n",
    "                                  shear_range = 0.2,\n",
    "                                  fill_mode = 'nearest')"
   ]
  },
  {
   "cell_type": "code",
   "execution_count": 15,
   "metadata": {},
   "outputs": [
    {
     "name": "stdout",
     "output_type": "stream",
     "text": [
      "Found 3583 images belonging to 15 classes.\n",
      "Found 902 images belonging to 15 classes.\n"
     ]
    }
   ],
   "source": [
    "# preprocessing citra data train dan validasi\n",
    "\n",
    "train_generator = train_datagen.flow_from_directory(train_dir, # direktori data train\n",
    "                                                   target_size = (150, 150), # mengubah resolusi menjadi 150x150 px\n",
    "                                                   batch_size = 32,\n",
    "                                                   class_mode = 'categorical') #klasifikasi 3 kelas\n",
    "validation_generator = test_datagen.flow_from_directory(validation_dir, # direktori data validasi\n",
    "                                                        target_size = (150,150), # mengubah resolusi menjadi 150x150px\n",
    "                                                        batch_size = 32,\n",
    "                                                        class_mode = 'categorical' #klasifikasi 3 kelas\n",
    ")"
   ]
  },
  {
   "cell_type": "code",
   "execution_count": 17,
   "metadata": {},
   "outputs": [],
   "source": [
    "# membangun arsitektur sebuah CNN\n",
    "model = tf.keras.models.Sequential([\n",
    "    tf.keras.layers.Conv2D(32, (3,3), activation='relu', input_shape=(150, 150, 3)), #resolusi\n",
    "    tf.keras.layers.MaxPooling2D(2, 2),\n",
    "\n",
    "    tf.keras.layers.Conv2D(64, (3,3), activation='relu'),\n",
    "    tf.keras.layers.MaxPooling2D(2,2),\n",
    "\n",
    "    tf.keras.layers.Conv2D(128, (3,3), activation='relu'),\n",
    "    tf.keras.layers.MaxPooling2D(2,2),\n",
    "\n",
    "    tf.keras.layers.Conv2D(256, (3,3), activation='relu'),\n",
    "    tf.keras.layers.MaxPooling2D(2,2),\n",
    "\n",
    "    tf.keras.layers.Flatten(),\n",
    "\n",
    "    tf.keras.layers.Dense(512, activation='relu'),\n",
    "    tf.keras.layers.Dense(15, activation='softmax')\n",
    "])"
   ]
  },
  {
   "cell_type": "code",
   "execution_count": 18,
   "metadata": {},
   "outputs": [],
   "source": [
    "# memanggil fungsi compile pada objek model\n",
    "model.compile(loss='categorical_crossentropy', # klasifikasi 3 kelas\n",
    "              optimizer=tf.optimizers.Adam(),\n",
    "              metrics=['accuracy'])"
   ]
  },
  {
   "cell_type": "code",
   "execution_count": 19,
   "metadata": {},
   "outputs": [
    {
     "name": "stdout",
     "output_type": "stream",
     "text": [
      "Epoch 1/20\n",
      "25/25 [==============================] - 76s 3s/step - loss: 2.7804 - accuracy: 0.0775 - val_loss: 2.6746 - val_accuracy: 0.1187\n",
      "Epoch 2/20\n",
      "25/25 [==============================] - 45s 2s/step - loss: 2.6913 - accuracy: 0.0763 - val_loss: 2.6596 - val_accuracy: 0.1375\n",
      "Epoch 3/20\n",
      "25/25 [==============================] - 34s 1s/step - loss: 2.6558 - accuracy: 0.1112 - val_loss: 2.6188 - val_accuracy: 0.1312\n",
      "Epoch 4/20\n",
      "25/25 [==============================] - 33s 1s/step - loss: 2.4779 - accuracy: 0.1865 - val_loss: 2.3485 - val_accuracy: 0.2313\n",
      "Epoch 5/20\n",
      "25/25 [==============================] - 32s 1s/step - loss: 2.3550 - accuracy: 0.2253 - val_loss: 2.3564 - val_accuracy: 0.2313\n",
      "Epoch 6/20\n",
      "25/25 [==============================] - 32s 1s/step - loss: 2.1983 - accuracy: 0.2562 - val_loss: 2.1339 - val_accuracy: 0.3125\n",
      "Epoch 7/20\n",
      "25/25 [==============================] - 32s 1s/step - loss: 2.0394 - accuracy: 0.3325 - val_loss: 2.0641 - val_accuracy: 0.3125\n",
      "Epoch 8/20\n",
      "25/25 [==============================] - 38s 2s/step - loss: 1.8265 - accuracy: 0.3967 - val_loss: 1.7547 - val_accuracy: 0.4250\n",
      "Epoch 9/20\n",
      "25/25 [==============================] - 35s 1s/step - loss: 1.8048 - accuracy: 0.4162 - val_loss: 1.7238 - val_accuracy: 0.4750\n",
      "Epoch 10/20\n",
      "25/25 [==============================] - 33s 1s/step - loss: 1.5729 - accuracy: 0.5038 - val_loss: 1.7660 - val_accuracy: 0.4062\n",
      "Epoch 11/20\n",
      "25/25 [==============================] - 32s 1s/step - loss: 1.4709 - accuracy: 0.4819 - val_loss: 1.4239 - val_accuracy: 0.4750\n",
      "Epoch 12/20\n",
      "25/25 [==============================] - 32s 1s/step - loss: 1.4458 - accuracy: 0.5075 - val_loss: 1.6272 - val_accuracy: 0.4875\n",
      "Epoch 13/20\n",
      "25/25 [==============================] - 34s 1s/step - loss: 1.4022 - accuracy: 0.5200 - val_loss: 1.3590 - val_accuracy: 0.5688\n",
      "Epoch 14/20\n",
      "25/25 [==============================] - 32s 1s/step - loss: 1.3758 - accuracy: 0.5469 - val_loss: 1.2758 - val_accuracy: 0.5875\n",
      "Epoch 15/20\n",
      "25/25 [==============================] - 31s 1s/step - loss: 1.4172 - accuracy: 0.5250 - val_loss: 1.4594 - val_accuracy: 0.5063\n",
      "Epoch 16/20\n",
      "25/25 [==============================] - 31s 1s/step - loss: 1.2657 - accuracy: 0.5738 - val_loss: 1.3216 - val_accuracy: 0.5500\n",
      "Epoch 17/20\n",
      "25/25 [==============================] - 32s 1s/step - loss: 1.1524 - accuracy: 0.6025 - val_loss: 1.3547 - val_accuracy: 0.5562\n",
      "Epoch 18/20\n",
      "25/25 [==============================] - 28s 1s/step - loss: 1.1766 - accuracy: 0.6112 - val_loss: 1.3882 - val_accuracy: 0.5625\n",
      "Epoch 19/20\n",
      "25/25 [==============================] - 30s 1s/step - loss: 1.1545 - accuracy: 0.6050 - val_loss: 1.1935 - val_accuracy: 0.5688\n",
      "Epoch 20/20\n",
      "25/25 [==============================] - 31s 1s/step - loss: 1.1712 - accuracy: 0.6087 - val_loss: 1.3041 - val_accuracy: 0.5500\n"
     ]
    }
   ],
   "source": [
    "# pelatihan mode;\n",
    "history = model.fit(\n",
    "    train_generator,\n",
    "    steps_per_epoch = 25, # jumlah batch yang akan dieksekusi pada tiap epoch\n",
    "    epochs = 20, # banyaknya epoch\n",
    "    validation_data = validation_generator, # menampilkan akurasi\n",
    "    validation_steps = 5 # jumlah batch yang akan dieksekusi tiap epoch\n",
    ")"
   ]
  },
  {
   "cell_type": "code",
   "execution_count": 20,
   "metadata": {},
   "outputs": [
    {
     "data": {
      "image/png": "[encoded data removed]",
      "text/plain": [
       "<Figure size 864x288 with 2 Axes>"
      ]
     },
     "metadata": {
      "needs_background": "light"
     },
     "output_type": "display_data"
    }
   ],
   "source": [
    "# visualisasi data hasil pelatihan model\n",
    "\n",
    "from keras.preprocessing import image\n",
    "import matplotlib.pyplot as plt\n",
    "import matplotlib.image as mpimg\n",
    "%matplotlib inline\n",
    " \n",
    "\n",
    "acc = history.history['accuracy']\n",
    "val_acc = history.history['val_accuracy']\n",
    "\n",
    "loss = history.history['loss']\n",
    "val_loss = history.history['val_loss']\n",
    "\n",
    "epochs_range = range(20)\n",
    "\n",
    "plt.figure(figsize=(12, 4))\n",
    "plt.subplot(1, 2, 1)\n",
    "plt.plot(epochs_range, acc, label='Training Accuracy')\n",
    "plt.plot(epochs_range, val_acc, label='Validation Accuracy')\n",
    "plt.legend(loc='lower right')\n",
    "plt.title('Training and Validation Accuracy')\n",
    "\n",
    "plt.subplot(1, 2, 2)\n",
    "plt.plot(epochs_range, loss, label='Training Loss')\n",
    "plt.plot(epochs_range, val_loss, label='Validation Loss')\n",
    "plt.legend(loc='upper right')\n",
    "plt.title('Training and Validation Loss')\n",
    "plt.show()"
   ]
  }
 ],
 "metadata": {
  "interpreter": {
   "hash": "815a89dea800023498108851e18adb7e68d118d9669d858f2aeb2020be76da9d"
  },
  "kernelspec": {
   "display_name": "Python 3.8.5 ('base')",
   "language": "python",
   "name": "python3"
  },
  "language_info": {
   "codemirror_mode": {
    "name": "ipython",
    "version": 3
   },
   "file_extension": ".py",
   "mimetype": "text/x-python",
   "name": "python",
   "nbconvert_exporter": "python",
   "pygments_lexer": "ipython3",
   "version": "3.8.5"
  },
  "orig_nbformat": 4
 },
 "nbformat": 4,
 "nbformat_minor": 2
}
