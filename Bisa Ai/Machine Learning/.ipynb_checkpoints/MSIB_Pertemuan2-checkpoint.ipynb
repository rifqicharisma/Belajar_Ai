{
 "cells": [
  {
   "cell_type": "code",
   "execution_count": 1,
   "metadata": {},
   "outputs": [
    {
     "name": "stdout",
     "output_type": "stream",
     "text": [
      "hello world\n"
     ]
    }
   ],
   "source": [
    "print(\"hello world\")"
   ]
  },
  {
   "cell_type": "code",
   "execution_count": 3,
   "metadata": {},
   "outputs": [
    {
     "name": "stdout",
     "output_type": "stream",
     "text": [
      "22 <class 'int'>\n"
     ]
    }
   ],
   "source": [
    "a = 10\n",
    "b = 12\n",
    "c = a+b\n",
    "print(c, type(c))"
   ]
  },
  {
   "cell_type": "code",
   "execution_count": 4,
   "metadata": {},
   "outputs": [
    {
     "name": "stdout",
     "output_type": "stream",
     "text": [
      "Nama saya :  Rifqi Alfinnur Charisma\n",
      "Variabel nama memiliki tipe data :  <class 'str'>\n",
      "NIM saya :  19104031\n",
      "Variabel NIM memiliki tipe data :  <class 'int'>\n",
      "Usia :  20\n",
      "Variabel usia memiliki tipe data :  <class 'int'>\n"
     ]
    }
   ],
   "source": [
    "nama = \"Rifqi Alfinnur Charisma\"\n",
    "nim = 19104031\n",
    "usia = 20\n",
    "\n",
    "print(\"Nama saya : \", nama)\n",
    "print(\"Variabel nama memiliki tipe data : \", type(nama))\n",
    "print(\"NIM saya : \", nim)\n",
    "print(\"Variabel NIM memiliki tipe data : \", type(nim))\n",
    "print(\"Usia : \", usia)\n",
    "print(\"Variabel usia memiliki tipe data : \", type(usia))"
   ]
  },
  {
   "cell_type": "code",
   "execution_count": 6,
   "metadata": {},
   "outputs": [
    {
     "name": "stdout",
     "output_type": "stream",
     "text": [
      "budi\n"
     ]
    }
   ],
   "source": [
    "# list\n",
    "nama = [\"budi\", \"alya\", \"fauzi\", \"mawar\"]\n",
    "\n",
    "print(nama[0])"
   ]
  },
  {
   "cell_type": "code",
   "execution_count": null,
   "metadata": {},
   "outputs": [],
   "source": []
  }
 ],
 "metadata": {
  "kernelspec": {
   "display_name": "Python 3",
   "language": "python",
   "name": "python3"
  },
  "language_info": {
   "codemirror_mode": {
    "name": "ipython",
    "version": 3
   },
   "file_extension": ".py",
   "mimetype": "text/x-python",
   "name": "python",
   "nbconvert_exporter": "python",
   "pygments_lexer": "ipython3",
   "version": "3.8.5"
  }
 },
 "nbformat": 4,
 "nbformat_minor": 4
}
