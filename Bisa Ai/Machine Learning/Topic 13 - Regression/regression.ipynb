{
 "cells": [
  {
   "cell_type": "code",
   "execution_count": 2,
   "metadata": {},
   "outputs": [],
   "source": [
    "import pandas as pd\n",
    "import numpy as np\n",
    "import matplotlib.pyplot as plt"
   ]
  },
  {
   "cell_type": "code",
   "execution_count": 4,
   "metadata": {},
   "outputs": [
    {
     "data": {
      "text/html": [
       "<div>\n",
       "<style scoped>\n",
       "    .dataframe tbody tr th:only-of-type {\n",
       "        vertical-align: middle;\n",
       "    }\n",
       "\n",
       "    .dataframe tbody tr th {\n",
       "        vertical-align: top;\n",
       "    }\n",
       "\n",
       "    .dataframe thead th {\n",
       "        text-align: right;\n",
       "    }\n",
       "</style>\n",
       "<table border=\"1\" class=\"dataframe\">\n",
       "  <thead>\n",
       "    <tr style=\"text-align: right;\">\n",
       "      <th></th>\n",
       "      <th>BiayaPromo</th>\n",
       "      <th>NilaiPenjualan</th>\n",
       "    </tr>\n",
       "  </thead>\n",
       "  <tbody>\n",
       "    <tr>\n",
       "      <th>0</th>\n",
       "      <td>1500</td>\n",
       "      <td>90500</td>\n",
       "    </tr>\n",
       "    <tr>\n",
       "      <th>1</th>\n",
       "      <td>1800</td>\n",
       "      <td>89500</td>\n",
       "    </tr>\n",
       "    <tr>\n",
       "      <th>2</th>\n",
       "      <td>1900</td>\n",
       "      <td>105000</td>\n",
       "    </tr>\n",
       "    <tr>\n",
       "      <th>3</th>\n",
       "      <td>2050</td>\n",
       "      <td>102000</td>\n",
       "    </tr>\n",
       "    <tr>\n",
       "      <th>4</th>\n",
       "      <td>2050</td>\n",
       "      <td>90500</td>\n",
       "    </tr>\n",
       "    <tr>\n",
       "      <th>5</th>\n",
       "      <td>2100</td>\n",
       "      <td>104500</td>\n",
       "    </tr>\n",
       "    <tr>\n",
       "      <th>6</th>\n",
       "      <td>2200</td>\n",
       "      <td>109500</td>\n",
       "    </tr>\n",
       "    <tr>\n",
       "      <th>7</th>\n",
       "      <td>2400</td>\n",
       "      <td>150000</td>\n",
       "    </tr>\n",
       "    <tr>\n",
       "      <th>8</th>\n",
       "      <td>3050</td>\n",
       "      <td>152000</td>\n",
       "    </tr>\n",
       "    <tr>\n",
       "      <th>9</th>\n",
       "      <td>3200</td>\n",
       "      <td>173000</td>\n",
       "    </tr>\n",
       "    <tr>\n",
       "      <th>10</th>\n",
       "      <td>3200</td>\n",
       "      <td>153000</td>\n",
       "    </tr>\n",
       "    <tr>\n",
       "      <th>11</th>\n",
       "      <td>3500</td>\n",
       "      <td>174500</td>\n",
       "    </tr>\n",
       "    <tr>\n",
       "      <th>12</th>\n",
       "      <td>3500</td>\n",
       "      <td>150000</td>\n",
       "    </tr>\n",
       "    <tr>\n",
       "      <th>13</th>\n",
       "      <td>3750</td>\n",
       "      <td>198000</td>\n",
       "    </tr>\n",
       "    <tr>\n",
       "      <th>14</th>\n",
       "      <td>3750</td>\n",
       "      <td>187000</td>\n",
       "    </tr>\n",
       "    <tr>\n",
       "      <th>15</th>\n",
       "      <td>3900</td>\n",
       "      <td>194500</td>\n",
       "    </tr>\n",
       "    <tr>\n",
       "      <th>16</th>\n",
       "      <td>4000</td>\n",
       "      <td>200500</td>\n",
       "    </tr>\n",
       "    <tr>\n",
       "      <th>17</th>\n",
       "      <td>4000</td>\n",
       "      <td>170500</td>\n",
       "    </tr>\n",
       "    <tr>\n",
       "      <th>18</th>\n",
       "      <td>4100</td>\n",
       "      <td>204500</td>\n",
       "    </tr>\n",
       "    <tr>\n",
       "      <th>19</th>\n",
       "      <td>4500</td>\n",
       "      <td>224500</td>\n",
       "    </tr>\n",
       "  </tbody>\n",
       "</table>\n",
       "</div>"
      ],
      "text/plain": [
       "    BiayaPromo  NilaiPenjualan\n",
       "0         1500           90500\n",
       "1         1800           89500\n",
       "2         1900          105000\n",
       "3         2050          102000\n",
       "4         2050           90500\n",
       "5         2100          104500\n",
       "6         2200          109500\n",
       "7         2400          150000\n",
       "8         3050          152000\n",
       "9         3200          173000\n",
       "10        3200          153000\n",
       "11        3500          174500\n",
       "12        3500          150000\n",
       "13        3750          198000\n",
       "14        3750          187000\n",
       "15        3900          194500\n",
       "16        4000          200500\n",
       "17        4000          170500\n",
       "18        4100          204500\n",
       "19        4500          224500"
      ]
     },
     "execution_count": 4,
     "metadata": {},
     "output_type": "execute_result"
    }
   ],
   "source": [
    "# memanggil dataset\n",
    "dataset = pd.read_csv('Sales_Data.csv', sep=';')\n",
    "dataset"
   ]
  },
  {
   "cell_type": "code",
   "execution_count": 5,
   "metadata": {},
   "outputs": [
    {
     "name": "stdout",
     "output_type": "stream",
     "text": [
      "[[1500]\n",
      " [1800]\n",
      " [1900]\n",
      " [2050]\n",
      " [2050]\n",
      " [2100]\n",
      " [2200]\n",
      " [2400]\n",
      " [3050]\n",
      " [3200]\n",
      " [3200]\n",
      " [3500]\n",
      " [3500]\n",
      " [3750]\n",
      " [3750]\n",
      " [3900]\n",
      " [4000]\n",
      " [4000]\n",
      " [4100]\n",
      " [4500]]\n",
      "[ 90500  89500 105000 102000  90500 104500 109500 150000 152000 173000\n",
      " 153000 174500 150000 198000 187000 194500 200500 170500 204500 224500]\n"
     ]
    }
   ],
   "source": [
    "# menentukan x dan y\n",
    "X = dataset.iloc[:, :-1].values\n",
    "y = dataset.iloc[:, 1].values\n",
    "print(X)\n",
    "print(y)"
   ]
  },
  {
   "cell_type": "code",
   "execution_count": 6,
   "metadata": {},
   "outputs": [
    {
     "data": {
      "text/plain": [
       "<bound method NDFrame.head of     BiayaPromo  NilaiPenjualan\n",
       "0         1500           90500\n",
       "1         1800           89500\n",
       "2         1900          105000\n",
       "3         2050          102000\n",
       "4         2050           90500\n",
       "5         2100          104500\n",
       "6         2200          109500\n",
       "7         2400          150000\n",
       "8         3050          152000\n",
       "9         3200          173000\n",
       "10        3200          153000\n",
       "11        3500          174500\n",
       "12        3500          150000\n",
       "13        3750          198000\n",
       "14        3750          187000\n",
       "15        3900          194500\n",
       "16        4000          200500\n",
       "17        4000          170500\n",
       "18        4100          204500\n",
       "19        4500          224500>"
      ]
     },
     "execution_count": 6,
     "metadata": {},
     "output_type": "execute_result"
    }
   ],
   "source": [
    "df = pd.DataFrame(dataset)\n",
    "df.head"
   ]
  },
  {
   "cell_type": "code",
   "execution_count": 7,
   "metadata": {},
   "outputs": [],
   "source": [
    "# splitting data\n",
    "from sklearn.model_selection import train_test_split\n",
    "X_train, X_test, y_train, y_test = train_test_split(X,y, test_size=0.2, random_state=7)"
   ]
  },
  {
   "cell_type": "markdown",
   "metadata": {},
   "source": [
    "## Linear Regression"
   ]
  },
  {
   "cell_type": "code",
   "execution_count": 10,
   "metadata": {},
   "outputs": [
    {
     "data": {
      "text/plain": [
       "LinearRegression()"
      ]
     },
     "execution_count": 10,
     "metadata": {},
     "output_type": "execute_result"
    }
   ],
   "source": [
    "from sklearn.linear_model import LinearRegression\n",
    "\n",
    "regressor = LinearRegression()\n",
    "regressor.fit(X_train, y_train)"
   ]
  },
  {
   "cell_type": "code",
   "execution_count": 11,
   "metadata": {},
   "outputs": [
    {
     "name": "stdout",
     "output_type": "stream",
     "text": [
      "[ 95803.44074718 198618.95039017 100476.87300368 109823.73751668]\n"
     ]
    }
   ],
   "source": [
    "# melakukan prediksi untuk hasil test set\n",
    "y_pred = regressor.predict(X_test)\n",
    "print(y_pred)"
   ]
  },
  {
   "cell_type": "code",
   "execution_count": 14,
   "metadata": {},
   "outputs": [
    {
     "name": "stdout",
     "output_type": "stream",
     "text": [
      "Aktual :  [ 89500 170500 105000 104500]\n",
      "Prediksi :  [ 95803.44074718 198618.95039017 100476.87300368 109823.73751668]\n",
      "RMSE :  14825.734343272941\n"
     ]
    }
   ],
   "source": [
    "# Evaluasi model linear regression\n",
    "from sklearn.metrics import mean_squared_error\n",
    "from math import sqrt\n",
    "\n",
    "print(\"Aktual : \", y_test)\n",
    "print(\"Prediksi : \", y_pred)\n",
    "\n",
    "print(\"RMSE : \", sqrt(mean_squared_error(y_test, y_pred)))"
   ]
  },
  {
   "cell_type": "code",
   "execution_count": 15,
   "metadata": {},
   "outputs": [
    {
     "data": {
      "image/png": "[encoded data removed]",
      "text/plain": [
       "<Figure size 432x288 with 1 Axes>"
      ]
     },
     "metadata": {
      "needs_background": "light"
     },
     "output_type": "display_data"
    }
   ],
   "source": [
    "# visualisasi data\n",
    "plt.scatter(df['BiayaPromo'], df['NilaiPenjualan'])\n",
    "plt.xlabel('Biaya Promosi')\n",
    "plt.ylabel('Nilai Penjualan')\n",
    "plt.title('Grafik Nilai Penjualan Berdasarkan Biaya Promosi')\n",
    "plt.show()"
   ]
  },
  {
   "cell_type": "code",
   "execution_count": 17,
   "metadata": {},
   "outputs": [
    {
     "data": {
      "image/png": "[encoded data removed]",
      "text/plain": [
       "<Figure size 720x576 with 1 Axes>"
      ]
     },
     "metadata": {
      "needs_background": "light"
     },
     "output_type": "display_data"
    }
   ],
   "source": [
    "# Visualisasi hasil machine learning\n",
    "plt.figure(figsize=(10,8))\n",
    "\n",
    "# titik biru adalah data observasi\n",
    "plt.scatter(X_train, y_train, color='blue')\n",
    "\n",
    "# membuat redline : hasil prediksi model\n",
    "plt.plot(X_train, regressor.predict(X_train), color='red')\n",
    "\n",
    "# memberi judul dan label pada grafik\n",
    "plt.xlabel('Biaya Promosi')\n",
    "plt.ylabel('Nilai Penjualan')\n",
    "plt.title('Biaya Promosi Terhadap Penjualan (Training Set)')\n",
    "\n",
    "#menampilkan visualisasi grafik\n",
    "plt.show()"
   ]
  },
  {
   "cell_type": "code",
   "execution_count": 19,
   "metadata": {},
   "outputs": [
    {
     "data": {
      "image/png": "[encoded data removed]",
      "text/plain": [
       "<Figure size 720x576 with 1 Axes>"
      ]
     },
     "metadata": {
      "needs_background": "light"
     },
     "output_type": "display_data"
    }
   ],
   "source": [
    "# Visualisasi hasil machine learning\n",
    "plt.figure(figsize=(10,8))\n",
    "\n",
    "# titik biru adalah data observasi\n",
    "plt.scatter(X_test, y_test, color='blue')\n",
    "\n",
    "# membuat redline : hasil prediksi model\n",
    "plt.plot(X_test, regressor.predict(X_test), color='red')\n",
    "\n",
    "# memberi judul dan label pada grafik\n",
    "plt.xlabel('Biaya Promosi')\n",
    "plt.ylabel('Nilai Penjualan')\n",
    "plt.title('Biaya Promosi Terhadap Penjualan (Testing Set)')\n",
    "\n",
    "#menampilkan visualisasi grafik\n",
    "plt.show()"
   ]
  },
  {
   "cell_type": "markdown",
   "metadata": {},
   "source": [
    "## Support Vector Regression"
   ]
  },
  {
   "cell_type": "code",
   "execution_count": 22,
   "metadata": {},
   "outputs": [
    {
     "data": {
      "text/plain": [
       "SVR(kernel='linear')"
      ]
     },
     "execution_count": 22,
     "metadata": {},
     "output_type": "execute_result"
    }
   ],
   "source": [
    "from sklearn.svm import SVR\n",
    "\n",
    "regr = SVR(kernel='linear')\n",
    "regr.fit(X_train, y_train)"
   ]
  },
  {
   "cell_type": "code",
   "execution_count": 23,
   "metadata": {},
   "outputs": [
    {
     "name": "stdout",
     "output_type": "stream",
     "text": [
      "Aktual :  [ 89500 170500 105000 104500]\n",
      "Prediksi :  [ 89500.09999998 199500.10000001  94500.09999999 104500.09999999]\n",
      "RMSE :  15421.200504830835\n"
     ]
    }
   ],
   "source": [
    "y_pred = regr.predict(X_test)\n",
    "print(\"Aktual : \", y_test)\n",
    "print(\"Prediksi : \", y_pred)\n",
    "\n",
    "# evaluasi SVR - RMSE\n",
    "print(\"RMSE : \", sqrt(mean_squared_error(y_test, y_pred)))"
   ]
  },
  {
   "cell_type": "code",
   "execution_count": null,
   "metadata": {},
   "outputs": [],
   "source": []
  }
 ],
 "metadata": {
  "interpreter": {
   "hash": "815a89dea800023498108851e18adb7e68d118d9669d858f2aeb2020be76da9d"
  },
  "kernelspec": {
   "display_name": "Python 3.8.5 ('base')",
   "language": "python",
   "name": "python3"
  },
  "language_info": {
   "codemirror_mode": {
    "name": "ipython",
    "version": 3
   },
   "file_extension": ".py",
   "mimetype": "text/x-python",
   "name": "python",
   "nbconvert_exporter": "python",
   "pygments_lexer": "ipython3",
   "version": "3.8.5"
  },
  "orig_nbformat": 4
 },
 "nbformat": 4,
 "nbformat_minor": 2
}
