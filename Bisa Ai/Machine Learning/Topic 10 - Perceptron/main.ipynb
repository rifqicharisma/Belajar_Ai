{
 "cells": [
  {
   "cell_type": "code",
   "execution_count": 19,
   "metadata": {},
   "outputs": [],
   "source": [
    "from sklearn.datasets import make_classification\n",
    "from sklearn.model_selection import train_test_split\n",
    "from sklearn.model_selection import RepeatedStratifiedKFold\n",
    "from sklearn.model_selection import cross_val_score\n",
    "from numpy import mean"
   ]
  },
  {
   "cell_type": "code",
   "execution_count": 15,
   "metadata": {},
   "outputs": [
    {
     "name": "stdout",
     "output_type": "stream",
     "text": [
      "[[ 2.39324489 -5.77732048 -0.59062319 -2.08095322  1.04707034]\n",
      " [-0.45820294  1.94683482 -2.46471441  2.36590955 -0.73666725]\n",
      " [ 2.35162422 -1.00061698 -0.5946091   1.12531096 -0.65267587]\n",
      " ...\n",
      " [ 2.75687956  1.67376262  0.39299534  1.98033054  1.05085815]\n",
      " [-0.3257538   0.86766186 -0.53730065  0.70964207  1.25200457]\n",
      " [-1.73912165  0.17810134 -3.28309556 -0.42392359 -3.73900435]]\n",
      "[1 1 1 0 1 0 1 1 1 0 0 0 0 0 0 1 1 1 1 1 1 0 0 1 1 1 1 1 1 0 1 1 0 1 0 0 1\n",
      " 1 1 1 0 0 0 1 0 1 0 1 0 0 1 0 1 0 0 1 1 0 1 0 0 0 0 0 0 0 1 1 0 0 1 1 1 0\n",
      " 1 1 1 0 1 0 1 1 0 0 1 0 0 0 1 1 1 1 1 1 0 0 1 0 0 1 1 1 0 0 0 1 0 0 0 0 0\n",
      " 1 1 0 0 0 0 0 0 0 1 1 1 0 1 0 1 0 0 1 0 0 1 0 0 0 0 0 1 1 0 1 0 1 0 1 1 1\n",
      " 0 1 1 1 1 1 1 1 1 0 1 0 0 1 0 0 1 1 1 1 1 0 1 0 1 1 0 1 1 1 1 0 0 1 1 1 1\n",
      " 1 1 1 0 0 1 0 0 0 0 0 1 1 0 0 0 1 1 0 0 0 1 1 1 0 1 0 1 0 1 1 1 1 0 0 1 1\n",
      " 1 0 1 0 0 0 0 1 0 1 1 1 1 0 0 0 1 1 0 0 1 0 0 1 0 1 1 1 1 1 0 1 1 1 0 1 0\n",
      " 1 1 0 1 0 1 1 1 1 0 0 1 0 1 0 1 0 1 1 1 0 1 1 0 0 1 1 1 1 1 1 0 0 0 1 1 0\n",
      " 0 1 0 1 0 1 1 0 1 1 0 0 0 1 0 0 0 0 1 1 1 0 1 1 1 0 0 0 1 1 0 0 0 0 1 1 1\n",
      " 1 1 0 1 0 1 0 1 1 1 0 1 0 1 0 0 1 0 0 0 1 0 0 1 0 0 0 1 1 0 1 0 0 0 0 1 1\n",
      " 1 1 0 0 0 0 1 1 0 1 1 1 0 1 0 1 1 1 1 1 1 1 0 1 0 1 0 0 1 1 0 1 1 1 1 0 0\n",
      " 1 1 1 0 1 0 0 0 1 0 0 1 1 0 0 0 1 1 1 1 1 1 0 0 0 1 1 1 1 0 0 0 0 0 1 1 1\n",
      " 0 0 0 1 1 1 0 1 0 0 1 1 0 1 0 0 0 0 1 1 1 0 1 0 0 0 0 0 1 0 1 0 1 1 0 0 1\n",
      " 0 0 0 0 0 1 0 0 0 0 1 0 0 0 1 1 0 1 0 1 0 0 0 1 0 0 0 1 0 0 0 0 1 1 1 0 1\n",
      " 0 1 0 1 1 0 0 0 1 1 1 1 1 0 0 0 1 0 0 0 0 1 0 1 1 1 1 0 1 1 1 0 0 1 1 0 1\n",
      " 0 1 1 0 0 1 0 0 1 1 1 0 0 1 0 1 1 0 1 0 1 0 1 0 1 1 1 0 0 1 0 0 0 1 1 1 0\n",
      " 1 0 0 0 0 0 0 1 1 0 0 1 1 1 1 1 0 0 1 1 1 0 1 1 0 0 1 1 1 1 0 0 0 0 1 1 1\n",
      " 1 0 0 1 1 0 0 0 1 0 0 0 1 0 1 0 0 0 0 0 0 0 0 0 1 1 1 1 1 1 0 0 1 0 1 1 0\n",
      " 1 0 1 1 0 1 0 0 1 1 0 0 0 0 0 0 0 1 0 1 0 0 1 0 0 0 1 0 0 1 1 0 0 0 0 0 1\n",
      " 1 0 1 1 1 0 1 0 1 0 0 1 1 1 0 0 0 0 1 0 1 1 0 0 0 0 1 1 0 1 0 0 0 0 1 1 1\n",
      " 1 1 1 0 0 1 0 1 0 1 1 1 1 0 0 0 0 0 0 0 0 0 1 1 1 0 0 1 0 1 1 0 0 0 0 0 0\n",
      " 1 0 1 1 1 1 0 1 1 1 0 0 1 1 1 1 0 1 0 1 0 0 1 1 0 1 1 1 1 1 0 1 0 0 1 1 1\n",
      " 1 1 0 0 1 0 0 1 0 1 0 1 1 0 1 0 0 1 0 0 0 1 0 0 1 0 0 1 0 0 1 1 1 1 1 1 0\n",
      " 0 1 1 0 0 1 0 1 1 1 1 0 1 0 0 0 0 0 1 1 0 1 0 1 0 1 1 0 1 1 1 1 1 0 0 0 0\n",
      " 0 0 1 0 0 1 1 1 0 0 0 0 1 1 0 0 0 1 1 0 0 1 0 1 0 1 0 1 0 1 0 0 1 0 0 1 1\n",
      " 1 1 1 0 1 0 0 1 1 0 1 0 1 1 1 0 0 1 0 0 0 0 1 1 0 0 0 1 1 0 1 1 0 0 0 0 1\n",
      " 1 1 1 0 1 1 0 0 1 0 1 0 0 0 1 1 1 0 0 0 0 0 0 0 1 1 1 0 1 0 0 0 0 1 0 0 0\n",
      " 1]\n"
     ]
    }
   ],
   "source": [
    "# make dataset\n",
    "X, y = make_classification(n_samples=1000, n_features=5, n_informative=5, n_redundant=0, random_state=1)\n",
    "print(X)\n",
    "print(y)"
   ]
  },
  {
   "cell_type": "code",
   "execution_count": 17,
   "metadata": {},
   "outputs": [
    {
     "name": "stdout",
     "output_type": "stream",
     "text": [
      "Train data :  800\n",
      "Test data :  200\n"
     ]
    }
   ],
   "source": [
    "# split data\n",
    "X_train, X_test, y_train, y_test = train_test_split(X, y, test_size=0.2)\n",
    "print(\"Train data : \", len(X_train))\n",
    "print(\"Test data : \", len(X_test))"
   ]
  },
  {
   "cell_type": "code",
   "execution_count": 24,
   "metadata": {},
   "outputs": [
    {
     "name": "stdout",
     "output_type": "stream",
     "text": [
      "Akurasi rata-rata = 0.757\n",
      "Config: {'eta0': 0.01}\n",
      ">0.742 with {'eta0': 0.0001}\n",
      ">0.755 with {'eta0': 0.001}\n",
      ">0.757 with {'eta0': 0.01}\n",
      ">0.755 with {'eta0': 0.1}\n",
      ">0.755 with {'eta0': 1.0}\n",
      "0.7575\n",
      "[0.825 0.825 0.65  0.65  0.65 ]\n"
     ]
    }
   ],
   "source": [
    "from sklearn.linear_model import Perceptron\n",
    "from sklearn.model_selection import GridSearchCV\n",
    "\n",
    "clfPerceptron = Perceptron(tol=0.0001, random_state=0, max_iter=10000)\n",
    "\n",
    "# mendefinisikan model evaluasi\n",
    "cv = RepeatedStratifiedKFold(n_splits = 10, n_repeats = 3, random_state=1)\n",
    "\n",
    "# define grid\n",
    "grid = dict()\n",
    "grid['eta0'] = [0.0001,0.001, 0.01, 0.1, 1.0]\n",
    "\n",
    "search = GridSearchCV(clfPerceptron, grid, scoring='accuracy', cv=cv, n_jobs=-1)\n",
    "\n",
    "result = search.fit(X_train, y_train)\n",
    "print(\"Akurasi rata-rata = %.3f\" %result.best_score_)\n",
    "print(\"Config: %s\" %result.best_params_)\n",
    "\n",
    "means = result.cv_results_['mean_test_score']\n",
    "params = result.cv_results_['params']\n",
    "\n",
    "for mean, param in zip(means, params):\n",
    "    print(\">%.3f with %r\" % (mean, param))\n",
    "\n",
    "print(result.best_score_)\n",
    "print(result.cv_results_['split0_test_score'])\n",
    "\n",
    "# mengevaluasi model\n",
    "# scores = cross_val_score(clfPerceptron, X_train, y_train, scoring='accuracy', cv=cv, n_jobs=-1)\n",
    "# print(scores)"
   ]
  },
  {
   "cell_type": "code",
   "execution_count": 20,
   "metadata": {},
   "outputs": [
    {
     "name": "stdout",
     "output_type": "stream",
     "text": [
      "Accuracy Rata-rata = 0.755\n"
     ]
    }
   ],
   "source": [
    "# nilai rata-rata akurasi dari 10 x 3 experiment\n",
    "print(\"Accuracy Rata-rata = %.3f\" %(mean(scores)))"
   ]
  },
  {
   "cell_type": "code",
   "execution_count": 13,
   "metadata": {},
   "outputs": [
    {
     "name": "stdout",
     "output_type": "stream",
     "text": [
      "0.74\n"
     ]
    }
   ],
   "source": [
    "print(clfPerceptron.score(X_test, y_test))"
   ]
  }
 ],
 "metadata": {
  "interpreter": {
   "hash": "fe6d48a06cf1965613c5c4b5d21b1182ca2e59212f354219b1b23c436410da45"
  },
  "kernelspec": {
   "display_name": "Python 3.8.5 ('base')",
   "language": "python",
   "name": "python3"
  },
  "language_info": {
   "codemirror_mode": {
    "name": "ipython",
    "version": 3
   },
   "file_extension": ".py",
   "mimetype": "text/x-python",
   "name": "python",
   "nbconvert_exporter": "python",
   "pygments_lexer": "ipython3",
   "version": "3.8.5"
  },
  "orig_nbformat": 4
 },
 "nbformat": 4,
 "nbformat_minor": 2
}
