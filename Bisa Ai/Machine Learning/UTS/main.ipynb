{
 "cells": [
  {
   "cell_type": "code",
   "execution_count": 2,
   "metadata": {},
   "outputs": [],
   "source": [
    "import numpy as np\n",
    "import pandas as pd\n",
    "import matplotlib.pyplot as plt\n",
    "import seaborn as sns\n",
    "from sklearn.tree import DecisionTreeClassifier\n",
    "from sklearn.metrics import accuracy_score, confusion_matrix"
   ]
  },
  {
   "cell_type": "code",
   "execution_count": 3,
   "metadata": {},
   "outputs": [
    {
     "data": {
      "text/html": [
       "<div>\n",
       "<style scoped>\n",
       "    .dataframe tbody tr th:only-of-type {\n",
       "        vertical-align: middle;\n",
       "    }\n",
       "\n",
       "    .dataframe tbody tr th {\n",
       "        vertical-align: top;\n",
       "    }\n",
       "\n",
       "    .dataframe thead th {\n",
       "        text-align: right;\n",
       "    }\n",
       "</style>\n",
       "<table border=\"1\" class=\"dataframe\">\n",
       "  <thead>\n",
       "    <tr style=\"text-align: right;\">\n",
       "      <th></th>\n",
       "      <th>Age</th>\n",
       "      <th>Sex</th>\n",
       "      <th>BP</th>\n",
       "      <th>Cholesterol</th>\n",
       "      <th>Na_to_K</th>\n",
       "      <th>Drug</th>\n",
       "    </tr>\n",
       "  </thead>\n",
       "  <tbody>\n",
       "    <tr>\n",
       "      <th>0</th>\n",
       "      <td>23</td>\n",
       "      <td>F</td>\n",
       "      <td>HIGH</td>\n",
       "      <td>HIGH</td>\n",
       "      <td>25.355</td>\n",
       "      <td>DrugY</td>\n",
       "    </tr>\n",
       "    <tr>\n",
       "      <th>1</th>\n",
       "      <td>47</td>\n",
       "      <td>M</td>\n",
       "      <td>LOW</td>\n",
       "      <td>HIGH</td>\n",
       "      <td>13.093</td>\n",
       "      <td>drugC</td>\n",
       "    </tr>\n",
       "    <tr>\n",
       "      <th>2</th>\n",
       "      <td>47</td>\n",
       "      <td>M</td>\n",
       "      <td>LOW</td>\n",
       "      <td>HIGH</td>\n",
       "      <td>10.114</td>\n",
       "      <td>drugC</td>\n",
       "    </tr>\n",
       "    <tr>\n",
       "      <th>3</th>\n",
       "      <td>28</td>\n",
       "      <td>F</td>\n",
       "      <td>NORMAL</td>\n",
       "      <td>HIGH</td>\n",
       "      <td>7.798</td>\n",
       "      <td>drugX</td>\n",
       "    </tr>\n",
       "    <tr>\n",
       "      <th>4</th>\n",
       "      <td>61</td>\n",
       "      <td>F</td>\n",
       "      <td>LOW</td>\n",
       "      <td>HIGH</td>\n",
       "      <td>18.043</td>\n",
       "      <td>DrugY</td>\n",
       "    </tr>\n",
       "  </tbody>\n",
       "</table>\n",
       "</div>"
      ],
      "text/plain": [
       "   Age Sex      BP Cholesterol  Na_to_K   Drug\n",
       "0   23   F    HIGH        HIGH   25.355  DrugY\n",
       "1   47   M     LOW        HIGH   13.093  drugC\n",
       "2   47   M     LOW        HIGH   10.114  drugC\n",
       "3   28   F  NORMAL        HIGH    7.798  drugX\n",
       "4   61   F     LOW        HIGH   18.043  DrugY"
      ]
     },
     "execution_count": 3,
     "metadata": {},
     "output_type": "execute_result"
    }
   ],
   "source": [
    "drug_df = pd.read_csv('drug200.csv')\n",
    "drug_df.head()"
   ]
  },
  {
   "cell_type": "code",
   "execution_count": 4,
   "metadata": {},
   "outputs": [
    {
     "name": "stdout",
     "output_type": "stream",
     "text": [
      "<class 'pandas.core.frame.DataFrame'>\n",
      "RangeIndex: 200 entries, 0 to 199\n",
      "Data columns (total 6 columns):\n",
      " #   Column       Non-Null Count  Dtype  \n",
      "---  ------       --------------  -----  \n",
      " 0   Age          200 non-null    int64  \n",
      " 1   Sex          200 non-null    object \n",
      " 2   BP           200 non-null    object \n",
      " 3   Cholesterol  200 non-null    object \n",
      " 4   Na_to_K      200 non-null    float64\n",
      " 5   Drug         200 non-null    object \n",
      "dtypes: float64(1), int64(1), object(4)\n",
      "memory usage: 9.5+ KB\n"
     ]
    }
   ],
   "source": [
    "# General info about dataset\n",
    "drug_df.info()"
   ]
  },
  {
   "cell_type": "code",
   "execution_count": 5,
   "metadata": {},
   "outputs": [
    {
     "data": {
      "text/plain": [
       "<AxesSubplot:title={'center':'AGE DISTRIBUTION'}, ylabel='Density'>"
      ]
     },
     "execution_count": 5,
     "metadata": {},
     "output_type": "execute_result"
    },
    {
     "data": {
      "image/png": "[encoded data removed]",
      "text/plain": [
       "<Figure size 432x288 with 1 Axes>"
      ]
     },
     "metadata": {
      "needs_background": "light"
     },
     "output_type": "display_data"
    }
   ],
   "source": [
    "plt.title(\"AGE DISTRIBUTION\")\n",
    "drug_df['Age'].plot(kind='kde')"
   ]
  },
  {
   "cell_type": "code",
   "execution_count": 6,
   "metadata": {},
   "outputs": [
    {
     "name": "stdout",
     "output_type": "stream",
     "text": [
      "Mean age is 44.315\n"
     ]
    }
   ],
   "source": [
    "print(f\"Mean age is {drug_df['Age'].mean()}\")"
   ]
  },
  {
   "cell_type": "code",
   "execution_count": 7,
   "metadata": {},
   "outputs": [
    {
     "data": {
      "text/plain": [
       "<AxesSubplot:title={'center':'Gender Distribution'}, xlabel='Sex', ylabel='count'>"
      ]
     },
     "execution_count": 7,
     "metadata": {},
     "output_type": "execute_result"
    },
    {
     "data": {
      "image/png": "[encoded data removed]",
      "text/plain": [
       "<Figure size 432x288 with 1 Axes>"
      ]
     },
     "metadata": {
      "needs_background": "light"
     },
     "output_type": "display_data"
    }
   ],
   "source": [
    "plt.title(\"Gender Distribution\")\n",
    "sns.set_style(\"darkgrid\")\n",
    "sns.countplot(x=drug_df.Sex)"
   ]
  },
  {
   "cell_type": "code",
   "execution_count": 8,
   "metadata": {},
   "outputs": [
    {
     "name": "stdout",
     "output_type": "stream",
     "text": [
      "We can see that there is almost an equal distribution of male and female.\n"
     ]
    }
   ],
   "source": [
    "print(\"We can see that there is almost an equal distribution of male and female.\")"
   ]
  },
  {
   "cell_type": "code",
   "execution_count": 9,
   "metadata": {},
   "outputs": [
    {
     "data": {
      "text/plain": [
       "DrugY    91\n",
       "drugX    54\n",
       "drugA    23\n",
       "drugC    16\n",
       "drugB    16\n",
       "Name: Drug, dtype: int64"
      ]
     },
     "execution_count": 9,
     "metadata": {},
     "output_type": "execute_result"
    }
   ],
   "source": [
    "drug_df['Drug'].value_counts()"
   ]
  },
  {
   "cell_type": "code",
   "execution_count": 10,
   "metadata": {},
   "outputs": [
    {
     "data": {
      "image/png": "[encoded data removed]",
      "text/plain": [
       "<Figure size 1080x576 with 1 Axes>"
      ]
     },
     "metadata": {},
     "output_type": "display_data"
    }
   ],
   "source": [
    "plt.figure(figsize=(15,8))\n",
    "plt.title(\"Drug Types\", fontsize=20, y=1.02)\n",
    "sns.countplot(x = drug_df.Drug, palette=\"hot\")\n",
    "plt.show()"
   ]
  },
  {
   "cell_type": "code",
   "execution_count": 11,
   "metadata": {},
   "outputs": [
    {
     "name": "stdout",
     "output_type": "stream",
     "text": [
      "Drug Y is most commonly used and Drug C is least commonly used\n"
     ]
    }
   ],
   "source": [
    "print(\"Drug Y is most commonly used and Drug C is least commonly used\")"
   ]
  },
  {
   "cell_type": "code",
   "execution_count": 12,
   "metadata": {},
   "outputs": [
    {
     "data": {
      "text/plain": [
       "<AxesSubplot:xlabel='Drug', ylabel='Age'>"
      ]
     },
     "execution_count": 12,
     "metadata": {},
     "output_type": "execute_result"
    },
    {
     "data": {
      "image/png": "[encoded data removed]",
      "text/plain": [
       "<Figure size 432x288 with 1 Axes>"
      ]
     },
     "metadata": {},
     "output_type": "display_data"
    }
   ],
   "source": [
    "sns.scatterplot(x='Drug',y='Age',hue='Sex',data=drug_df)"
   ]
  },
  {
   "cell_type": "code",
   "execution_count": 13,
   "metadata": {},
   "outputs": [
    {
     "name": "stdout",
     "output_type": "stream",
     "text": [
      "We find that Drug B is used by people over age 50 and drug A is used by people under 50\n"
     ]
    }
   ],
   "source": [
    "print(\"We find that Drug B is used by people over age 50 and drug A is used by people under 50\")"
   ]
  },
  {
   "cell_type": "code",
   "execution_count": 14,
   "metadata": {},
   "outputs": [
    {
     "data": {
      "text/plain": [
       "<AxesSubplot:title={'center':'Blood Pressure'}, xlabel='BP', ylabel='count'>"
      ]
     },
     "execution_count": 14,
     "metadata": {},
     "output_type": "execute_result"
    },
    {
     "data": {
      "image/png": "[encoded data removed]",
      "text/plain": [
       "<Figure size 432x288 with 1 Axes>"
      ]
     },
     "metadata": {},
     "output_type": "display_data"
    }
   ],
   "source": [
    "plt.title(\"Blood Pressure\")\n",
    "sns.countplot(x=drug_df.BP)"
   ]
  },
  {
   "cell_type": "code",
   "execution_count": 15,
   "metadata": {},
   "outputs": [
    {
     "data": {
      "text/plain": [
       "<AxesSubplot:xlabel='Drug', ylabel='count'>"
      ]
     },
     "execution_count": 15,
     "metadata": {},
     "output_type": "execute_result"
    },
    {
     "data": {
      "image/png": "[encoded data removed]",
      "text/plain": [
       "<Figure size 432x288 with 1 Axes>"
      ]
     },
     "metadata": {},
     "output_type": "display_data"
    }
   ],
   "source": [
    "sns.countplot(x='Drug',hue='BP',data = drug_df)"
   ]
  },
  {
   "cell_type": "code",
   "execution_count": 16,
   "metadata": {},
   "outputs": [
    {
     "data": {
      "text/plain": [
       "<AxesSubplot:xlabel='Drug', ylabel='Na_to_K'>"
      ]
     },
     "execution_count": 16,
     "metadata": {},
     "output_type": "execute_result"
    },
    {
     "data": {
      "image/png": "[encoded data removed]",
      "text/plain": [
       "<Figure size 432x288 with 1 Axes>"
      ]
     },
     "metadata": {},
     "output_type": "display_data"
    }
   ],
   "source": [
    "sns.scatterplot(x='Drug',y=\"Na_to_K\",hue='Sex',data=drug_df)"
   ]
  },
  {
   "cell_type": "code",
   "execution_count": 17,
   "metadata": {},
   "outputs": [],
   "source": [
    "# one hot encoder\n",
    "drug_df['Sex'] = drug_df['Sex'].map({'M': 1, 'F': 2})\n",
    "drug_df['BP'] = drug_df['BP'].map({'HIGH': 1, \"NORMAL\" : 2, \"LOW\" : 3})\n",
    "drug_df['Cholesterol'] = drug_df['Cholesterol'].map({'HIGH': 1, \"NORMAL\" : 2})\n",
    "drug_df[\"Drug\"] = drug_df[\"Drug\"].map({\"DrugY\":1, \"drugC\":2, \"drugX\":3, \"drugA\":4, \"drugB\":5})"
   ]
  },
  {
   "cell_type": "code",
   "execution_count": 18,
   "metadata": {},
   "outputs": [
    {
     "data": {
      "text/html": [
       "<div>\n",
       "<style scoped>\n",
       "    .dataframe tbody tr th:only-of-type {\n",
       "        vertical-align: middle;\n",
       "    }\n",
       "\n",
       "    .dataframe tbody tr th {\n",
       "        vertical-align: top;\n",
       "    }\n",
       "\n",
       "    .dataframe thead th {\n",
       "        text-align: right;\n",
       "    }\n",
       "</style>\n",
       "<table border=\"1\" class=\"dataframe\">\n",
       "  <thead>\n",
       "    <tr style=\"text-align: right;\">\n",
       "      <th></th>\n",
       "      <th>Age</th>\n",
       "      <th>Sex</th>\n",
       "      <th>BP</th>\n",
       "      <th>Cholesterol</th>\n",
       "      <th>Na_to_K</th>\n",
       "      <th>Drug</th>\n",
       "    </tr>\n",
       "  </thead>\n",
       "  <tbody>\n",
       "    <tr>\n",
       "      <th>0</th>\n",
       "      <td>23</td>\n",
       "      <td>2</td>\n",
       "      <td>1</td>\n",
       "      <td>1</td>\n",
       "      <td>25.355</td>\n",
       "      <td>1</td>\n",
       "    </tr>\n",
       "    <tr>\n",
       "      <th>1</th>\n",
       "      <td>47</td>\n",
       "      <td>1</td>\n",
       "      <td>3</td>\n",
       "      <td>1</td>\n",
       "      <td>13.093</td>\n",
       "      <td>2</td>\n",
       "    </tr>\n",
       "    <tr>\n",
       "      <th>2</th>\n",
       "      <td>47</td>\n",
       "      <td>1</td>\n",
       "      <td>3</td>\n",
       "      <td>1</td>\n",
       "      <td>10.114</td>\n",
       "      <td>2</td>\n",
       "    </tr>\n",
       "    <tr>\n",
       "      <th>3</th>\n",
       "      <td>28</td>\n",
       "      <td>2</td>\n",
       "      <td>2</td>\n",
       "      <td>1</td>\n",
       "      <td>7.798</td>\n",
       "      <td>3</td>\n",
       "    </tr>\n",
       "    <tr>\n",
       "      <th>4</th>\n",
       "      <td>61</td>\n",
       "      <td>2</td>\n",
       "      <td>3</td>\n",
       "      <td>1</td>\n",
       "      <td>18.043</td>\n",
       "      <td>1</td>\n",
       "    </tr>\n",
       "  </tbody>\n",
       "</table>\n",
       "</div>"
      ],
      "text/plain": [
       "   Age  Sex  BP  Cholesterol  Na_to_K  Drug\n",
       "0   23    2   1            1   25.355     1\n",
       "1   47    1   3            1   13.093     2\n",
       "2   47    1   3            1   10.114     2\n",
       "3   28    2   2            1    7.798     3\n",
       "4   61    2   3            1   18.043     1"
      ]
     },
     "execution_count": 18,
     "metadata": {},
     "output_type": "execute_result"
    }
   ],
   "source": [
    "drug_df.head()"
   ]
  },
  {
   "cell_type": "code",
   "execution_count": 24,
   "metadata": {},
   "outputs": [],
   "source": [
    "X = drug_df.drop('Drug',axis=1)\n",
    "y = drug_df['Drug']"
   ]
  },
  {
   "cell_type": "code",
   "execution_count": 25,
   "metadata": {},
   "outputs": [
    {
     "data": {
      "text/plain": [
       "array([[-1.29159102,  1.040833  , -1.11692063, -0.97043679,  1.28652212],\n",
       "       [ 0.16269866, -0.96076892,  1.2722144 , -0.97043679, -0.4151454 ],\n",
       "       [ 0.16269866, -0.96076892,  1.2722144 , -0.97043679, -0.82855818],\n",
       "       [-0.988614  ,  1.040833  ,  0.07764689, -0.97043679, -1.14996267],\n",
       "       [ 1.0110343 ,  1.040833  ,  1.2722144 , -0.97043679,  0.27179427],\n",
       "       [-1.35218642,  1.040833  ,  0.07764689, -0.97043679, -1.03769314],\n",
       "       [ 0.28388946,  1.040833  ,  0.07764689, -0.97043679,  0.02643885],\n",
       "       [-0.20087376, -0.96076892,  1.2722144 , -0.97043679, -0.70046821],\n",
       "       [ 0.9504389 , -0.96076892,  0.07764689, -0.97043679, -0.12676951],\n",
       "       [-0.07968296, -0.96076892,  1.2722144 ,  1.03046381,  0.45567206],\n",
       "       [ 0.16269866,  1.040833  ,  1.2722144 , -0.97043679, -0.59916196],\n",
       "       [-0.62504158,  1.040833  , -1.11692063,  1.03046381,  0.43221897],\n",
       "       [-0.07968296, -0.96076892,  1.2722144 , -0.97043679, -0.09832049],\n",
       "       [ 1.79877454,  1.040833  ,  1.2722144 , -0.97043679,  0.674105  ],\n",
       "       [ 0.34448487,  1.040833  ,  0.07764689, -0.97043679, -0.46926791],\n",
       "       [-1.71575884,  1.040833  , -1.11692063,  1.03046381, -0.0788919 ],\n",
       "       [ 1.49579753, -0.96076892,  1.2722144 ,  1.03046381, -0.64245998],\n",
       "       [-0.07968296, -0.96076892, -1.11692063, -0.97043679, -0.29316156],\n",
       "       [-1.29159102, -0.96076892,  1.2722144 , -0.97043679, -1.21935052],\n",
       "       [-0.74623239,  1.040833  , -1.11692063,  1.03046381,  1.37242427],\n",
       "       [ 0.76865269, -0.96076892,  1.2722144 ,  1.03046381,  0.42236589],\n",
       "       [ 1.13222511, -0.96076892,  0.07764689, -0.97043679,  1.36451406],\n",
       "       [ 0.16269866, -0.96076892,  1.2722144 ,  1.03046381,  2.00995979],\n",
       "       [ 0.22329406,  1.040833  ,  1.2722144 , -0.97043679, -0.14550423],\n",
       "       [-0.68563699,  1.040833  ,  1.2722144 , -0.97043679,  2.41490725],\n",
       "       [-0.988614  ,  1.040833  , -1.11692063,  1.03046381,  0.37809645],\n",
       "       [-0.80682779, -0.96076892, -1.11692063, -0.97043679,  1.9819271 ],\n",
       "       [ 0.28388946,  1.040833  ,  0.07764689,  1.03046381, -0.93028076],\n",
       "       [-0.32206457,  1.040833  ,  1.2722144 ,  1.03046381,  0.91765633],\n",
       "       [ 0.04150785, -0.96076892,  1.2722144 , -0.97043679,  0.25902691],\n",
       "       [-1.59456803,  1.040833  ,  0.07764689,  1.03046381, -1.01784822],\n",
       "       [ 1.79877454, -0.96076892, -1.11692063, -0.97043679, -0.90446848],\n",
       "       [ 0.28388946, -0.96076892,  1.2722144 ,  1.03046381, -0.70366006],\n",
       "       [ 1.25341591,  1.040833  , -1.11692063,  1.03046381,  2.19147839],\n",
       "       [ 0.52627108, -0.96076892,  0.07764689, -0.97043679, -0.27081868],\n",
       "       [ 0.10210325, -0.96076892,  0.07764689,  1.03046381, -1.2211546 ],\n",
       "       [-0.74623239, -0.96076892, -1.11692063,  1.03046381, -0.92139911],\n",
       "       [-0.32206457, -0.96076892,  1.2722144 ,  1.03046381, -0.29787994],\n",
       "       [-0.32206457,  1.040833  ,  0.07764689,  1.03046381, -0.88476233],\n",
       "       [-1.77635424, -0.96076892,  0.07764689, -0.97043679, -0.97149714],\n",
       "       [ 1.73817914,  1.040833  ,  0.07764689, -0.97043679,  0.43527203],\n",
       "       [ 0.82924809,  1.040833  , -1.11692063,  1.03046381, -0.25610845],\n",
       "       [ 0.34448487, -0.96076892,  0.07764689,  1.03046381, -0.04086736],\n",
       "       [-1.29159102, -0.96076892,  0.07764689, -0.97043679, -0.53074555],\n",
       "       [ 0.34448487,  1.040833  ,  0.07764689,  1.03046381, -0.5258884 ],\n",
       "       [ 1.31401132,  1.040833  ,  0.07764689,  1.03046381, -1.10708099],\n",
       "       [-0.44325537,  1.040833  , -1.11692063, -0.97043679, -0.41542295],\n",
       "       [ 1.43520212, -0.96076892,  1.2722144 , -0.97043679, -0.80399488],\n",
       "       [-1.29159102, -0.96076892,  0.07764689, -0.97043679,  2.16511101],\n",
       "       [-0.988614  ,  1.040833  ,  1.2722144 , -0.97043679,  0.51506806],\n",
       "       [ 0.82924809,  1.040833  , -1.11692063, -0.97043679,  0.46233329],\n",
       "       [ 1.37460672, -0.96076892,  0.07764689,  1.03046381, -0.71975804],\n",
       "       [ 1.0716297 , -0.96076892,  1.2722144 ,  1.03046381,  1.54020408],\n",
       "       [-1.23099561,  1.040833  , -1.11692063,  1.03046381,  0.32924741],\n",
       "       [ 1.43520212,  1.040833  , -1.11692063,  1.03046381, -0.81815   ],\n",
       "       [-1.10980481,  1.040833  ,  1.2722144 , -0.97043679, -0.26707173],\n",
       "       [ 1.25341591, -0.96076892, -1.11692063,  1.03046381, -0.65841918],\n",
       "       [-0.26146916, -0.96076892, -1.11692063, -0.97043679,  1.62943685],\n",
       "       [ 0.9504389 , -0.96076892,  0.07764689,  1.03046381, -0.83175002],\n",
       "       [-0.62504158, -0.96076892, -1.11692063, -0.97043679,  0.36338623],\n",
       "       [-0.38265997,  1.040833  ,  1.2722144 ,  1.03046381,  1.91378824],\n",
       "       [-1.23099561, -0.96076892, -1.11692063,  1.03046381, -0.91723584],\n",
       "       [ 1.37460672, -0.96076892,  1.2722144 ,  1.03046381,  0.63954985],\n",
       "       [ 0.04150785, -0.96076892,  1.2722144 ,  1.03046381, -1.07058298],\n",
       "       [ 0.9504389 ,  1.040833  , -1.11692063, -0.97043679, -0.3860025 ],\n",
       "       [ 1.43520212,  1.040833  ,  0.07764689,  1.03046381,  1.52174691],\n",
       "       [-0.9280186 , -0.96076892, -1.11692063, -0.97043679, -0.44803523],\n",
       "       [-1.65516344, -0.96076892,  0.07764689,  1.03046381, -0.72891723],\n",
       "       [ 0.58686648, -0.96076892,  0.07764689, -0.97043679,  1.18979546],\n",
       "       [-1.59456803,  1.040833  , -1.11692063,  1.03046381,  1.13678315],\n",
       "       [ 1.55639293, -0.96076892, -1.11692063, -0.97043679, -0.29385544],\n",
       "       [-0.988614  ,  1.040833  ,  0.07764689, -0.97043679,  0.4982762 ],\n",
       "       [-1.23099561,  1.040833  ,  0.07764689, -0.97043679, -0.76041931],\n",
       "       [-0.20087376,  1.040833  ,  0.07764689,  1.03046381,  0.94652168],\n",
       "       [-0.80682779, -0.96076892, -1.11692063,  1.03046381,  0.13662675],\n",
       "       [-1.10980481, -0.96076892,  1.2722144 ,  1.03046381,  0.6695254 ],\n",
       "       [-0.50385078,  1.040833  , -1.11692063, -0.97043679, -0.67812533],\n",
       "       [-1.10980481,  1.040833  , -1.11692063,  1.03046381,  0.42694549],\n",
       "       [-1.53397263,  1.040833  , -1.11692063, -0.97043679, -0.38461474],\n",
       "       [-0.74623239,  1.040833  ,  1.2722144 ,  1.03046381, -0.72780703],\n",
       "       [ 0.9504389 , -0.96076892, -1.11692063, -0.97043679, -0.29843504],\n",
       "       [ 1.19282051, -0.96076892,  0.07764689, -0.97043679, -1.15509738],\n",
       "       [-0.74623239,  1.040833  ,  1.2722144 , -0.97043679, -0.884346  ],\n",
       "       [-0.38265997,  1.040833  , -1.11692063,  1.03046381, -0.66036204],\n",
       "       [ 0.16269866,  1.040833  ,  1.2722144 , -0.97043679, -0.83508063],\n",
       "       [ 0.88984349, -0.96076892, -1.11692063, -0.97043679, -0.29829626],\n",
       "       [ 0.40508027,  1.040833  ,  0.07764689, -0.97043679, -0.34520245],\n",
       "       [ 1.49579753, -0.96076892,  1.2722144 , -0.97043679, -0.08416537],\n",
       "       [-0.44325537,  1.040833  , -1.11692063,  1.03046381,  0.97233395],\n",
       "       [ 0.34448487,  1.040833  ,  0.07764689,  1.03046381,  0.1563329 ],\n",
       "       [ 1.0716297 , -0.96076892,  0.07764689, -0.97043679,  0.0707083 ],\n",
       "       [-0.20087376, -0.96076892, -1.11692063,  1.03046381, -0.12885115],\n",
       "       [-0.9280186 ,  1.040833  , -1.11692063, -0.97043679,  1.85480857],\n",
       "       [-0.14027836,  1.040833  ,  1.2722144 ,  1.03046381,  1.82996772],\n",
       "       [ 0.70805729, -0.96076892,  1.2722144 , -0.97043679, -0.14841852],\n",
       "       [-0.50385078, -0.96076892,  1.2722144 ,  1.03046381, -0.64676202],\n",
       "       [ 0.82924809,  1.040833  ,  1.2722144 , -0.97043679,  3.07561832],\n",
       "       [ 0.70805729,  1.040833  , -1.11692063, -0.97043679,  1.29207314],\n",
       "       [-1.47337723, -0.96076892, -1.11692063,  1.03046381,  2.71369132],\n",
       "       [-1.77635424,  1.040833  , -1.11692063,  1.03046381,  0.08888791],\n",
       "       [-0.80682779, -0.96076892, -1.11692063,  1.03046381, -0.58472929],\n",
       "       [ 0.04150785,  1.040833  , -1.11692063, -0.97043679, -0.44831279],\n",
       "       [-0.988614  ,  1.040833  ,  1.2722144 , -0.97043679, -0.41042702],\n",
       "       [ 0.70805729, -0.96076892,  0.07764689, -0.97043679, -0.98787267],\n",
       "       [-1.35218642, -0.96076892, -1.11692063,  1.03046381,  1.69438387],\n",
       "       [-0.44325537, -0.96076892,  1.2722144 ,  1.03046381, -0.98759512],\n",
       "       [-1.35218642, -0.96076892,  0.07764689, -0.97043679, -0.57334968],\n",
       "       [-0.14027836, -0.96076892,  1.2722144 , -0.97043679,  0.54518238],\n",
       "       [ 1.67758373, -0.96076892, -1.11692063,  1.03046381, -0.88920315],\n",
       "       [-1.29159102, -0.96076892,  0.07764689, -0.97043679,  0.10623487],\n",
       "       [ 0.34448487, -0.96076892, -1.11692063, -0.97043679, -1.19270559],\n",
       "       [ 0.16269866,  1.040833  ,  0.07764689,  1.03046381, -1.30469757],\n",
       "       [-0.56444618, -0.96076892,  1.2722144 ,  1.03046381, -0.95956243],\n",
       "       [ 1.25341591,  1.040833  ,  1.2722144 ,  1.03046381, -0.32133303],\n",
       "       [-1.47337723,  1.040833  ,  0.07764689,  1.03046381, -0.94415833],\n",
       "       [ 0.40508027, -0.96076892, -1.11692063, -0.97043679,  0.30676574],\n",
       "       [ 1.37460672, -0.96076892,  0.07764689,  1.03046381, -0.91182359],\n",
       "       [-0.26146916,  1.040833  ,  0.07764689, -0.97043679, -0.83008471],\n",
       "       [-0.74623239,  1.040833  , -1.11692063,  1.03046381, -0.8038561 ],\n",
       "       [ 1.0110343 ,  1.040833  , -1.11692063, -0.97043679,  1.3031752 ],\n",
       "       [-0.988614  , -0.96076892,  0.07764689, -0.97043679,  1.52368977],\n",
       "       [-1.77635424, -0.96076892, -1.11692063,  1.03046381,  0.15563902],\n",
       "       [-0.62504158, -0.96076892,  0.07764689, -0.97043679,  0.88421139],\n",
       "       [-0.50385078,  1.040833  ,  0.07764689, -0.97043679,  0.09277363],\n",
       "       [ 0.52627108,  1.040833  , -1.11692063,  1.03046381, -0.49813326],\n",
       "       [-1.53397263,  1.040833  , -1.11692063,  1.03046381,  1.37173039],\n",
       "       [ 1.31401132, -0.96076892, -1.11692063, -0.97043679,  0.0364307 ],\n",
       "       [-0.56444618, -0.96076892,  0.07764689,  1.03046381, -1.14344022],\n",
       "       [ 0.16269866, -0.96076892,  1.2722144 ,  1.03046381,  2.42267869],\n",
       "       [-0.74623239,  1.040833  ,  0.07764689, -0.97043679, -1.19450967],\n",
       "       [ 1.55639293,  1.040833  ,  0.07764689, -0.97043679,  0.61123961],\n",
       "       [ 0.46567567, -0.96076892,  1.2722144 ,  1.03046381,  2.33663776],\n",
       "       [ 0.28388946, -0.96076892,  1.2722144 ,  1.03046381, -0.34506367],\n",
       "       [-1.23099561, -0.96076892,  0.07764689, -0.97043679,  1.34633444],\n",
       "       [-0.14027836,  1.040833  , -1.11692063, -0.97043679,  0.68714991],\n",
       "       [ 1.79877454, -0.96076892,  1.2722144 ,  1.03046381, -0.57529254],\n",
       "       [ 0.64746188,  1.040833  , -1.11692063, -0.97043679, -0.70879476],\n",
       "       [-0.56444618,  1.040833  , -1.11692063, -0.97043679, -0.44276176],\n",
       "       [ 0.40508027, -0.96076892, -1.11692063,  1.03046381, -0.65800285],\n",
       "       [ 1.49579753,  1.040833  ,  0.07764689, -0.97043679, -0.83535819],\n",
       "       [ 0.28388946, -0.96076892, -1.11692063,  1.03046381, -1.36215071],\n",
       "       [ 1.19282051,  1.040833  ,  1.2722144 ,  1.03046381,  1.34008953],\n",
       "       [ 0.9504389 , -0.96076892, -1.11692063,  1.03046381, -1.03575028],\n",
       "       [ 1.79877454, -0.96076892, -1.11692063,  1.03046381, -0.08999395],\n",
       "       [-0.32206457, -0.96076892, -1.11692063, -0.97043679, -0.89100724],\n",
       "       [ 1.0110343 , -0.96076892,  0.07764689, -0.97043679, -0.92167666],\n",
       "       [-0.44325537,  1.040833  ,  1.2722144 ,  1.03046381, -0.56599457],\n",
       "       [-1.10980481,  1.040833  , -1.11692063,  1.03046381, -0.52422309],\n",
       "       [ 1.0110343 ,  1.040833  ,  1.2722144 ,  1.03046381, -1.21352194],\n",
       "       [-1.35218642, -0.96076892,  1.2722144 , -0.97043679, -1.10097486],\n",
       "       [ 0.28388946, -0.96076892, -1.11692063,  1.03046381, -1.024787  ],\n",
       "       [ 1.43520212, -0.96076892, -1.11692063, -0.97043679, -0.70435393],\n",
       "       [ 0.64746188, -0.96076892,  0.07764689,  1.03046381, -1.22448522],\n",
       "       [ 1.67758373,  1.040833  ,  1.2722144 ,  1.03046381, -0.20018185],\n",
       "       [-0.44325537, -0.96076892,  1.2722144 ,  1.03046381,  0.08874914],\n",
       "       [ 0.28388946, -0.96076892,  1.2722144 , -0.97043679, -0.76985606],\n",
       "       [-0.80682779, -0.96076892, -1.11692063,  1.03046381, -0.67410083],\n",
       "       [ 0.52627108, -0.96076892,  1.2722144 , -0.97043679,  0.95457067],\n",
       "       [ 0.88984349,  1.040833  ,  1.2722144 , -0.97043679, -0.7827622 ],\n",
       "       [-0.62504158,  1.040833  ,  1.2722144 ,  1.03046381, -0.43873726],\n",
       "       [-0.8674232 ,  1.040833  ,  0.07764689, -0.97043679, -0.78290097],\n",
       "       [ 0.76865269,  1.040833  , -1.11692063,  1.03046381, -0.85201127],\n",
       "       [-0.07968296, -0.96076892,  0.07764689,  1.03046381, -0.44761891],\n",
       "       [-1.41278182,  1.040833  , -1.11692063,  1.03046381,  1.74129005],\n",
       "       [-1.71575884, -0.96076892, -1.11692063,  1.03046381,  0.40557404],\n",
       "       [-0.38265997, -0.96076892,  1.2722144 , -0.97043679,  0.30676574],\n",
       "       [ 0.82924809,  1.040833  ,  1.2722144 , -0.97043679,  1.46554276],\n",
       "       [ 0.76865269,  1.040833  ,  0.07764689, -0.97043679, -0.2593003 ],\n",
       "       [ 0.40508027,  1.040833  ,  1.2722144 ,  1.03046381,  0.96012169],\n",
       "       [-1.47337723,  1.040833  , -1.11692063, -0.97043679, -0.66924368],\n",
       "       [-0.988614  ,  1.040833  ,  0.07764689, -0.97043679, -0.44484339],\n",
       "       [ 0.04150785, -0.96076892,  1.2722144 ,  1.03046381, -0.84201942],\n",
       "       [-0.32206457,  1.040833  ,  0.07764689,  1.03046381,  0.15827576],\n",
       "       [-0.20087376,  1.040833  ,  1.2722144 ,  1.03046381,  0.36838215],\n",
       "       [-0.14027836, -0.96076892, -1.11692063,  1.03046381, -0.46052505],\n",
       "       [ 1.73817914,  1.040833  , -1.11692063, -0.97043679,  0.31412086],\n",
       "       [ 0.22329406, -0.96076892, -1.11692063,  1.03046381, -0.78248465],\n",
       "       [-1.17040021, -0.96076892,  0.07764689, -0.97043679,  0.40612914],\n",
       "       [-0.32206457, -0.96076892,  0.07764689, -0.97043679, -0.01602651],\n",
       "       [ 1.37460672,  1.040833  ,  0.07764689, -0.97043679, -0.02685101],\n",
       "       [-1.35218642,  1.040833  , -1.11692063,  1.03046381,  0.93444819],\n",
       "       [ 0.88984349,  1.040833  ,  0.07764689, -0.97043679, -0.30537382],\n",
       "       [-1.47337723,  1.040833  ,  1.2722144 ,  1.03046381, -0.61040279],\n",
       "       [-0.50385078,  1.040833  , -1.11692063,  1.03046381, -0.08250007],\n",
       "       [-1.59456803,  1.040833  , -1.11692063, -0.97043679,  2.92865486],\n",
       "       [ 0.76865269,  1.040833  ,  0.07764689,  1.03046381,  1.36118344],\n",
       "       [ 1.55639293, -0.96076892, -1.11692063, -0.97043679, -0.86533373],\n",
       "       [ 0.16269866, -0.96076892, -1.11692063, -0.97043679, -0.788452  ],\n",
       "       [ 1.25341591, -0.96076892, -1.11692063,  1.03046381,  2.62459732],\n",
       "       [ 1.19282051, -0.96076892, -1.11692063,  1.03046381,  0.67271724],\n",
       "       [ 0.82924809, -0.96076892, -1.11692063, -0.97043679,  0.40335363],\n",
       "       [-1.29159102, -0.96076892, -1.11692063, -0.97043679, -1.12040345],\n",
       "       [ 1.67758373, -0.96076892,  1.2722144 , -0.97043679,  0.031296  ],\n",
       "       [ 1.67758373, -0.96076892,  1.2722144 , -0.97043679, -1.29276286],\n",
       "       [ 0.10210325,  1.040833  , -1.11692063, -0.97043679,  2.58143808],\n",
       "       [ 0.70805729,  1.040833  ,  1.2722144 , -0.97043679, -0.6269171 ],\n",
       "       [-1.71575884, -0.96076892,  1.2722144 , -0.97043679, -0.56599457],\n",
       "       [ 0.46567567, -0.96076892,  0.07764689, -0.97043679, -0.85908883],\n",
       "       [-1.29159102, -0.96076892,  0.07764689,  1.03046381, -0.28650033],\n",
       "       [-0.26146916,  1.040833  ,  1.2722144 ,  1.03046381, -0.6571702 ]])"
      ]
     },
     "execution_count": 25,
     "metadata": {},
     "output_type": "execute_result"
    }
   ],
   "source": [
    "from sklearn.preprocessing import StandardScaler\n",
    "sc = StandardScaler()\n",
    "\n",
    "X = sc.fit_transform(X)\n",
    "X"
   ]
  },
  {
   "cell_type": "code",
   "execution_count": 26,
   "metadata": {},
   "outputs": [],
   "source": [
    "from sklearn.model_selection import train_test_split\n",
    "X_train, X_test, y_train, y_test = train_test_split(X, y, test_size=0.2, random_state=42)"
   ]
  },
  {
   "cell_type": "code",
   "execution_count": 27,
   "metadata": {},
   "outputs": [
    {
     "data": {
      "text/plain": [
       "(160, 40)"
      ]
     },
     "execution_count": 27,
     "metadata": {},
     "output_type": "execute_result"
    }
   ],
   "source": [
    "len(X_train),len(X_test)"
   ]
  },
  {
   "cell_type": "markdown",
   "metadata": {},
   "source": [
    "## Decision Tree"
   ]
  },
  {
   "cell_type": "code",
   "execution_count": 28,
   "metadata": {},
   "outputs": [
    {
     "data": {
      "text/plain": [
       "DecisionTreeClassifier()"
      ]
     },
     "execution_count": 28,
     "metadata": {},
     "output_type": "execute_result"
    }
   ],
   "source": [
    "model = DecisionTreeClassifier()\n",
    "model.fit(X_train,y_train)"
   ]
  },
  {
   "cell_type": "code",
   "execution_count": 29,
   "metadata": {},
   "outputs": [
    {
     "name": "stdout",
     "output_type": "stream",
     "text": [
      "Accuracy score for Decision Tree Classifier is 100.0\n"
     ]
    }
   ],
   "source": [
    "print(f\"Accuracy score for Decision Tree Classifier is {model.score(X_test,y_test)*100}\")"
   ]
  },
  {
   "cell_type": "code",
   "execution_count": 30,
   "metadata": {},
   "outputs": [
    {
     "data": {
      "text/plain": [
       "<AxesSubplot:>"
      ]
     },
     "execution_count": 30,
     "metadata": {},
     "output_type": "execute_result"
    },
    {
     "data": {
      "image/png": "[encoded data removed]",
      "text/plain": [
       "<Figure size 432x288 with 2 Axes>"
      ]
     },
     "metadata": {},
     "output_type": "display_data"
    }
   ],
   "source": [
    "# Plotting the confusion matrix for this model\n",
    "predict = model.predict(X_test)\n",
    "cf = confusion_matrix(y_test,predict)\n",
    "sns.heatmap(cf, cmap='Reds',annot=True)"
   ]
  },
  {
   "cell_type": "code",
   "execution_count": 31,
   "metadata": {},
   "outputs": [
    {
     "name": "stdout",
     "output_type": "stream",
     "text": [
      "              precision    recall  f1-score   support\n",
      "\n",
      "           1       1.00      1.00      1.00        15\n",
      "           2       1.00      1.00      1.00         5\n",
      "           3       1.00      1.00      1.00        11\n",
      "           4       1.00      1.00      1.00         6\n",
      "           5       1.00      1.00      1.00         3\n",
      "\n",
      "    accuracy                           1.00        40\n",
      "   macro avg       1.00      1.00      1.00        40\n",
      "weighted avg       1.00      1.00      1.00        40\n",
      "\n"
     ]
    }
   ],
   "source": [
    "# Classification report for Decision Tree Classifier\n",
    "from sklearn import metrics\n",
    "print(metrics.classification_report(y_test,predict))"
   ]
  },
  {
   "cell_type": "markdown",
   "metadata": {},
   "source": [
    "## SVM"
   ]
  },
  {
   "cell_type": "code",
   "execution_count": 32,
   "metadata": {},
   "outputs": [
    {
     "data": {
      "text/plain": [
       "SVC()"
      ]
     },
     "execution_count": 32,
     "metadata": {},
     "output_type": "execute_result"
    }
   ],
   "source": [
    "from sklearn.svm import SVC\n",
    "\n",
    "model = SVC()\n",
    "model.fit(X_train,y_train)"
   ]
  },
  {
   "cell_type": "code",
   "execution_count": 35,
   "metadata": {},
   "outputs": [
    {
     "name": "stdout",
     "output_type": "stream",
     "text": [
      "Accuracy score for Decision Tree Classifier is 97.5\n"
     ]
    }
   ],
   "source": [
    "print(f\"Accuracy score for Decision Tree Classifier is {model.score(X_test,y_test)*100}\")"
   ]
  },
  {
   "cell_type": "code",
   "execution_count": 36,
   "metadata": {},
   "outputs": [
    {
     "data": {
      "text/plain": [
       "<AxesSubplot:>"
      ]
     },
     "execution_count": 36,
     "metadata": {},
     "output_type": "execute_result"
    },
    {
     "data": {
      "image/png": "[encoded data removed]",
      "text/plain": [
       "<Figure size 432x288 with 2 Axes>"
      ]
     },
     "metadata": {},
     "output_type": "display_data"
    }
   ],
   "source": [
    "# Plotting the confusion matrix for this model\n",
    "predict = model.predict(X_test)\n",
    "cf = confusion_matrix(y_test,predict)\n",
    "sns.heatmap(cf, cmap='Reds',annot=True)"
   ]
  },
  {
   "cell_type": "code",
   "execution_count": 37,
   "metadata": {},
   "outputs": [
    {
     "name": "stdout",
     "output_type": "stream",
     "text": [
      "              precision    recall  f1-score   support\n",
      "\n",
      "           1       0.94      1.00      0.97        15\n",
      "           2       1.00      0.80      0.89         5\n",
      "           3       1.00      1.00      1.00        11\n",
      "           4       1.00      1.00      1.00         6\n",
      "           5       1.00      1.00      1.00         3\n",
      "\n",
      "    accuracy                           0.97        40\n",
      "   macro avg       0.99      0.96      0.97        40\n",
      "weighted avg       0.98      0.97      0.97        40\n",
      "\n"
     ]
    }
   ],
   "source": [
    "# Classification report for SVM\n",
    "print(metrics.classification_report(y_test,predict))"
   ]
  }
 ],
 "metadata": {
  "interpreter": {
   "hash": "fe6d48a06cf1965613c5c4b5d21b1182ca2e59212f354219b1b23c436410da45"
  },
  "kernelspec": {
   "display_name": "Python 3.8.5 ('base')",
   "language": "python",
   "name": "python3"
  },
  "language_info": {
   "codemirror_mode": {
    "name": "ipython",
    "version": 3
   },
   "file_extension": ".py",
   "mimetype": "text/x-python",
   "name": "python",
   "nbconvert_exporter": "python",
   "pygments_lexer": "ipython3",
   "version": "3.8.5"
  },
  "orig_nbformat": 4
 },
 "nbformat": 4,
 "nbformat_minor": 2
}
