{
 "cells": [
  {
   "cell_type": "markdown",
   "metadata": {},
   "source": [
    "## Melihat perbedaan properti dari citra BGR/RGB dengan citra grayscale."
   ]
  },
  {
   "cell_type": "code",
   "execution_count": 1,
   "metadata": {},
   "outputs": [
    {
     "name": "stdout",
     "output_type": "stream",
     "text": [
      "\n",
      "RGB Image\n",
      "(284, 500, 3)\n",
      "426000\n",
      "uint8\n",
      "\n",
      "Grayscale Image\n",
      "(284, 500)\n",
      "142000\n",
      "uint8\n"
     ]
    }
   ],
   "source": [
    "import numpy as np\n",
    "import cv2 as cv\n",
    "\n",
    "imgRgb = cv.imread('upn.jpg')\n",
    "imgGrayscale = cv.imread('upn.jpg', cv.IMREAD_GRAYSCALE)\n",
    "\n",
    "print('\\nRGB Image')\n",
    "print ( imgRgb.shape )\n",
    "print( imgRgb.size )\n",
    "print( imgRgb.dtype )\n",
    "print('\\nGrayscale Image')\n",
    "print ( imgGrayscale.shape )\n",
    "print( imgGrayscale.size )\n",
    "print( imgGrayscale.dtype )"
   ]
  },
  {
   "cell_type": "markdown",
   "metadata": {},
   "source": [
    "## Mengakses dan memodifikasi piksel serta split dan merge citra."
   ]
  },
  {
   "cell_type": "code",
   "execution_count": 2,
   "metadata": {},
   "outputs": [
    {
     "name": "stdout",
     "output_type": "stream",
     "text": [
      "[255 255 255]\n",
      "111\n",
      "[255 255 255]\n",
      "125\n",
      "255\n"
     ]
    }
   ],
   "source": [
    "import numpy as np\n",
    "import cv2 as cv\n",
    "\n",
    "imgRgb = cv.imread('upn.jpg')\n",
    "imgGrayscale = cv.imread('upn.jpg', cv.IMREAD_GRAYSCALE)\n",
    "\n",
    "pxRgb = imgRgb[100,100]\n",
    "blue = imgRgb[100,100,0]\n",
    "imgRgb[100,100] = [255,255,255]\n",
    "pxGrayscale = imgGrayscale[100,100]\n",
    "imgGrayscale[100,100] = 255\n",
    "\n",
    "print(pxRgb)\n",
    "print(blue)\n",
    "print(imgRgb[100,100])\n",
    "print(pxGrayscale)\n",
    "print(imgGrayscale[100,100])\n",
    "\n",
    "b,g,r = cv.split(imgRgb)\n",
    "imgRgbMerge = cv.merge((b,g,r))\n",
    "b = imgRgb[:,:,0]\n",
    "imgRgb[:,:,2] = 0\n",
    "\n",
    "cv.namedWindow('Image imgRgb Layer Blue', cv.WINDOW_NORMAL)\n",
    "cv.imshow('Image imgRgb Layer Blue', b)\n",
    "cv.namedWindow('Image imgRgb dengan Layer Red=0', cv.WINDOW_NORMAL)\n",
    "cv.imshow('Image imgRgb dengan Layer Red=0', imgRgb)\n",
    "cv.waitKey(0)\n",
    "cv.destroyAllWindows()"
   ]
  },
  {
   "cell_type": "markdown",
   "metadata": {},
   "source": [
    "## Duplikasi"
   ]
  },
  {
   "cell_type": "code",
   "execution_count": 3,
   "metadata": {},
   "outputs": [],
   "source": [
    "import numpy as np\n",
    "import cv2 as cv\n",
    "\n",
    "imgRgb = cv.imread('upn.jpg')\n",
    "tiang = imgRgb[25:280, 230:290]\n",
    "imgRgb[25:280, 20:80] = tiang\n",
    "\n",
    "cv.imshow('Gambar', imgRgb)\n",
    "cv.waitKey(0)\n",
    "cv.destroyAllWindows()"
   ]
  },
  {
   "cell_type": "markdown",
   "metadata": {},
   "source": [
    "## Menggabungkan 2 Buah Citra"
   ]
  },
  {
   "cell_type": "code",
   "execution_count": 6,
   "metadata": {},
   "outputs": [],
   "source": [
    "import numpy as np\n",
    "import cv2 as cv\n",
    "\n",
    "imgUpn = cv.imread('upn.jpg')\n",
    "imgUpnLogo = cv.imread('Logo_UPNVJ.png')\n",
    "\n",
    "# meletakkan logo di sudut kiri atas, dan menyimpannya membuat ROI\n",
    "rows,cols,channels = imgUpnLogo.shape\n",
    "roi = imgUpn[0:rows, 0:cols ]\n",
    "\n",
    "# Buat sebuah mask dari logo dan mask inverse logo\n",
    "img2gray = cv.cvtColor(imgUpnLogo,cv.COLOR_BGR2GRAY)\n",
    "ret, mask = cv.threshold(img2gray, 10, 255, cv.THRESH_BINARY)\n",
    "mask_inv = cv.bitwise_not(mask)\n",
    "\n",
    "# area black-out dari logo dalam ROI\n",
    "img1_bg = cv.bitwise_and(roi,roi,mask = mask_inv)\n",
    "# ambil hanya region dari logo dalam gambar logo.\n",
    "img2_fg = cv.bitwise_and(imgUpnLogo,imgUpnLogo,mask = mask)\n",
    "# letakan logo dalam ROI dan modifikasi citra utama\n",
    "dst = cv.add(img1_bg, img2_fg)\n",
    "imgUpn[0:rows, 0:cols ] = dst\n",
    "\n",
    "cv.imshow('Logo UPNVJ', imgUpn)\n",
    "cv.waitKey(0)\n",
    "cv.destroyAllWindows()"
   ]
  }
 ],
 "metadata": {
  "interpreter": {
   "hash": "fe6d48a06cf1965613c5c4b5d21b1182ca2e59212f354219b1b23c436410da45"
  },
  "kernelspec": {
   "display_name": "Python 3.8.5 ('base')",
   "language": "python",
   "name": "python3"
  },
  "language_info": {
   "codemirror_mode": {
    "name": "ipython",
    "version": 3
   },
   "file_extension": ".py",
   "mimetype": "text/x-python",
   "name": "python",
   "nbconvert_exporter": "python",
   "pygments_lexer": "ipython3",
   "version": "3.8.5"
  },
  "orig_nbformat": 4
 },
 "nbformat": 4,
 "nbformat_minor": 2
}
