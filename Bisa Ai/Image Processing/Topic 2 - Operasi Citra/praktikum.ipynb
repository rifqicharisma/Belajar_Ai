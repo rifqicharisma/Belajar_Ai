{
 "cells": [
  {
   "cell_type": "code",
   "execution_count": 2,
   "metadata": {},
   "outputs": [
    {
     "name": "stdout",
     "output_type": "stream",
     "text": [
      "\n",
      "Soekarno RGB Image\n",
      "(307, 297, 3)\n",
      "273537\n",
      "uint8\n",
      "\n",
      "Hatta RGB Image\n",
      "(251, 457, 3)\n",
      "344121\n",
      "uint8\n",
      "\n",
      "Soekarno Grayscale Image\n",
      "(307, 297)\n",
      "91179\n",
      "uint8\n",
      "\n",
      "Hatta Grayscale Image\n",
      "(251, 457)\n",
      "114707\n",
      "uint8\n"
     ]
    }
   ],
   "source": [
    "# mengubah foto soekarno hatta menjadi grayscal\n",
    "# mengetahui ukuran dan pixel dari setiap foto\n",
    "\n",
    "import numpy as np\n",
    "import cv2 as cv\n",
    "\n",
    "imgSoekarno = cv.imread('soekarno.jpg')\n",
    "imgSoekarnoGray = cv.imread('soekarno.jpg', cv.IMREAD_GRAYSCALE)\n",
    "\n",
    "imgHatta = cv.imread('hatta.jpg')\n",
    "imgHattaGray = cv.imread('hatta.jpg', cv.IMREAD_GRAYSCALE)\n",
    "\n",
    "print('\\nSoekarno RGB Image')\n",
    "print ( imgSoekarno.shape )\n",
    "print( imgSoekarno.size )\n",
    "print( imgSoekarno.dtype )\n",
    "\n",
    "print('\\nHatta RGB Image')\n",
    "print ( imgHatta.shape )\n",
    "print( imgHatta.size )\n",
    "print( imgHatta.dtype )\n",
    "\n",
    "print('\\nSoekarno Grayscale Image')\n",
    "print ( imgSoekarnoGray.shape )\n",
    "print( imgSoekarnoGray.size )\n",
    "print( imgSoekarnoGray.dtype)\n",
    "\n",
    "print('\\nHatta Grayscale Image')\n",
    "print ( imgHattaGray.shape )\n",
    "print( imgHattaGray.size )\n",
    "print( imgHattaGray.dtype)"
   ]
  },
  {
   "cell_type": "code",
   "execution_count": 10,
   "metadata": {},
   "outputs": [
    {
     "name": "stdout",
     "output_type": "stream",
     "text": [
      "Original Dimensions :  (307, 297, 3)\n",
      "Resized Dimensions :  (251, 243, 3)\n"
     ]
    }
   ],
   "source": [
    "# image resize\n",
    "\n",
    "import cv2\n",
    " \n",
    "img = cv2.imread('soekarno.jpg', cv2.IMREAD_UNCHANGED)\n",
    " \n",
    "print('Original Dimensions : ',img.shape)\n",
    " \n",
    "scale_percent = 82 # percent of original size\n",
    "width = int(img.shape[1] * scale_percent / 100)\n",
    "height = int(img.shape[0] * scale_percent / 100)\n",
    "dim = (width, height)\n",
    "  \n",
    "# resize image\n",
    "resized = cv2.resize(img, dim, interpolation = cv2.INTER_AREA)\n",
    " \n",
    "print('Resized Dimensions : ',resized.shape)\n",
    " \n",
    "cv2.imshow(\"Resized image\", resized)\n",
    "cv2.waitKey(0)\n",
    "cv2.destroyAllWindows()"
   ]
  },
  {
   "cell_type": "code",
   "execution_count": 11,
   "metadata": {},
   "outputs": [],
   "source": [
    "# menggabungkan foto soekarno dan hatta\n",
    "\n",
    "import numpy as np\n",
    "import cv2 as cv\n",
    "\n",
    "imgHatta = cv.imread('hatta.jpg')\n",
    "imgSoekarno = resized\n",
    "\n",
    "# meletakkan logo di sudut kiri atas, dan menyimpannya membuat ROI\n",
    "rows,cols,channels = imgSoekarno.shape\n",
    "roi = imgHatta[0:rows, 0:cols ]\n",
    "\n",
    "# Buat sebuah mask dari logo dan mask inverse logo\n",
    "img2gray = cv.cvtColor(imgSoekarno,cv.COLOR_BGR2GRAY)\n",
    "ret, mask = cv.threshold(img2gray, 10, 255, cv.THRESH_BINARY)\n",
    "mask_inv = cv.bitwise_not(mask)\n",
    "\n",
    "# area black-out dari logo dalam ROI\n",
    "img1_bg = cv.bitwise_and(roi,roi,mask = mask_inv)\n",
    "# ambil hanya region dari logo dalam gambar logo.\n",
    "img2_fg = cv.bitwise_and(imgSoekarno,imgSoekarno,mask = mask)\n",
    "# letakan logo dalam ROI dan modifikasi citra utama\n",
    "dst = cv.add(img1_bg, img2_fg)\n",
    "imgHatta[0:rows, 0:cols ] = dst\n",
    "\n",
    "cv.imshow('Soekarno Hatta', imgHatta)\n",
    "cv.waitKey(0)\n",
    "cv.destroyAllWindows()"
   ]
  },
  {
   "cell_type": "code",
   "execution_count": null,
   "metadata": {},
   "outputs": [],
   "source": []
  }
 ],
 "metadata": {
  "interpreter": {
   "hash": "fe6d48a06cf1965613c5c4b5d21b1182ca2e59212f354219b1b23c436410da45"
  },
  "kernelspec": {
   "display_name": "Python 3.8.5 ('base')",
   "language": "python",
   "name": "python3"
  },
  "language_info": {
   "codemirror_mode": {
    "name": "ipython",
    "version": 3
   },
   "file_extension": ".py",
   "mimetype": "text/x-python",
   "name": "python",
   "nbconvert_exporter": "python",
   "pygments_lexer": "ipython3",
   "version": "3.8.5"
  },
  "orig_nbformat": 4
 },
 "nbformat": 4,
 "nbformat_minor": 2
}
