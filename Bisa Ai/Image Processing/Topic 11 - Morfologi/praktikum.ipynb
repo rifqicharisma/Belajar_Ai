{
 "cells": [
  {
   "cell_type": "code",
   "execution_count": 3,
   "metadata": {},
   "outputs": [],
   "source": [
    "import numpy as np\n",
    "import cv2 as cv\n",
    "#membaca citra RGB\n",
    "rgb = cv.imread('jalak.jpg')\n",
    "ycrcb = cv.cvtColor(rgb, cv.COLOR_BGR2YCrCb)\n",
    "lower_blue = np.array([40,150,50])\n",
    "upper_blue = np.array([200,255,150])\n",
    "# Threshold the HSV image to get only blue colors\n",
    "img_biner = cv.inRange(ycrcb, lower_blue, upper_blue)\n",
    "#mendefinisikan structuring element 3x3 dan 5x5\n",
    "se_3 = cv.getStructuringElement(cv.MORPH_RECT,(3,3))\n",
    "se_5 = cv.getStructuringElement(cv.MORPH_RECT,(5,5))\n",
    "#opearsi morfologi\n",
    "dst_dilate = cv.dilate(img_biner, se_3, iterations = 1)\n",
    "dst_erosi = cv.erode(dst_dilate, se_3, iterations = 2)\n",
    "dst_dilate2 = cv.dilate(dst_erosi, se_5, iterations = 2)\n",
    "dst_erosi2 = cv.erode(dst_dilate2, se_5, iterations = 3)\n",
    "dst_dilate3 = cv.dilate(dst_erosi2, se_5, iterations = 1)\n",
    "res = cv.bitwise_and(rgb,rgb, mask= dst_dilate3)\n",
    "cv.imshow('src', rgb)\n",
    "cv.imshow('rgb', dst_dilate3)\n",
    "cv.imshow('objek', res)\n",
    "cv.waitKey(0)\n",
    "cv.destroyAllWindows()"
   ]
  }
 ],
 "metadata": {
  "interpreter": {
   "hash": "815a89dea800023498108851e18adb7e68d118d9669d858f2aeb2020be76da9d"
  },
  "kernelspec": {
   "display_name": "Python 3.8.5 ('base')",
   "language": "python",
   "name": "python3"
  },
  "language_info": {
   "codemirror_mode": {
    "name": "ipython",
    "version": 3
   },
   "file_extension": ".py",
   "mimetype": "text/x-python",
   "name": "python",
   "nbconvert_exporter": "python",
   "pygments_lexer": "ipython3",
   "version": "3.8.5"
  },
  "orig_nbformat": 4
 },
 "nbformat": 4,
 "nbformat_minor": 2
}
