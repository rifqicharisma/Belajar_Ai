{
 "cells": [
  {
   "cell_type": "markdown",
   "metadata": {},
   "source": [
    "# 1\n",
    "Bacalah citra gradient.jpg dan lakukan thresholding terhadap citra tersebut menggunakan tipe:\n",
    "- 1) THRESH_BINARY,\n",
    "- 2) THRESH_BINARY_INV,\n",
    "- 3) THRESH_TRUNC, \n",
    "- 4) THRESH_TOZERO,\n",
    "- 5) THRESH_TOZERO_INV. \n",
    "Lalu tampilkan enam citra tersebut (termasuk citra asal) menggunakan library matplotlib."
   ]
  },
  {
   "cell_type": "code",
   "execution_count": 1,
   "metadata": {},
   "outputs": [
    {
     "data": {
      "image/png": "[encoded data removed]",
      "text/plain": [
       "<Figure size 432x288 with 6 Axes>"
      ]
     },
     "metadata": {},
     "output_type": "display_data"
    }
   ],
   "source": [
    "import cv2 as cv\n",
    "import numpy as np\n",
    "from matplotlib import pyplot as plt\n",
    "\n",
    "img = cv.imread('gradient.jpg',0)\n",
    "\n",
    "ret,thresh1 = cv.threshold(img,127,255,cv.THRESH_BINARY)\n",
    "ret,thresh2 = cv.threshold(img,127,255,cv.THRESH_BINARY_INV)\n",
    "ret,thresh3 = cv.threshold(img,127,255,cv.THRESH_TRUNC)\n",
    "ret,thresh4 = cv.threshold(img,127,255,cv.THRESH_TOZERO)\n",
    "ret,thresh5 = cv.threshold(img,127,255,cv.THRESH_TOZERO_INV)\n",
    "\n",
    "titles = ['Original Image','BINARY','BINARY_INV','TRUNC','TOZERO','TOZERO_INV']\n",
    "images = [img, thresh1, thresh2, thresh3, thresh4, thresh5]\n",
    "\n",
    "for i in range(6):\n",
    "    plt.subplot(2,3,i+1),plt.imshow(images[i],'gray')\n",
    "    plt.title(titles[i])\n",
    "    plt.xticks([]),plt.yticks([])\n",
    "plt.show()"
   ]
  },
  {
   "cell_type": "markdown",
   "metadata": {},
   "source": [
    "# 2\n",
    "Buatlah program dengan menggunakan OpenCV-Python untuk transformasi citra digital. Citra yang digunakan adalah foto salah satu tokoh kemerdekaan yang lahir pada 24 Januari 1916 di Bodas, Karangjati, Purbalingga, Jawa Tengah yaitu Jendral Sudirman **jenderalsoedirman.jpg**\n",
    "\n",
    "Lakukan operasi geometri resize, translasi, dan rotasi terhadap citra tersebut. Tampilkan dan simpan ketiga gambar hasil operasi geometri tersebut."
   ]
  },
  {
   "cell_type": "code",
   "execution_count": null,
   "metadata": {},
   "outputs": [],
   "source": [
    "import cv2 as cv\n",
    "import numpy as np\n",
    "\n",
    "img = cv.imread('jenderalsoedirman.jpg',0)\n",
    "rows,cols = img.shape\n",
    "\n",
    "img_resize = cv.resize(img,None,fx=2, fy=2, interpolation = cv.INTER_CUBIC)\n",
    "M = np.float32([[1,0,100],[0,1,50]])\n",
    "\n",
    "img_translation = cv.warpAffine(img,M,(cols,rows))\n",
    "M = cv.getRotationMatrix2D(((cols-1)/2.0,(rows-1)/2.0),45,1)\n",
    "\n",
    "img_rotation = cv.warpAffine(img,M,(cols,rows))\n",
    "\n",
    "cv.imwrite(\"jenderalsoedirman_resize.jpg\", img_resize)\n",
    "cv.imwrite(\"jenderalsoedirman_translation.jpg\", img_translation)\n",
    "cv.imwrite(\"jenderalsoedirman_rotation.jpg\", img_rotation)\n",
    "cv.imshow('image resize', img_resize)\n",
    "cv.imshow('image translation', img_translation)\n",
    "cv.imshow('image rotation', img_rotation)\n",
    "cv.waitKey(0)\n",
    "cv.destroyAllWindows()"
   ]
  }
 ],
 "metadata": {
  "interpreter": {
   "hash": "fe6d48a06cf1965613c5c4b5d21b1182ca2e59212f354219b1b23c436410da45"
  },
  "kernelspec": {
   "display_name": "Python 3.8.5 ('base')",
   "language": "python",
   "name": "python3"
  },
  "language_info": {
   "codemirror_mode": {
    "name": "ipython",
    "version": 3
   },
   "file_extension": ".py",
   "mimetype": "text/x-python",
   "name": "python",
   "nbconvert_exporter": "python",
   "pygments_lexer": "ipython3",
   "version": "3.8.5"
  },
  "orig_nbformat": 4
 },
 "nbformat": 4,
 "nbformat_minor": 2
}
