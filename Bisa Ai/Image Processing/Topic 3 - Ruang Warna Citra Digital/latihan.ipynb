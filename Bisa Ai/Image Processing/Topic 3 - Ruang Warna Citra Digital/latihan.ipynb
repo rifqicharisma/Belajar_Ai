{
 "cells": [
  {
   "cell_type": "code",
   "execution_count": 1,
   "metadata": {},
   "outputs": [
    {
     "name": "stdout",
     "output_type": "stream",
     "text": [
      "Shape RGB: (800, 1480, 3)\n",
      "Shape Grayscale: (800, 1480)\n",
      "Shape HSV: (800, 1480, 3)\n",
      "Shape YCbCr: (800, 1480, 3)\n"
     ]
    }
   ],
   "source": [
    "import numpy as np\n",
    "import cv2 as cv\n",
    "#membaca citra RGB\n",
    "imgRgb = cv.imread('capsule.jpg')\n",
    "#transformasi citra RGB ke grayscale\n",
    "imgGrayscale = cv.cvtColor(imgRgb, cv.COLOR_BGR2GRAY)\n",
    "#transformasi citra RGB ke HSV\n",
    "imgHSV = cv.cvtColor(imgRgb, cv.COLOR_BGR2HSV)\n",
    "#transformasi citra RGB ke HSV\n",
    "imgYCrCb = cv.cvtColor(imgRgb, cv.COLOR_BGR2YCrCb)\n",
    "imgY = imgYCrCb[:,:,0];\n",
    "imgCr = imgYCrCb[:,:,1];\n",
    "imgCb = imgYCrCb[:,:,2];\n",
    "#mencetak shape dari ke-empat ruang warna\n",
    "print('Shape RGB: '+str(imgRgb.shape))\n",
    "print('Shape Grayscale: '+str(imgGrayscale.shape))\n",
    "print('Shape HSV: '+str(imgHSV.shape))\n",
    "print('Shape YCbCr: '+str(imgYCrCb.shape))\n",
    "#menyimpan file citra hasil transformasi\n",
    "cv.imwrite('Capsule Grayscale.jpg',imgGrayscale)\n",
    "cv.imwrite('Capsule HSV.jpg',imgHSV)\n",
    "cv.imwrite('Capsule YCbCr.jpg',imgYCrCb)\n",
    "cv.imshow('RGB',imgCr)\n",
    "cv.imshow('Grayscale',imgGrayscale)\n",
    "cv.imshow('HSV',imgHSV)\n",
    "cv.imshow('YCbCr',imgYCrCb)\n",
    "cv.imshow('Y',imgY)\n",
    "cv.imshow('Cb',imgCb)\n",
    "cv.imshow('Cr',imgCr)\n",
    "cv.waitKey(0)\n",
    "cv.destroyAllWindows()"
   ]
  },
  {
   "cell_type": "code",
   "execution_count": 2,
   "metadata": {},
   "outputs": [],
   "source": [
    "import numpy as np\n",
    "import cv2 as cv\n",
    "#membaca citra RGB\n",
    "rgb = cv.imread('red_apple.jpg')\n",
    "ycrcb = cv.cvtColor(rgb, cv.COLOR_BGR2YCrCb)\n",
    "lower_blue = np.array([40,150,50])\n",
    "upper_blue = np.array([200,255,150])\n",
    "# Threshold the HSV image to get only red colors\n",
    "mask = cv.inRange(ycrcb, lower_blue, upper_blue)\n",
    "res = cv.bitwise_and(rgb,rgb, mask= mask)\n",
    "cv.imshow('rgb', res)\n",
    "cv.waitKey(0)\n",
    "cv.destroyAllWindows()"
   ]
  },
  {
   "cell_type": "code",
   "execution_count": null,
   "metadata": {},
   "outputs": [],
   "source": []
  }
 ],
 "metadata": {
  "interpreter": {
   "hash": "fe6d48a06cf1965613c5c4b5d21b1182ca2e59212f354219b1b23c436410da45"
  },
  "kernelspec": {
   "display_name": "Python 3.8.5 ('base')",
   "language": "python",
   "name": "python3"
  },
  "language_info": {
   "codemirror_mode": {
    "name": "ipython",
    "version": 3
   },
   "file_extension": ".py",
   "mimetype": "text/x-python",
   "name": "python",
   "nbconvert_exporter": "python",
   "pygments_lexer": "ipython3",
   "version": "3.8.5"
  },
  "orig_nbformat": 4
 },
 "nbformat": 4,
 "nbformat_minor": 2
}
