{
 "cells": [
  {
   "cell_type": "markdown",
   "metadata": {},
   "source": [
    "# Nomor 1"
   ]
  },
  {
   "cell_type": "markdown",
   "metadata": {},
   "source": [
    "hal pertama yang harus dilakukan adalah membaca gambar yang ditentukan. Lalu transformasi gambar dari rgb ke crcb. Setelah itu tentukan koordinat gambar yang ingin ditampilkan. Pada kasusu ini kami membagi 2 gambar ke dalam 2 variabel yakni lower_blue dan upper_blue. Gambar yang sudah ditransormasi ke crcb selanjutnya akan di tresholding dengan nilai threshold yang ditentukan agar mendapatkan warna merahnya saja. Setelah itu gambar akan ditampilkan menggunakan cv.imshow()"
   ]
  },
  {
   "cell_type": "markdown",
   "metadata": {},
   "source": [
    "# Nomor 2"
   ]
  },
  {
   "cell_type": "code",
   "execution_count": 9,
   "metadata": {},
   "outputs": [],
   "source": [
    "# mendapatkan objek berwarna merah\n",
    "import numpy as np\n",
    "import cv2 as cv\n",
    "#membaca citra RGB\n",
    "rgb = cv.imread('helm.png')\n",
    "ycrcb = cv.cvtColor(rgb, cv.COLOR_BGR2YCrCb)\n",
    "lower_blue = np.array([40,150,50])\n",
    "upper_blue = np.array([200,255,150])\n",
    "# Threshold the HSV image to get only red colors\n",
    "mask = cv.inRange(ycrcb, lower_blue, upper_blue)\n",
    "res = cv.bitwise_and(rgb,rgb, mask= mask)\n",
    "cv.imshow('rgb', res)\n",
    "cv.waitKey(0)\n",
    "cv.destroyAllWindows()"
   ]
  },
  {
   "cell_type": "code",
   "execution_count": 12,
   "metadata": {},
   "outputs": [],
   "source": [
    "import numpy as np\n",
    "import cv2 as cv\n",
    "#membaca citra RGB\n",
    "rgb = cv.imread('helm.png')\n",
    "ycrcb = cv.cvtColor(rgb, cv.COLOR_BGR2HSV)\n",
    "\n",
    "lower_red = np.array([110,50,50])\n",
    "upper_red = np.array([130,255,255])\n",
    "\n",
    "# Threshold the HSV image to get only blue colors\n",
    "mask = cv.inRange(ycrcb, lower_red, upper_red)\n",
    "res = cv.bitwise_and(rgb,rgb, mask= mask)\n",
    "\n",
    "cv.imshow('rgb', res)\n",
    "cv.waitKey(0)\n",
    "cv.destroyAllWindows()"
   ]
  }
 ],
 "metadata": {
  "interpreter": {
   "hash": "fe6d48a06cf1965613c5c4b5d21b1182ca2e59212f354219b1b23c436410da45"
  },
  "kernelspec": {
   "display_name": "Python 3.8.5 ('base')",
   "language": "python",
   "name": "python3"
  },
  "language_info": {
   "codemirror_mode": {
    "name": "ipython",
    "version": 3
   },
   "file_extension": ".py",
   "mimetype": "text/x-python",
   "name": "python",
   "nbconvert_exporter": "python",
   "pygments_lexer": "ipython3",
   "version": "3.8.5"
  },
  "orig_nbformat": 4
 },
 "nbformat": 4,
 "nbformat_minor": 2
}
