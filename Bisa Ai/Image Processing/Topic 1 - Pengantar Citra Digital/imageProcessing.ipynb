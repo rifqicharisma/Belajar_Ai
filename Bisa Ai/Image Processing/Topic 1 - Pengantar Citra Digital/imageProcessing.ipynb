{
 "cells": [
  {
   "cell_type": "code",
   "execution_count": 2,
   "metadata": {},
   "outputs": [],
   "source": [
    "# mengubah image menjadi grayscale\n",
    "import numpy as np\n",
    "import cv2 as cv\n",
    "\n",
    "img_rgb = cv.imread('bernard.jpg', cv.IMREAD_COLOR)\n",
    "img_gray = cv.imread('bernard.jpg', cv.IMREAD_GRAYSCALE)\n",
    "\n",
    "cv.imwrite(\"bernard_grayscale.jpg\", img_gray)\n",
    "cv.namedWindow('Image RGB', cv.WINDOW_NORMAL)\n",
    "cv.imshow('Image RGB', img_rgb)\n",
    "cv.namedWindow('Image Grayscale', cv.WINDOW_NORMAL)\n",
    "cv.imshow('Image Grayscale', img_gray)\n",
    "cv.waitKey(0)\n",
    "cv.destroyAllWindows()"
   ]
  }
 ],
 "metadata": {
  "interpreter": {
   "hash": "0b08a0c10ebf6c986b6c85c0df324dea3d7aa01e6cc5db954b06a811ee27495c"
  },
  "kernelspec": {
   "display_name": "Python 3.9.4 64-bit",
   "language": "python",
   "name": "python3"
  },
  "language_info": {
   "codemirror_mode": {
    "name": "ipython",
    "version": 3
   },
   "file_extension": ".py",
   "mimetype": "text/x-python",
   "name": "python",
   "nbconvert_exporter": "python",
   "pygments_lexer": "ipython3",
   "version": "3.8.5"
  },
  "orig_nbformat": 4
 },
 "nbformat": 4,
 "nbformat_minor": 2
}
