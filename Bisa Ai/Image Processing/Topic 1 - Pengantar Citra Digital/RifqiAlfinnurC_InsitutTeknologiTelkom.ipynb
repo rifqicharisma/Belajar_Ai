{
 "cells": [
  {
   "cell_type": "code",
   "execution_count": 1,
   "metadata": {},
   "outputs": [],
   "source": [
    "# mengubah image menjadi grayscale\n",
    "import numpy as np\n",
    "import cv2 as cv\n",
    "\n",
    "img_rgb = cv.imread('PangeranDiponegoro.jpg', cv.IMREAD_COLOR)\n",
    "img_gray = cv.imread('PangeranDiponegoro.jpg', cv.IMREAD_GRAYSCALE)\n",
    "\n",
    "cv.imwrite(\"bPangeranDiponogoroGrayscale.jpg\", img_gray)\n",
    "cv.namedWindow('Image RGB', cv.WINDOW_NORMAL)\n",
    "cv.imshow('Image RGB', img_rgb)\n",
    "cv.namedWindow('Pangeran Diponegoro - 11 November 1785 - Yogyakarta', cv.WINDOW_NORMAL)\n",
    "cv.imshow('Pangeran Diponegoro - 11 November 1785 - Yogyakarta', img_gray)\n",
    "cv.waitKey(0)\n",
    "cv.destroyAllWindows()"
   ]
  }
 ],
 "metadata": {
  "interpreter": {
   "hash": "fe6d48a06cf1965613c5c4b5d21b1182ca2e59212f354219b1b23c436410da45"
  },
  "kernelspec": {
   "display_name": "Python 3.8.5 ('base')",
   "language": "python",
   "name": "python3"
  },
  "language_info": {
   "codemirror_mode": {
    "name": "ipython",
    "version": 3
   },
   "file_extension": ".py",
   "mimetype": "text/x-python",
   "name": "python",
   "nbconvert_exporter": "python",
   "pygments_lexer": "ipython3",
   "version": "3.8.5"
  },
  "orig_nbformat": 4
 },
 "nbformat": 4,
 "nbformat_minor": 2
}
