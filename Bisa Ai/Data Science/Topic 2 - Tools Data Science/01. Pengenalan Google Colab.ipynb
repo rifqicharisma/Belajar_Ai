{
  "cells": [
    {
      "cell_type": "markdown",
      "metadata": {
        "id": "YK5OtjU-jtUh"
      },
      "source": [
        "# Introduction to Colab"
      ]
    },
    {
      "cell_type": "markdown",
      "metadata": {
        "id": "Uu_AQp6Wjxf9"
      },
      "source": [
        "Colab adalah alat untuk pemrograman berbasis notebook. Gaya pemrograman ini ternyata menjadi platform yang bagus untuk pendidikan dan penelitian pembelajaran mesin!\n",
        "\n",
        "**Notebook** adalah file yang berisi kode, dokumentasi, dan output dari eksekusi kode. Jupyter saat ini merupakan bentuk notebook paling populer.\n",
        "\n",
        "Notebook Jupyter dapat diedit dan dieksekusi secara lokal. Ternyata mereka juga sangat efektif ketika di-host di cloud. Colab adalah platform yang menyimpan notebook di Google Drive dan mengeksekusi kode di notebook pada mesin virtual di cloud. Hal ini memungkinkan lingkungan instan tanpa penyiapan untuk mengerjakan masalah data science."
      ]
    },
    {
      "cell_type": "markdown",
      "metadata": {
        "id": "4GF8O46JkNZH"
      },
      "source": [
        "# Cells"
      ]
    },
    {
      "cell_type": "markdown",
      "metadata": {
        "id": "qLzrhJ4AkRLz"
      },
      "source": [
        "Notebook adalah list dari sel. Ada dua jenis sel: sel kode dan sel teks."
      ]
    },
    {
      "cell_type": "markdown",
      "metadata": {
        "id": "5F_4aJ9ckd1A"
      },
      "source": [
        "## Code Cells"
      ]
    },
    {
      "cell_type": "markdown",
      "metadata": {
        "id": "IaLLwtG6kmZB"
      },
      "source": [
        "Di bawah ini adalah sel kode. Anda dapat mengklik sel untuk memilihnya. Untuk mengeksekusi kode di dalam sel, Anda memiliki beberapa opsi:\n",
        "\n",
        "1. Klik simbol **Play** di sebelah kiri sel\n",
        "1. Pencet **Cmd/Ctrl+Enter** untuk menjalankan sel di tempat.\n",
        "1. Pencet **Shift+Enter** untuk menjalankan sel dan menuju ke sel berikutnya (otomatis menambahkan sel baru jika tidak ada sel).\n",
        "1. Pencet **Alt+Enter** untuk menjalankan sel dan langsung menambahkan sel baru dibawahnya.\n",
        "1. Klik menu **Runtime** dan pilih **Run the focused cell**."
      ]
    },
    {
      "cell_type": "code",
      "execution_count": null,
      "metadata": {
        "colab": {
          "base_uri": "https://localhost:8080/"
        },
        "id": "uEXfDWcnkhpV",
        "outputId": "bc6ecacc-49be-4d70-ab15-1197e4cb9bd4"
      },
      "outputs": [
        {
          "data": {
            "text/plain": [
              "5"
            ]
          },
          "execution_count": 4,
          "metadata": {},
          "output_type": "execute_result"
        }
      ],
      "source": [
        "a = 5\n",
        "a"
      ]
    },
    {
      "cell_type": "markdown",
      "metadata": {
        "id": "91GWcq9klrJk"
      },
      "source": [
        "Saat Anda menjalankan kode, Colab meneruskan kode tersebut ke IPython untuk dieksekusi. Sesi IPython tidak dimulai ulang untuk setiap sel kode, jadi Anda dapat melakukan hal-hal seperti mengatur variabel dalam satu blok"
      ]
    },
    {
      "cell_type": "code",
      "execution_count": null,
      "metadata": {
        "id": "AXPNQ30ilh6f"
      },
      "outputs": [],
      "source": [
        "a = 20"
      ]
    },
    {
      "cell_type": "markdown",
      "metadata": {
        "id": "B-H9CZ8vl0iF"
      },
      "source": [
        "kemudian gunakan variabel itu di sel lain"
      ]
    },
    {
      "cell_type": "code",
      "execution_count": null,
      "metadata": {
        "colab": {
          "base_uri": "https://localhost:8080/"
        },
        "id": "f3tyKNMVlu1y",
        "outputId": "bca06bfd-8e9e-4f64-9852-15a99fa30010"
      },
      "outputs": [
        {
          "name": "stdout",
          "output_type": "stream",
          "text": [
            "20\n"
          ]
        }
      ],
      "source": [
        "print(a)"
      ]
    },
    {
      "cell_type": "markdown",
      "metadata": {
        "id": "YqyFszT8l8mt"
      },
      "source": [
        "Tidak masalah urutan blok kode yang muncul di notebook. Yang penting adalah urutan eksekusinya.\n",
        "\n",
        "Dalam dua sel kode di bawah ini kita mendefinisikan variabel di satu dan mencetak variabel di yang lain. Jika Anda menjalankan sel pertama sebelum sel kedua, Anda akan mendapatkan error. Jika Anda menjalankan yang kedua dan kemudian yang pertama, semuanya akan bekerja dengan baik."
      ]
    },
    {
      "cell_type": "code",
      "execution_count": null,
      "metadata": {
        "colab": {
          "base_uri": "https://localhost:8080/"
        },
        "id": "odYVNCLUlv8i",
        "outputId": "bc2133c2-b028-426b-81b8-a61a21ee59d4"
      },
      "outputs": [
        {
          "name": "stdout",
          "output_type": "stream",
          "text": [
            "5555\n"
          ]
        }
      ],
      "source": [
        "print(b)"
      ]
    },
    {
      "cell_type": "code",
      "execution_count": null,
      "metadata": {
        "id": "OZV33rE9mN9_"
      },
      "outputs": [],
      "source": [
        "b = 5555"
      ]
    },
    {
      "cell_type": "markdown",
      "metadata": {
        "id": "3IVLpuwjmVjG"
      },
      "source": [
        "###Latihan 1\n",
        "Colab ini menjalankan kode dalam bahasa Python 3. Mari kita tulis dan jalankan beberapa Python di sel di bawah ini.\n",
        "\n",
        "Tulis kode berikut di sel jawaban:\n",
        "```python\n",
        "  print(\"Halo Bisa AI\")\n",
        "```\n",
        "kemudian run sel tersebut."
      ]
    },
    {
      "cell_type": "markdown",
      "metadata": {
        "id": "7wsvqtnGnD0G"
      },
      "source": [
        "**Jawaban**"
      ]
    },
    {
      "cell_type": "code",
      "execution_count": null,
      "metadata": {
        "id": "IHQT9UkXnCRt"
      },
      "outputs": [],
      "source": []
    },
    {
      "cell_type": "markdown",
      "metadata": {
        "id": "5kyONDhdoHt6"
      },
      "source": [
        "##Charts and Graphs\n",
        "Colab juga memungkinkan bagan dan grafik ditampilkan sebaris. Jangan terlalu memperhatikan kode di bawah ini, tetapi perhatikan bahwa ketika Anda menjalankan blok kode, sebuah grafik ditampilkan di output.\n",
        "\n"
      ]
    },
    {
      "cell_type": "code",
      "execution_count": null,
      "metadata": {
        "colab": {
          "base_uri": "https://localhost:8080/",
          "height": 281
        },
        "id": "RnV6PAJroMhA",
        "outputId": "33593310-0fba-4cd2-c0b3-97260d9c5c29"
      },
      "outputs": [
        {
          "data": {
            "image/png": "[encoded data removed]",
            "text/plain": [
              "<Figure size 432x288 with 1 Axes>"
            ]
          },
          "metadata": {
            "needs_background": "light"
          },
          "output_type": "display_data"
        }
      ],
      "source": [
        "import numpy as np\n",
        "from matplotlib import pyplot as plt\n",
        "\n",
        "ys = 200 + np.random.randn(100)\n",
        "x = [x for x in range(len(ys))]\n",
        "\n",
        "plt.plot(x, ys, '-')\n",
        "plt.fill_between(x, ys, 195, where=(ys > 195), facecolor='g', alpha=0.6)\n",
        "\n",
        "plt.title(\"Fills and Alpha Example\")\n",
        "plt.show()"
      ]
    },
    {
      "cell_type": "markdown",
      "metadata": {
        "id": "A7__SidPobYd"
      },
      "source": [
        "##Text Cells\n",
        "Sekarang kita telah melihat contoh sel kode, ini adalah **sel teks**.\n",
        "\n",
        "Untuk mengedit sel teks, klik dua kali pada sel. Ketika Anda melakukannya, Anda akan melihat ada karakter tanda bintang tambahan di sekitar kata \"klik dua kali\". Itu karena sel teks Colab menggunakan sintaks markdown (dijelaskan lebih lanjut di bawah).\n",
        "\n",
        "##Markdown\n",
        "Ada dua cara untuk menentukan format dalam sel teks. Yang pertama adalah dengan menggunakan ikon yang terlihat saat Anda mengedit teks. Anda dapat menentukan ukuran teks, membuat teks tebal atau miring, memformat teks sebagai teks kode, menjadikan teks sebagai URL yang dapat diklik, menampilkan gambar, lekukan, teks berpoin, atau menyisipkan garis pemisah horizontal. Cara lain adalah dengan mengetik sendiri sintaks markdown. Referensi markdown yang didukung oleh Colab dapat ditemukan di [notebook ini](https://colab.research.google.com/notebooks/markdown_guide.ipynb)."
      ]
    },
    {
      "cell_type": "markdown",
      "metadata": {
        "id": "gxtkE9qHoohN"
      },
      "source": [
        "### Basic Formatting\n",
        "\n",
        "Bold text dapat dimunculkan dengan menggunakan dua simbol bintang `**bold text**` ata dua simbol underscore `__bold text__`.\n",
        "\n",
        "```\n",
        "The **runtime** supports __Python__ programming.\n",
        "```\n",
        "\n",
        "> The **runtime** supports __Python__ programming.\n",
        "\n",
        "Italic text dapat dimunculkan dengan menggunakan satu simbol bintang `*italic text*` atau satu simbol underscore `_italic text_`.\n",
        "\n",
        "\n",
        "```\n",
        "The *runtime* supports _Python_ programming.\n",
        "```\n",
        "\n",
        "> The *runtime* supports _Python_ programming.\n",
        "\n",
        "Strikethrough dapat dimunculkan dengan menggunakan dua simbol gelombang `~~strikethrough~~`.\n",
        "\n",
        "```\n",
        "The runtime supports ~~Python~~ programming.\n",
        "```\n",
        "\n",
        "> The runtime supports ~~Python~~ programming."
      ]
    },
    {
      "cell_type": "markdown",
      "metadata": {
        "id": "yMorldEQp3Kj"
      },
      "source": [
        "###Latihan 2\n",
        "Dalam sel jawaban, ganti:\n",
        "\n",
        "```\n",
        "Jawabanmu\n",
        "```\n",
        "\n",
        "dengan\n",
        "```\n",
        "The quick brown fox jumps over the very extremely lazy dog.\n",
        "```\n",
        "\n",
        "lalu terapkan beberapa kondisi berikut:\n",
        "1. Tulis miring huruf `quick`, `jumps`, dan `lazy`.\n",
        "1. Coret (striketrough) huruf `very extremely`.\n",
        "1. Tulis tebal huruf `fox` dan `dog`."
      ]
    },
    {
      "cell_type": "markdown",
      "metadata": {
        "id": "YYUBZTmLqgkg"
      },
      "source": [
        "**Student Solution**"
      ]
    },
    {
      "cell_type": "markdown",
      "metadata": {
        "id": "gh-QBU_yqh-x"
      },
      "source": [
        "Jawabanmu"
      ]
    },
    {
      "cell_type": "markdown",
      "metadata": {
        "id": "-qLPIOtmqr_p"
      },
      "source": [
        "##Lists\n",
        "List dapat ditambahkan dalam text cells. Untuk list dengan urutan dengan angka:\n",
        "```\n",
        "1. Apples\n",
        "1. Oranges\n",
        "1. Kiwi\n",
        "```\n",
        "\n",
        "menjadi:\n",
        "\n",
        "> 1. Apples\n",
        "> 1. Oranges\n",
        "> 1. Kiwi\n",
        "\n",
        "Perhatikan bahwa nomornya selalu satu. Ini tidak harus terjadi. Anda bisa mendapatkan hasil yang sama dengan:\n",
        "```\n",
        "1. Apples\n",
        "2. Oranges\n",
        "3. Kiwi\n",
        "```\n",
        "Namun, ini bisa menjadi berantakan ketika Anda ingin menyusun ulang daftar. Tetap gunakan `1` dan permudah pemeliharaan sel teks Anda di masa mendatang.\n",
        "\n",
        "Jika urutan tidak penting, anda dapat menggunakan list denga simbol lingkaran dengan menggunakan simbol bintang:\n",
        "```\n",
        "* Apples\n",
        "* Oranges\n",
        "* Kiwi\n",
        "```\n",
        "\n",
        "menjadi:\n",
        "\n",
        "> * Apples\n",
        "> * Oranges\n",
        "> * Kiwi\n",
        "\n",
        "Dan akhirnya, Anda dapat membuat daftar menggunakan indentasi:\n",
        "```\n",
        "* Apples\n",
        "  1. Fugi\n",
        "  1. Gaia\n",
        "  1. Cosmic Crisp\n",
        "* Oranges\n",
        "  1. Valencia\n",
        "  1. Navel\n",
        "* Kiwi\n",
        "  * Artic\n",
        "  * Hardy\n",
        "```\n",
        "\n",
        "menjadi:\n",
        "\n",
        "> * Apples\n",
        ">   1. Fugi\n",
        ">   1. Gaia\n",
        ">   1. Cosmic Crisp\n",
        "> * Oranges\n",
        ">   1. Valencia\n",
        ">   1. Navel\n",
        "> * Kiwi\n",
        ">   1. Artic\n",
        ">   1. Hardy"
      ]
    },
    {
      "cell_type": "markdown",
      "metadata": {
        "id": "pKY4BpjBreM2"
      },
      "source": [
        "###Latihan 3\n",
        "Buat text seperti gambar dibawah ini.\n",
        "\n",
        "![List to create in markdown: Copyright Google](https://i.imgur.com/MKGHfhN.png)"
      ]
    },
    {
      "cell_type": "markdown",
      "metadata": {
        "id": "cWUNcvQWrsbm"
      },
      "source": [
        "**Jawaban**"
      ]
    },
    {
      "cell_type": "markdown",
      "metadata": {
        "id": "LtCmum_-rwOj"
      },
      "source": []
    },
    {
      "cell_type": "markdown",
      "metadata": {
        "id": "GzDQq5bCr2Sc"
      },
      "source": [
        "##Links\n",
        "Sangat memungkinkan untuk menautkan ke sumber eksternal dalam markdown menggunakan tanda kurung siku dan tanda kurung:\n",
        "`[...](...)`\n",
        "\n",
        "Teks yang akan ditampilkan ditempatkan dalam tanda kurung siku dan URL ditempatkan dalam tanda kurung seperti:\n",
        "\n",
        "`[Google Scholar](https://scholar.google.com/)`\n",
        "\n",
        "menjadi:\n",
        "\n",
        "[Google Scholar](https://scholar.google.com/)\n"
      ]
    },
    {
      "cell_type": "markdown",
      "metadata": {
        "id": "ts1xGsnRsbFL"
      },
      "source": [
        "###Latihan 4\n",
        "Buatlah link text `Bisa AI - AI For Everyone` yang menuju ke `https://bisa.ai/`."
      ]
    },
    {
      "cell_type": "markdown",
      "metadata": {
        "id": "7LG3n0Xus1OI"
      },
      "source": [
        "**Jawaban**"
      ]
    },
    {
      "cell_type": "markdown",
      "metadata": {
        "id": "0XSqwNIfs3pL"
      },
      "source": []
    },
    {
      "cell_type": "markdown",
      "metadata": {
        "id": "mxZhG0Rhs8kw"
      },
      "source": [
        "##Tables\n",
        "Dimungkinkan juga untuk merepresentasikan data dalam sel teks dalam format tabel. Tabel terdiri dari baris dan kolom. Kolom dipisahkan oleh batang vertikal:\n",
        "\n",
        "```\n",
        "Column 1 | Column 2 | Column 3\n",
        "```\n",
        "\n",
        "Setiap baris baru dalam tabel adalah baris lain:\n",
        "```\n",
        "Row 1 Column 1 | Row 1 Column 2\n",
        "Row 2 Column 1 | Row 2 Column 2\n",
        "```\n",
        "\n",
        "Anda juga dapat menambahkan kolom header dengan memisahkan baris pertama (berisi data header) dari baris lainnya menggunakan baris yang berisi tiga tanda hubung, `---`, per kolom.\n",
        "\n",
        "Seperti:\n",
        "```\n",
        "Language | Creator(s)\n",
        "--- | ---\n",
        "Python | Guido van Rossum\n",
        "R | Ross Ihaka, Robert Gentleman\n",
        "Java | James Gosling\n",
        "```\n",
        "\n",
        "menjadi:\n",
        "\n",
        "Language | Creator(s)\n",
        "--- | ---\n",
        "Python | Guido van Rossum\n",
        "R | Ross Ihaka, Robert Gentleman\n",
        "Java | James Gosling"
      ]
    },
    {
      "cell_type": "markdown",
      "metadata": {
        "id": "PrZ_tHcWtbfE"
      },
      "source": [
        "###Latihan 5\n",
        "Buatlah tabel seperti gambar dibawah ini.\n",
        "![Table](https://i.imgur.com/RunAbi1.png)\n"
      ]
    },
    {
      "cell_type": "markdown",
      "metadata": {
        "id": "HSbcbv8dtp0p"
      },
      "source": [
        "**Jawaban**"
      ]
    },
    {
      "cell_type": "markdown",
      "metadata": {
        "id": "yToh8eBBtrJ7"
      },
      "source": []
    },
    {
      "cell_type": "markdown",
      "metadata": {
        "id": "iViMCeWNttX7"
      },
      "source": [
        "##Notasi Matematika\n",
        "Di bidang ilmu data dan pembelajaran mesin, terkadang berguna untuk mengekspresikan ide sebagai persamaan matematika. Dengan syntax [LaTeX](http://www.latex-project.org/) dan rendering [MathJax](https://www.mathjax.org), Colab memungkinkan pembuatan persamaan in-line.\n",
        "\n",
        "contoh:\n",
        "```\n",
        "$\\sqrt{3x-1}+(1+x)^2$\n",
        "```\n",
        "\n",
        "menjadi:\n",
        "\n",
        "$\\sqrt{3x-1}+(1+x)^2.$"
      ]
    },
    {
      "cell_type": "markdown",
      "metadata": {
        "id": "P-RooYkcuGol"
      },
      "source": [
        "###Latihan 6\n",
        "Teorema Pythagoras diwakili dalam dua bentuk di bawah ini. Buat ini dengan LaTeX sebaris.\n",
        "![Pythagorean Theorem](https://i.imgur.com/F5eKQEQ.png)"
      ]
    },
    {
      "cell_type": "markdown",
      "metadata": {
        "id": "GeWUocNZuRQG"
      },
      "source": [
        "**Jawaban**"
      ]
    },
    {
      "cell_type": "markdown",
      "metadata": {
        "id": "_aP2FvWUuS__"
      },
      "source": []
    }
  ],
  "metadata": {
    "colab": {
      "name": "Salinan Pengenalan Google Colab.ipynb",
      "provenance": []
    },
    "kernelspec": {
      "display_name": "Python 3",
      "name": "python3"
    },
    "language_info": {
      "name": "python"
    }
  },
  "nbformat": 4,
  "nbformat_minor": 0
}
