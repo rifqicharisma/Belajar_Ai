{
  "nbformat": 4,
  "nbformat_minor": 0,
  "metadata": {
    "colab": {
      "name": "Basic_Python.ipynb",
      "provenance": [],
      "collapsed_sections": [
        "INwAM1h03Iw0",
        "bRireKKw6Lf2",
        "Dc_w2csT0qhL",
        "QVOxDTyv2e8b",
        "IcV096zL43vU",
        "AXU4PAbb7WcK",
        "zAi5-Wt88Wg6",
        "rpMM-mhg8aga",
        "8Qv1dfau8-dz",
        "QlRf_Inb-yb0",
        "LW4fW_q7_G-9"
      ]
    },
    "kernelspec": {
      "name": "python3",
      "display_name": "Python 3"
    },
    "language_info": {
      "name": "python"
    }
  },
  "cells": [
    {
      "cell_type": "markdown",
      "source": [
        "#1. Pengenalan Python"
      ],
      "metadata": {
        "id": "c35Gy-ivqJxs"
      }
    },
    {
      "cell_type": "markdown",
      "source": [
        "![Python](https://upload.wikimedia.org/wikipedia/commons/thumb/f/f8/Python_logo_and_wordmark.svg/1200px-Python_logo_and_wordmark.svg.png) [Python](https://www.python.org/) adalah bahasa pemrograman interpretatif multiguna. Tidak seperti bahasa lain yang susah untuk dibaca dan dipahami,\n",
        "python lebih menekankan pada keterbacaan kode agar lebih mudah untuk memahami\n",
        "sintaks. Hal ini membuat Python sangat mudah dipelajari baik untuk pemula maupun untuk yang sudah menguasai bahasa pemrograman lain.\n",
        "\n",
        "Bahasa ini muncul pertama kali pada tahun 1991, dirancang oleh seorang bernama Guido van\n",
        "Rossum. Sampai saat ini Python masih dikembangkan oleh Python Software Foundation. Bahasa\n",
        "Python mendukung hampir semua sistem operasi, bahkan untuk sistem operasi Linux, hampir\n",
        "semua distronya sudah menyertakan Python di dalamnya.\n",
        "\n",
        "Dengan kode yang simpel dan mudah diimplementasikan, seorang programmer dapat lebih mengutamakan pengembangan aplikasi yang dibuat, bukan malah sibuk mencari syntax error.\n",
        "```\n",
        "print('Python sangat simpel')\n",
        "```\n",
        "Hanya dengan menuliskan kode print seperti yang diatas, anda sudah bisa mencetak apapun yang\n",
        "anda inginkan di dalam tanda kurung (). Dibagian akhir kode pun, anda tidak harus\n",
        "mengakhirnya dengan tanda semicolon ;"
      ],
      "metadata": {
        "id": "kLEMiWFTqM8X"
      }
    },
    {
      "cell_type": "markdown",
      "source": [
        "#2. Instalasi Python"
      ],
      "metadata": {
        "id": "r--0rGOprqi8"
      }
    },
    {
      "cell_type": "markdown",
      "source": [
        "##Linux\n",
        "\n",
        "* Buka browser, kunjungi http://www.python.org/downloads/source/\n",
        "* Download versi terbaru Python berbentuk file zip untuk Unix/Linux\n",
        "* Ekstrak file zip yang baru saja di download\n",
        "* Edit file Modules/Setup jika Anda ingin kostumisasi Python\n",
        "* Jalankan ./configure script\n",
        "* make\n",
        "* make install\n",
        "* Langkah ini akan menginstal Python di lokasi standar /usr/local/bin dan library di\n",
        "/usr/local/lib/pythonXX dimana XX adalah versi terbaru Python yang anda gunakan.\n"
      ],
      "metadata": {
        "id": "CYU47WVMrvGT"
      }
    },
    {
      "cell_type": "markdown",
      "source": [
        "## Windows\n",
        "* Buka browser, kunjungi http://www.python.org/downloads/windows/\n",
        "* ATAU, klik direct link https://www.python.org/ftp/python/3.4.3/python-3.4.3.msi\n",
        "* Buka (klik 2x) file installer python yang baru saja di download\n",
        "* Ikuti langkah instalasi sampai selesai\n"
      ],
      "metadata": {
        "id": "oUSTTCJKryHM"
      }
    },
    {
      "cell_type": "markdown",
      "source": [
        "##Mac OS\n",
        "* Buka browser, kunjungi http://www.python.org/download/mac/\n",
        "* Download versi terbaru Python untuk Macintosh\n",
        "* Buka file yang baru saja di download\n",
        "* Ikuti langkah instalasi sampai selesai"
      ],
      "metadata": {
        "id": "AUq58oRxsK-8"
      }
    },
    {
      "cell_type": "markdown",
      "source": [
        "#3. Menjalankan Python dengan IDE (Integrated Development Environment)"
      ],
      "metadata": {
        "id": "47tX9xXbseCg"
      }
    },
    {
      "cell_type": "markdown",
      "source": [
        "IDE adalah sebuah software aplikasi yang memberikan Anda fasilitas bermanfaat ketika membuat program. Biasanya sebuah IDE terdiri dari source code editor build automation tools dan debugger\n",
        "\n",
        "Untuk menulis sebuah program, bisa menggunakan text editor atau IDE nya. Bagi yang sudah mahir, menulis program dengan text editor bukanlah menjadi masalah. Tetapi untuk pemula, akan lebih mudah menggunakan IDE\n",
        "\n",
        "IDE untuk Python sangatlah banyak, tersedia bermacam-macam IDE dengan kelebihan\n",
        "dan kekurangan masing-masing.\n",
        "\n",
        "Beberapa IDE untuk Python yang cukup populer, yaitu :\n",
        "* [Komodo](https://wiki.python.org/moin/Komodo)\n",
        "* [PyCharm](http://www.jetbrains.com/pycharm/)\n",
        "* [Spyder](https://www.spyder-ide.org/)\n",
        "* [Visual Studio Code](https://code.visualstudio.com/)\n",
        "\n",
        "[dan lain-lain](http://wiki.python.org/moin/IntegratedDevelopmentEnvironments)"
      ],
      "metadata": {
        "id": "nL_8pCKzsiVO"
      }
    },
    {
      "cell_type": "markdown",
      "source": [
        "#4. Hello World Python"
      ],
      "metadata": {
        "id": "SGHfoY2PtgMt"
      }
    },
    {
      "cell_type": "markdown",
      "source": [
        "##Syntax Dasar\n",
        "\n",
        "Dibawah ini adalah contoh fungsi Python yang digunakan untuk mencetak. Di Python\n",
        "untuk mencetak cukup gunakan fungsi `print()`, dimana sesuatu yang akan dicetak harus diletakkan diantara kurung buka dan kurung tutup. Jika ingin mencetak tipe data String langsung, Anda harus memasukanya ke dalam tanda kutip terlebih dahulu."
      ],
      "metadata": {
        "id": "U60N-KxOtur4"
      }
    },
    {
      "cell_type": "code",
      "source": [
        "print('Hello World')"
      ],
      "metadata": {
        "id": "OMcbumhcuGCd",
        "colab": {
          "base_uri": "https://localhost:8080/"
        },
        "outputId": "cba0d781-a48b-4d78-e3e6-6d3d1fa0f465"
      },
      "execution_count": null,
      "outputs": [
        {
          "output_type": "stream",
          "name": "stdout",
          "text": [
            "Hello World\n"
          ]
        }
      ]
    },
    {
      "cell_type": "code",
      "source": [
        "print(\"Hello World\")"
      ],
      "metadata": {
        "id": "Nu9NnZiNuNYD",
        "colab": {
          "base_uri": "https://localhost:8080/"
        },
        "outputId": "98a9649d-4b15-4173-91ff-54e0ddf98bdd"
      },
      "execution_count": null,
      "outputs": [
        {
          "output_type": "stream",
          "name": "stdout",
          "text": [
            "Hello World\n"
          ]
        }
      ]
    },
    {
      "cell_type": "code",
      "source": [
        "print('Hello World\")"
      ],
      "metadata": {
        "id": "qIR90kh6uPYT",
        "colab": {
          "base_uri": "https://localhost:8080/",
          "height": 134
        },
        "outputId": "8ee0afbf-fecf-4525-b7ce-84d8e68f6a6b"
      },
      "execution_count": null,
      "outputs": [
        {
          "output_type": "error",
          "ename": "SyntaxError",
          "evalue": "ignored",
          "traceback": [
            "\u001b[0;36m  File \u001b[0;32m\"<ipython-input-3-91c08de83dce>\"\u001b[0;36m, line \u001b[0;32m1\u001b[0m\n\u001b[0;31m    print('Hello World\")\u001b[0m\n\u001b[0m                        ^\u001b[0m\n\u001b[0;31mSyntaxError\u001b[0m\u001b[0;31m:\u001b[0m EOL while scanning string literal\n"
          ]
        }
      ]
    },
    {
      "cell_type": "markdown",
      "source": [
        "Kalimat yang ingin dicetak harus diawali dan diakhiri dengan tanda kutip, jika diawali dengan tanda kutip 1 maka harus diakhiri dengan tanda kutip 1, begitu pula untuk tanda kutip 2"
      ],
      "metadata": {
        "id": "6lCwSP0qtxSs"
      }
    },
    {
      "cell_type": "markdown",
      "source": [
        "##Case Sensitive\n",
        "\n",
        "Python bersifat case sensitif, ini artinya huruf besar dan huruf kecil memiliki perbedaan. Sebagai contoh jika Anda menggunakan fungsi print dengan huruf kecil `print()` akan berhasil. Lain hal jika anda menggunakan huruf kapital `Print()` atau `PRINT()`, akan muncul pesan error.\n",
        "\n",
        "Aturan ini berlaku untuk nama variabel ataupun fungsi-fungsi lainya.\n"
      ],
      "metadata": {
        "id": "StbJoxzbuxpE"
      }
    },
    {
      "cell_type": "code",
      "execution_count": null,
      "metadata": {
        "id": "TubBo_0gSkl7",
        "colab": {
          "base_uri": "https://localhost:8080/"
        },
        "outputId": "276eee89-0320-4b34-be40-9b6e46b5fea7"
      },
      "outputs": [
        {
          "output_type": "stream",
          "name": "stdout",
          "text": [
            "Hello World\n"
          ]
        }
      ],
      "source": [
        "print('Hello World')"
      ]
    },
    {
      "cell_type": "code",
      "source": [
        "Print('Hello World')"
      ],
      "metadata": {
        "id": "MZFILtVvqL1F",
        "colab": {
          "base_uri": "https://localhost:8080/",
          "height": 170
        },
        "outputId": "64096caa-0797-4f31-d8f8-f56a489ccf66"
      },
      "execution_count": null,
      "outputs": [
        {
          "output_type": "error",
          "ename": "NameError",
          "evalue": "ignored",
          "traceback": [
            "\u001b[0;31m---------------------------------------------------------------------------\u001b[0m",
            "\u001b[0;31mNameError\u001b[0m                                 Traceback (most recent call last)",
            "\u001b[0;32m<ipython-input-5-76108a059f25>\u001b[0m in \u001b[0;36m<module>\u001b[0;34m()\u001b[0m\n\u001b[0;32m----> 1\u001b[0;31m \u001b[0mPrint\u001b[0m\u001b[0;34m(\u001b[0m\u001b[0;34m'Hello World'\u001b[0m\u001b[0;34m)\u001b[0m\u001b[0;34m\u001b[0m\u001b[0;34m\u001b[0m\u001b[0m\n\u001b[0m",
            "\u001b[0;31mNameError\u001b[0m: name 'Print' is not defined"
          ]
        }
      ]
    },
    {
      "cell_type": "code",
      "source": [
        "PRINT('Hello World')"
      ],
      "metadata": {
        "id": "4ep60ePHvC8D",
        "colab": {
          "base_uri": "https://localhost:8080/",
          "height": 170
        },
        "outputId": "bf77dc5e-4786-4e67-d78c-2bc1dcf8d943"
      },
      "execution_count": null,
      "outputs": [
        {
          "output_type": "error",
          "ename": "NameError",
          "evalue": "ignored",
          "traceback": [
            "\u001b[0;31m---------------------------------------------------------------------------\u001b[0m",
            "\u001b[0;31mNameError\u001b[0m                                 Traceback (most recent call last)",
            "\u001b[0;32m<ipython-input-6-c2cdd9b7da0f>\u001b[0m in \u001b[0;36m<module>\u001b[0;34m()\u001b[0m\n\u001b[0;32m----> 1\u001b[0;31m \u001b[0mPRINT\u001b[0m\u001b[0;34m(\u001b[0m\u001b[0;34m'Hello World'\u001b[0m\u001b[0;34m)\u001b[0m\u001b[0;34m\u001b[0m\u001b[0;34m\u001b[0m\u001b[0m\n\u001b[0m",
            "\u001b[0;31mNameError\u001b[0m: name 'PRINT' is not defined"
          ]
        }
      ]
    },
    {
      "cell_type": "markdown",
      "source": [
        "##Komentar pada Python\n",
        "\n",
        "Komentar (comment) adalah kode di dalam script Python yang tidak dieksekusi atau\n",
        "tidak dijalankan mesin. Komentar hanya digunakan untuk menandai atau memberikan\n",
        "keterangan tertulis pada script.\n",
        "\n",
        "Komentar biasa digunakan untuk membiarkan orang lain memahami apa yang\n",
        "dilakukan script. atau untuk mengingatkan kepada programmer sendiri jika suatu saat\n",
        "kembali mengedit script tersebut.\n",
        "\n",
        "Untuk menggunakan komentar anda cukup menulis tanda pagar #, diikuti dengan\n",
        "komentar Anda.\n"
      ],
      "metadata": {
        "id": "RB5JuZwLvJTR"
      }
    },
    {
      "cell_type": "code",
      "source": [
        "#Ini adalah komentar\n",
        "# Tulisan ini tidak akan dieksekusi\n",
        "\n",
        "#komentar dengan tanda pagar hanya bisa digunakan\n",
        "#untuk\n",
        "#satu\n",
        "#baris\n",
        "\n",
        "\"\"\"\n",
        "Penulisan Komentar lebih dari satu baris yaitu\n",
        "dengan menggunakan kutip dua 3 kali dan \n",
        "ditutup dengan kutip dua 3 kali juga\n",
        "\"\"\"\n",
        "print(\"Hello World\") #ini juga komentar\n",
        "\n",
        "#print(\"Welcome\")\n",
        "\n",
        "# komentar bisa berisi spesial karakter !@#$%^&*(),./;'[]\\\n",
        "\n",
        "#mencetak nama\n",
        "print(\"Budi\")\n",
        "\n",
        "#mencetak angka/integer\n",
        "print(123)"
      ],
      "metadata": {
        "id": "fXhnd7NJvEvP",
        "colab": {
          "base_uri": "https://localhost:8080/"
        },
        "outputId": "18b65e6b-66bb-4802-af49-be622b27a736"
      },
      "execution_count": null,
      "outputs": [
        {
          "output_type": "stream",
          "name": "stdout",
          "text": [
            "Hello World\n",
            "Budi\n",
            "123\n"
          ]
        }
      ]
    },
    {
      "cell_type": "markdown",
      "source": [
        "Saat menjalankan script diatas, Anda akan melihat output berupa `Hello World`, `Budi` dan `123`, karena tulisan/komentar yang ditulis tidak dieksekusi."
      ],
      "metadata": {
        "id": "1cdTw5g0wUbb"
      }
    },
    {
      "cell_type": "markdown",
      "source": [
        "##Tipe Data\n",
        "\n",
        "Tipe data adalah suatu media atau memori pada komputer yang digunakan untuk menampung informasi.\n",
        "\n",
        "Python sendiri mempunyai tipe data yang cukup unik bila kita bandingkan dengan bahasa pemrograman yang lain.\n",
        "\n",
        "Berikut adalah tipe data dari bahasa pemrograman Python :\n",
        "\n",
        "Tipe Data | Contoh | Penjelasan\n",
        "--- | --- | ---\n",
        "Boolean | **True** atau **False** | Menyatakan benar (True) yang bernilai 1, atau salah (False) yang bernilai 0\n",
        "String | **\"Ayo belajar Python\"** | Menyatakan karakter/kalimat bisa berupa huruf, angka, dll (diapit tanda \" atau ')\n",
        "Integer | **25** atau **1209** | Menyatakan bilangan bulat\n",
        "Float | **3.14** atau **0.99** | Menyatakan bilangan yang mempunyai koma\n",
        "Hexadecimal | **9a** atau **1d3** | Menyatakan bilangan dalam format heksa (bilangan berbasis 16)\n",
        "Complex | **1 + 5j** | Menyatakan pasangan angka real dan imajiner\n",
        "List | **['xyz', 786, 2.23]** | Data untaian yang dapat menyimpan berbagai tipe data dan isinya dapat diubah-ubah\n",
        "Tuple | **('xyz', 786, 2.23)** | Data untaian yang dapat menyimpan berbagai tipe data tapi isinya tidak bisa diubah\n",
        "Dictionary | **{'nama' : 'adi' , 'id' : 2}** | Data untaian yang menyimpan berbagai tipe data berupa pasangan penunjuk dan nilai (key dan value)\n"
      ],
      "metadata": {
        "id": "vd2erH9EwlVT"
      }
    },
    {
      "cell_type": "code",
      "source": [
        "#tipe data Boolean\n",
        "print(True)\n",
        "\n",
        "#tipe data String\n",
        "print(\"Ayo belajar Python\")\n",
        "print('Belajar Python Sangat Mudah')\n",
        "\n",
        "#tipe data Integer\n",
        "print(20)\n",
        "\n",
        "#tipe data Float\n",
        "print(3.14)\n",
        "\n",
        "#tipe data Hexadecimal\n",
        "print(\"Bentuk hexadecimal dari 23 adalah \" + hex(23))\n",
        "\n",
        "#tipe data Complex\n",
        "print(5j)\n",
        "\n",
        "#tipe data List\n",
        "print([1,2,3,4,5])\n",
        "print([\"satu\", \"dua\", \"tiga\"])\n",
        "\n",
        "#tipe data Tuple\n",
        "print((1,2,3,4,5))\n",
        "print((\"satu\", \"dua\", \"tiga\"))\n",
        "\n",
        "#tipe data Dictionary\n",
        "print({\"nama\":\"Budi\", 'umur':20})\n",
        "\n",
        "#tipe data Dictionary dimasukan ke dalam variabel biodata\n",
        "biodata = {\"nama\":\"Andi\", 'umur':21} #proses inisialisasi variabel biodata\n",
        "print(biodata) #proses pencetakan variabel biodata yang berisi tipe data Dictionary\n",
        "print(type(biodata)) #fungsi untuk mengecek jenis tipe data. akan tampil <class 'dict'> yang berarti dict adalah tipe data dictionary"
      ],
      "metadata": {
        "id": "6LfM3QynwIJL",
        "colab": {
          "base_uri": "https://localhost:8080/"
        },
        "outputId": "4d8ddbc2-84b5-4d3c-ee05-9a9977ca981b"
      },
      "execution_count": null,
      "outputs": [
        {
          "output_type": "stream",
          "name": "stdout",
          "text": [
            "True\n",
            "Ayo belajar Python\n",
            "Belajar Python Sangat Mudah\n",
            "20\n",
            "3.14\n",
            "Bentuk hexadecimal dari 23 adalah 0x17\n",
            "5j\n",
            "[1, 2, 3, 4, 5]\n",
            "['satu', 'dua', 'tiga']\n",
            "(1, 2, 3, 4, 5)\n",
            "('satu', 'dua', 'tiga')\n",
            "{'nama': 'Budi', 'umur': 20}\n",
            "{'nama': 'Andi', 'umur': 21}\n",
            "<class 'dict'>\n"
          ]
        }
      ]
    },
    {
      "cell_type": "code",
      "source": [
        "a = '20'\n",
        "print(a)\n",
        "print(type(a))"
      ],
      "metadata": {
        "colab": {
          "base_uri": "https://localhost:8080/"
        },
        "id": "z0WwcvDqNd-3",
        "outputId": "298c438b-a7a3-4a3c-a98a-7360c899afe3"
      },
      "execution_count": null,
      "outputs": [
        {
          "output_type": "stream",
          "name": "stdout",
          "text": [
            "20\n",
            "<class 'str'>\n"
          ]
        }
      ]
    },
    {
      "cell_type": "markdown",
      "source": [
        "##Variabel Python\n",
        "\n",
        "Variabel adalah lokasi memori yang dicadangkan untuk menyimpan nilai-nilai. Ini berarti bahwa ketika Anda membuat sebuah variabel Anda memesan beberapa ruang di memori. Variabel menyimpan data yang dilakukan selama program dieksekusi, yang nantinya isi dari variabel tersebut dapat diubah oleh operasi - operasi tertentu pada program yang menggunakan variabel.\n",
        "\n",
        "Variabel dapat menyimpan berbagai macam tipe data. Di dalam pemrograman Python, variabel mempunyai sifat yang dinamis, artinya variabel Python tidak perlu didekralasikan tipe data tertentu dan variabel Python dapat diubah saat program dijalankan.\n",
        "\n",
        "Penulisan variabel Python sendiri juga memiliki aturan tertentu, yaitu :\n",
        "\n",
        "* Karakter pertama harus berupa huruf atau garis bawah/underscore _\n",
        "* Karakter selanjutnya dapat berupa huruf, garis bawah/underscore _ atau angka\n",
        "* Karakter pada nama variabel bersifat sensitif (case-sensitif). Artinya huruf kecil dan huruf besar dibedakan. Sebagai contoh, variabel namaDepan dan namadepan adalah variabel yang berbeda.\n",
        "\n",
        "Untuk mulai membuat variabel di Python caranya sangat mudah, Anda cukup menuliskan variabel lalu mengisinya dengan suatu nilai dengan cara menambahkan tanda sama dengan = diikuti dengan nilai yang ingin dimasukan.\n",
        "\n",
        "Dibawah ini adalah contoh penggunaan variabel dalam bahasa pemrograman Python"
      ],
      "metadata": {
        "id": "AZkLgFNx03aa"
      }
    },
    {
      "cell_type": "code",
      "source": [
        "#proses memasukan data ke dalam variabel\n",
        "nama = \"John Doe\"\n",
        "#proses mencetak variabel\n",
        "print(nama)\n",
        "\n",
        "#nilai dan tipe data dalam variabel  dapat diubah\n",
        "umur = 20               #nilai awal\n",
        "print(umur)             #mencetak nilai umur\n",
        "type(umur)              #mengecek tipe data umur\n",
        "umur = \"dua puluh satu\" #nilai setelah diubah\n",
        "print(umur)             #mencetak nilai umur\n",
        "type(umur)              #mengecek tipe data umur\n",
        "\n",
        "namaDepan = \"Budi\"\n",
        "namaBelakang = \"Susanto\"\n",
        "nama = namaDepan + \" \" + namaBelakang\n",
        "umur = 22\n",
        "hobi = \"Berenang\"\n",
        "print(\"Biodata\\n\", nama, \"\\n\", umur, \"\\n\", hobi)\n",
        "\n",
        "#contoh variabel lainya\n",
        "inivariabel = \"Halo\"\n",
        "ini_juga_variabel = \"Hai\"\n",
        "_inivariabeljuga = \"Hi\"\n",
        "inivariabel222 = \"Bye\" \n",
        "\n",
        "panjang = 10\n",
        "lebar = 5\n",
        "luas = panjang * lebar\n",
        "print(luas)"
      ],
      "metadata": {
        "id": "-C-Y1EoEy6_T",
        "colab": {
          "base_uri": "https://localhost:8080/"
        },
        "outputId": "4a8bce88-3ce9-4452-d05b-6b24976479c4"
      },
      "execution_count": null,
      "outputs": [
        {
          "output_type": "stream",
          "name": "stdout",
          "text": [
            "John Doe\n",
            "20\n",
            "dua puluh satu\n",
            "Biodata\n",
            " Budi Susanto \n",
            " 22 \n",
            " Berenang\n",
            "50\n"
          ]
        }
      ]
    },
    {
      "cell_type": "markdown",
      "source": [
        "##Operator Python\n",
        "\n",
        "Operator adalah konstruksi yang dapat memanipulasi nilai dari operan.\n",
        "\n",
        "Sebagai contoh operasi `3 + 2 = 5`. Disini `3` dan `2` adalah operan dan `+` adalah operator.\n",
        "\n",
        "Bahasa pemrograman Python mendukung berbagai macam operator, diantaranya :\n",
        "* Operator Aritmatika (Arithmetic Operators)\n",
        "* Operator Perbandingan (Comparison (Relational) Operators)\n",
        "* Operator Penugasan (Assignment Operators)\n",
        "* Operator Logika (Logical Operators)\n",
        "* Operator Bitwise (Bitwise Operators)\n",
        "* Operator Keanggotaan (Membership Operators)\n",
        "* Operator Identitas (Identity Operators)"
      ],
      "metadata": {
        "id": "uZ9V-LIs1a1m"
      }
    },
    {
      "cell_type": "markdown",
      "source": [
        "###Operator Aritmatika\n",
        "\n",
        "Operator | Contoh | Penjelasan\n",
        "--- | --- | ---\n",
        "Penjumlahan `+` | `1 + 3 = 4` | Menjumlahkan nilai dari masing-masing operan atau bilangan\n",
        "Pengurangan `-` | `4 - 1 = 3` | Mengurangi nilai operan di sebelah kiri menggunakan operan di sebelah kanan\n",
        "Perkalian `*` | `2 * 4 = 8` | Mengalikan operan/bilangan\n",
        "Pembagian `/` | `10 / 5 = 2` | Untuk membagi operan di sebelah kiri menggunakan operan di sebelah kanan\n",
        "Sisa Bagi `%` | `11 % 2 = 1` | Mendapatkan sisa pembagian dari operan di sebelah kiri operator ketika dibagi oleh operan di sebelah kanan\n",
        "Pangkat `**` | `8 ** 2 = 64` | Memangkatkan operan disebelah kiri operator dengan operan disebelah kanan operator\n",
        "Pembagian Bulat `//` | `10 //3 = 3` | Sama seperti pembagian, hanya saja angka dibelakang koma dihilangkan"
      ],
      "metadata": {
        "id": "vXrCdSAj3Q9r"
      }
    },
    {
      "cell_type": "code",
      "source": [
        "#OPERATOR ARITMATIKA\n",
        "\n",
        "#Penjumlahan\n",
        "print(13 + 2)\n",
        "apel = 7\n",
        "jeruk = 9\n",
        "buah = apel + jeruk #\n",
        "print(buah)\n",
        "\n",
        "#Pengurangan\n",
        "hutang = 10000\n",
        "bayar = 5000\n",
        "sisaHutang = hutang - bayar\n",
        "print(\"Sisa hutang Anda adalah \", sisaHutang)\n",
        "\n",
        "#Perkalian\n",
        "panjang = 15\n",
        "lebar = 8\n",
        "luas = panjang * lebar\n",
        "print(luas)\n",
        "\n",
        "#Pembagian\n",
        "kue = 16\n",
        "anak = 4\n",
        "kuePerAnak = kue / anak\n",
        "print(\"Setiap anak akan mendapatkan bagian kue sebanyak \", kuePerAnak)\n",
        "\n",
        "#Sisa Bagi / Modulus\n",
        "bilangan1 = 14\n",
        "bilangan2 = 5\n",
        "hasil = bilangan1 % bilangan2\n",
        "print(\"Sisa bagi dari bilangan \", bilangan1, \" dan \", bilangan2, \" adalah \", hasil)\n",
        "\n",
        "#Pangkat\n",
        "bilangan3 = 8\n",
        "bilangan4 = 2\n",
        "hasilPangkat = bilangan3 ** bilangan4\n",
        "print(hasilPangkat)\n",
        "\n",
        "#Pembagian Bulat\n",
        "print(10//3) \n",
        "#10 dibagi 3 adalah 3.3333. Karena dibulatkan maka akan menghasilkan nilai 3"
      ],
      "metadata": {
        "id": "UE_7-ZIo1j-7",
        "colab": {
          "base_uri": "https://localhost:8080/"
        },
        "outputId": "cf6bbaa1-b29a-4226-eb65-b9fc161630ae"
      },
      "execution_count": null,
      "outputs": [
        {
          "output_type": "stream",
          "name": "stdout",
          "text": [
            "15\n",
            "16\n",
            "Sisa hutang Anda adalah  5000\n",
            "120\n",
            "Setiap anak akan mendapatkan bagian kue sebanyak  4.0\n",
            "Sisa bagi dari bilangan  14  dan  5  adalah  4\n",
            "64\n",
            "3\n"
          ]
        }
      ]
    },
    {
      "cell_type": "markdown",
      "source": [
        "###Operator Perbandingan\n",
        "\n",
        "Operator | Contoh | Penjelasan\n",
        "--- | --- | ---\n",
        "Sama dengan `==` | `1 == 1` | Bernilai True Jika masing-masing operan memiliki nilai yang sama, False jika nilai tidak sama\n",
        "Tidak sama dengan `!=` | `2 != 2` | Bernilai True jika masing-masing operan memiliki nilai yang tidak sama, False jika nilai sama\n",
        "Lebih besar dari `>` | `5 > 3` | Bernilai True Jika nilai operan kiri lebih besar dari nilai operan kanan, maka kondisi menjadi benar.\n",
        "Lebih kecil dari `<` | `5 < 3` | Bernilai True Jika nilai operan kiri lebih kecil dari nilai operan kanan, maka kondisi menjadi benar.\n",
        "Lebih besar atau sama dengan `>=` | `5 >= 3` | Bernilai True Jika nilai operan kiri lebih besar dari nilai operan kanan, atau sama, maka kondisi menjadi benar\n",
        "Lebih kecil atau sama dengan `<=` | `5 <= 3` | Bernilai True Jika nilai operan kiri lebih kecil dari nilai operan kanan, atau sama, maka kondisi menjadi benar"
      ],
      "metadata": {
        "id": "INwAM1h03Iw0"
      }
    },
    {
      "cell_type": "code",
      "source": [
        "#Operator Perbandingan\n",
        "\n",
        "#Sama dengan (==)\n",
        "print('Operator sama dengan')\n",
        "print('2 == 2 bernilai', 2==2)\n",
        "print('3 == 2 bernilai', 3==2)\n",
        "print()\n",
        "\n",
        "#Tidak sama dengan (!=)\n",
        "print('Operator tidak sama dengan')\n",
        "print('2 != 2 bernilai', 2!=2)\n",
        "print('3 != 2 bernilai', 3!=2)\n",
        "print()\n",
        "\n",
        "#Lebih besar dari (>)\n",
        "print('Operator lebih besar dari')\n",
        "print('5 > 3 bernilai', 5>3)\n",
        "print('5 > 10 bernilai', 5>10)\n",
        "print()\n",
        "\n",
        "#Lebih kecil dari (<)\n",
        "print('Operator lebih kecil dari')\n",
        "print('5 < 3 bernilai', 5<3)\n",
        "print('5 < 10 bernilai', 5<10)\n",
        "print()\n",
        "\n",
        "#Lebih besar dari (>=)\n",
        "print('Operator lebih besar dari')\n",
        "print('5 >= 10 bernilai', 5>=10)\n",
        "print('5 >= 5 bernilai', 5>=5)\n",
        "print('5 >= 3 bernilai', 5>=3)\n",
        "print()\n",
        "\n",
        "#Lebih kecil dari (<=)\n",
        "print('Operator lebih kecil dari')\n",
        "print('5 <= 3 bernilai', 5<=3)\n",
        "print('5 <= 5 bernilai', 5<=5)\n",
        "print('5 <= 10 bernilai', 5<=10)\n",
        "print()"
      ],
      "metadata": {
        "id": "rEBDt16r1KHP",
        "colab": {
          "base_uri": "https://localhost:8080/"
        },
        "outputId": "4af7a81a-8f15-443f-dd68-b59acb485801"
      },
      "execution_count": null,
      "outputs": [
        {
          "output_type": "stream",
          "name": "stdout",
          "text": [
            "Operator sama dengan\n",
            "2 == 2 bernilai True\n",
            "3 == 2 bernilai False\n",
            "\n",
            "Operator tidak sama dengan\n",
            "2 != 2 bernilai False\n",
            "3 != 2 bernilai True\n",
            "\n",
            "Operator lebih besar dari\n",
            "5 > 3 bernilai True\n",
            "5 > 10 bernilai False\n",
            "\n",
            "Operator lebih kecil dari\n",
            "5 < 3 bernilai False\n",
            "5 < 10 bernilai True\n",
            "\n",
            "Operator lebih besar dari\n",
            "5 >= 10 bernilai False\n",
            "5 >= 5 bernilai True\n",
            "5 >= 3 bernilai True\n",
            "\n",
            "Operator lebih kecil dari\n",
            "5 <= 3 bernilai False\n",
            "5 <= 5 bernilai True\n",
            "5 <= 10 bernilai True\n",
            "\n"
          ]
        }
      ]
    },
    {
      "cell_type": "markdown",
      "source": [
        "###Operator Penugasan\n",
        "\n",
        "Operator | Contoh | Penjelasan\n",
        "--- | --- | ---\n",
        "Sama dengan `=` | `a = 1` | Memberikan nilai di kanan ke dalam variabel yang berada disebelah kiri\n",
        "Tambah sama dengan `+=` | `a += 2` | Memberikan nilai variabel dengan nilai variabel itu sendiri ditambah dengan nilai disebelah kanan\n",
        "Kurang sama dengan `-=` | `a -= 2` | Memberikan nilai variabel dengan nilai variabel itu sendiri dikurangi dengan nilai disebelah kanan\n",
        "Kali sama dengan `*=` | `a *= 2` | Memberikan nilai variabel dengan nilai variabel itu sendiri dikali dengan nilai disebelah kanan\n",
        "Bagi sama dengan `/=` | `a /= 2` | Memberikan nilai variabel dengan nilai variabel itu sendiri dibagi dengan nilai disebelah kanan\n",
        "Sisa bagi sama dengan `%=` | `a %= 2` | Memberikan nilai variabel dengan nilai variabel itu sendiri dibagi dengan nilai di sebelah kanan. Yang diambil nantinya adalah sisa baginya\n",
        "Pangkat sama dengan `**=` | `a **= 2` | Memberikan nilai variabel dengan nilai variabel itu sendiri dipangkatkan dengan nilai di sebelah kanan\n",
        "Pembagian bulat sama dengan `//=` | `a //= 2` | Membagi bulat operan sebelah kiri operator dengan operan sebelah kanan operator kemudian hasilnya diisikan ke operan sebelah kiri"
      ],
      "metadata": {
        "id": "bRireKKw6Lf2"
      }
    },
    {
      "cell_type": "code",
      "source": [
        "#Operator Penugasan\n",
        "\n",
        "#Sama dengan (=)\n",
        "print('Operator sama dengan')\n",
        "a = 2\n",
        "print(a)\n",
        "b = 2.5\n",
        "print(b)\n",
        "print()\n",
        "\n",
        "#Tambah sama dengan (+=)\n",
        "print('Operator tambah sama dengan')\n",
        "a = 2\n",
        "print(a)\n",
        "a += 2\n",
        "print(a)\n",
        "print()\n",
        "\n",
        "#Kurang sama dengan (-=)\n",
        "print('Operator kurang sama dengan')\n",
        "a = 4\n",
        "print(a)\n",
        "a -= 2\n",
        "print(a)\n",
        "print()\n",
        "\n",
        "#Kali sama dengan (*=)\n",
        "print('Operator kali sama dengan')\n",
        "a = 4\n",
        "print(a)\n",
        "a *= 2\n",
        "print(a)\n",
        "print()\n",
        "\n",
        "#Bagi sama dengan (/=)\n",
        "print('Operator bagi sama dengan')\n",
        "a = 4\n",
        "print(a)\n",
        "a /= 2\n",
        "print(a)\n",
        "print()\n",
        "\n",
        "#Sisa bagi sama dengan (%=)\n",
        "print('Operator sisa bagi sama dengan')\n",
        "a = 7\n",
        "print(a)\n",
        "a %= 2\n",
        "print(a)\n",
        "print()\n",
        "\n",
        "#Pangkat sama dengan (**=)\n",
        "print('Operator pangkat sama dengan')\n",
        "a = 4\n",
        "print(a)\n",
        "a **= 2\n",
        "print(a)\n",
        "print()\n",
        "\n",
        "#Pembagian bulat sama dengan (//=)\n",
        "print('Operator sisa bagi sama dengan')\n",
        "a = 10\n",
        "print(a)\n",
        "a //= 3\n",
        "print(a)\n",
        "print()"
      ],
      "metadata": {
        "id": "cczlj0vs44dM",
        "colab": {
          "base_uri": "https://localhost:8080/"
        },
        "outputId": "bd34b7cd-bf7e-4a62-ee59-e497a144d739"
      },
      "execution_count": null,
      "outputs": [
        {
          "output_type": "stream",
          "name": "stdout",
          "text": [
            "Operator sama dengan\n",
            "2\n",
            "2.5\n",
            "\n",
            "Operator tambah sama dengan\n",
            "2\n",
            "4\n",
            "\n",
            "Operator kurang sama dengan\n",
            "4\n",
            "2\n",
            "\n",
            "Operator kali sama dengan\n",
            "4\n",
            "8\n",
            "\n",
            "Operator bagi sama dengan\n",
            "4\n",
            "2.0\n",
            "\n",
            "Operator sisa bagi sama dengan\n",
            "7\n",
            "1\n",
            "\n",
            "Operator pangkat sama dengan\n",
            "4\n",
            "16\n",
            "\n",
            "Operator sisa bagi sama dengan\n",
            "10\n",
            "3\n",
            "\n"
          ]
        }
      ]
    },
    {
      "cell_type": "markdown",
      "source": [
        "###Operator Logical\n",
        "\n",
        "Operator | Contoh | Penjelasan\n",
        "--- | --- | ---\n",
        "and | `a, b = True, True` | Jika kedua operan bernilai True, maka kondisi akan bernilai True. Selain kondisi tadi maka akan bernilai False\n",
        "or | `a, b = True, False` | Jika salah satu atau kedua operan bernilai True maka kondisi akan bernilai True. Jika keduanya False maka kondisi akan bernilai False.\n",
        "not | `a, b = True, False` | Membalikkan nilai kebeneran pada operan misal jika asalnya True akan menjadi False dan begitupun sebaliknya"
      ],
      "metadata": {
        "id": "Dc_w2csT0qhL"
      }
    },
    {
      "cell_type": "code",
      "source": [
        "#Operator Logical\n",
        "\n",
        "#and\n",
        "print('5>3 dan 5>2 bernilai', 5>3 and 5>2)\n",
        "print('5>3 dan 5>10 bernilai', 5>3 and 5>10)\n",
        "print('5>10 dan 5>3 bernilai', 5>10 and 5>3)\n",
        "print('5>10 dan 5>8 bernilai', 5>10 and 5>8)\n",
        "print()\n",
        "\n",
        "#or\n",
        "print('5>3 atau 5>2 bernilai', 5>3 or 5>2)\n",
        "print('5>3 atau 5>10 bernilai', 5>3 or 5>10)\n",
        "print('5>10 atau 5>3 bernilai', 5>10 or 5>3)\n",
        "print('5>10 atau 5>8 bernilai', 5>10 or 5>8)\n",
        "print()\n",
        "\n",
        "#not\n",
        "print(not 5>3)\n",
        "print(not 1>3)"
      ],
      "metadata": {
        "colab": {
          "base_uri": "https://localhost:8080/"
        },
        "id": "E7eWuDFA1HgU",
        "outputId": "a92dd04c-75e4-484b-9da4-19f12d66c2fc"
      },
      "execution_count": null,
      "outputs": [
        {
          "output_type": "stream",
          "name": "stdout",
          "text": [
            "5>3 dan 5>2 bernilai True\n",
            "5>3 dan 5>10 bernilai False\n",
            "5>10 dan 5>3 bernilai False\n",
            "5>10 dan 5>8 bernilai False\n",
            "\n",
            "5>3 atau 5>2 bernilai True\n",
            "5>3 atau 5>10 bernilai True\n",
            "5>10 atau 5>3 bernilai True\n",
            "5>10 atau 5>8 bernilai False\n",
            "\n",
            "False\n",
            "True\n"
          ]
        }
      ]
    },
    {
      "cell_type": "markdown",
      "source": [
        "###Operator Bitwise\n",
        "\n",
        "Operator | Contoh | Penjelasan\n",
        "--- | --- | ---\n",
        "`&` | `c = a & b` | Operator biner AND, memeriksa apakah operan di sebelah kiri dan operan sebelah kanan mempunyai angka biner 1 di setiap bit. Jika keduanya bernilai 1 maka bit hasil operasi akan bernilai 1\n",
        "`\\|` | `c = a \\| b` | Operator biner OR, memeriksa apakah operan di sebelah kiri dan operan sebelah kanan mempunyai angka biner 1 di setiap bit. Jika salah satunya bernilai 1 maka bit hasil operasi akan bernilai 1"
      ],
      "metadata": {
        "id": "QVOxDTyv2e8b"
      }
    },
    {
      "cell_type": "code",
      "source": [
        "#Operator Bitwise\n",
        "\n",
        "#&\n",
        "a = 13 #dalam biner bernilai 0000 1101\n",
        "b = 37 #dalam biner bernilai 0010 0101\n",
        "c = a & b #akan bernilai     0000 0101\n",
        "print(c)\n",
        "print()\n",
        "\n",
        "#|\n",
        "a = 13 #dalam biner bernilai 0000 1101\n",
        "b = 37 #dalam biner bernilai 0010 0101\n",
        "c = a | b #akan bernilai     0010 1101\n",
        "print(c)"
      ],
      "metadata": {
        "id": "WBd-5nCK8kQ5",
        "colab": {
          "base_uri": "https://localhost:8080/"
        },
        "outputId": "907dff5c-4072-40cf-9d7e-149d1019dc1b"
      },
      "execution_count": null,
      "outputs": [
        {
          "output_type": "stream",
          "name": "stdout",
          "text": [
            "5\n",
            "\n",
            "45\n"
          ]
        }
      ]
    },
    {
      "cell_type": "markdown",
      "source": [
        "###Operator Keanggotaan (Membership)\n",
        "\n",
        "Operator | Contoh | Penjelasan\n",
        "--- | --- | ---\n",
        "`in` | `sebuah_list = [1, 2, 3,4 ,5]` | Memeriksa apakah nilai yang dicari berada pada list atau struktur data python lainnya. Jika nilai tersebut ada maka kondisi akan bernilai True\n",
        "| `print(5 in sebuah_list)` |\n",
        "`not in` | `sebuah_list = [1, 2, 3,4 ,5]` | Memeriksa apakah nilai yang dicari tidak ada pada list atau struktur data python lainnya. Jika nilai tersebut tidak ada maka kondisi akan bernilai True\n",
        "| `print(10 not in sebuah_list)` |"
      ],
      "metadata": {
        "id": "IcV096zL43vU"
      }
    },
    {
      "cell_type": "code",
      "source": [
        "#Operator Keanggotaan\n",
        "\n",
        "#in\n",
        "sebuah_list = [1,2,3,4,5]\n",
        "print('sebua_list =', sebuah_list)\n",
        "print('5 in sebuah_list bernilai', 5 in sebuah_list)\n",
        "print('10 in sebuah_list bernilai', 10 in sebuah_list)\n",
        "print()\n",
        "\n",
        "#not in\n",
        "sebuah_list = [1,2,3,4,5]\n",
        "print('sebua_list =', sebuah_list)\n",
        "print('5 not in sebuah_list bernilai', 5 not in sebuah_list)\n",
        "print('10 not in sebuah_list bernilai', 10 not in sebuah_list)"
      ],
      "metadata": {
        "id": "SdCp7GeM9MzB",
        "colab": {
          "base_uri": "https://localhost:8080/"
        },
        "outputId": "a9f34a3a-9dc0-4190-864f-b4dddb534c07"
      },
      "execution_count": null,
      "outputs": [
        {
          "output_type": "stream",
          "name": "stdout",
          "text": [
            "sebua_list = [1, 2, 3, 4, 5]\n",
            "5 in sebuah_list bernilai True\n",
            "10 in sebuah_list bernilai False\n",
            "\n",
            "sebua_list = [1, 2, 3, 4, 5]\n",
            "5 not in sebuah_list bernilai False\n",
            "10 not in sebuah_list bernilai True\n"
          ]
        }
      ]
    },
    {
      "cell_type": "markdown",
      "source": [
        "###Operator Identitas\n",
        "\n",
        "Operator | Contoh | Penjelasan\n",
        "--- | --- | ---\n",
        "`is` | `a, b = 10, 10` | Memeriksa apakah nilai di sebelah kiri operan memiliki identitas memori yang sama dengan nilai di sebelah kanan operan. Jika sama maka kondisi bernilai True\n",
        "| `print(a is b)` |\n",
        "`is not` | `a, b = 10, 10` | Memeriksa apakah nilai di sebelah kiri operan memiliki identitas memori yang berbeda dengan nilai di sebelah kanan operan. Jika berbeda maka kondisi bernilai True\n",
        "| `print(a is not b)` |"
      ],
      "metadata": {
        "id": "AXU4PAbb7WcK"
      }
    },
    {
      "cell_type": "code",
      "source": [
        "#Operator Identitas\n",
        "\n",
        "#is\n",
        "a, b, c = 10, 10, 5\n",
        "print('a =', a)\n",
        "print('b =', b)\n",
        "print('c =', c)\n",
        "print('a is b bernilai', a is b)\n",
        "print('a is c bernilai', a is c)\n",
        "print()\n",
        "\n",
        "#is not\n",
        "a, b, c = 10, 10, 5\n",
        "print('a =', a)\n",
        "print('b =', b)\n",
        "print('c =', c)\n",
        "print('a is not b bernilai', a is not b)\n",
        "print('a is not c bernilai', a is not c)"
      ],
      "metadata": {
        "id": "69co5b4S9NXL",
        "outputId": "f6c151c5-e44b-4362-ceea-0aa396fd1686",
        "colab": {
          "base_uri": "https://localhost:8080/"
        }
      },
      "execution_count": null,
      "outputs": [
        {
          "output_type": "stream",
          "name": "stdout",
          "text": [
            "a = 10\n",
            "b = 10\n",
            "c = 5\n",
            "a is b bernilai True\n",
            "a is c bernilai False\n",
            "\n",
            "a = 10\n",
            "b = 10\n",
            "c = 5\n",
            "a is not b bernilai False\n",
            "a is not c bernilai True\n"
          ]
        }
      ]
    },
    {
      "cell_type": "markdown",
      "source": [
        "##Kondisi Python\n",
        "\n",
        "Pada python ada beberapa statement/kondisi diantaranya adalah `if`, `else` dan `elif`"
      ],
      "metadata": {
        "id": "ITsjF0sy7uCb"
      }
    },
    {
      "cell_type": "markdown",
      "source": [
        "###Kondisi If\n",
        "\n",
        "Pengambilan keputusan (kondisi if) digunakan untuk mengantisipasi kondisi yang terjadi saat jalanya program dan menentukan tindakan apa yang akan diambil sesuai dengan kondisi.\n",
        "\n",
        "Kondisi `if` digunakan untuk mengeksekusi kode jika kondisi bernilai benar `True`.\n",
        "\n",
        "Jika kondisi bernilai salah `False` maka statement/kondisi `if` tidak akan di-eksekusi."
      ],
      "metadata": {
        "id": "zAi5-Wt88Wg6"
      }
    },
    {
      "cell_type": "code",
      "source": [
        "#Kondisi if adalah kondisi yang akan dieksekusi oleh program jika bernilai benar atau TRUE\n",
        "\n",
        "nilai = 9\n",
        "\n",
        "#jika kondisi benar/TRUE maka program akan mengeksekusi perintah dibawahnya\n",
        "if(nilai > 7):\n",
        "    print(\"Nilai Lebih Besar Dari Angka Tujuh\") # Kondisi Benar, Dieksekusi\n",
        "\n",
        "#jika kondisi salah/FALSE maka program tidak akan mengeksekusi perintah dibawahnya\n",
        "if(nilai > 10):\n",
        "    print(\"Nilai Lebih Besar Dari Angka Sepuluh\") # Kondisi Salah, Maka tidak tereksekusi"
      ],
      "metadata": {
        "colab": {
          "base_uri": "https://localhost:8080/"
        },
        "id": "fIh11Rpy7zUL",
        "outputId": "f2601498-da5a-47b8-c1d7-7cbaf42e0dfa"
      },
      "execution_count": null,
      "outputs": [
        {
          "output_type": "stream",
          "name": "stdout",
          "text": [
            "Nilai Lebih Besar Dari Angka Tujuh\n"
          ]
        }
      ]
    },
    {
      "cell_type": "markdown",
      "source": [
        "###Kondisi If Else\n",
        "\n",
        "Pengambilan keputusan (kondisi if else) tidak hanya digunakan untuk menentukan tindakan apa yang akan diambil sesuai dengan kondisi, tetapi juga digunakan untuk menentukan tindakan apa yang akan diambil/dijalankan jika kondisi tidak sesuai.\n",
        "\n",
        "Kondisi `if else` adalah kondisi dimana jika pernyataan benar `True` maka kode dalam `if` akan dieksekusi, tetapi jika bernilai salah `False` maka akan mengeksekusi kode di dalam `else`."
      ],
      "metadata": {
        "id": "rpMM-mhg8aga"
      }
    },
    {
      "cell_type": "code",
      "source": [
        "#Kondisi if else adalah jika kondisi bernilai TRUE maka akan dieksekusi pada if, tetapi jika bernilai FALSE maka akan dieksekusi kode pada else\n",
        "\n",
        "nilai = 7\n",
        "#Jika pernyataan pada if bernilai TRUE maka if akan dieksekusi, tetapi jika FALSE kode pada else yang akan dieksekusi.\n",
        "if(nilai > 7):\n",
        "    print(\"Selamat Anda Lulus\")\n",
        "else:\n",
        "    print(\"Maaf Anda Tidak Lulus\")"
      ],
      "metadata": {
        "colab": {
          "base_uri": "https://localhost:8080/"
        },
        "id": "ath8Roxt7-D5",
        "outputId": "c75461ed-da75-48b8-fed1-57aef0200b9b"
      },
      "execution_count": null,
      "outputs": [
        {
          "output_type": "stream",
          "name": "stdout",
          "text": [
            "Maaf Anda Tidak Lulus\n"
          ]
        }
      ]
    },
    {
      "cell_type": "markdown",
      "source": [
        "###Kondisi Elif\n",
        "\n",
        "Pengambilan keputusan (kondisi if elif) merupakan lanjutan/percabangan logika dari “kondisi if”. Dengan `elif` kita bisa membuat kode program yang akan menyeleksi beberapa kemungkinan yang bisa terjadi. Hampir sama dengan kondisi `else`, bedanya kondisi `elif` bisa banyak dan tidak hanya satu."
      ],
      "metadata": {
        "id": "8Qv1dfau8-dz"
      }
    },
    {
      "cell_type": "code",
      "source": [
        "nilai_angka = 72\n",
        "\n",
        "if (nilai_angka >= 80):\n",
        "  print('A')\n",
        "elif (nilai_angka >= 75):\n",
        "  print('B+')\n",
        "elif (nilai_angka >= 70):\n",
        "  print('B')\n",
        "elif (nilai_angka >= 65):\n",
        "  print('C+')\n",
        "elif (nilai_angka >= 60):\n",
        "  print('C')\n",
        "else:\n",
        "  print('D')"
      ],
      "metadata": {
        "colab": {
          "base_uri": "https://localhost:8080/"
        },
        "id": "e6O5j5Cw8602",
        "outputId": "5ac6612a-d40b-451b-8ab3-d2a7df21e14e"
      },
      "execution_count": null,
      "outputs": [
        {
          "output_type": "stream",
          "name": "stdout",
          "text": [
            "B\n"
          ]
        }
      ]
    },
    {
      "cell_type": "code",
      "source": [
        "hari_ini = \"Selasa\"\n",
        "\n",
        "if(hari_ini == \"Senin\"):\n",
        "    print(\"Saya akan kuliah\")\n",
        "elif(hari_ini == \"Selasa\"):\n",
        "    print(\"Saya akan kuliah\")\n",
        "elif(hari_ini == \"Rabu\"):\n",
        "    print(\"Saya akan kuliah\")\n",
        "elif(hari_ini == \"Kamis\"):\n",
        "    print(\"Saya akan kuliah\")\n",
        "elif(hari_ini == \"Jumat\"):\n",
        "    print(\"Saya akan kuliah\")\n",
        "elif(hari_ini == \"Sabtu\"):\n",
        "    print(\"Saya akan kuliah\")\n",
        "elif(hari_ini == \"Minggu\"):\n",
        "    print(\"Saya akan libur\")\n",
        "else:\n",
        "  print('Yang dimasukkan bukan hari')"
      ],
      "metadata": {
        "colab": {
          "base_uri": "https://localhost:8080/"
        },
        "id": "sqwGH5wz9t78",
        "outputId": "16c27549-65a8-4313-c191-8f2d5713eaac"
      },
      "execution_count": null,
      "outputs": [
        {
          "output_type": "stream",
          "name": "stdout",
          "text": [
            "Saya akan kuliah\n"
          ]
        }
      ]
    },
    {
      "cell_type": "markdown",
      "source": [
        "##Pengulangan (Loop)\n",
        "\n",
        "Secara umum, pernyataan pada bahasa pemrograman akan dieksekusi secara berurutan. Pernyataan pertama dalam sebuah fungsi dijalankan pertama, diikuti oleh yang kedua, dan seterusnya. Tetapi akan ada situasi dimana Anda harus menulis banyak kode, dimana kode tersebut sangat banyak. Jika dilakukan secara manual maka Anda hanya akan membuang-buang tenaga dengan menulis beratus-ratus bahkan beribu-ribu kode. Untuk itu Anda perlu menggunakan pengulangan di dalam bahasa pemrograman Python.\n",
        "\n",
        "Di dalam bahasa pemrograman Python pengulangan dibagi menjadi 3 bagian, yaitu :\n",
        "\n",
        "* While Loop\n",
        "* For Loop\n",
        "* Nested Loop"
      ],
      "metadata": {
        "id": "pmn8-xGj-o5h"
      }
    },
    {
      "cell_type": "markdown",
      "source": [
        "###While Loop\n",
        "\n",
        "Pengulangan While Loop di dalam bahasa pemrograman Python dieksesusi statement berkali-kali selama kondisi bernilai benar atau `True`"
      ],
      "metadata": {
        "id": "QlRf_Inb-yb0"
      }
    },
    {
      "cell_type": "code",
      "source": [
        "#Contoh penggunaan While Loop\n",
        "#Catatan: Penentuan ruang lingkup di Python bisa menggunakan tab alih-alih menggunakan tanda kurung\n",
        "\n",
        "count = 0\n",
        "while (count <= 9):\n",
        "    print(\"The count is: \", count)\n",
        "    count += 1\n",
        "\n",
        "print (\"Good bye!\")"
      ],
      "metadata": {
        "colab": {
          "base_uri": "https://localhost:8080/"
        },
        "id": "zLSmakHv-Bum",
        "outputId": "041bb083-6789-4b43-8c53-4758ae911104"
      },
      "execution_count": null,
      "outputs": [
        {
          "output_type": "stream",
          "name": "stdout",
          "text": [
            "The count is:  0\n",
            "The count is:  1\n",
            "The count is:  2\n",
            "The count is:  3\n",
            "The count is:  4\n",
            "The count is:  5\n",
            "The count is:  6\n",
            "The count is:  7\n",
            "The count is:  8\n",
            "The count is:  9\n",
            "Good bye!\n"
          ]
        }
      ]
    },
    {
      "cell_type": "markdown",
      "source": [
        "###For Loop\n",
        "\n",
        "Pengulangan `for` pada Python memiliki kemampuan untuk mengulangi item dari urutan apapun, seperti `list` atau `string`"
      ],
      "metadata": {
        "id": "LW4fW_q7_G-9"
      }
    },
    {
      "cell_type": "code",
      "source": [
        "#Contoh pengulangan for sederhana\n",
        "angka = [1,2,3,4,5]\n",
        "for x in angka:\n",
        "    print(x)\n",
        "\n",
        "#Contoh pengulangan for\n",
        "buah = [\"nanas\", \"apel\", \"jeruk\"]\n",
        "for y in buah:\n",
        "    print(\"Saya suka makan\", y)"
      ],
      "metadata": {
        "colab": {
          "base_uri": "https://localhost:8080/"
        },
        "id": "n863ZbOv_DVU",
        "outputId": "b7fda1e8-5101-4cab-b8d2-b0a35007268b"
      },
      "execution_count": null,
      "outputs": [
        {
          "output_type": "stream",
          "name": "stdout",
          "text": [
            "1\n",
            "2\n",
            "3\n",
            "4\n",
            "5\n",
            "Saya suka makan nanas\n",
            "Saya suka makan apel\n",
            "Saya suka makan jeruk\n"
          ]
        }
      ]
    },
    {
      "cell_type": "markdown",
      "source": [
        "###Nested Loop\n",
        "\n",
        "Bahasa pemrograman Python memungkinkan penggunaan satu lingkaran di dalam loop lain. Bagian berikut menunjukkan beberapa contoh untuk menggambarkan konsep tersebut."
      ],
      "metadata": {
        "id": "Owx4782z_XZB"
      }
    },
    {
      "cell_type": "code",
      "source": [
        "# outer loop\n",
        "for i in range(1, 11):\n",
        "    # nested loop\n",
        "    # to iterate from 1 to 10\n",
        "    for j in range(1, 11):\n",
        "        # print multiplication\n",
        "        print(i * j, end=' ')\n",
        "    print()"
      ],
      "metadata": {
        "colab": {
          "base_uri": "https://localhost:8080/"
        },
        "id": "q7yImJnh_SIr",
        "outputId": "002ee986-925b-4af8-a82e-9343ff6f868f"
      },
      "execution_count": null,
      "outputs": [
        {
          "output_type": "stream",
          "name": "stdout",
          "text": [
            "1 2 3 4 5 6 7 8 9 10 \n",
            "2 4 6 8 10 12 14 16 18 20 \n",
            "3 6 9 12 15 18 21 24 27 30 \n",
            "4 8 12 16 20 24 28 32 36 40 \n",
            "5 10 15 20 25 30 35 40 45 50 \n",
            "6 12 18 24 30 36 42 48 54 60 \n",
            "7 14 21 28 35 42 49 56 63 70 \n",
            "8 16 24 32 40 48 56 64 72 80 \n",
            "9 18 27 36 45 54 63 72 81 90 \n",
            "10 20 30 40 50 60 70 80 90 100 \n"
          ]
        }
      ]
    },
    {
      "cell_type": "markdown",
      "source": [
        "##Number Python\n",
        "\n",
        "Number adalah tipe data Python yang menyimpan nilai numerik. Number adalah tipe data yang tidak berubah. Ini berarti, mengubah nilai dari sejumlah tipe data akan menghasilkan objek yang baru dialokasikan.\n",
        "\n",
        "Objek Number dibuat saat Anda memberikan nilai pada-nya. Sebagai contoh : `angkaPertama = 1` `angkaKedua = 33`\n",
        "\n",
        "Python mendukung beberapa tipe data Number diantaranya :\n",
        "\n",
        "* Int\n",
        "* Float\n",
        "* Complex\n",
        "\n",
        "Berikut ini adalah beberapa contoh dari Tipe data Number pada Python :\n",
        "\n",
        "Int | Float | Complex\n",
        "--- | --- | ---\n",
        "20 | 0.1 | 3.14j\n",
        "300 | 1.20 | 35j\n",
        "-13 | -41.2 | 3.12e - 12j"
      ],
      "metadata": {
        "id": "21LPdcmsA-KM"
      }
    },
    {
      "cell_type": "markdown",
      "source": [
        "###Konversi Tipe Data Number Python\n",
        "\n",
        "Pada Python Anda bisa mengkonversi tipe data dengan menggunakan fungsi. Dibawah ini adalah beberapa fungsi untuk mengkonversi tipe data number Python.\n",
        "\n",
        "* `int(x)` untuk meng-konversi x menjadi plain integer.\n",
        "* `float(x)` untuk meng-konversi x menjadi floating point number.\n",
        "* `complex(x)` untuk meng-konversi x menjadi complex number dengna real part x dan imaginary part zero.\n",
        "* `complex(x, y)` untuk meng-konversi x dan y menjadi complex number dengan real part x dan imaginary part y. x dan numeric expressions y."
      ],
      "metadata": {
        "id": "WCehB9jpBgka"
      }
    },
    {
      "cell_type": "code",
      "source": [
        "a = '20'\n",
        "print(a, 'tipe data a sebelumnya =',type(a)) \n",
        "print(int(a), 'tipe data a =', type(int(a)))\n",
        "print(float(a), 'tipe data a =', type(float(a)))\n",
        "print(complex(a), 'tipe data a =', type(complex(a)))"
      ],
      "metadata": {
        "colab": {
          "base_uri": "https://localhost:8080/"
        },
        "id": "zWh306qUAXmM",
        "outputId": "9139b0e4-7670-4cad-e7f2-9b979441f1ae"
      },
      "execution_count": null,
      "outputs": [
        {
          "output_type": "stream",
          "name": "stdout",
          "text": [
            "20 tipe data a sebelumnya = <class 'str'>\n",
            "20 tipe data a = <class 'int'>\n",
            "20.0 tipe data a = <class 'float'>\n",
            "(20+0j) tipe data a = <class 'complex'>\n"
          ]
        }
      ]
    },
    {
      "cell_type": "markdown",
      "source": [
        "###Fungsi pada Number Python\n",
        "\n",
        "Nama | Penggunaan | Penjelasan\n",
        "--- | --- | ---\n",
        "Absolute | `abs(x)` | Nilai absolute dari x\n",
        "Max | `max(x1,x2..) atau max(list)` | Mendapatkan nilai tertinggi\n",
        "Min | `min(x1,x2..) atau min(list)` | Mendapatkan nilai terkecil"
      ],
      "metadata": {
        "id": "qTI39hvXfQSX"
      }
    },
    {
      "cell_type": "code",
      "source": [
        "a, b = 4, -8\n",
        "print('Nilai absolute dari',a,'adalah =',abs(a))\n",
        "print('Nilai absolute dari',b,'adalah =',abs(b))\n",
        "print()\n",
        "\n",
        "a, b, c = 5, 3, 9\n",
        "print('a =',a, 'b =',b, 'c =',c)\n",
        "print('Nilai Tertinggi dari ketiga variabel diatas adalah =',max(a,b,c))\n",
        "print('Nilai Tekecil dari ketiga variabel diatas adalah =',min(a,b,c))\n",
        "print()\n",
        "\n",
        "contoh = [2, 6, 10]\n",
        "print(contoh)\n",
        "print('Nilai Tertinggi dari ketiga list diatas adalah =',max(contoh))\n",
        "print('Nilai Tekecil dari ketiga list diatas adalah =',min(contoh))"
      ],
      "metadata": {
        "id": "DAdOqQoEcE2x",
        "colab": {
          "base_uri": "https://localhost:8080/"
        },
        "outputId": "508c93b9-cb50-4f21-9915-9b0b3016d8e7"
      },
      "execution_count": null,
      "outputs": [
        {
          "output_type": "stream",
          "name": "stdout",
          "text": [
            "Nilai absolute dari 4 adalah = 4\n",
            "Nilai absolute dari -8 adalah = 8\n",
            "\n",
            "a = 5 b = 3 c = 9\n",
            "Nilai Tertinggi dari ketiga variabel diatas adalah = 9\n",
            "Nilai Tekecil dari ketiga variabel diatas adalah = 3\n",
            "\n",
            "[2, 6, 10]\n",
            "Nilai Tertinggi dari ketiga list diatas adalah = 10\n",
            "Nilai Tekecil dari ketiga list diatas adalah = 2\n"
          ]
        }
      ]
    },
    {
      "cell_type": "markdown",
      "source": [
        "##String Python\n",
        "\n",
        "String adalah jenis yang paling populer di bahasa pemrograman. Kita bisa membuatnya hanya dengan melampirkan karakter dalam tanda kutip. Python memperlakukan tanda kutip tunggal sama dengan tanda kutip ganda. Membuat string semudah memberi nilai pada sebuah variabel.\n",
        "\n",
        "contoh : `print('Hello World')`"
      ],
      "metadata": {
        "id": "OJsSd_j0EZFK"
      }
    },
    {
      "cell_type": "code",
      "source": [
        "print('Hello World')"
      ],
      "metadata": {
        "colab": {
          "base_uri": "https://localhost:8080/"
        },
        "id": "sfjpNiJ9CxVp",
        "outputId": "d6f77890-7090-41a8-9d27-9a0649a61234"
      },
      "execution_count": null,
      "outputs": [
        {
          "output_type": "stream",
          "name": "stdout",
          "text": [
            "Hello World\n"
          ]
        }
      ]
    },
    {
      "cell_type": "markdown",
      "source": [
        "###Mengakses Nilai dalam String\n",
        "\n",
        "Python tidak menggunakan tipe karakter titik koma ; Ini diperlakukan sebagai string dengan panjang satu, sehingga juga dianggap sebagai substring.\n",
        "\n",
        "Untuk mengakses substring, gunakan tanda kurung siku untuk mengiris beserta indeks atau indeks untuk mendapatkan substring Anda."
      ],
      "metadata": {
        "id": "P1XRD6EYErdt"
      }
    },
    {
      "cell_type": "code",
      "source": [
        "name = 'Bagus Satya'\n",
        "message = \"Bagus Satya belajar bahasa python di Belajarpython\"\n",
        "print (\"name[0]: \", name[0])\n",
        "print (\"message[0:5]: \", message[0:5])"
      ],
      "metadata": {
        "id": "7t97IYKeEp-o",
        "colab": {
          "base_uri": "https://localhost:8080/"
        },
        "outputId": "6e6dbccd-a459-4d9b-ebca-10304a97f959"
      },
      "execution_count": null,
      "outputs": [
        {
          "output_type": "stream",
          "name": "stdout",
          "text": [
            "name[0]:  B\n",
            "message[0:5]:  Bagus\n"
          ]
        }
      ]
    },
    {
      "cell_type": "code",
      "source": [
        "for i in range(len(name)):\n",
        "  print(name[i], end=' ')\n",
        "\n",
        "print()\n",
        "\n",
        "for i in range(len(name)):\n",
        "  print(i, end=' ')"
      ],
      "metadata": {
        "colab": {
          "base_uri": "https://localhost:8080/"
        },
        "id": "39yR3k95Ezhe",
        "outputId": "592933a5-78c9-40da-8dcb-eec80108bb21"
      },
      "execution_count": null,
      "outputs": [
        {
          "output_type": "stream",
          "name": "stdout",
          "text": [
            "B a g u s   S a t y a \n",
            "0 1 2 3 4 5 6 7 8 9 10 "
          ]
        }
      ]
    },
    {
      "cell_type": "markdown",
      "source": [
        "###Mengupdate String\n",
        "\n",
        "Anda dapat “memperbarui” string yang ada dengan (kembali) menugaskan variabel ke string lain. Nilai baru dapat dikaitkan dengan nilai sebelumnya atau ke string yang sama sekali berbeda sama sekali."
      ],
      "metadata": {
        "id": "5u_PHKouFnGM"
      }
    },
    {
      "cell_type": "code",
      "source": [
        "message = 'Hello World'\n",
        "message_baru = message + ' Python'\n",
        "print('Sebelum Update =', message)\n",
        "print('Sesudah Update =', message_baru)"
      ],
      "metadata": {
        "id": "3wVe97aOFEE3",
        "colab": {
          "base_uri": "https://localhost:8080/"
        },
        "outputId": "e37e1763-53e9-4735-d4a6-e195681e255e"
      },
      "execution_count": null,
      "outputs": [
        {
          "output_type": "stream",
          "name": "stdout",
          "text": [
            "Sebelum Update = Hello World\n",
            "Sesudah Update = Hello World Python\n"
          ]
        }
      ]
    },
    {
      "cell_type": "code",
      "source": [
        "nama = 'Bagus Mas'\n",
        "print('sebelum =', nama)\n",
        "nama_lengkap = nama[:5] + ' Satya ' + nama[6:]\n",
        "#untuk bentuk [:x] itu artinya dari urutan awal hingga x\n",
        "#untuk bentuk [x:] itu artinya dari urutan ke-x hingga akhir\n",
        "print('sesudah =', nama_lengkap)"
      ],
      "metadata": {
        "id": "LvmVvkbxGDw1",
        "colab": {
          "base_uri": "https://localhost:8080/"
        },
        "outputId": "6eb652f1-30d6-41c3-b4d8-ddffb4b11663"
      },
      "execution_count": null,
      "outputs": [
        {
          "output_type": "stream",
          "name": "stdout",
          "text": [
            "sebelum = Bagus Mas\n",
            "sesudah = Bagus Satya Mas\n"
          ]
        }
      ]
    },
    {
      "cell_type": "markdown",
      "source": [
        "###Escape Character\n",
        "\n",
        "Dibawah ini adalah tabel dari daftar karakter escape atau karakter non-printable yang dapat diwakili/ditulis dengan awalan notasi backslash `\\`.\n",
        "\n",
        "Notasi | Penjelasan\n",
        "--- | ---\n",
        "`\\'` | Single Quote\n",
        "`\\\"` | Double Quote\n",
        "`\\\\` | Backslash\n",
        "`\\n` | New Line\n",
        "`\\r` | Carriage Return\n",
        "`\\t` | Tab\n",
        "`\\b` | Backspace"
      ],
      "metadata": {
        "id": "lmUVMjCytSxY"
      }
    },
    {
      "cell_type": "code",
      "source": [
        "#Contoh\n",
        "\n",
        "#Single Quote\n",
        "print('It\\'s alright')\n",
        "print()\n",
        "\n",
        "#Double Quote\n",
        "print(\"sama\\\"\")\n",
        "print()\n",
        "\n",
        "#New Line\n",
        "print(\"Hello\\nWorld!\")\n",
        "print()\n",
        "\n",
        "#Carriage Return\n",
        "print(\"Hello\\rWorld!\")\n",
        "print()\n",
        "\n",
        "#Tab\n",
        "print(\"Hello\\tWorld!\")\n",
        "print()\n",
        "\n",
        "#Backspace\n",
        "print(\"Hellol\\bWorld!\")\n",
        "print()"
      ],
      "metadata": {
        "id": "FLlo_iUTG_l8",
        "colab": {
          "base_uri": "https://localhost:8080/"
        },
        "outputId": "42290f56-3f5f-4255-d9c8-a2958b75c582"
      },
      "execution_count": null,
      "outputs": [
        {
          "output_type": "stream",
          "name": "stdout",
          "text": [
            "It's alright\n",
            "\n",
            "sama\"\n",
            "\n",
            "Hello\n",
            "World!\n",
            "\n",
            "Hello\rWorld!\n",
            "\n",
            "Hello\tWorld!\n",
            "\n",
            "Hellol\bWorld!\n",
            "\n"
          ]
        }
      ]
    },
    {
      "cell_type": "markdown",
      "source": [
        "###Operator Spesial String Python\n",
        "\n",
        "Asumsikan variabel string adalah ‘Belajar’ dan variabel b adalah ‘Python’, lalu dibawah ini adalah operator yang bisa dipakai pada kedua string di variabel tersebut. `a = \"Belajar\"` `b = \"Python\"`\n",
        "\n",
        "Berikut adalah daftar operator spesial string pada Python :\n",
        "\n",
        "Operator | Contoh | Penjelasan\n",
        "--- | --- | ---\n",
        "`+` | `a + b` | Menggabungkan dua variabel string a dan b\n",
        "`*` | `a * 2` | Menghasilkan variabel string a sebanyak 2 kali\n",
        "`[]` | `a[0]` | Menghasilkan huruf urutan ke 0 dari string di variabel a\n",
        "`[:]` | `a[0:4]` | Menghasilkan range susunan huruf dari urutan ke-0 hingga ke-3\n",
        "`in` | `b in a` | akan menghasilkan 1 Keanggotaan - Mengembalikan nilai true jika karakter ada dalam string yang diberikan\n",
        "`not in` | `b not in a` | akan menghasilkan 1 Keanggotaan - Mengembalikan nilai true jika karakter tidak ada dalam string yang diberikan\n"
      ],
      "metadata": {
        "id": "IeXvupB5vzA2"
      }
    },
    {
      "cell_type": "code",
      "source": [
        "#Contoh\n",
        "\n",
        "#+\n",
        "a = 'Belajar'\n",
        "b = 'Python'\n",
        "print(a+b)\n",
        "print()\n",
        "\n",
        "#*\n",
        "print(a*2)\n",
        "print(a*3)\n",
        "print()\n",
        "\n",
        "#[]\n",
        "print(a[0])\n",
        "print(a[1])\n",
        "print()\n",
        "\n",
        "#[:]\n",
        "print(a[0:3])\n",
        "print(a[3:7])\n",
        "print()\n",
        "\n",
        "#in\n",
        "print(a in b)\n",
        "print()\n",
        "\n",
        "#not in\n",
        "print(a not in b)\n",
        "print()"
      ],
      "metadata": {
        "id": "gDuSgpNIvIrX",
        "colab": {
          "base_uri": "https://localhost:8080/"
        },
        "outputId": "3924b7b3-be3a-4892-8f24-72b58a1b412f"
      },
      "execution_count": null,
      "outputs": [
        {
          "output_type": "stream",
          "name": "stdout",
          "text": [
            "BelajarPython\n",
            "\n",
            "BelajarBelajar\n",
            "BelajarBelajarBelajar\n",
            "\n",
            "B\n",
            "e\n",
            "\n",
            "Bel\n",
            "ajar\n",
            "\n",
            "False\n",
            "\n",
            "True\n",
            "\n"
          ]
        }
      ]
    },
    {
      "cell_type": "markdown",
      "source": [
        "###Triple Quote Python\n",
        "\n",
        "Python triple quotes digunakan dengan membiarkan string untuk ditulis dalam beberapa baris, termasuk kata kerja NEWLINEs, TABs, dan karakter khusus lainnya. Sintaks untuk triple quotes terdiri dari tiga tanda kutip tunggal atau ganda ditulis berturut-turut : Berikut adalah contohnya :"
      ],
      "metadata": {
        "id": "cRbTDukQxwof"
      }
    },
    {
      "cell_type": "code",
      "source": [
        "kutipantiga = \"\"\"this is a long string that is made up of\n",
        "several lines and non-printable characters such as\n",
        "TAB ( \\t ) and they will show up that way when displayed.\n",
        "NEWLINEs within the string, whether explicitly given like\n",
        "this within the brackets [ \\n ], or just a NEWLINE within\n",
        "the variable assignment will also show up.\n",
        "\"\"\"\n",
        "print(kutipantiga)"
      ],
      "metadata": {
        "id": "Oujn7POWxcQB",
        "colab": {
          "base_uri": "https://localhost:8080/"
        },
        "outputId": "e5141e94-0315-4565-b1ff-a0cb1267ec59"
      },
      "execution_count": null,
      "outputs": [
        {
          "output_type": "stream",
          "name": "stdout",
          "text": [
            "this is a long string that is made up of\n",
            "several lines and non-printable characters such as\n",
            "TAB ( \t ) and they will show up that way when displayed.\n",
            "NEWLINEs within the string, whether explicitly given like\n",
            "this within the brackets [ \n",
            " ], or just a NEWLINE within\n",
            "the variable assignment will also show up.\n",
            "\n"
          ]
        }
      ]
    },
    {
      "cell_type": "markdown",
      "source": [
        "###String Unicode Python\n",
        "\n",
        "Pada Python 3, semua string diwakili dalam Unicode. Sedangkan pada Python 2 disimpan secara internal sebagai 8-bit ASCII, maka diperlukanlampiran ‘u’ untuk membuatnya menjadi Unicode. Tetapi hal ini tidak lagi diperlukan sekarang. :\n",
        "\n",
        "Metode String Built-in\n",
        "\n",
        "Python menyertakan metode built-in berikut untuk memanipulasi string\n",
        "\n",
        "Metode | Penjelasan\n",
        "--- | ---\n",
        "`.capitalize()` | Meng-kapitalkan huruf pertama string\n",
        "`.isalnum()` | True jika string semua karakternya alfanumerik dan False sebaliknya\n",
        "`.isalpha()` | True jika string semua karakternya adalah abjad dan False sebaliknya\n",
        "`.isdigit()` | True jika string hanya berisi digit dan False sebaliknya\n",
        "`.islower()` | True jika string semua karakternya dalam huruf kecil dan False sebaliknya\n",
        "`.isnumeric()` | True jika string unicode hanya berisi karakter numerik\n",
        "`.isspace()` | True jika string hanya berisi karakter spasi\n",
        "`.isdecimal()` | True jika string hanya berisi karakter desimal\n",
        "`.istitle()` | True jika string benar \"titlecased\"\n",
        "`.isupper()` | True jika string semua karakternya dalam huruf besar\n",
        "`len(string)` | Menghasilkan panjang string\n",
        "`.lower()` | Mengubah semua huruf besar dalam string menjadi huruf kecil\n",
        "`.upper()` | Mengubah semua huruf kecil dalam string menjadi huruf besar\n",
        "`.title()` | Menghasilkan versi \"titlecased\" pada string\n",
        "`.swapcase()` | Kasus invers untuk semua huruf dalam string\n",
        "`.rstrip()` | Menghapus semua spasi spasi string"
      ],
      "metadata": {
        "id": "DYzskBlnx4ON"
      }
    },
    {
      "cell_type": "code",
      "source": [
        "#capitalize\n",
        "print('.capitalize()')\n",
        "a = 'pendahuluan'\n",
        "print(a, 'menjadi', a.capitalize())\n",
        "print()\n",
        "\n",
        "#isalnum\n",
        "print('.isalnum()')\n",
        "a = 'pendahuluan'\n",
        "print(a, 'bernilai', a.isalnum())\n",
        "a = 'bab 1'\n",
        "print(a, 'bernilai', a.isalnum())\n",
        "a = '123'\n",
        "print(a, 'bernilai', a.isalnum())\n",
        "print()\n",
        "\n",
        "#isalpha\n",
        "print('.isalpha()')\n",
        "a = 'pendahuluan'\n",
        "print(a, 'bernilai', a.isalpha())\n",
        "a = 'bab 1'\n",
        "print(a, 'bernilai', a.isalpha())\n",
        "a = '123'\n",
        "print(a, 'bernilai', a.isalpha())\n",
        "print()\n",
        "\n",
        "#islower\n",
        "print('.islower()')\n",
        "a = 'pendahuluan'\n",
        "print(a, 'bernilai', a.islower())\n",
        "a = 'Pendahuluan'\n",
        "print(a, 'bernilai', a.islower())\n",
        "a = 'PENDAHULUAN'\n",
        "print(a, 'bernilai', a.islower())\n",
        "print()\n",
        "\n",
        "#isupper\n",
        "print('.isupper()')\n",
        "a = 'pendahuluan'\n",
        "print(a, 'bernilai', a.isupper())\n",
        "a = 'Pendahuluan'\n",
        "print(a, 'bernilai', a.isupper())\n",
        "a = 'PENDAHULUAN'\n",
        "print(a, 'bernilai', a.isupper())\n",
        "print()\n",
        "\n",
        "#isnumeric\n",
        "print('.isnumeric()')\n",
        "a = 'pendahuluan'\n",
        "print(a, 'bernilai', a.isnumeric())\n",
        "a = 'bab 1'\n",
        "print(a, 'bernilai', a.isnumeric())\n",
        "a = '123'\n",
        "print(a, 'bernilai', a.isnumeric())\n",
        "print()\n",
        "\n",
        "#isspace\n",
        "print('.isspace()')\n",
        "a = 'pendahuluan'\n",
        "print(a, 'bernilai', a.isspace())\n",
        "a = 'bab 1'\n",
        "print(a, 'bernilai', a.isspace())\n",
        "a = ' '\n",
        "print(a, 'bernilai', a.isspace())\n",
        "print()\n",
        "\n",
        "#isdecimal\n",
        "print('.isdecimal')\n",
        "a = '12'\n",
        "print(a, 'bernilai', a.isdecimal())\n",
        "a = '3.14'\n",
        "print(a, 'bernilai', a.isdecimal())\n",
        "a = '12abab12'\n",
        "print(a, 'bernilai', a.isdecimal())\n",
        "print()\n",
        "\n",
        "#istitle\n",
        "print('.istitle()')\n",
        "a = 'pendahuluan'\n",
        "print(a, 'bernilai', a.istitle())\n",
        "a = 'Pendahuluan'\n",
        "print(a, 'bernilai', a.istitle())\n",
        "a = 'PENDAHULUAN'\n",
        "print(a, 'bernilai', a.istitle())\n",
        "a = 'bab pendahuluan'\n",
        "print(a, 'bernilai', a.istitle())\n",
        "a = 'Bab pendahuluan'\n",
        "print(a, 'bernilai', a.istitle())\n",
        "a = 'Bab Pendahuluan'\n",
        "print(a, 'bernilai', a.istitle())\n",
        "a = 'BAB PENDAHULUAN'\n",
        "print(a, 'bernilai', a.istitle())\n",
        "print()\n",
        "\n",
        "#len\n",
        "print('len()')\n",
        "a = 'pendahuluan'\n",
        "print(a, 'panjangnya', len(a))\n",
        "a = 'Soto'\n",
        "print(a, 'panjangnya', len(a))\n",
        "print()\n",
        "\n",
        "#lower\n",
        "print('.lower()')\n",
        "a = 'Pendahuluan'\n",
        "print(a, 'menjadi', a.lower())\n",
        "a = 'PENDAHULUAN'\n",
        "print(a, 'menjadi', a.lower())\n",
        "print()\n",
        "\n",
        "#upper\n",
        "print('.upper')\n",
        "a = 'Pendahuluan'\n",
        "print(a, 'menjadi', a.upper())\n",
        "a = 'pendahuluan'\n",
        "print(a, 'menjadi', a.upper())\n",
        "print()\n",
        "\n",
        "#title\n",
        "print('.title()')\n",
        "a = 'pendahuluan'\n",
        "print(a ,'menjadi', a.title())\n",
        "a = 'PENDAHULUAN'\n",
        "print(a ,'menjadi', a.title())\n",
        "a = 'bab pendahuluan'\n",
        "print(a ,'menjadi', a.title())\n",
        "a = 'BAB PENDAHULUAN'\n",
        "print(a ,'menjadi', a.title())\n",
        "print()\n",
        "\n",
        "#swapcase\n",
        "print('.swapcase')\n",
        "a = 'PENDAHULUAN'\n",
        "print(a, 'menjadi', a.swapcase())\n",
        "a = 'pendahuluan'\n",
        "print(a, 'menjadi', a.swapcase())\n",
        "a = 'PENDAhuluan'\n",
        "print(a, 'menjadi', a.swapcase())\n",
        "print()\n",
        "\n",
        "#rstrip\n",
        "print('.rstrip()')\n",
        "a = '     Bakso    '\n",
        "print(a, 'menjadi', a.rstrip() ,'ayam')"
      ],
      "metadata": {
        "id": "qAd-xBUPx04f",
        "colab": {
          "base_uri": "https://localhost:8080/"
        },
        "outputId": "e7013d24-6ad9-4f7b-9ecc-d14cf3a784f8"
      },
      "execution_count": null,
      "outputs": [
        {
          "output_type": "stream",
          "name": "stdout",
          "text": [
            ".capitalize()\n",
            "pendahuluan menjadi Pendahuluan\n",
            "\n",
            ".isalnum()\n",
            "pendahuluan bernilai True\n",
            "bab 1 bernilai False\n",
            "123 bernilai True\n",
            "\n",
            ".isalpha()\n",
            "pendahuluan bernilai True\n",
            "bab 1 bernilai False\n",
            "123 bernilai False\n",
            "\n",
            ".islower()\n",
            "pendahuluan bernilai True\n",
            "Pendahuluan bernilai False\n",
            "PENDAHULUAN bernilai False\n",
            "\n",
            ".isupper()\n",
            "pendahuluan bernilai False\n",
            "Pendahuluan bernilai False\n",
            "PENDAHULUAN bernilai True\n",
            "\n",
            ".isnumeric()\n",
            "pendahuluan bernilai False\n",
            "bab 1 bernilai False\n",
            "123 bernilai True\n",
            "\n",
            ".isspace()\n",
            "pendahuluan bernilai False\n",
            "bab 1 bernilai False\n",
            "  bernilai True\n",
            "\n",
            ".isdecimal\n",
            "12 bernilai True\n",
            "3.14 bernilai False\n",
            "12abab12 bernilai False\n",
            "\n",
            ".istitle()\n",
            "pendahuluan bernilai False\n",
            "Pendahuluan bernilai True\n",
            "PENDAHULUAN bernilai False\n",
            "bab pendahuluan bernilai False\n",
            "Bab pendahuluan bernilai False\n",
            "Bab Pendahuluan bernilai True\n",
            "BAB PENDAHULUAN bernilai False\n",
            "\n",
            "len()\n",
            "pendahuluan panjangnya 11\n",
            "Soto panjangnya 4\n",
            "\n",
            ".lower()\n",
            "Pendahuluan menjadi pendahuluan\n",
            "PENDAHULUAN menjadi pendahuluan\n",
            "\n",
            ".upper\n",
            "Pendahuluan menjadi PENDAHULUAN\n",
            "pendahuluan menjadi PENDAHULUAN\n",
            "\n",
            ".title()\n",
            "pendahuluan menjadi Pendahuluan\n",
            "PENDAHULUAN menjadi Pendahuluan\n",
            "bab pendahuluan menjadi Bab Pendahuluan\n",
            "BAB PENDAHULUAN menjadi Bab Pendahuluan\n",
            "\n",
            ".swapcase\n",
            "PENDAHULUAN menjadi pendahuluan\n",
            "pendahuluan menjadi PENDAHULUAN\n",
            "PENDAhuluan menjadi pendaHULUAN\n",
            "\n",
            ".rstrip()\n",
            "     Bakso     menjadi      Bakso ayam\n"
          ]
        }
      ]
    },
    {
      "cell_type": "markdown",
      "source": [
        "##List\n",
        "\n",
        "Dalam bahasa pemrograman Python, struktur data yang paling dasar adalah urutan atau lists. Setiap elemen-elemen berurutan akan diberi nomor posisi atau indeksnya. Indeks pertama dalam list adalah nol, indeks kedua adalah satu dan seterusnya.\n",
        "\n",
        "Python memiliki enam jenis urutan built-in, namun yang paling umum adalah list dan tuple. Ada beberapa hal yang dapat Anda lakukan dengan semua jenis list. Operasi ini meliputi pengindeksan, pengiris, penambahan, perbanyak, dan pengecekan keanggotaan. Selain itu, Python memiliki fungsi built-in untuk menemukan panjang list dan untuk menemukan elemen terbesar dan terkecilnya."
      ],
      "metadata": {
        "id": "admqkdkVLLmq"
      }
    },
    {
      "cell_type": "markdown",
      "source": [
        "###Membuat List\n",
        "\n",
        "List adalah tipe data yang paling serbaguna yang tersedia dalam bahasa Python, yang dapat ditulis sebagai daftar nilai yang dipisahkan koma (item) antara tanda kurung siku. Hal penting tentang daftar adalah item dalam list tidak boleh sama jenisnya.\n",
        "\n",
        "Membuat list sangat sederhana, tinggal memasukkan berbagai nilai yang dipisahkan koma di antara tanda kurung siku. Dibawah ini adalah contoh sederhana pembuatan list dalam bahasa Python."
      ],
      "metadata": {
        "id": "3UnW5NkBLRTu"
      }
    },
    {
      "cell_type": "code",
      "source": [
        "#Contoh sederhana pembuatan list pada bahasa pemrograman python\n",
        "list1 = ['kimia','fisika',1997,2012]\n",
        "list2 = [1, 2, 3, 4, 5 ]\n",
        "list3 = [\"a\", \"b\", \"c\", \"d\"]"
      ],
      "metadata": {
        "id": "Dad2PWUX52cd"
      },
      "execution_count": null,
      "outputs": []
    },
    {
      "cell_type": "code",
      "source": [
        "list1"
      ],
      "metadata": {
        "colab": {
          "base_uri": "https://localhost:8080/"
        },
        "id": "zrF7fnBnTuzP",
        "outputId": "c6620162-f1dd-47f9-a575-be4fbcf0abd3"
      },
      "execution_count": null,
      "outputs": [
        {
          "output_type": "execute_result",
          "data": {
            "text/plain": [
              "['kimia', 'fisika', 1997, 2012]"
            ]
          },
          "metadata": {},
          "execution_count": 41
        }
      ]
    },
    {
      "cell_type": "markdown",
      "source": [
        "###Akses Nilai Dalam List\n",
        "\n",
        "Untuk mengakses nilai dalam list python, gunakan tanda kurung siku untuk mengiris beserta indeks atau indeks untuk mendapatkan nilai yang tersedia pada indeks tersebut."
      ],
      "metadata": {
        "id": "cCqrm5g3LWPO"
      }
    },
    {
      "cell_type": "code",
      "source": [
        "#Cara mengakses nilai di dalam list Python\n",
        "\n",
        "list1 = ['fisika', 'kimia', 1993, 2017]\n",
        "list2 = [1, 2, 3, 4, 5, 6, 7 ]\n",
        "\n",
        "print(\"list1[0]: \", list1[0])\n",
        "print(\"list2[1:5]: \", list2[1:5])"
      ],
      "metadata": {
        "id": "3TYyZHYmLawK",
        "colab": {
          "base_uri": "https://localhost:8080/"
        },
        "outputId": "b8109744-d7b2-49d0-a10e-687df140b250"
      },
      "execution_count": null,
      "outputs": [
        {
          "output_type": "stream",
          "name": "stdout",
          "text": [
            "list1[0]:  fisika\n",
            "list2[1:5]:  [2, 3, 4, 5]\n"
          ]
        }
      ]
    },
    {
      "cell_type": "markdown",
      "source": [
        "###Update Nilai Dalam List Python\n",
        "\n",
        "Anda dapat memperbarui satu atau beberapa nilai di dalam list dengan memberikan potongan di sisi kiri operator penugasan, dan Anda dapat menambahkan nilai ke dalam list dengan metode `append()`"
      ],
      "metadata": {
        "id": "L2KlGjeYLeIh"
      }
    },
    {
      "cell_type": "code",
      "source": [
        "list1 = ['fisika', 'kimia', 1993, 2017]\n",
        "print(\"Sebelum =\",list1)\n",
        "print(\"Nilai ada pada index 2 : \", list1[2])\n",
        "\n",
        "list1[2] = 2001\n",
        "print(\"Sesudah =\",list1)\n",
        "print(\"Nilai baru ada pada index 2 : \", list1[2])\n",
        "\n",
        "list1 = ['fisika', 'kimia', 1993, 2017]\n",
        "print(\"Sebelum =\",list1)\n",
        "list1.append(2021)\n",
        "print(\"Sesudah =\",list1)"
      ],
      "metadata": {
        "id": "Je0gaYX6Lltg",
        "colab": {
          "base_uri": "https://localhost:8080/"
        },
        "outputId": "507dcdc3-76e5-4d33-d9d7-5533aad5f2fe"
      },
      "execution_count": null,
      "outputs": [
        {
          "output_type": "stream",
          "name": "stdout",
          "text": [
            "Sebelum = ['fisika', 'kimia', 1993, 2017]\n",
            "Nilai ada pada index 2 :  1993\n",
            "Sesudah = ['fisika', 'kimia', 2001, 2017]\n",
            "Nilai baru ada pada index 2 :  2001\n",
            "Sebelum = ['fisika', 'kimia', 1993, 2017]\n",
            "Sesudah = ['fisika', 'kimia', 1993, 2017, 2021]\n"
          ]
        }
      ]
    },
    {
      "cell_type": "markdown",
      "source": [
        "###Hapus Nilai Dalam List Python\n",
        "\n",
        "Untuk menghapus nilai di dalam list python, Anda dapat menggunakan salah satu pernyataan `del` jika Anda tahu persis elemen yang Anda hapus. Anda dapat menggunakan metode `remove()` jika Anda tidak tahu persis item mana yang akan dihapus."
      ],
      "metadata": {
        "id": "LhtmGOi7MCKd"
      }
    },
    {
      "cell_type": "code",
      "source": [
        "#Contoh cara menghapus nilai pada list python\n",
        "\n",
        "list1 = ['fisika', 'kimia', 1993, 2017]\n",
        "\n",
        "print(list1)\n",
        "del list1[2]\n",
        "print(\"Setelah dihapus nilai pada index 2 dengan del: \", list1)\n",
        "\n",
        "list1 = ['fisika', 'kimia', 1993, 2017]\n",
        "\n",
        "print(list1)\n",
        "list1.remove('fisika')\n",
        "print(\"Setelah dihapus nilai fisika dengan remove : \", list1)"
      ],
      "metadata": {
        "id": "eTMNQi8ZL6QC",
        "colab": {
          "base_uri": "https://localhost:8080/"
        },
        "outputId": "9ca15864-f98c-45be-dfd7-bca4f06db5c5"
      },
      "execution_count": null,
      "outputs": [
        {
          "output_type": "stream",
          "name": "stdout",
          "text": [
            "['fisika', 'kimia', 1993, 2017]\n",
            "Setelah dihapus nilai pada index 2 dengan del:  ['fisika', 'kimia', 2017]\n",
            "['fisika', 'kimia', 1993, 2017]\n",
            "Setelah dihapus nilai fisika dengan remove :  ['kimia', 1993, 2017]\n"
          ]
        }
      ]
    },
    {
      "cell_type": "markdown",
      "source": [
        "###Operasi Dasar Pada List Python\n",
        "\n",
        "List Python merespons operator + dan * seperti string; Itu artinya penggabungan dan pengulangan di sini juga berlaku, kecuali hasilnya adalah list baru, bukan sebuah String.\n",
        "\n",
        "Python Expression | Hasil | Penjelasan\n",
        "--- | --- | ---\n",
        "`len([1,2,3,4])` | `4` | Length\n",
        "`[1, 2, 3] + [4, 5, 6]` | `[1, 2, 3, 4, 5, 6]` | Concatenation\n",
        "`['Halo!'] * 4` | `['Halo!', 'Halo!', 'Halo!', 'Halo!']` | Repetition\n",
        "`2 in [1, 2, 3]` | `True` | Membership\n",
        "`for x in [1,2,3] : print (x,end = ' ')` | `1 2 3` | Iteration"
      ],
      "metadata": {
        "id": "rvqCZWbnM77a"
      }
    },
    {
      "cell_type": "code",
      "source": [
        "#contoh\n",
        "\n",
        "list1 = [1,2,3,4,5,6]\n",
        "print('Panjang dari',list1,'adalah',len(list1))\n",
        "\n",
        "list1 = [1,2]\n",
        "list2 = [3,4]\n",
        "print(list1,'+',list2,'=',list1+list2)\n",
        "\n",
        "print(list1*3)\n",
        "\n",
        "print(1 in list1)\n",
        "\n",
        "for x in list1:\n",
        "  print(x)"
      ],
      "metadata": {
        "id": "feDEue4sMeTm",
        "colab": {
          "base_uri": "https://localhost:8080/"
        },
        "outputId": "111fe110-9789-41c6-db27-b779df596390"
      },
      "execution_count": null,
      "outputs": [
        {
          "output_type": "stream",
          "name": "stdout",
          "text": [
            "Panjang dari [1, 2, 3, 4, 5, 6] adalah 6\n",
            "[1, 2] + [3, 4] = [1, 2, 3, 4]\n",
            "[1, 2, 1, 2, 1, 2]\n",
            "True\n",
            "1\n",
            "2\n"
          ]
        }
      ]
    },
    {
      "cell_type": "markdown",
      "source": [
        "###Indexing, Slicing dan Matrix Pada List Python\n",
        "\n",
        "Karena list adalah urutan, pengindeksan dan pengiris bekerja dengan cara yang sama untuk list seperti yang mereka lakukan untuk String.\n",
        "\n",
        "Python Expression | Hasil\n",
        "--- | ---\n",
        "`[0]` | Menampilkan data urutan paling pertama dalam List\n",
        "`[-1]` | Menampilkan data paling terakhir dalam List\n",
        "`[-2]` | Menampilkan data urutan 2 terakhir dalam List\n",
        "`[1:4]` | Menampilkan data dalam urutan"
      ],
      "metadata": {
        "id": "CsYShxLFOXeq"
      }
    },
    {
      "cell_type": "code",
      "source": [
        "#contoh\n",
        "\n",
        "L = ['Matlab','Python','R','SQL']\n",
        "\n",
        "print(L[0])\n",
        "print(L[-1])\n",
        "print(L[1:4])"
      ],
      "metadata": {
        "id": "wTwyx0aLNyJH",
        "colab": {
          "base_uri": "https://localhost:8080/"
        },
        "outputId": "6b7416e3-04fe-44ce-8476-0090be736ca6"
      },
      "execution_count": null,
      "outputs": [
        {
          "output_type": "stream",
          "name": "stdout",
          "text": [
            "Matlab\n",
            "SQL\n",
            "['Python', 'R', 'SQL']\n"
          ]
        }
      ]
    },
    {
      "cell_type": "markdown",
      "source": [
        "###Fungsi Built-in Pada List Python\n",
        "\n",
        "Function | Penjelasan\n",
        "--- | ---\n",
        "`len(list)` | Memberikan total panjang list\n",
        "`max(list)` | Menampilkan nilai atau item terbesar dari list\n",
        "`min(list)` | Menampilkan nilai atau item terkecil dari list\n",
        "`list(seq)` | Mengubah tuple seq menjadi list"
      ],
      "metadata": {
        "id": "CmCW2UQtQNbw"
      }
    },
    {
      "cell_type": "code",
      "source": [
        "list1 = [1,2,3,4,5,6]\n",
        "tuple1 = (1,2,3)\n",
        "list_tuple = list(tuple1)\n",
        "print('Panjang dari',list1,'adalah',len(list1))\n",
        "print('Nilai Max',list1,'adalah',max(list1))\n",
        "print('Nilai Min',list1,'adalah',min(list1))\n",
        "print('Sebelum konversi =',type(tuple1))\n",
        "print('Sesudah konversi =',type(list_tuple))"
      ],
      "metadata": {
        "id": "UP2kIefTPOqQ",
        "colab": {
          "base_uri": "https://localhost:8080/"
        },
        "outputId": "9d6e7b0d-73d0-459d-fe5f-ea4387b19ba3"
      },
      "execution_count": null,
      "outputs": [
        {
          "output_type": "stream",
          "name": "stdout",
          "text": [
            "Panjang dari [1, 2, 3, 4, 5, 6] adalah 6\n",
            "Nilai Max [1, 2, 3, 4, 5, 6] adalah 6\n",
            "Nilai Min [1, 2, 3, 4, 5, 6] adalah 1\n",
            "Sebelum konversi = <class 'tuple'>\n",
            "Sesudah konversi = <class 'list'>\n"
          ]
        }
      ]
    },
    {
      "cell_type": "markdown",
      "source": [
        "###Methods Built-in Pada List Python\n",
        "\n",
        "Methods | Penjelasan\n",
        "--- | ---\n",
        "`list.append(obj)` | Menambahkan `obj` ke list\n",
        "`list.count(obj)` | Menghitung berapa kali obj terdapat dalam list\n",
        "`list.extend(seq)` | Menambahkan isi seq ke list\n",
        "`list.index(obj)` | Mengembalikkan indeks/urutan terendah dalam list yang muncul obj\n",
        "`list.insert(index,obj)` | Sisipkan obj ke dalam list di urutan index\n",
        "`list.pop(list[2])` | Menghapus data urutan ke 2 dari list\n",
        "`list.remove(obj)` | Menghapus obj dari list\n",
        "`list.reverse()` | Membalik list ditempat\n",
        "`list.sort()` | Urutkan object list, gunakan reverse=True untuk descending"
      ],
      "metadata": {
        "id": "zcKE_3hVRUA0"
      }
    },
    {
      "cell_type": "code",
      "source": [
        "#contoh\n",
        "\n",
        "list1 = [1,2,3,4]\n",
        "print('awal =', list1)\n",
        "\n",
        "#append\n",
        "list1.append(4)\n",
        "print('setelah append(4) =',list1)\n",
        "\n",
        "#count\n",
        "print('total nilai 4 dalam list =',list1.count(4))\n",
        "\n",
        "#extend\n",
        "nomor = [2,4,6]\n",
        "print(list1,'akan diextend dengan',nomor)\n",
        "list1.extend(nomor)\n",
        "print('menjadi',list1)\n",
        "\n",
        "#index\n",
        "print('indeks data dengan nilai 2 dari',list1,'=',list1.index(2))\n",
        "\n",
        "#insert\n",
        "list1.insert(2,2)\n",
        "print('list1 ketika ditambahkan nilai 2 pada indeks 2 =',list1)\n",
        "\n",
        "#pop\n",
        "list1.pop(list1[2])\n",
        "print('list1 ketika ditambahkan nilai pada indeks 2 di pop =',list1)\n",
        "\n",
        "#remove\n",
        "list1.remove(4)\n",
        "print('list1 ketika nilai pada indeks 4 di remove =',list1)\n",
        "\n",
        "#reverse\n",
        "print('list1 awal =',list1)\n",
        "list1.reverse()\n",
        "print('list1 reverse =',list1)\n",
        "\n",
        "#sort\n",
        "list1.sort() #Default\n",
        "print('list1 ascending =',list1)\n",
        "list1.sort(reverse=True) \n",
        "print('list1 descending =',list1)"
      ],
      "metadata": {
        "id": "C1dJXA3mQ40B",
        "colab": {
          "base_uri": "https://localhost:8080/"
        },
        "outputId": "3c99bdcc-37ba-4eae-a34f-49aedc79d30e"
      },
      "execution_count": null,
      "outputs": [
        {
          "output_type": "stream",
          "name": "stdout",
          "text": [
            "awal = [1, 2, 3, 4]\n",
            "setelah append(4) = [1, 2, 3, 4, 4]\n",
            "total nilai 4 dalam list = 2\n",
            "[1, 2, 3, 4, 4] akan diextend dengan [2, 4, 6]\n",
            "menjadi [1, 2, 3, 4, 4, 2, 4, 6]\n",
            "indeks data dengan nilai 2 dari [1, 2, 3, 4, 4, 2, 4, 6] = 1\n",
            "list1 ketika ditambahkan nilai 2 pada indeks 2 = [1, 2, 2, 3, 4, 4, 2, 4, 6]\n",
            "list1 ketika ditambahkan nilai pada indeks 2 di pop = [1, 2, 3, 4, 4, 2, 4, 6]\n",
            "list1 ketika nilai pada indeks 4 di remove = [1, 2, 3, 4, 2, 4, 6]\n",
            "list1 awal = [1, 2, 3, 4, 2, 4, 6]\n",
            "list1 reverse = [6, 4, 2, 4, 3, 2, 1]\n",
            "list1 ascending = [1, 2, 2, 3, 4, 4, 6]\n",
            "list1 descending = [6, 4, 4, 3, 2, 2, 1]\n"
          ]
        }
      ]
    },
    {
      "cell_type": "markdown",
      "source": [
        "##Tuple\n",
        "\n",
        "Sebuah tupel adalah urutan objek Python yang tidak berubah. Tupel adalah urutan, seperti daftar. Perbedaan utama antara tupel dan daftarnya adalah bahwa tupel tidak dapat diubah tidak seperti List Python. Tupel menggunakan tanda kurung, sedangkan List Python menggunakan tanda kurung siku.\n",
        "\n",
        "Membuat tuple semudah memasukkan nilai-nilai yang dipisahkan koma. Secara opsional, Anda dapat memasukkan nilai-nilai yang dipisahkan koma ini di antara tanda kurung juga."
      ],
      "metadata": {
        "id": "d8Ar0jHvVcIT"
      }
    },
    {
      "cell_type": "code",
      "source": [
        "#Contoh sederhana pembuatan tuple pada bahasa pemrograman python\n",
        "\n",
        "tup1 = ('fisika', 'kimia', 1993, 2017)\n",
        "tup2 = (1, 2, 3, 4, 5 )\n",
        "tup3 = \"a\", \"b\", \"c\", \"d\""
      ],
      "metadata": {
        "id": "nMhJR0G0S1vQ"
      },
      "execution_count": null,
      "outputs": []
    },
    {
      "cell_type": "markdown",
      "source": [
        "Tupel kosong ditulis sebagai dua tanda kurung yang tidak berisi apa-apa, contohnya : `tup1 = ()` Untuk menulis tupel yang berisi satu nilai, Anda harus memasukkan koma, meskipun hanya ada satu nilai, contohnya : `tup1 = (50,)` Seperti indeks `String`, indeks `tuple` mulai dari 0, dan mereka dapat diiris, digabungkan, dan seterusnya"
      ],
      "metadata": {
        "id": "8ol8HgnCVksO"
      }
    },
    {
      "cell_type": "markdown",
      "source": [
        "###Akses Nilai Dalam Tuple\n",
        "\n",
        "Untuk mengakses nilai dalam tupel, gunakan tanda kurung siku untuk mengiris beserta indeks atau indeks untuk mendapatkan nilai yang tersedia pada indeks tersebut"
      ],
      "metadata": {
        "id": "IBqoiTZVVuza"
      }
    },
    {
      "cell_type": "code",
      "source": [
        "#Cara mengakses nilai tuple\n",
        "\n",
        "tup1 = ('fisika', 'kimia', 1993, 2017)\n",
        "tup2 = (1, 2, 3, 4, 5, 6, 7 )\n",
        "\n",
        "print (\"tup1[0]: \", tup1[0])\n",
        "print (\"tup2[1:5]: \", tup2[1:5])"
      ],
      "metadata": {
        "id": "nnc7IuJNVyk3",
        "colab": {
          "base_uri": "https://localhost:8080/"
        },
        "outputId": "969e6125-3a34-4b48-83d3-d2af9836f110"
      },
      "execution_count": null,
      "outputs": [
        {
          "output_type": "stream",
          "name": "stdout",
          "text": [
            "tup1[0]:  fisika\n",
            "tup2[1:5]:  (2, 3, 4, 5)\n"
          ]
        }
      ]
    },
    {
      "cell_type": "markdown",
      "source": [
        "###Operasi Dasar Pada Tuple Python\n",
        "\n",
        "Tupel merespons operator + dan * sama seperti String; Mereka berarti penggabungan dan pengulangan di sini juga berlaku, kecuali hasilnya adalah tupel baru, bukan string.\n",
        "\n",
        "Python Expression | Hasil | Penjelasan\n",
        "--- | --- | ---\n",
        "`len((1,2,3,4))` | `4` | Length\n",
        "`(1, 2, 3) + (4, 5, 6)` | `(1, 2, 3, 4, 5, 6)` | Concatenation\n",
        "`('Halo!') * 4` | `('Halo!', 'Halo!', 'Halo!', 'Halo!')` | Repetition\n",
        "`2 in (1, 2, 3)` | `True` | Membership\n",
        "`for x in (1,2,3) : print (x,end = ' ')` | `1 2 3` | Iteration"
      ],
      "metadata": {
        "id": "ZUgWL4SPV413"
      }
    },
    {
      "cell_type": "code",
      "source": [
        "#contoh\n",
        "\n",
        "tuple1 = (1,2,3,4,5,6)\n",
        "print('Panjang dari',tuple1,'adalah',len(tuple1))\n",
        "\n",
        "tuple1 = (1,2)\n",
        "tuple2 = (3,4)\n",
        "print(tuple1,'+',tuple2,'=',tuple1+tuple2)\n",
        "\n",
        "print(tuple1*3)\n",
        "\n",
        "print(1 in tuple1)\n",
        "\n",
        "for x in tuple1:\n",
        "  print(x)"
      ],
      "metadata": {
        "id": "e6rrY0x5Vz42",
        "colab": {
          "base_uri": "https://localhost:8080/"
        },
        "outputId": "fe03e522-94f6-4a76-d962-6f09ee11025d"
      },
      "execution_count": null,
      "outputs": [
        {
          "output_type": "stream",
          "name": "stdout",
          "text": [
            "Panjang dari (1, 2, 3, 4, 5, 6) adalah 6\n",
            "(1, 2) + (3, 4) = (1, 2, 3, 4)\n",
            "(1, 2, 1, 2, 1, 2)\n",
            "True\n",
            "1\n",
            "2\n"
          ]
        }
      ]
    },
    {
      "cell_type": "markdown",
      "source": [
        "###Indexing, Slicing dan Matrix Pada Tuple Python\n",
        "\n",
        "Karena tupel adalah urutan, pengindeksan dan pengiris bekerja dengan cara yang sama untuk tupel seperti pada String.\n",
        "\n",
        "Python Expression | Hasil\n",
        "--- | ---\n",
        "`[0]` | Menampilkan data urutan paling pertama dalam Tuple\n",
        "`[-1]` | Menampilkan data paling terakhir dalam Tuple\n",
        "`[-2]` | Menampilkan data urutan 2 terakhir dalam Tuple\n",
        "`[1:4]` | Menampilkan data dalam urutan"
      ],
      "metadata": {
        "id": "Dx7lxk4kWiSs"
      }
    },
    {
      "cell_type": "code",
      "source": [
        "#contoh\n",
        "\n",
        "L = ('Matlab','Python','R','SQL')\n",
        "\n",
        "print(L[0])\n",
        "print(L[-1])\n",
        "print(L[1:4])"
      ],
      "metadata": {
        "id": "tG7e-3ZXWmTv"
      },
      "execution_count": null,
      "outputs": []
    },
    {
      "cell_type": "markdown",
      "source": [
        "###Fungsi Built-in Pada Tuple Python\n",
        "\n",
        "Function | Penjelasan\n",
        "--- | ---\n",
        "`len(tuple)` | Memberikan total panjang Tuple\n",
        "`max(tuple)` | Menampilkan nilai atau item terbesar dari Tuple\n",
        "`min(tuple)` | Menampilkan nilai atau item terkecil dari Tuple\n",
        "`tuple(seq)` | Mengubah seq menjadi tuple"
      ],
      "metadata": {
        "id": "0hQbQon0Wi4s"
      }
    },
    {
      "cell_type": "code",
      "source": [
        "tuple1 = (1,2,3,4,5,6)\n",
        "list1 = [1,2,3]\n",
        "tuple_list = tuple(list1)\n",
        "print('Panjang dari',tuple1,'adalah',len(tuple1))\n",
        "print('Nilai Max',tuple1,'adalah',max(tuple1))\n",
        "print('Nilai Min',tuple1,'adalah',min(tuple1))\n",
        "print('Sebelum konversi =',type(list1))\n",
        "print('Sesudah konversi =',type(tuple_list))"
      ],
      "metadata": {
        "id": "Sjbzzx8HWclT"
      },
      "execution_count": null,
      "outputs": []
    },
    {
      "cell_type": "markdown",
      "source": [
        "##Dictionary\n",
        "\n",
        "Dictionary Python berbeda dengan List ataupun Tuple. Karena setiap urutanya berisi key dan value. Setiap key dipisahkan dari value-nya oleh titik dua (:), item dipisahkan oleh koma, dan semuanya tertutup dalam kurung kurawal. Dictionary kosong tanpa barang ditulis hanya dengan dua kurung kurawal, seperti ini: {}.\n",
        "\n",
        "Nilai kamus bisa berupa tipe apa pun, namun key harus berupa tipe data yang tidak berubah seperti string, angka, atau tupel."
      ],
      "metadata": {
        "id": "0ozKZz9wbzww"
      }
    },
    {
      "cell_type": "markdown",
      "source": [
        "###Akses Nilai Dalam Dictionary Python\n",
        "\n",
        "Untuk mengakses elemen Dictionary, Anda dapat menggunakan tanda kurung siku yang sudah dikenal bersama dengan key untuk mendapatkan nilainya."
      ],
      "metadata": {
        "id": "RCwMdQsqb8kz"
      }
    },
    {
      "cell_type": "code",
      "source": [
        "#Contoh cara membuat Dictionary pada Python\n",
        "\n",
        "dict = {'Name': 'Zara', 'Age': 7, 'Class': 'First'}\n",
        "print(\"dict['Name']: \", dict['Name'])\n",
        "print(\"dict['Age']: \", dict['Age'])"
      ],
      "metadata": {
        "id": "H0hAF7qsXUgS",
        "colab": {
          "base_uri": "https://localhost:8080/"
        },
        "outputId": "22b4b452-bdb7-4746-d4e1-6b675806841f"
      },
      "execution_count": null,
      "outputs": [
        {
          "output_type": "stream",
          "name": "stdout",
          "text": [
            "dict['Name']:  Zara\n",
            "dict['Age']:  7\n"
          ]
        }
      ]
    },
    {
      "cell_type": "markdown",
      "source": [
        "###Update Nilai Dalam Dictionary\n",
        "\n",
        "Anda dapat memperbarui Dictionary dengan menambahkan entri baru atau pasangan nilai kunci, memodifikasi entri yang ada, atau menghapus entri yang ada seperti ditunjukkan pada contoh sederhana yang diberikan di bawah ini."
      ],
      "metadata": {
        "id": "BUSBBfcucGnN"
      }
    },
    {
      "cell_type": "code",
      "source": [
        "#Update dictionary python\n",
        "\n",
        "dict = {'Name': 'Zara', 'Age': 7, 'Class': 'First'}\n",
        "dict['Age'] = 8; # Mengubah entri yang sudah ada\n",
        "dict['School'] = \"DPS School\" # Menambah entri baru\n",
        "\n",
        "print(\"dict['Age']: \", dict['Age'])\n",
        "print(\"dict['School']: \", dict['School'])"
      ],
      "metadata": {
        "id": "kTxl--4ScCII",
        "colab": {
          "base_uri": "https://localhost:8080/"
        },
        "outputId": "adf474e0-2982-4fff-9f0f-18e3441ed140"
      },
      "execution_count": null,
      "outputs": [
        {
          "output_type": "stream",
          "name": "stdout",
          "text": [
            "dict['Age']:  8\n",
            "dict['School']:  DPS School\n"
          ]
        }
      ]
    },
    {
      "cell_type": "markdown",
      "source": [
        "###Hapus Elemen Dictionary Python\n",
        "\n",
        "Anda dapat menghapus elemen Dictionary individual atau menghapus keseluruhan isi Dictionary. Anda juga dapat menghapus seluruh Dictionary dalam satu operasi.\n",
        "\n",
        "Untuk menghapus seluruh Dictionary secara eksplisit, cukup gunakan del statement. Berikut adalah contoh sederhana :"
      ],
      "metadata": {
        "id": "o_-JxGbucQNI"
      }
    },
    {
      "cell_type": "code",
      "source": [
        "#Contoh cara menghapus pada Dictionary Python\n",
        "\n",
        "dict = {'Name': 'Zara', 'Age': 7, 'Class': 'First'}\n",
        "print(\"dict['Age']: \", dict['Age'])\n",
        "\n",
        "del dict['Name'] # hapus entri dengan key 'Name'\n",
        "dict.clear()     # hapus semua entri di dict\n",
        "del dict         # hapus dictionary yang sudah ada\n",
        "\n",
        "print(\"dict['School']: \", dict['School'])"
      ],
      "metadata": {
        "colab": {
          "base_uri": "https://localhost:8080/",
          "height": 225
        },
        "id": "tZO_pDsncSz7",
        "outputId": "1aab0405-8c86-4807-eaa2-26ef0a16f076"
      },
      "execution_count": null,
      "outputs": [
        {
          "output_type": "stream",
          "name": "stdout",
          "text": [
            "dict['Age']:  7\n"
          ]
        },
        {
          "output_type": "error",
          "ename": "TypeError",
          "evalue": "ignored",
          "traceback": [
            "\u001b[0;31m---------------------------------------------------------------------------\u001b[0m",
            "\u001b[0;31mTypeError\u001b[0m                                 Traceback (most recent call last)",
            "\u001b[0;32m<ipython-input-54-ed5218f73f13>\u001b[0m in \u001b[0;36m<module>\u001b[0;34m()\u001b[0m\n\u001b[1;32m      8\u001b[0m \u001b[0;32mdel\u001b[0m \u001b[0mdict\u001b[0m         \u001b[0;31m# hapus dictionary yang sudah ada\u001b[0m\u001b[0;34m\u001b[0m\u001b[0;34m\u001b[0m\u001b[0m\n\u001b[1;32m      9\u001b[0m \u001b[0;34m\u001b[0m\u001b[0m\n\u001b[0;32m---> 10\u001b[0;31m \u001b[0mprint\u001b[0m\u001b[0;34m(\u001b[0m\u001b[0;34m\"dict['School']: \"\u001b[0m\u001b[0;34m,\u001b[0m \u001b[0mdict\u001b[0m\u001b[0;34m[\u001b[0m\u001b[0;34m'School'\u001b[0m\u001b[0;34m]\u001b[0m\u001b[0;34m)\u001b[0m\u001b[0;34m\u001b[0m\u001b[0;34m\u001b[0m\u001b[0m\n\u001b[0m",
            "\u001b[0;31mTypeError\u001b[0m: 'type' object is not subscriptable"
          ]
        }
      ]
    },
    {
      "cell_type": "markdown",
      "source": [
        "##Function\n",
        "\n",
        "Fungsi adalah blok kode terorganisir dan dapat digunakan kembali yang digunakan untuk melakukan sebuah tindakan/action. Fungsi memberikan modularitas yang lebih baik untuk aplikasi Anda dan tingkat penggunaan kode yang tinggi."
      ],
      "metadata": {
        "id": "AusbvK9RcjmP"
      }
    },
    {
      "cell_type": "markdown",
      "source": [
        "###Mendefinisikan Fungsi Python\n",
        "\n",
        "Anda dapat menentukan fungsi untuk menyediakan fungsionalitas yang dibutuhkan. Berikut adalah aturan sederhana untuk mendefinisikan fungsi dengan Python.\n",
        "\n",
        "* Fungsi blok dimulai dengan def kata kunci diikuti oleh nama fungsi dan tanda kurung (()).\n",
        "* Setiap parameter masukan atau argumen harus ditempatkan di dalam tanda kurung ini. Anda juga dapat menentukan parameter di dalam tanda kurung ini.\n",
        "* Pernyataan pertama dari sebuah fungsi dapat berupa pernyataan opsional - string dokumentasi fungsi atau docstring.\n",
        "* Blok kode dalam setiap fungsi dimulai dengan titik dua (:) dan indentasi.\n",
        "* Pernyataan kembali [ekspresi] keluar dari sebuah fungsi, secara opsional menyampaikan kembali ekspresi ke pemanggil. Pernyataan pengembalian tanpa argumen sama dengan return None."
      ],
      "metadata": {
        "id": "rQeYCUT4csZv"
      }
    },
    {
      "cell_type": "code",
      "source": [
        "def tambah(a, b):\n",
        "  c = a+b\n",
        "  return c"
      ],
      "metadata": {
        "id": "A63ULsl9ck7N"
      },
      "execution_count": null,
      "outputs": []
    },
    {
      "cell_type": "code",
      "source": [
        "tambah(5,10)"
      ],
      "metadata": {
        "id": "ynLu83VXdBF8",
        "colab": {
          "base_uri": "https://localhost:8080/"
        },
        "outputId": "bc265817-5e00-497b-f73c-7ff86b07b89a"
      },
      "execution_count": null,
      "outputs": [
        {
          "output_type": "execute_result",
          "data": {
            "text/plain": [
              "15"
            ]
          },
          "metadata": {},
          "execution_count": 61
        }
      ]
    },
    {
      "cell_type": "code",
      "source": [
        "def segitiga(a,t):\n",
        "  luas = (a*t)/2\n",
        "  return luas"
      ],
      "metadata": {
        "id": "Pm9EekoIZO0O"
      },
      "execution_count": null,
      "outputs": []
    },
    {
      "cell_type": "code",
      "source": [
        "segitiga(5,6)"
      ],
      "metadata": {
        "colab": {
          "base_uri": "https://localhost:8080/"
        },
        "id": "vv11WIBlvSvO",
        "outputId": "9e90d644-0ee1-43bd-d7aa-33132dfcdcd2"
      },
      "execution_count": null,
      "outputs": [
        {
          "output_type": "execute_result",
          "data": {
            "text/plain": [
              "15.0"
            ]
          },
          "metadata": {},
          "execution_count": 73
        }
      ]
    },
    {
      "cell_type": "code",
      "source": [
        "def lingkaran(r):\n",
        "  phi = 3.14\n",
        "  luas = phi * r**2\n",
        "  return luas"
      ],
      "metadata": {
        "id": "DCI3clTPvjoe"
      },
      "execution_count": null,
      "outputs": []
    },
    {
      "cell_type": "code",
      "source": [
        "lingkaran(10)"
      ],
      "metadata": {
        "colab": {
          "base_uri": "https://localhost:8080/"
        },
        "id": "fzAL_GOpvrwE",
        "outputId": "8bc50248-f9d4-4612-c7b7-6fff6816e466"
      },
      "execution_count": null,
      "outputs": [
        {
          "output_type": "execute_result",
          "data": {
            "text/plain": [
              "314.0"
            ]
          },
          "metadata": {},
          "execution_count": 76
        }
      ]
    },
    {
      "cell_type": "code",
      "source": [
        "alas = [2,4,6,9,10]\n",
        "tinggi = [8,10,10,15,20]\n",
        "\n",
        "for x, y in zip(alas,tinggi):\n",
        "  luas = segitiga(x,y)\n",
        "  print(luas)"
      ],
      "metadata": {
        "colab": {
          "base_uri": "https://localhost:8080/"
        },
        "id": "TUmgQLNQZUw8",
        "outputId": "4753a4ef-3310-4751-9f2d-d54508db47fb"
      },
      "execution_count": null,
      "outputs": [
        {
          "output_type": "stream",
          "name": "stdout",
          "text": [
            "8.0\n",
            "20.0\n",
            "30.0\n",
            "67.5\n",
            "100.0\n"
          ]
        }
      ]
    },
    {
      "cell_type": "code",
      "source": [
        "segitiga(1,5)"
      ],
      "metadata": {
        "colab": {
          "base_uri": "https://localhost:8080/"
        },
        "id": "Qe1Ut5HeaA4O",
        "outputId": "124034fb-01ce-4816-d24d-6960bff2dd38"
      },
      "execution_count": null,
      "outputs": [
        {
          "output_type": "execute_result",
          "data": {
            "text/plain": [
              "2.5"
            ]
          },
          "metadata": {},
          "execution_count": 65
        }
      ]
    },
    {
      "cell_type": "markdown",
      "source": [
        "##Modul Python"
      ],
      "metadata": {
        "id": "HTr77Y7kdE59"
      }
    },
    {
      "cell_type": "code",
      "source": [
        "import pandas"
      ],
      "metadata": {
        "id": "7-Z9GgFDdCci"
      },
      "execution_count": null,
      "outputs": []
    },
    {
      "cell_type": "code",
      "source": [
        "df = pandas.DataFrame({'col1': [1, 2], 'col2': [3, 4]})\n",
        "df"
      ],
      "metadata": {
        "id": "PlZ8Q2ZmdNHX",
        "colab": {
          "base_uri": "https://localhost:8080/",
          "height": 112
        },
        "outputId": "43f5e125-07c3-4b27-fddf-519b5829d98a"
      },
      "execution_count": null,
      "outputs": [
        {
          "output_type": "execute_result",
          "data": {
            "text/html": [
              "\n",
              "  <div id=\"df-5c072db2-90f0-4e73-9548-f0857fde9a10\">\n",
              "    <div class=\"colab-df-container\">\n",
              "      <div>\n",
              "<style scoped>\n",
              "    .dataframe tbody tr th:only-of-type {\n",
              "        vertical-align: middle;\n",
              "    }\n",
              "\n",
              "    .dataframe tbody tr th {\n",
              "        vertical-align: top;\n",
              "    }\n",
              "\n",
              "    .dataframe thead th {\n",
              "        text-align: right;\n",
              "    }\n",
              "</style>\n",
              "<table border=\"1\" class=\"dataframe\">\n",
              "  <thead>\n",
              "    <tr style=\"text-align: right;\">\n",
              "      <th></th>\n",
              "      <th>col1</th>\n",
              "      <th>col2</th>\n",
              "    </tr>\n",
              "  </thead>\n",
              "  <tbody>\n",
              "    <tr>\n",
              "      <th>0</th>\n",
              "      <td>1</td>\n",
              "      <td>3</td>\n",
              "    </tr>\n",
              "    <tr>\n",
              "      <th>1</th>\n",
              "      <td>2</td>\n",
              "      <td>4</td>\n",
              "    </tr>\n",
              "  </tbody>\n",
              "</table>\n",
              "</div>\n",
              "      <button class=\"colab-df-convert\" onclick=\"convertToInteractive('df-5c072db2-90f0-4e73-9548-f0857fde9a10')\"\n",
              "              title=\"Convert this dataframe to an interactive table.\"\n",
              "              style=\"display:none;\">\n",
              "        \n",
              "  <svg xmlns=\"http://www.w3.org/2000/svg\" height=\"24px\"viewBox=\"0 0 24 24\"\n",
              "       width=\"24px\">\n",
              "    <path d=\"M0 0h24v24H0V0z\" fill=\"none\"/>\n",
              "    <path d=\"M18.56 5.44l.94 2.06.94-2.06 2.06-.94-2.06-.94-.94-2.06-.94 2.06-2.06.94zm-11 1L8.5 8.5l.94-2.06 2.06-.94-2.06-.94L8.5 2.5l-.94 2.06-2.06.94zm10 10l.94 2.06.94-2.06 2.06-.94-2.06-.94-.94-2.06-.94 2.06-2.06.94z\"/><path d=\"M17.41 7.96l-1.37-1.37c-.4-.4-.92-.59-1.43-.59-.52 0-1.04.2-1.43.59L10.3 9.45l-7.72 7.72c-.78.78-.78 2.05 0 2.83L4 21.41c.39.39.9.59 1.41.59.51 0 1.02-.2 1.41-.59l7.78-7.78 2.81-2.81c.8-.78.8-2.07 0-2.86zM5.41 20L4 18.59l7.72-7.72 1.47 1.35L5.41 20z\"/>\n",
              "  </svg>\n",
              "      </button>\n",
              "      \n",
              "  <style>\n",
              "    .colab-df-container {\n",
              "      display:flex;\n",
              "      flex-wrap:wrap;\n",
              "      gap: 12px;\n",
              "    }\n",
              "\n",
              "    .colab-df-convert {\n",
              "      background-color: #E8F0FE;\n",
              "      border: none;\n",
              "      border-radius: 50%;\n",
              "      cursor: pointer;\n",
              "      display: none;\n",
              "      fill: #1967D2;\n",
              "      height: 32px;\n",
              "      padding: 0 0 0 0;\n",
              "      width: 32px;\n",
              "    }\n",
              "\n",
              "    .colab-df-convert:hover {\n",
              "      background-color: #E2EBFA;\n",
              "      box-shadow: 0px 1px 2px rgba(60, 64, 67, 0.3), 0px 1px 3px 1px rgba(60, 64, 67, 0.15);\n",
              "      fill: #174EA6;\n",
              "    }\n",
              "\n",
              "    [theme=dark] .colab-df-convert {\n",
              "      background-color: #3B4455;\n",
              "      fill: #D2E3FC;\n",
              "    }\n",
              "\n",
              "    [theme=dark] .colab-df-convert:hover {\n",
              "      background-color: #434B5C;\n",
              "      box-shadow: 0px 1px 3px 1px rgba(0, 0, 0, 0.15);\n",
              "      filter: drop-shadow(0px 1px 2px rgba(0, 0, 0, 0.3));\n",
              "      fill: #FFFFFF;\n",
              "    }\n",
              "  </style>\n",
              "\n",
              "      <script>\n",
              "        const buttonEl =\n",
              "          document.querySelector('#df-5c072db2-90f0-4e73-9548-f0857fde9a10 button.colab-df-convert');\n",
              "        buttonEl.style.display =\n",
              "          google.colab.kernel.accessAllowed ? 'block' : 'none';\n",
              "\n",
              "        async function convertToInteractive(key) {\n",
              "          const element = document.querySelector('#df-5c072db2-90f0-4e73-9548-f0857fde9a10');\n",
              "          const dataTable =\n",
              "            await google.colab.kernel.invokeFunction('convertToInteractive',\n",
              "                                                     [key], {});\n",
              "          if (!dataTable) return;\n",
              "\n",
              "          const docLinkHtml = 'Like what you see? Visit the ' +\n",
              "            '<a target=\"_blank\" href=https://colab.research.google.com/notebooks/data_table.ipynb>data table notebook</a>'\n",
              "            + ' to learn more about interactive tables.';\n",
              "          element.innerHTML = '';\n",
              "          dataTable['output_type'] = 'display_data';\n",
              "          await google.colab.output.renderOutput(dataTable, element);\n",
              "          const docLink = document.createElement('div');\n",
              "          docLink.innerHTML = docLinkHtml;\n",
              "          element.appendChild(docLink);\n",
              "        }\n",
              "      </script>\n",
              "    </div>\n",
              "  </div>\n",
              "  "
            ],
            "text/plain": [
              "   col1  col2\n",
              "0     1     3\n",
              "1     2     4"
            ]
          },
          "metadata": {},
          "execution_count": 67
        }
      ]
    },
    {
      "cell_type": "code",
      "source": [
        "import pandas as pd"
      ],
      "metadata": {
        "id": "EJ2AXFjOdRCA"
      },
      "execution_count": null,
      "outputs": []
    },
    {
      "cell_type": "code",
      "source": [
        "df = pd.DataFrame({'col1': [1, 2], 'col2': [3, 4]})\n",
        "df"
      ],
      "metadata": {
        "id": "6V9mOj_OdpIA",
        "colab": {
          "base_uri": "https://localhost:8080/",
          "height": 112
        },
        "outputId": "178fb990-b088-4cde-96eb-22a8ae87bbe8"
      },
      "execution_count": null,
      "outputs": [
        {
          "output_type": "execute_result",
          "data": {
            "text/html": [
              "\n",
              "  <div id=\"df-7e1ef44f-ab09-49b2-b7cd-8ea0e2e1a550\">\n",
              "    <div class=\"colab-df-container\">\n",
              "      <div>\n",
              "<style scoped>\n",
              "    .dataframe tbody tr th:only-of-type {\n",
              "        vertical-align: middle;\n",
              "    }\n",
              "\n",
              "    .dataframe tbody tr th {\n",
              "        vertical-align: top;\n",
              "    }\n",
              "\n",
              "    .dataframe thead th {\n",
              "        text-align: right;\n",
              "    }\n",
              "</style>\n",
              "<table border=\"1\" class=\"dataframe\">\n",
              "  <thead>\n",
              "    <tr style=\"text-align: right;\">\n",
              "      <th></th>\n",
              "      <th>col1</th>\n",
              "      <th>col2</th>\n",
              "    </tr>\n",
              "  </thead>\n",
              "  <tbody>\n",
              "    <tr>\n",
              "      <th>0</th>\n",
              "      <td>1</td>\n",
              "      <td>3</td>\n",
              "    </tr>\n",
              "    <tr>\n",
              "      <th>1</th>\n",
              "      <td>2</td>\n",
              "      <td>4</td>\n",
              "    </tr>\n",
              "  </tbody>\n",
              "</table>\n",
              "</div>\n",
              "      <button class=\"colab-df-convert\" onclick=\"convertToInteractive('df-7e1ef44f-ab09-49b2-b7cd-8ea0e2e1a550')\"\n",
              "              title=\"Convert this dataframe to an interactive table.\"\n",
              "              style=\"display:none;\">\n",
              "        \n",
              "  <svg xmlns=\"http://www.w3.org/2000/svg\" height=\"24px\"viewBox=\"0 0 24 24\"\n",
              "       width=\"24px\">\n",
              "    <path d=\"M0 0h24v24H0V0z\" fill=\"none\"/>\n",
              "    <path d=\"M18.56 5.44l.94 2.06.94-2.06 2.06-.94-2.06-.94-.94-2.06-.94 2.06-2.06.94zm-11 1L8.5 8.5l.94-2.06 2.06-.94-2.06-.94L8.5 2.5l-.94 2.06-2.06.94zm10 10l.94 2.06.94-2.06 2.06-.94-2.06-.94-.94-2.06-.94 2.06-2.06.94z\"/><path d=\"M17.41 7.96l-1.37-1.37c-.4-.4-.92-.59-1.43-.59-.52 0-1.04.2-1.43.59L10.3 9.45l-7.72 7.72c-.78.78-.78 2.05 0 2.83L4 21.41c.39.39.9.59 1.41.59.51 0 1.02-.2 1.41-.59l7.78-7.78 2.81-2.81c.8-.78.8-2.07 0-2.86zM5.41 20L4 18.59l7.72-7.72 1.47 1.35L5.41 20z\"/>\n",
              "  </svg>\n",
              "      </button>\n",
              "      \n",
              "  <style>\n",
              "    .colab-df-container {\n",
              "      display:flex;\n",
              "      flex-wrap:wrap;\n",
              "      gap: 12px;\n",
              "    }\n",
              "\n",
              "    .colab-df-convert {\n",
              "      background-color: #E8F0FE;\n",
              "      border: none;\n",
              "      border-radius: 50%;\n",
              "      cursor: pointer;\n",
              "      display: none;\n",
              "      fill: #1967D2;\n",
              "      height: 32px;\n",
              "      padding: 0 0 0 0;\n",
              "      width: 32px;\n",
              "    }\n",
              "\n",
              "    .colab-df-convert:hover {\n",
              "      background-color: #E2EBFA;\n",
              "      box-shadow: 0px 1px 2px rgba(60, 64, 67, 0.3), 0px 1px 3px 1px rgba(60, 64, 67, 0.15);\n",
              "      fill: #174EA6;\n",
              "    }\n",
              "\n",
              "    [theme=dark] .colab-df-convert {\n",
              "      background-color: #3B4455;\n",
              "      fill: #D2E3FC;\n",
              "    }\n",
              "\n",
              "    [theme=dark] .colab-df-convert:hover {\n",
              "      background-color: #434B5C;\n",
              "      box-shadow: 0px 1px 3px 1px rgba(0, 0, 0, 0.15);\n",
              "      filter: drop-shadow(0px 1px 2px rgba(0, 0, 0, 0.3));\n",
              "      fill: #FFFFFF;\n",
              "    }\n",
              "  </style>\n",
              "\n",
              "      <script>\n",
              "        const buttonEl =\n",
              "          document.querySelector('#df-7e1ef44f-ab09-49b2-b7cd-8ea0e2e1a550 button.colab-df-convert');\n",
              "        buttonEl.style.display =\n",
              "          google.colab.kernel.accessAllowed ? 'block' : 'none';\n",
              "\n",
              "        async function convertToInteractive(key) {\n",
              "          const element = document.querySelector('#df-7e1ef44f-ab09-49b2-b7cd-8ea0e2e1a550');\n",
              "          const dataTable =\n",
              "            await google.colab.kernel.invokeFunction('convertToInteractive',\n",
              "                                                     [key], {});\n",
              "          if (!dataTable) return;\n",
              "\n",
              "          const docLinkHtml = 'Like what you see? Visit the ' +\n",
              "            '<a target=\"_blank\" href=https://colab.research.google.com/notebooks/data_table.ipynb>data table notebook</a>'\n",
              "            + ' to learn more about interactive tables.';\n",
              "          element.innerHTML = '';\n",
              "          dataTable['output_type'] = 'display_data';\n",
              "          await google.colab.output.renderOutput(dataTable, element);\n",
              "          const docLink = document.createElement('div');\n",
              "          docLink.innerHTML = docLinkHtml;\n",
              "          element.appendChild(docLink);\n",
              "        }\n",
              "      </script>\n",
              "    </div>\n",
              "  </div>\n",
              "  "
            ],
            "text/plain": [
              "   col1  col2\n",
              "0     1     3\n",
              "1     2     4"
            ]
          },
          "metadata": {},
          "execution_count": 69
        }
      ]
    },
    {
      "cell_type": "markdown",
      "source": [
        "##Membaca Input Pada Python\n",
        "\n",
        "`input()` berfungsi membaca data dari keyboard sebagai string, terlepas dari apakah itu tertutup dengan tanda kutip (‘’ atau ‘”) atau tidak."
      ],
      "metadata": {
        "id": "G-GhXp2Q-YeI"
      }
    },
    {
      "cell_type": "code",
      "source": [
        "x = input(\"tes:\")\n",
        "print(x)\n",
        "print(type(x))"
      ],
      "metadata": {
        "id": "hVHuR9Uh-bOg",
        "colab": {
          "base_uri": "https://localhost:8080/"
        },
        "outputId": "33bcb476-8e17-45f2-c722-3368b81aaff1"
      },
      "execution_count": null,
      "outputs": [
        {
          "output_type": "stream",
          "name": "stdout",
          "text": [
            "tes:7\n",
            "7\n",
            "<class 'str'>\n"
          ]
        }
      ]
    },
    {
      "cell_type": "code",
      "source": [
        "#input sebagai int\n",
        "x = int(input(\"masukkan nilai integer:\"))\n",
        "print(x)\n",
        "print(type(x))\n",
        "print()\n",
        "\n",
        "#input sebagai float\n",
        "x = float(input(\"masukkan nilai float:\"))\n",
        "print(x)\n",
        "print(type(x))\n",
        "print()\n",
        "\n",
        "#input list\n",
        "tempat_list = []\n",
        "n = int(input(\"Masukkan banyaknya nilai dalam list:\"))\n",
        "# iterating till the range\n",
        "for i in range(0, n):\n",
        "    ele = int(input())\n",
        " \n",
        "    tempat_list.append(ele) # adding the element\n",
        "print(tempat_list)"
      ],
      "metadata": {
        "id": "BxrvSou--z8H",
        "colab": {
          "base_uri": "https://localhost:8080/"
        },
        "outputId": "1a6177f0-a443-490e-946a-b947a4c2c7a1"
      },
      "execution_count": null,
      "outputs": [
        {
          "output_type": "stream",
          "name": "stdout",
          "text": [
            "masukkan nilai integer:10\n",
            "10\n",
            "<class 'int'>\n",
            "\n",
            "masukkan nilai float:5.1\n",
            "5.1\n",
            "<class 'float'>\n",
            "\n",
            "Masukkan banyaknya nilai dalam list:4\n",
            "1\n",
            "2\n",
            "3\n",
            "4\n",
            "[1, 2, 3, 4]\n"
          ]
        }
      ]
    }
  ]
}