{
 "cells": [
  {
   "cell_type": "markdown",
   "source": [
    "# Gesture Volume Control"
   ],
   "metadata": {}
  },
  {
   "cell_type": "code",
   "execution_count": 19,
   "source": [
    "import cv2\r\n",
    "import numpy as np\r\n",
    "import time\r\n",
    "import HandTrackingModule as htm\r\n",
    "import math"
   ],
   "outputs": [],
   "metadata": {}
  },
  {
   "cell_type": "code",
   "execution_count": null,
   "source": [
    "# Webcam Weight and Height\r\n",
    "wCam, hCam = 648, 488\r\n",
    "\r\n",
    "\r\n",
    "\r\n",
    "cap = cv2.VideoCapture(0)\r\n",
    "cap.set(3, wCam)\r\n",
    "cap.set(4, hCam)\r\n",
    "\r\n",
    "pTime = 0\r\n",
    "\r\n",
    "detector = htm.handDetector(detectionCon=0.7)\r\n",
    "\r\n",
    "# PyCaw : https://github.com/AndreMiras/pycaw\r\n",
    "from ctypes import cast, POINTER\r\n",
    "from comtypes import CLSCTX_ALL\r\n",
    "from pycaw.pycaw import AudioUtilities, IAudioEndpointVolume\r\n",
    "\r\n",
    "devices = AudioUtilities.GetSpeakers()\r\n",
    "interface = devices.Activate( IAudioEndpointVolume._iid_, CLSCTX_ALL, None)\r\n",
    "volume = cast(interface, POINTER(IAudioEndpointVolume))\r\n",
    "# volume.GetMute()\r\n",
    "# volume.GetMasterVolumeLevel()\r\n",
    "volRange = volume.GetVolumeRange()\r\n",
    "\r\n",
    "minVol = volRange[0]\r\n",
    "maxVol = volRange[1]\r\n",
    "vol = 0\r\n",
    "volBar = 400\r\n",
    "volPer = 0\r\n",
    "\r\n",
    "while True:\r\n",
    "    success, img = cap.read()\r\n",
    "\r\n",
    "    img = detector.findHands(img)\r\n",
    "    lmList = detector.findPosition(img, draw=False)\r\n",
    "    if len(lmList) != 0:\r\n",
    "        #print(lmList[4], lmList[8])\r\n",
    "\r\n",
    "        # [4] = Ibu jari, [8] = Telunjuk\r\n",
    "        x1, y1 = lmList[4][1], lmList[4][2]\r\n",
    "        x2, y2 = lmList[8][1], lmList[8][2]\r\n",
    "        cx, cy = (x1+x2) // 2, (y1+y2) // 2\r\n",
    "\r\n",
    "        # Menggambar bulatan pada ibu jari dan telunjuk\r\n",
    "        cv2.circle(img, (x1,y1), 15, (255,0,255), cv2.FILLED)\r\n",
    "        cv2.circle(img, (x2,y2), 15, (255,0,255), cv2.FILLED)\r\n",
    "        # menambahkan garis yang menghubungkan antara 2 jari\r\n",
    "        cv2.line(img, (x1,y1), (x2,y2), (255,0,255), 3)\r\n",
    "        # menambahkan titik tengah pada garis\r\n",
    "        cv2.circle(img, (cx, cy), 15, (255,0,255), cv2.FILLED)\r\n",
    "\r\n",
    "        length = math.hypot(x2-x1, y2-y1)\r\n",
    "        #print(length)\r\n",
    "\r\n",
    "        # Hand range 10 - 200 : Hand range bisa berbeda-beda,\r\n",
    "        # pakai print(length) untuk mengetahui hand range\r\n",
    "        # Volume Range -65 - 0\r\n",
    "\r\n",
    "        vol = np.interp(length, [10, 200], [minVol, maxVol])\r\n",
    "        volBar = np.interp(length, [10, 200], [400, 150])\r\n",
    "        volPer = np.interp(length, [10, 200], [0, 100])\r\n",
    "        print(int(length), vol)\r\n",
    "        volume.SetMasterVolumeLevel(vol, None)\r\n",
    "\r\n",
    "        if length<50:\r\n",
    "            cv2.circle(img, (cx, cy), 15, (0, 255, 0), cv2.FILLED)\r\n",
    "\r\n",
    "    cv2.rectangle(img, (50, 150), (85, 400), (255,0,0), 3)\r\n",
    "    cv2.rectangle(img, (50, int(volBar)), (85, 400), (255,0,0), cv2.FILLED)\r\n",
    "    cv2.putText(img, f'{int(volPer)} %', (40,450), cv2.FONT_HERSHEY_COMPLEX, 1, (255,0,0), 3)\r\n",
    "\r\n",
    "\r\n",
    "\r\n",
    "    cTime = time.time()\r\n",
    "    fps = 1/(cTime-pTime)\r\n",
    "    pTime = cTime\r\n",
    "    cv2.putText(img, f'FPS: {int(fps)}', (48,50), cv2.FONT_HERSHEY_COMPLEX, 1, (255,0,0), 3)\r\n",
    "    \r\n",
    "\r\n",
    "    cv2.imshow(\"Image\", img)\r\n",
    "    cv2.waitKey(1)"
   ],
   "outputs": [],
   "metadata": {}
  }
 ],
 "metadata": {
  "interpreter": {
   "hash": "fe6d48a06cf1965613c5c4b5d21b1182ca2e59212f354219b1b23c436410da45"
  },
  "kernelspec": {
   "name": "python3",
   "display_name": "Python 3.8.5 64-bit ('base': conda)"
  },
  "language_info": {
   "codemirror_mode": {
    "name": "ipython",
    "version": 3
   },
   "file_extension": ".py",
   "mimetype": "text/x-python",
   "name": "python",
   "nbconvert_exporter": "python",
   "pygments_lexer": "ipython3",
   "version": "3.8.5"
  },
  "varInspector": {
   "cols": {
    "lenName": 16,
    "lenType": 16,
    "lenVar": 40
   },
   "kernels_config": {
    "python": {
     "delete_cmd_postfix": "",
     "delete_cmd_prefix": "del ",
     "library": "var_list.py",
     "varRefreshCmd": "print(var_dic_list())"
    },
    "r": {
     "delete_cmd_postfix": ") ",
     "delete_cmd_prefix": "rm(",
     "library": "var_list.r",
     "varRefreshCmd": "cat(var_dic_list()) "
    }
   },
   "types_to_exclude": [
    "module",
    "function",
    "builtin_function_or_method",
    "instance",
    "_Feature"
   ],
   "window_display": false
  }
 },
 "nbformat": 4,
 "nbformat_minor": 2
}