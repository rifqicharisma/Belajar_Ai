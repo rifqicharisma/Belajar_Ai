{
 "cells": [
  {
   "cell_type": "markdown",
   "metadata": {},
   "source": [
    "# Gesture Volume Control"
   ]
  },
  {
   "cell_type": "code",
   "execution_count": 19,
   "metadata": {},
   "outputs": [],
   "source": [
    "import cv2\n",
    "import numpy as np\n",
    "import time\n",
    "import HandTrackingModule as htm\n",
    "import math"
   ]
  },
  {
   "cell_type": "code",
   "execution_count": null,
   "metadata": {},
   "outputs": [],
   "source": [
    "# Webcam Weight and Height\n",
    "wCam, hCam = 648, 488\n",
    "\n",
    "\n",
    "\n",
    "cap = cv2.VideoCapture(0)\n",
    "cap.set(3, wCam)\n",
    "cap.set(4, hCam)\n",
    "\n",
    "pTime = 0\n",
    "\n",
    "detector = htm.handDetector(detectionCon=0.7)\n",
    "\n",
    "# PyCaw : https://github.com/AndreMiras/pycaw\n",
    "from ctypes import cast, POINTER\n",
    "from comtypes import CLSCTX_ALL\n",
    "from pycaw.pycaw import AudioUtilities, IAudioEndpointVolume\n",
    "\n",
    "devices = AudioUtilities.GetSpeakers()\n",
    "interface = devices.Activate( IAudioEndpointVolume._iid_, CLSCTX_ALL, None)\n",
    "volume = cast(interface, POINTER(IAudioEndpointVolume))\n",
    "# volume.GetMute()\n",
    "# volume.GetMasterVolumeLevel()\n",
    "volRange = volume.GetVolumeRange()\n",
    "\n",
    "minVol = volRange[0]\n",
    "maxVol = volRange[1]\n",
    "vol = 0\n",
    "volBar = 400\n",
    "volPer = 0\n",
    "\n",
    "while True:\n",
    "    success, img = cap.read()\n",
    "\n",
    "    img = detector.findHands(img)\n",
    "    lmList = detector.findPosition(img, draw=False)\n",
    "    if len(lmList) != 0:\n",
    "        #print(lmList[4], lmList[8])\n",
    "\n",
    "        # [4] = Ibu jari, [8] = Telunjuk\n",
    "        x1, y1 = lmList[4][1], lmList[4][2]\n",
    "        x2, y2 = lmList[8][1], lmList[8][2]\n",
    "        cx, cy = (x1+x2) // 2, (y1+y2) // 2\n",
    "\n",
    "        # Menggambar bulatan pada ibu jari dan telunjuk\n",
    "        cv2.circle(img, (x1,y1), 15, (255,0,255), cv2.FILLED)\n",
    "        cv2.circle(img, (x2,y2), 15, (255,0,255), cv2.FILLED)\n",
    "        # menambahkan garis yang menghubungkan antara 2 jari\n",
    "        cv2.line(img, (x1,y1), (x2,y2), (255,0,255), 3)\n",
    "        # menambahkan titik tengah pada garis\n",
    "        cv2.circle(img, (cx, cy), 15, (255,0,255), cv2.FILLED)\n",
    "\n",
    "        length = math.hypot(x2-x1, y2-y1)\n",
    "        #print(length)\n",
    "\n",
    "        # Hand range 10 - 200 : Hand range bisa berbeda-beda,\n",
    "        # pakai print(length) untuk mengetahui hand range\n",
    "        # Volume Range -65 - 0\n",
    "\n",
    "        vol = np.interp(length, [10, 200], [minVol, maxVol])\n",
    "        volBar = np.interp(length, [10, 200], [400, 150])\n",
    "        volPer = np.interp(length, [10, 200], [0, 100])\n",
    "        print(int(length), vol)\n",
    "        volume.SetMasterVolumeLevel(vol, None)\n",
    "\n",
    "        if length<50:\n",
    "            cv2.circle(img, (cx, cy), 15, (0, 255, 0), cv2.FILLED)\n",
    "\n",
    "    cv2.rectangle(img, (50, 150), (85, 400), (255,0,0), 3)\n",
    "    cv2.rectangle(img, (50, int(volBar)), (85, 400), (255,0,0), cv2.FILLED)\n",
    "    cv2.putText(img, f'{int(volPer)} %', (40,450), cv2.FONT_HERSHEY_COMPLEX, 1, (255,0,0), 3)\n",
    "\n",
    "\n",
    "\n",
    "    cTime = time.time()\n",
    "    fps = 1/(cTime-pTime)\n",
    "    pTime = cTime\n",
    "    cv2.putText(img, f'FPS: {int(fps)}', (48,50), cv2.FONT_HERSHEY_COMPLEX, 1, (255,0,0), 3)\n",
    "    \n",
    "\n",
    "    cv2.imshow(\"Image\", img)\n",
    "    cv2.waitKey(1)"
   ]
  }
 ],
 "metadata": {
  "interpreter": {
   "hash": "fe6d48a06cf1965613c5c4b5d21b1182ca2e59212f354219b1b23c436410da45"
  },
  "kernelspec": {
   "display_name": "Python 3",
   "language": "python",
   "name": "python3"
  },
  "language_info": {
   "codemirror_mode": {
    "name": "ipython",
    "version": 3
   },
   "file_extension": ".py",
   "mimetype": "text/x-python",
   "name": "python",
   "nbconvert_exporter": "python",
   "pygments_lexer": "ipython3",
   "version": "3.8.5"
  },
  "varInspector": {
   "cols": {
    "lenName": 16,
    "lenType": 16,
    "lenVar": 40
   },
   "kernels_config": {
    "python": {
     "delete_cmd_postfix": "",
     "delete_cmd_prefix": "del ",
     "library": "var_list.py",
     "varRefreshCmd": "print(var_dic_list())"
    },
    "r": {
     "delete_cmd_postfix": ") ",
     "delete_cmd_prefix": "rm(",
     "library": "var_list.r",
     "varRefreshCmd": "cat(var_dic_list()) "
    }
   },
   "types_to_exclude": [
    "module",
    "function",
    "builtin_function_or_method",
    "instance",
    "_Feature"
   ],
   "window_display": false
  }
 },
 "nbformat": 4,
 "nbformat_minor": 2
}
